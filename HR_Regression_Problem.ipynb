{
  "cells": [
    {
      "cell_type": "markdown",
      "metadata": {
        "id": "GKSvTFqHqM2u"
      },
      "source": [
        "# ML Models for HR Regression Problem"
      ]
    },
    {
      "cell_type": "markdown",
      "metadata": {
        "id": "fgbZEHKDqM21"
      },
      "source": [
        "## Table of contents\n",
        "---------------------------------------------\n",
        "-  Import  Python Libraries \n",
        "-  Function Helper\n",
        "-  Import Dataset & Data Description\n",
        "-  Data Understanding\n",
        "-  Select the Features\n",
        "-  Data Pre-Processing\n",
        "-  Exploratory Data Analysis\n",
        "-  Data Transformation\n",
        "-  Feature Engineering \n",
        "-  Feature Selection\n",
        "-  Statistics Analysis\n",
        "-  Data Splitting \n",
        "-  Machine Learning Models \n",
        "-  Machine Learning Optimization\n",
        "-  Accuracy Score Summary \n",
        "-  Predication\n",
        "-  Save The Machien Learning Models "
      ]
    },
    {
      "cell_type": "markdown",
      "metadata": {
        "id": "RwODH1tjqM23"
      },
      "source": [
        "# Import Python Libraries "
      ]
    },
    {
      "cell_type": "code",
      "execution_count": 1,
      "metadata": {
        "colab": {
          "base_uri": "https://localhost:8080/",
          "height": 0
        },
        "id": "B70aXhEBqM24",
        "outputId": "8803b9b8-4afa-4a29-e7a4-d7c522468def"
      },
      "outputs": [
        {
          "output_type": "display_data",
          "data": {
            "text/html": [
              "        <script type=\"text/javascript\">\n",
              "        window.PlotlyConfig = {MathJaxConfig: 'local'};\n",
              "        if (window.MathJax) {MathJax.Hub.Config({SVG: {font: \"STIX-Web\"}});}\n",
              "        if (typeof require !== 'undefined') {\n",
              "        require.undef(\"plotly\");\n",
              "        requirejs.config({\n",
              "            paths: {\n",
              "                'plotly': ['https://cdn.plot.ly/plotly-2.8.3.min']\n",
              "            }\n",
              "        });\n",
              "        require(['plotly'], function(Plotly) {\n",
              "            window._Plotly = Plotly;\n",
              "        });\n",
              "        }\n",
              "        </script>\n",
              "        "
            ]
          },
          "metadata": {}
        }
      ],
      "source": [
        "import pandas as pd\n",
        "import numpy as np \n",
        "np.iinfo(np.uint64).max\n",
        "\n",
        "#   Visualization Libraries\n",
        "import matplotlib.pyplot as plt\n",
        "import plotly.express as px\n",
        "from termcolor import colored \n",
        "import seaborn as sns  \n",
        "from tabulate import tabulate\n",
        "\n",
        "##      Importing plotly and cufflinks in offline mode\n",
        "import cufflinks as cf\n",
        "cf.go_offline()\n",
        "cf.set_config_file(offline=False, world_readable=True)\n",
        "\n",
        "##      Figure&Display options\n",
        "plt.rcParams[\"figure.figsize\"] = (10,6)\n",
        "pd.set_option('max_colwidth',200)\n",
        "pd.set_option('display.max_rows', 1000)\n",
        "pd.set_option('display.max_columns', 200)\n",
        "pd.set_option('display.float_format', lambda x: '%.3f' % x)\n",
        "\n",
        "##      Ignore Warnings\n",
        "import warnings\n",
        "warnings.filterwarnings(\"ignore\")\n",
        "warnings.warn(\"this will not show\")\n",
        "\n",
        "#   Feature Engineering\n",
        "from sklearn.preprocessing import LabelEncoder\n",
        "from sklearn.preprocessing import OneHotEncoder\n",
        "\n",
        "le = LabelEncoder()\n",
        "le_orig = LabelEncoder()\n",
        "ohe = OneHotEncoder()\n",
        "\n",
        "#   Data Transformation \n",
        "from sklearn.preprocessing import StandardScaler\n",
        "from sklearn.preprocessing import minmax_scale\n",
        "from sklearn.preprocessing import MinMaxScaler\n",
        "from sklearn.preprocessing import RobustScaler\n",
        "from sklearn.preprocessing import PowerTransformer\n",
        "from sklearn.preprocessing import QuantileTransformer\n",
        "from sklearn.preprocessing import KBinsDiscretizer\n",
        "\n",
        "#   Feature Selection\n",
        "import sys\n",
        "import joblib\n",
        "\n",
        "sys.modules['sklearn.externals.joblib'] = joblib\n",
        "from mlxtend.feature_selection import SequentialFeatureSelector\n",
        "from sklearn.feature_selection import SelectKBest # Select features based on the k highest scores.\n",
        "from sklearn.feature_selection import SelectPercentile # Select features based on percentile of the highest scores.\n",
        "from sklearn.feature_selection import chi2 # Chi-squared stats of non-negative features for Regression tasks.\n",
        "from sklearn.feature_selection import mutual_info_classif # Mutual information for a discrete target\n",
        "from sklearn.feature_selection import f_classif # ANOVA F-value between label/feature for Regression tasks.\n",
        "\n",
        "#   Data Splitting \n",
        "from sklearn.model_selection import train_test_split\n",
        "\n",
        "#   sklearn Regressor Evaluation libraries\n",
        "from sklearn.metrics import mean_absolute_error\n",
        "from sklearn.metrics import mean_squared_error\n",
        "from sklearn.metrics import mean_absolute_percentage_error\n",
        "from sklearn.metrics import explained_variance_score\n",
        "from sklearn.metrics import explained_variance_score\n",
        "from sklearn.metrics import max_error\n",
        "from sklearn.metrics import mean_squared_log_error\n",
        "from sklearn.metrics import median_absolute_error\n",
        "from sklearn.metrics import r2_score\n",
        "from sklearn.metrics import mean_poisson_deviance\n",
        "from sklearn.metrics import mean_gamma_deviance\n",
        "from sklearn.metrics import accuracy_score # To get the accuracy score \n",
        "\n",
        "#   Supervised Machine Learning Models\n",
        "##      Random Forest Regressor\n",
        "from sklearn.ensemble import RandomForestRegressor\n",
        "\n",
        "##      Gradient Boosting Regressor \n",
        "from sklearn.ensemble import GradientBoostingRegressor\n",
        "\n",
        "##      Histogram-based Gradient Boosting Regression Tree\n",
        "from sklearn.ensemble import HistGradientBoostingRegressor\n",
        "\n",
        "##      AdaBoost Regressor\n",
        "from sklearn.ensemble import AdaBoostRegressor\n",
        "\n",
        "##      Extra Trees Regressor\n",
        "from sklearn.ensemble import ExtraTreesRegressor\n",
        "\n",
        "##      K-Nearest Neighbors Regressor\n",
        "from sklearn.neighbors import KNeighborsRegressor\n",
        "\n",
        "##      Decision Tree Regressor\n",
        "from sklearn.tree import DecisionTreeRegressor\n",
        "\n",
        "##      Linear Regressor with stochastic gradient descent SGD training.\n",
        "from sklearn.linear_model import SGDRegressor\n",
        "\n",
        "##      XGBoost Regressor\n",
        "from xgboost import XGBRegressor\n",
        "\n",
        "##      Support Vector Machines Regressor\n",
        "from sklearn.svm import SVR\n",
        "\n",
        "##      Linear Support Vector Regression\n",
        "from sklearn.svm import LinearSVR\n",
        "\n",
        "##      Multilayer Perceptron Regressor\n",
        "from sklearn.neural_network import MLPRegressor\n",
        "\n",
        "#   Model Optmization\n",
        "from sklearn.model_selection import RandomizedSearchCV\n",
        "from sklearn.model_selection import GridSearchCV\n",
        "\n",
        "# Save and Load the Machine Learning Models \n",
        "import pickle"
      ]
    },
    {
      "cell_type": "markdown",
      "metadata": {
        "id": "yzYiPPekqM28"
      },
      "source": [
        "# Function Helper"
      ]
    },
    {
      "cell_type": "code",
      "execution_count": 2,
      "metadata": {
        "id": "YjkM3-X5qM29"
      },
      "outputs": [],
      "source": [
        "'''\n",
        "Read Dataset\n",
        "'''\n",
        "def CSV_File(path): \n",
        "\n",
        "    df_csv = pd.read_csv(path)\n",
        "\n",
        "    return df_csv\n",
        "\n",
        "'''\n",
        "Drop Varibales\n",
        "'''\n",
        "def DropVariables(dfDrop, col):\n",
        "\n",
        "    dfDrop = dfDrop.drop(col, axis=1)\n",
        "\n",
        "    return dfDrop\n",
        "\n",
        "'''\n",
        "Convert Data Type\n",
        "'''\n",
        "def Convert_Data_Typt_to_str(Con_df_str, col):\n",
        "\n",
        "    for colu in col :\n",
        "        old_data_type = Con_df_str[colu].dtype\n",
        "        Con_df_str[colu] = Con_df_str[colu].apply(str)\n",
        "        print ('\\nData Type for Variable:',[colu], ', Changed From',old_data_type, 'to',Con_df_str[colu].dtype)\n",
        "\n",
        "    return Con_df_str\n",
        "\n",
        "'''\n",
        "Missong Value Information\n",
        "'''\n",
        "def missing_values(df_missing_value_per):\n",
        "\n",
        "    missing_number = df_missing_value_per.isnull().sum().sort_values(ascending=False)\n",
        "    missing_percent = (df_missing_value_per.isnull().sum()/df_missing_value_per.shape[0]).sort_values(ascending=False) \n",
        "    missing_values = pd.concat([missing_number, missing_percent], axis=1, keys=['Missing_Number', 'Missing_Percent'])\n",
        "\n",
        "    return missing_values[missing_values['Missing_Number']>=0]\n",
        "\n",
        "def missing_values_info(df_missing_value):\n",
        "\n",
        "    print(colored(f\"Missing Values for Catuogirical Dataset:\\n\", attrs=['bold']), missing_values(df_missing_value),'\\n',  \n",
        "        colored('-'*79, 'red', attrs=['bold']), sep='')\n",
        "\n",
        "def SelectRowsHavingMissing_Value(df_Missing_Rows):\n",
        "\n",
        "    null_data = df_Missing_Rows[df_Missing_Rows.isnull().any(axis=1)]\n",
        "    \n",
        "    return null_data\n",
        "\n",
        "'''\n",
        "Split the Dataset Variables to Obj and Num\n",
        "'''\n",
        "def Data_Splitting_Num_Obj(df_split):\n",
        "\n",
        "    Obj = df_split.select_dtypes(include = ['object'])\n",
        "    Num = df_split.select_dtypes(include = np.number) \n",
        "\n",
        "    return Obj, Num\n",
        "\n",
        "'''\n",
        "Exploratory Data Analysis (EDA)\n",
        "'''\n",
        "def EDA_target(df_EDA,target):\n",
        "\n",
        "      if (df_EDA[target].dtype == 'float64' or df_EDA[target].dtype == 'int64'):\n",
        "            fig = px.histogram(df_EDA, x=target)\n",
        "            fig.show()\n",
        "            \n",
        "\n",
        "def EDA_target2(df_EDA,target):\n",
        "\n",
        "      if (df_EDA[target].dtype == 'float64' or df_EDA[target].dtype == 'int64'):\n",
        "\n",
        "            df_EDA.boxplot(column=target, figsize=(30, 20))\n",
        "            plt.show()\n",
        "\n",
        "def obj_EDA(df_EDA, cols):\n",
        "\n",
        "    for col in cols:\n",
        "        table = pd.DataFrame(df_EDA[col].value_counts())\n",
        "        print(tabulate(table, headers = 'keys', tablefmt = 'psql'))\n",
        "        plt.figure(figsize = (30, 20))\n",
        "        df_EDA[col].value_counts(normalize = True).plot(kind='bar', color= ['darkorange','steelblue'], alpha = 0.9, rot=0)\n",
        "        plt.title(col)\n",
        "        plt.show()\n",
        "\n",
        "def EDA_obj(df_EDA, cols, Target):\n",
        "\n",
        "    for col in cols:\n",
        "        print('Variable Name: ', df_EDA[col].name)\n",
        "        pd.crosstab(df_EDA[col], df_EDA[Target]).iplot(kind=\"bar\")\n",
        "\n",
        "def EDA_num(df_EDA, cols):\n",
        "\n",
        "    for col in cols: \n",
        "        fig, ax = plt.subplots(figsize=(30, 20))\n",
        "        df_EDA.hist(column=[col], ax=ax )\n",
        "\n",
        "def EDA_num_2(df_EDA, cols):\n",
        "\n",
        "    for col in cols: \n",
        "        df_EDA.boxplot(column=col, figsize=(30, 20))\n",
        "        plt.show()\n",
        "    \n",
        "def EDA_num_with_DV(df_eda, NUMcols_eda, target): \n",
        "\n",
        "    for col in NUMcols_eda:\n",
        "        sns.set_style('whitegrid')\n",
        "        plt.figure(figsize=(20,10))\n",
        "        sns.set_context('paper', font_scale=1.5)\n",
        "\n",
        "        sns.histplot(x=col, data = df_eda, bins = 30, hue = target,palette=\"Blues\", kde = True).set_title(col,fontsize=20)\n",
        "        plt.legend(['not satisfaction','satisfaction'],shadow = True, loc = 0);\n",
        "\n",
        "'''\n",
        "Data Transformation\n",
        "'''\n",
        "def NumStandardScaler(dataframe_series):\n",
        "\n",
        "    for col in list(dataframe_series.columns):\n",
        "        if (dataframe_series[col].dtype == 'float64' or dataframe_series[col].dtype == 'int64'): # and (col != target):\n",
        "                print ('\\nStandardization Applied On:', col)\n",
        "                dataframe_series[col] = StandardScaler().fit_transform(dataframe_series[col].values.reshape(-1,1))\n",
        "\n",
        "    return dataframe_series\n",
        "\n",
        "'''\n",
        "Feature Engineering \n",
        "'''\n",
        "def AllObjLabelEncoder(dataframe_series):\n",
        "\n",
        "    from sklearn import preprocessing\n",
        "    le = preprocessing.LabelEncoder()\n",
        "    le_orig = preprocessing.LabelEncoder()\n",
        "\n",
        "    df_old = dataframe_series.copy(deep = False)\n",
        "\n",
        "    if dataframe_series.dtype=='object':\n",
        "        col = dataframe_series.name\n",
        "\n",
        "        dataframe_series = le.fit_transform(dataframe_series)\n",
        "        print('\\nLable Encoding Applied On:', col)\n",
        "\n",
        "        le.fit(dataframe_series)\n",
        "        print('New Value for',col,' Variable:', le.classes_)\n",
        "\n",
        "        le_orig.fit(df_old)\n",
        "        print('Old Value for',col,'Variable:', le_orig.classes_)\n",
        "\n",
        "    return dataframe_series\n",
        "\n",
        "'''\n",
        "Feature Selection\n",
        "'''\n",
        "def Feature_selection_forward(df_forward, target):\n",
        "\n",
        "    # Split the df into Obj and Num\n",
        "    obj, num = Data_Splitting_Num_Obj(df_forward)\n",
        "\n",
        "    list_df_num = list(num.columns)\n",
        "    if target not in list_df_num: \n",
        "        list_df_num.append(target)\n",
        "    print('All the Num Variables:',list_df_num)\n",
        "\n",
        "    list_df_Obj = list(obj.columns)\n",
        "    print('\\nAll the obj Variables:',list_df_Obj)\n",
        "\n",
        "    # Create New DataFrame Hvae only the Num Variables\n",
        "    df_num = df_forward[list_df_num]\n",
        "\n",
        "    # define dataset\n",
        "    X = df_num.drop(target, axis=1)\n",
        "    y = df_num[target]\n",
        "    \n",
        "    X_train, X_test, y_train, y_test = train_test_split(X, y, test_size=0.2, random_state=42)\n",
        "\n",
        "    forward_FS = SequentialFeatureSelector(RandomForestRegressor(n_jobs= -1, ), # How many course you want to use. '-1 mwans all the course'\n",
        "                                                                k_features= (1, X.shape[1]),\n",
        "                                                                forward=True,\n",
        "                                                                floating=False,\n",
        "                                                                scoring = 'neg_mean_squared_error', # mean_squared_error, neg_mean_squared_error\n",
        "                                                                verbose=2,\n",
        "                                                                cv= 5\n",
        "                ).fit(X_train, y_train)\n",
        "\n",
        "    new_list_num = list(forward_FS.k_feature_names_)\n",
        "\n",
        "    print ('\\nMost Variables Can Effect The Target Variables: ',new_list_num)\n",
        "    print ('\\nWith Highest Score: ',forward_FS.k_score_)\n",
        "\n",
        "    \n",
        "    if target not in new_list_num: \n",
        "        new_list_num.append(target)\n",
        "    print('\\nAll the Variables Selected: ',new_list_num)\n",
        "\n",
        "    new_df_list = new_list_num + list_df_Obj\n",
        "    df_forward = df_forward[new_df_list]\n",
        "\n",
        "    forward_FS = pd.DataFrame(forward_FS.get_metric_dict()).T\n",
        "\n",
        "    return df_forward, forward_FS\n",
        "\n",
        "def Save_ML(ML_Name, _ml):\n",
        "\n",
        "    i = 0 \n",
        "\n",
        "    for ML in ML_Name:\n",
        "\n",
        "        with open(ML, \"wb\") as file:\n",
        "            \n",
        "            print(f'Create file name {ML}')\n",
        "\n",
        "            pickle.dump(_ml[i], file)\n",
        "            print('Model:', _ml[i], 'Saved\\n')\n",
        "\n",
        "        i += 1  "
      ]
    },
    {
      "cell_type": "markdown",
      "metadata": {
        "id": "pu3dF7tqqM2-"
      },
      "source": [
        "# Import Dataset & Data Description"
      ]
    },
    {
      "cell_type": "markdown",
      "metadata": {
        "id": "kc1LPb36qM3A"
      },
      "source": [
        "## Import Dataset"
      ]
    },
    {
      "cell_type": "code",
      "execution_count": 3,
      "metadata": {
        "id": "kWVI-fk7qM3B"
      },
      "outputs": [],
      "source": [
        "Path = '/content/HRDataset_v14.csv'\n",
        "file_type = 'C'\n",
        "\n",
        "if file_type == 'C':\n",
        "    df = CSV_File(Path)"
      ]
    },
    {
      "cell_type": "code",
      "execution_count": 4,
      "metadata": {
        "colab": {
          "base_uri": "https://localhost:8080/",
          "height": 0
        },
        "id": "ypAvJbDIqM3C",
        "outputId": "f7e64c4d-9e52-40f3-c221-2dd7940ad706"
      },
      "outputs": [
        {
          "output_type": "execute_result",
          "data": {
            "text/plain": [
              "              Employee_Name  EmpID  MarriedID  MaritalStatusID  GenderID  \\\n",
              "0       Adinolfi, Wilson  K  10026          0                0         1   \n",
              "1  Ait Sidi, Karthikeyan     10084          1                1         1   \n",
              "2         Akinkuolie, Sarah  10196          1                1         0   \n",
              "3              Alagbe,Trina  10088          1                1         0   \n",
              "4          Anderson, Carol   10069          0                2         0   \n",
              "5         Anderson, Linda    10002          0                0         0   \n",
              "6           Andreola, Colby  10194          0                0         0   \n",
              "7               Athwal, Sam  10062          0                4         1   \n",
              "8          Bachiochi, Linda  10114          0                0         0   \n",
              "9        Bacong, Alejandro   10250          0                2         1   \n",
              "\n",
              "   EmpStatusID  DeptID  PerfScoreID  FromDiversityJobFairID  Salary  Termd  \\\n",
              "0            1       5            4                       0   62506      0   \n",
              "1            5       3            3                       0  104437      1   \n",
              "2            5       5            3                       0   64955      1   \n",
              "3            1       5            3                       0   64991      0   \n",
              "4            5       5            3                       0   50825      1   \n",
              "5            1       5            4                       0   57568      0   \n",
              "6            1       4            3                       0   95660      0   \n",
              "7            1       5            3                       0   59365      0   \n",
              "8            3       5            3                       1   47837      0   \n",
              "9            1       3            3                       0   50178      0   \n",
              "\n",
              "   PositionID                  Position State   Zip       DOB Sex MaritalDesc  \\\n",
              "0          19   Production Technician I    MA  1960  07/10/83  M       Single   \n",
              "1          27                   Sr. DBA    MA  2148  05/05/75  M      Married   \n",
              "2          20  Production Technician II    MA  1810  09/19/88   F     Married   \n",
              "3          19   Production Technician I    MA  1886  09/27/88   F     Married   \n",
              "4          19   Production Technician I    MA  2169  09/08/89   F    Divorced   \n",
              "5          19   Production Technician I    MA  1844  05/22/77   F      Single   \n",
              "6          24         Software Engineer    MA  2110  05/24/79   F      Single   \n",
              "7          19   Production Technician I    MA  2199  02/18/83  M      Widowed   \n",
              "8          19   Production Technician I    MA  1902  02/11/70   F      Single   \n",
              "9          14                IT Support    MA  1886  01/07/88  M     Divorced   \n",
              "\n",
              "  CitizenDesc HispanicLatino                   RaceDesc  DateofHire  \\\n",
              "0  US Citizen             No                      White    7/5/2011   \n",
              "1  US Citizen             No                      White   3/30/2015   \n",
              "2  US Citizen             No                      White    7/5/2011   \n",
              "3  US Citizen             No                      White    1/7/2008   \n",
              "4  US Citizen             No                      White   7/11/2011   \n",
              "5  US Citizen             No                      White    1/9/2012   \n",
              "6  US Citizen             No                      White  11/10/2014   \n",
              "7  US Citizen             No                      White   9/30/2013   \n",
              "8  US Citizen             No  Black or African American    7/6/2009   \n",
              "9  US Citizen             No                      White    1/5/2015   \n",
              "\n",
              "  DateofTermination         TermReason        EmploymentStatus  \\\n",
              "0               NaN  N/A-StillEmployed                  Active   \n",
              "1         6/16/2016      career change  Voluntarily Terminated   \n",
              "2         9/24/2012              hours  Voluntarily Terminated   \n",
              "3               NaN  N/A-StillEmployed                  Active   \n",
              "4          9/6/2016   return to school  Voluntarily Terminated   \n",
              "5               NaN  N/A-StillEmployed                  Active   \n",
              "6               NaN  N/A-StillEmployed                  Active   \n",
              "7               NaN  N/A-StillEmployed                  Active   \n",
              "8               NaN  N/A-StillEmployed                  Active   \n",
              "9               NaN  N/A-StillEmployed                  Active   \n",
              "\n",
              "             Department      ManagerName  ManagerID   RecruitmentSource  \\\n",
              "0     Production          Michael Albert     22.000            LinkedIn   \n",
              "1                 IT/IS       Simon Roup      4.000              Indeed   \n",
              "2     Production          Kissy Sullivan     20.000            LinkedIn   \n",
              "3     Production            Elijiah Gray     16.000              Indeed   \n",
              "4     Production          Webster Butler     39.000       Google Search   \n",
              "5     Production                Amy Dunn     11.000            LinkedIn   \n",
              "6  Software Engineering  Alex Sweetwater     10.000            LinkedIn   \n",
              "7     Production           Ketsia Liebig     19.000   Employee Referral   \n",
              "8     Production          Brannon Miller     12.000  Diversity Job Fair   \n",
              "9                 IT/IS     Peter Monroe      7.000              Indeed   \n",
              "\n",
              "  PerformanceScore  EngagementSurvey  EmpSatisfaction  SpecialProjectsCount  \\\n",
              "0          Exceeds             4.600                5                     0   \n",
              "1      Fully Meets             4.960                3                     6   \n",
              "2      Fully Meets             3.020                3                     0   \n",
              "3      Fully Meets             4.840                5                     0   \n",
              "4      Fully Meets             5.000                4                     0   \n",
              "5          Exceeds             5.000                5                     0   \n",
              "6      Fully Meets             3.040                3                     4   \n",
              "7      Fully Meets             5.000                4                     0   \n",
              "8      Fully Meets             4.460                3                     0   \n",
              "9      Fully Meets             5.000                5                     6   \n",
              "\n",
              "  LastPerformanceReview_Date  DaysLateLast30  Absences  \n",
              "0                  1/17/2019               0         1  \n",
              "1                  2/24/2016               0        17  \n",
              "2                  5/15/2012               0         3  \n",
              "3                   1/3/2019               0        15  \n",
              "4                   2/1/2016               0         2  \n",
              "5                   1/7/2019               0        15  \n",
              "6                   1/2/2019               0        19  \n",
              "7                  2/25/2019               0        19  \n",
              "8                  1/25/2019               0         4  \n",
              "9                  2/18/2019               0        16  "
            ],
            "text/html": [
              "\n",
              "  <div id=\"df-05f972ab-b8f1-4846-8af3-8956a9504314\">\n",
              "    <div class=\"colab-df-container\">\n",
              "      <div>\n",
              "<style scoped>\n",
              "    .dataframe tbody tr th:only-of-type {\n",
              "        vertical-align: middle;\n",
              "    }\n",
              "\n",
              "    .dataframe tbody tr th {\n",
              "        vertical-align: top;\n",
              "    }\n",
              "\n",
              "    .dataframe thead th {\n",
              "        text-align: right;\n",
              "    }\n",
              "</style>\n",
              "<table border=\"1\" class=\"dataframe\">\n",
              "  <thead>\n",
              "    <tr style=\"text-align: right;\">\n",
              "      <th></th>\n",
              "      <th>Employee_Name</th>\n",
              "      <th>EmpID</th>\n",
              "      <th>MarriedID</th>\n",
              "      <th>MaritalStatusID</th>\n",
              "      <th>GenderID</th>\n",
              "      <th>EmpStatusID</th>\n",
              "      <th>DeptID</th>\n",
              "      <th>PerfScoreID</th>\n",
              "      <th>FromDiversityJobFairID</th>\n",
              "      <th>Salary</th>\n",
              "      <th>Termd</th>\n",
              "      <th>PositionID</th>\n",
              "      <th>Position</th>\n",
              "      <th>State</th>\n",
              "      <th>Zip</th>\n",
              "      <th>DOB</th>\n",
              "      <th>Sex</th>\n",
              "      <th>MaritalDesc</th>\n",
              "      <th>CitizenDesc</th>\n",
              "      <th>HispanicLatino</th>\n",
              "      <th>RaceDesc</th>\n",
              "      <th>DateofHire</th>\n",
              "      <th>DateofTermination</th>\n",
              "      <th>TermReason</th>\n",
              "      <th>EmploymentStatus</th>\n",
              "      <th>Department</th>\n",
              "      <th>ManagerName</th>\n",
              "      <th>ManagerID</th>\n",
              "      <th>RecruitmentSource</th>\n",
              "      <th>PerformanceScore</th>\n",
              "      <th>EngagementSurvey</th>\n",
              "      <th>EmpSatisfaction</th>\n",
              "      <th>SpecialProjectsCount</th>\n",
              "      <th>LastPerformanceReview_Date</th>\n",
              "      <th>DaysLateLast30</th>\n",
              "      <th>Absences</th>\n",
              "    </tr>\n",
              "  </thead>\n",
              "  <tbody>\n",
              "    <tr>\n",
              "      <th>0</th>\n",
              "      <td>Adinolfi, Wilson  K</td>\n",
              "      <td>10026</td>\n",
              "      <td>0</td>\n",
              "      <td>0</td>\n",
              "      <td>1</td>\n",
              "      <td>1</td>\n",
              "      <td>5</td>\n",
              "      <td>4</td>\n",
              "      <td>0</td>\n",
              "      <td>62506</td>\n",
              "      <td>0</td>\n",
              "      <td>19</td>\n",
              "      <td>Production Technician I</td>\n",
              "      <td>MA</td>\n",
              "      <td>1960</td>\n",
              "      <td>07/10/83</td>\n",
              "      <td>M</td>\n",
              "      <td>Single</td>\n",
              "      <td>US Citizen</td>\n",
              "      <td>No</td>\n",
              "      <td>White</td>\n",
              "      <td>7/5/2011</td>\n",
              "      <td>NaN</td>\n",
              "      <td>N/A-StillEmployed</td>\n",
              "      <td>Active</td>\n",
              "      <td>Production</td>\n",
              "      <td>Michael Albert</td>\n",
              "      <td>22.000</td>\n",
              "      <td>LinkedIn</td>\n",
              "      <td>Exceeds</td>\n",
              "      <td>4.600</td>\n",
              "      <td>5</td>\n",
              "      <td>0</td>\n",
              "      <td>1/17/2019</td>\n",
              "      <td>0</td>\n",
              "      <td>1</td>\n",
              "    </tr>\n",
              "    <tr>\n",
              "      <th>1</th>\n",
              "      <td>Ait Sidi, Karthikeyan</td>\n",
              "      <td>10084</td>\n",
              "      <td>1</td>\n",
              "      <td>1</td>\n",
              "      <td>1</td>\n",
              "      <td>5</td>\n",
              "      <td>3</td>\n",
              "      <td>3</td>\n",
              "      <td>0</td>\n",
              "      <td>104437</td>\n",
              "      <td>1</td>\n",
              "      <td>27</td>\n",
              "      <td>Sr. DBA</td>\n",
              "      <td>MA</td>\n",
              "      <td>2148</td>\n",
              "      <td>05/05/75</td>\n",
              "      <td>M</td>\n",
              "      <td>Married</td>\n",
              "      <td>US Citizen</td>\n",
              "      <td>No</td>\n",
              "      <td>White</td>\n",
              "      <td>3/30/2015</td>\n",
              "      <td>6/16/2016</td>\n",
              "      <td>career change</td>\n",
              "      <td>Voluntarily Terminated</td>\n",
              "      <td>IT/IS</td>\n",
              "      <td>Simon Roup</td>\n",
              "      <td>4.000</td>\n",
              "      <td>Indeed</td>\n",
              "      <td>Fully Meets</td>\n",
              "      <td>4.960</td>\n",
              "      <td>3</td>\n",
              "      <td>6</td>\n",
              "      <td>2/24/2016</td>\n",
              "      <td>0</td>\n",
              "      <td>17</td>\n",
              "    </tr>\n",
              "    <tr>\n",
              "      <th>2</th>\n",
              "      <td>Akinkuolie, Sarah</td>\n",
              "      <td>10196</td>\n",
              "      <td>1</td>\n",
              "      <td>1</td>\n",
              "      <td>0</td>\n",
              "      <td>5</td>\n",
              "      <td>5</td>\n",
              "      <td>3</td>\n",
              "      <td>0</td>\n",
              "      <td>64955</td>\n",
              "      <td>1</td>\n",
              "      <td>20</td>\n",
              "      <td>Production Technician II</td>\n",
              "      <td>MA</td>\n",
              "      <td>1810</td>\n",
              "      <td>09/19/88</td>\n",
              "      <td>F</td>\n",
              "      <td>Married</td>\n",
              "      <td>US Citizen</td>\n",
              "      <td>No</td>\n",
              "      <td>White</td>\n",
              "      <td>7/5/2011</td>\n",
              "      <td>9/24/2012</td>\n",
              "      <td>hours</td>\n",
              "      <td>Voluntarily Terminated</td>\n",
              "      <td>Production</td>\n",
              "      <td>Kissy Sullivan</td>\n",
              "      <td>20.000</td>\n",
              "      <td>LinkedIn</td>\n",
              "      <td>Fully Meets</td>\n",
              "      <td>3.020</td>\n",
              "      <td>3</td>\n",
              "      <td>0</td>\n",
              "      <td>5/15/2012</td>\n",
              "      <td>0</td>\n",
              "      <td>3</td>\n",
              "    </tr>\n",
              "    <tr>\n",
              "      <th>3</th>\n",
              "      <td>Alagbe,Trina</td>\n",
              "      <td>10088</td>\n",
              "      <td>1</td>\n",
              "      <td>1</td>\n",
              "      <td>0</td>\n",
              "      <td>1</td>\n",
              "      <td>5</td>\n",
              "      <td>3</td>\n",
              "      <td>0</td>\n",
              "      <td>64991</td>\n",
              "      <td>0</td>\n",
              "      <td>19</td>\n",
              "      <td>Production Technician I</td>\n",
              "      <td>MA</td>\n",
              "      <td>1886</td>\n",
              "      <td>09/27/88</td>\n",
              "      <td>F</td>\n",
              "      <td>Married</td>\n",
              "      <td>US Citizen</td>\n",
              "      <td>No</td>\n",
              "      <td>White</td>\n",
              "      <td>1/7/2008</td>\n",
              "      <td>NaN</td>\n",
              "      <td>N/A-StillEmployed</td>\n",
              "      <td>Active</td>\n",
              "      <td>Production</td>\n",
              "      <td>Elijiah Gray</td>\n",
              "      <td>16.000</td>\n",
              "      <td>Indeed</td>\n",
              "      <td>Fully Meets</td>\n",
              "      <td>4.840</td>\n",
              "      <td>5</td>\n",
              "      <td>0</td>\n",
              "      <td>1/3/2019</td>\n",
              "      <td>0</td>\n",
              "      <td>15</td>\n",
              "    </tr>\n",
              "    <tr>\n",
              "      <th>4</th>\n",
              "      <td>Anderson, Carol</td>\n",
              "      <td>10069</td>\n",
              "      <td>0</td>\n",
              "      <td>2</td>\n",
              "      <td>0</td>\n",
              "      <td>5</td>\n",
              "      <td>5</td>\n",
              "      <td>3</td>\n",
              "      <td>0</td>\n",
              "      <td>50825</td>\n",
              "      <td>1</td>\n",
              "      <td>19</td>\n",
              "      <td>Production Technician I</td>\n",
              "      <td>MA</td>\n",
              "      <td>2169</td>\n",
              "      <td>09/08/89</td>\n",
              "      <td>F</td>\n",
              "      <td>Divorced</td>\n",
              "      <td>US Citizen</td>\n",
              "      <td>No</td>\n",
              "      <td>White</td>\n",
              "      <td>7/11/2011</td>\n",
              "      <td>9/6/2016</td>\n",
              "      <td>return to school</td>\n",
              "      <td>Voluntarily Terminated</td>\n",
              "      <td>Production</td>\n",
              "      <td>Webster Butler</td>\n",
              "      <td>39.000</td>\n",
              "      <td>Google Search</td>\n",
              "      <td>Fully Meets</td>\n",
              "      <td>5.000</td>\n",
              "      <td>4</td>\n",
              "      <td>0</td>\n",
              "      <td>2/1/2016</td>\n",
              "      <td>0</td>\n",
              "      <td>2</td>\n",
              "    </tr>\n",
              "    <tr>\n",
              "      <th>5</th>\n",
              "      <td>Anderson, Linda</td>\n",
              "      <td>10002</td>\n",
              "      <td>0</td>\n",
              "      <td>0</td>\n",
              "      <td>0</td>\n",
              "      <td>1</td>\n",
              "      <td>5</td>\n",
              "      <td>4</td>\n",
              "      <td>0</td>\n",
              "      <td>57568</td>\n",
              "      <td>0</td>\n",
              "      <td>19</td>\n",
              "      <td>Production Technician I</td>\n",
              "      <td>MA</td>\n",
              "      <td>1844</td>\n",
              "      <td>05/22/77</td>\n",
              "      <td>F</td>\n",
              "      <td>Single</td>\n",
              "      <td>US Citizen</td>\n",
              "      <td>No</td>\n",
              "      <td>White</td>\n",
              "      <td>1/9/2012</td>\n",
              "      <td>NaN</td>\n",
              "      <td>N/A-StillEmployed</td>\n",
              "      <td>Active</td>\n",
              "      <td>Production</td>\n",
              "      <td>Amy Dunn</td>\n",
              "      <td>11.000</td>\n",
              "      <td>LinkedIn</td>\n",
              "      <td>Exceeds</td>\n",
              "      <td>5.000</td>\n",
              "      <td>5</td>\n",
              "      <td>0</td>\n",
              "      <td>1/7/2019</td>\n",
              "      <td>0</td>\n",
              "      <td>15</td>\n",
              "    </tr>\n",
              "    <tr>\n",
              "      <th>6</th>\n",
              "      <td>Andreola, Colby</td>\n",
              "      <td>10194</td>\n",
              "      <td>0</td>\n",
              "      <td>0</td>\n",
              "      <td>0</td>\n",
              "      <td>1</td>\n",
              "      <td>4</td>\n",
              "      <td>3</td>\n",
              "      <td>0</td>\n",
              "      <td>95660</td>\n",
              "      <td>0</td>\n",
              "      <td>24</td>\n",
              "      <td>Software Engineer</td>\n",
              "      <td>MA</td>\n",
              "      <td>2110</td>\n",
              "      <td>05/24/79</td>\n",
              "      <td>F</td>\n",
              "      <td>Single</td>\n",
              "      <td>US Citizen</td>\n",
              "      <td>No</td>\n",
              "      <td>White</td>\n",
              "      <td>11/10/2014</td>\n",
              "      <td>NaN</td>\n",
              "      <td>N/A-StillEmployed</td>\n",
              "      <td>Active</td>\n",
              "      <td>Software Engineering</td>\n",
              "      <td>Alex Sweetwater</td>\n",
              "      <td>10.000</td>\n",
              "      <td>LinkedIn</td>\n",
              "      <td>Fully Meets</td>\n",
              "      <td>3.040</td>\n",
              "      <td>3</td>\n",
              "      <td>4</td>\n",
              "      <td>1/2/2019</td>\n",
              "      <td>0</td>\n",
              "      <td>19</td>\n",
              "    </tr>\n",
              "    <tr>\n",
              "      <th>7</th>\n",
              "      <td>Athwal, Sam</td>\n",
              "      <td>10062</td>\n",
              "      <td>0</td>\n",
              "      <td>4</td>\n",
              "      <td>1</td>\n",
              "      <td>1</td>\n",
              "      <td>5</td>\n",
              "      <td>3</td>\n",
              "      <td>0</td>\n",
              "      <td>59365</td>\n",
              "      <td>0</td>\n",
              "      <td>19</td>\n",
              "      <td>Production Technician I</td>\n",
              "      <td>MA</td>\n",
              "      <td>2199</td>\n",
              "      <td>02/18/83</td>\n",
              "      <td>M</td>\n",
              "      <td>Widowed</td>\n",
              "      <td>US Citizen</td>\n",
              "      <td>No</td>\n",
              "      <td>White</td>\n",
              "      <td>9/30/2013</td>\n",
              "      <td>NaN</td>\n",
              "      <td>N/A-StillEmployed</td>\n",
              "      <td>Active</td>\n",
              "      <td>Production</td>\n",
              "      <td>Ketsia Liebig</td>\n",
              "      <td>19.000</td>\n",
              "      <td>Employee Referral</td>\n",
              "      <td>Fully Meets</td>\n",
              "      <td>5.000</td>\n",
              "      <td>4</td>\n",
              "      <td>0</td>\n",
              "      <td>2/25/2019</td>\n",
              "      <td>0</td>\n",
              "      <td>19</td>\n",
              "    </tr>\n",
              "    <tr>\n",
              "      <th>8</th>\n",
              "      <td>Bachiochi, Linda</td>\n",
              "      <td>10114</td>\n",
              "      <td>0</td>\n",
              "      <td>0</td>\n",
              "      <td>0</td>\n",
              "      <td>3</td>\n",
              "      <td>5</td>\n",
              "      <td>3</td>\n",
              "      <td>1</td>\n",
              "      <td>47837</td>\n",
              "      <td>0</td>\n",
              "      <td>19</td>\n",
              "      <td>Production Technician I</td>\n",
              "      <td>MA</td>\n",
              "      <td>1902</td>\n",
              "      <td>02/11/70</td>\n",
              "      <td>F</td>\n",
              "      <td>Single</td>\n",
              "      <td>US Citizen</td>\n",
              "      <td>No</td>\n",
              "      <td>Black or African American</td>\n",
              "      <td>7/6/2009</td>\n",
              "      <td>NaN</td>\n",
              "      <td>N/A-StillEmployed</td>\n",
              "      <td>Active</td>\n",
              "      <td>Production</td>\n",
              "      <td>Brannon Miller</td>\n",
              "      <td>12.000</td>\n",
              "      <td>Diversity Job Fair</td>\n",
              "      <td>Fully Meets</td>\n",
              "      <td>4.460</td>\n",
              "      <td>3</td>\n",
              "      <td>0</td>\n",
              "      <td>1/25/2019</td>\n",
              "      <td>0</td>\n",
              "      <td>4</td>\n",
              "    </tr>\n",
              "    <tr>\n",
              "      <th>9</th>\n",
              "      <td>Bacong, Alejandro</td>\n",
              "      <td>10250</td>\n",
              "      <td>0</td>\n",
              "      <td>2</td>\n",
              "      <td>1</td>\n",
              "      <td>1</td>\n",
              "      <td>3</td>\n",
              "      <td>3</td>\n",
              "      <td>0</td>\n",
              "      <td>50178</td>\n",
              "      <td>0</td>\n",
              "      <td>14</td>\n",
              "      <td>IT Support</td>\n",
              "      <td>MA</td>\n",
              "      <td>1886</td>\n",
              "      <td>01/07/88</td>\n",
              "      <td>M</td>\n",
              "      <td>Divorced</td>\n",
              "      <td>US Citizen</td>\n",
              "      <td>No</td>\n",
              "      <td>White</td>\n",
              "      <td>1/5/2015</td>\n",
              "      <td>NaN</td>\n",
              "      <td>N/A-StillEmployed</td>\n",
              "      <td>Active</td>\n",
              "      <td>IT/IS</td>\n",
              "      <td>Peter Monroe</td>\n",
              "      <td>7.000</td>\n",
              "      <td>Indeed</td>\n",
              "      <td>Fully Meets</td>\n",
              "      <td>5.000</td>\n",
              "      <td>5</td>\n",
              "      <td>6</td>\n",
              "      <td>2/18/2019</td>\n",
              "      <td>0</td>\n",
              "      <td>16</td>\n",
              "    </tr>\n",
              "  </tbody>\n",
              "</table>\n",
              "</div>\n",
              "      <button class=\"colab-df-convert\" onclick=\"convertToInteractive('df-05f972ab-b8f1-4846-8af3-8956a9504314')\"\n",
              "              title=\"Convert this dataframe to an interactive table.\"\n",
              "              style=\"display:none;\">\n",
              "        \n",
              "  <svg xmlns=\"http://www.w3.org/2000/svg\" height=\"24px\"viewBox=\"0 0 24 24\"\n",
              "       width=\"24px\">\n",
              "    <path d=\"M0 0h24v24H0V0z\" fill=\"none\"/>\n",
              "    <path d=\"M18.56 5.44l.94 2.06.94-2.06 2.06-.94-2.06-.94-.94-2.06-.94 2.06-2.06.94zm-11 1L8.5 8.5l.94-2.06 2.06-.94-2.06-.94L8.5 2.5l-.94 2.06-2.06.94zm10 10l.94 2.06.94-2.06 2.06-.94-2.06-.94-.94-2.06-.94 2.06-2.06.94z\"/><path d=\"M17.41 7.96l-1.37-1.37c-.4-.4-.92-.59-1.43-.59-.52 0-1.04.2-1.43.59L10.3 9.45l-7.72 7.72c-.78.78-.78 2.05 0 2.83L4 21.41c.39.39.9.59 1.41.59.51 0 1.02-.2 1.41-.59l7.78-7.78 2.81-2.81c.8-.78.8-2.07 0-2.86zM5.41 20L4 18.59l7.72-7.72 1.47 1.35L5.41 20z\"/>\n",
              "  </svg>\n",
              "      </button>\n",
              "      \n",
              "  <style>\n",
              "    .colab-df-container {\n",
              "      display:flex;\n",
              "      flex-wrap:wrap;\n",
              "      gap: 12px;\n",
              "    }\n",
              "\n",
              "    .colab-df-convert {\n",
              "      background-color: #E8F0FE;\n",
              "      border: none;\n",
              "      border-radius: 50%;\n",
              "      cursor: pointer;\n",
              "      display: none;\n",
              "      fill: #1967D2;\n",
              "      height: 32px;\n",
              "      padding: 0 0 0 0;\n",
              "      width: 32px;\n",
              "    }\n",
              "\n",
              "    .colab-df-convert:hover {\n",
              "      background-color: #E2EBFA;\n",
              "      box-shadow: 0px 1px 2px rgba(60, 64, 67, 0.3), 0px 1px 3px 1px rgba(60, 64, 67, 0.15);\n",
              "      fill: #174EA6;\n",
              "    }\n",
              "\n",
              "    [theme=dark] .colab-df-convert {\n",
              "      background-color: #3B4455;\n",
              "      fill: #D2E3FC;\n",
              "    }\n",
              "\n",
              "    [theme=dark] .colab-df-convert:hover {\n",
              "      background-color: #434B5C;\n",
              "      box-shadow: 0px 1px 3px 1px rgba(0, 0, 0, 0.15);\n",
              "      filter: drop-shadow(0px 1px 2px rgba(0, 0, 0, 0.3));\n",
              "      fill: #FFFFFF;\n",
              "    }\n",
              "  </style>\n",
              "\n",
              "      <script>\n",
              "        const buttonEl =\n",
              "          document.querySelector('#df-05f972ab-b8f1-4846-8af3-8956a9504314 button.colab-df-convert');\n",
              "        buttonEl.style.display =\n",
              "          google.colab.kernel.accessAllowed ? 'block' : 'none';\n",
              "\n",
              "        async function convertToInteractive(key) {\n",
              "          const element = document.querySelector('#df-05f972ab-b8f1-4846-8af3-8956a9504314');\n",
              "          const dataTable =\n",
              "            await google.colab.kernel.invokeFunction('convertToInteractive',\n",
              "                                                     [key], {});\n",
              "          if (!dataTable) return;\n",
              "\n",
              "          const docLinkHtml = 'Like what you see? Visit the ' +\n",
              "            '<a target=\"_blank\" href=https://colab.research.google.com/notebooks/data_table.ipynb>data table notebook</a>'\n",
              "            + ' to learn more about interactive tables.';\n",
              "          element.innerHTML = '';\n",
              "          dataTable['output_type'] = 'display_data';\n",
              "          await google.colab.output.renderOutput(dataTable, element);\n",
              "          const docLink = document.createElement('div');\n",
              "          docLink.innerHTML = docLinkHtml;\n",
              "          element.appendChild(docLink);\n",
              "        }\n",
              "      </script>\n",
              "    </div>\n",
              "  </div>\n",
              "  "
            ]
          },
          "metadata": {},
          "execution_count": 4
        }
      ],
      "source": [
        "pd.DataFrame(df.head(10))"
      ]
    },
    {
      "cell_type": "markdown",
      "metadata": {
        "id": "HKtN0wIwqM3C"
      },
      "source": [
        "## Data Description"
      ]
    },
    {
      "cell_type": "markdown",
      "metadata": {
        "id": "yTMjW3JSqM3D"
      },
      "source": [
        ""
      ]
    },
    {
      "cell_type": "markdown",
      "metadata": {
        "id": "DyEx0F-1qM3D"
      },
      "source": [
        "# Data Understanding"
      ]
    },
    {
      "cell_type": "code",
      "execution_count": 5,
      "metadata": {
        "colab": {
          "base_uri": "https://localhost:8080/"
        },
        "id": "UgbjNUjCqM3D",
        "outputId": "0ae2d3db-3e38-4773-92b7-3adbe6a8ddc4"
      },
      "outputs": [
        {
          "output_type": "stream",
          "name": "stdout",
          "text": [
            "<class 'pandas.core.frame.DataFrame'>\n",
            "RangeIndex: 311 entries, 0 to 310\n",
            "Data columns (total 36 columns):\n",
            " #   Column                      Non-Null Count  Dtype  \n",
            "---  ------                      --------------  -----  \n",
            " 0   Employee_Name               311 non-null    object \n",
            " 1   EmpID                       311 non-null    int64  \n",
            " 2   MarriedID                   311 non-null    int64  \n",
            " 3   MaritalStatusID             311 non-null    int64  \n",
            " 4   GenderID                    311 non-null    int64  \n",
            " 5   EmpStatusID                 311 non-null    int64  \n",
            " 6   DeptID                      311 non-null    int64  \n",
            " 7   PerfScoreID                 311 non-null    int64  \n",
            " 8   FromDiversityJobFairID      311 non-null    int64  \n",
            " 9   Salary                      311 non-null    int64  \n",
            " 10  Termd                       311 non-null    int64  \n",
            " 11  PositionID                  311 non-null    int64  \n",
            " 12  Position                    311 non-null    object \n",
            " 13  State                       311 non-null    object \n",
            " 14  Zip                         311 non-null    int64  \n",
            " 15  DOB                         311 non-null    object \n",
            " 16  Sex                         311 non-null    object \n",
            " 17  MaritalDesc                 311 non-null    object \n",
            " 18  CitizenDesc                 311 non-null    object \n",
            " 19  HispanicLatino              311 non-null    object \n",
            " 20  RaceDesc                    311 non-null    object \n",
            " 21  DateofHire                  311 non-null    object \n",
            " 22  DateofTermination           104 non-null    object \n",
            " 23  TermReason                  311 non-null    object \n",
            " 24  EmploymentStatus            311 non-null    object \n",
            " 25  Department                  311 non-null    object \n",
            " 26  ManagerName                 311 non-null    object \n",
            " 27  ManagerID                   303 non-null    float64\n",
            " 28  RecruitmentSource           311 non-null    object \n",
            " 29  PerformanceScore            311 non-null    object \n",
            " 30  EngagementSurvey            311 non-null    float64\n",
            " 31  EmpSatisfaction             311 non-null    int64  \n",
            " 32  SpecialProjectsCount        311 non-null    int64  \n",
            " 33  LastPerformanceReview_Date  311 non-null    object \n",
            " 34  DaysLateLast30              311 non-null    int64  \n",
            " 35  Absences                    311 non-null    int64  \n",
            "dtypes: float64(2), int64(16), object(18)\n",
            "memory usage: 87.6+ KB\n",
            "None\n",
            "\u001b[1m\u001b[31m-------------------------------------------------------------------------------\u001b[0m\n",
            "\u001b[1mMissing Values for Catuogirical Dataset:\n",
            "\u001b[0m                            Missing_Number  Missing_Percent\n",
            "DateofTermination                      207            0.666\n",
            "ManagerID                                8            0.026\n",
            "EmpID                                    0            0.000\n",
            "RaceDesc                                 0            0.000\n",
            "DateofHire                               0            0.000\n",
            "TermReason                               0            0.000\n",
            "EmploymentStatus                         0            0.000\n",
            "Department                               0            0.000\n",
            "ManagerName                              0            0.000\n",
            "Employee_Name                            0            0.000\n",
            "RecruitmentSource                        0            0.000\n",
            "PerformanceScore                         0            0.000\n",
            "EngagementSurvey                         0            0.000\n",
            "EmpSatisfaction                          0            0.000\n",
            "SpecialProjectsCount                     0            0.000\n",
            "LastPerformanceReview_Date               0            0.000\n",
            "DaysLateLast30                           0            0.000\n",
            "HispanicLatino                           0            0.000\n",
            "CitizenDesc                              0            0.000\n",
            "MaritalDesc                              0            0.000\n",
            "FromDiversityJobFairID                   0            0.000\n",
            "MarriedID                                0            0.000\n",
            "MaritalStatusID                          0            0.000\n",
            "GenderID                                 0            0.000\n",
            "EmpStatusID                              0            0.000\n",
            "DeptID                                   0            0.000\n",
            "PerfScoreID                              0            0.000\n",
            "Salary                                   0            0.000\n",
            "Sex                                      0            0.000\n",
            "Termd                                    0            0.000\n",
            "PositionID                               0            0.000\n",
            "Position                                 0            0.000\n",
            "State                                    0            0.000\n",
            "Zip                                      0            0.000\n",
            "DOB                                      0            0.000\n",
            "Absences                                 0            0.000\n",
            "\u001b[1m\u001b[31m-------------------------------------------------------------------------------\u001b[0m\n"
          ]
        }
      ],
      "source": [
        "print(df.info(), '\\n', \n",
        "            colored('-'*79, 'red', attrs=['bold']), sep='')\n",
        "missing_values_info(df)"
      ]
    },
    {
      "cell_type": "code",
      "execution_count": 6,
      "metadata": {
        "id": "GOirP94VqM3E"
      },
      "outputs": [],
      "source": [
        "NUMcols = df.select_dtypes(np.number).columns\n",
        "Objcols = df.select_dtypes(include = ['object']).columns"
      ]
    },
    {
      "cell_type": "code",
      "execution_count": 7,
      "metadata": {
        "colab": {
          "base_uri": "https://localhost:8080/"
        },
        "id": "oHtfY3sEqM3E",
        "outputId": "0ddc5d41-0430-4c4e-ad6a-35eaa50a2710"
      },
      "outputs": [
        {
          "output_type": "stream",
          "name": "stdout",
          "text": [
            "+------------------------+---------+---------------+--------------+----------+----------+----------+---------+--------+\n",
            "|                        |   count |          mean |          std |      min |      25% |      50% |     75% |    max |\n",
            "|------------------------+---------+---------------+--------------+----------+----------+----------+---------+--------|\n",
            "| EmpID                  |     311 | 10156         |    89.9222   | 10001    | 10078.5  | 10156    | 10233.5 |  10311 |\n",
            "| MarriedID              |     311 |     0.398714  |     0.490423 |     0    |     0    |     0    |     1   |      1 |\n",
            "| MaritalStatusID        |     311 |     0.810289  |     0.943239 |     0    |     0    |     1    |     1   |      4 |\n",
            "| GenderID               |     311 |     0.434084  |     0.496435 |     0    |     0    |     0    |     1   |      1 |\n",
            "| EmpStatusID            |     311 |     2.39228   |     1.79438  |     1    |     1    |     1    |     5   |      5 |\n",
            "| DeptID                 |     311 |     4.61093   |     1.08349  |     1    |     5    |     5    |     5   |      6 |\n",
            "| PerfScoreID            |     311 |     2.97749   |     0.587072 |     1    |     3    |     3    |     3   |      4 |\n",
            "| FromDiversityJobFairID |     311 |     0.0932476 |     0.291248 |     0    |     0    |     0    |     0   |      1 |\n",
            "| Salary                 |     311 | 69020.7       | 25156.6      | 45046    | 55501.5  | 62810    | 72036   | 250000 |\n",
            "| Termd                  |     311 |     0.334405  |     0.472542 |     0    |     0    |     0    |     1   |      1 |\n",
            "| PositionID             |     311 |    16.8457    |     6.22342  |     1    |    18    |    19    |    20   |     30 |\n",
            "| Zip                    |     311 |  6555.48      | 16908.4      |  1013    |  1901.5  |  2132    |  2355   |  98052 |\n",
            "| ManagerID              |     303 |    14.571     |     8.07831  |     1    |    10    |    15    |    19   |     39 |\n",
            "| EngagementSurvey       |     311 |     4.11      |     0.789938 |     1.12 |     3.69 |     4.28 |     4.7 |      5 |\n",
            "| EmpSatisfaction        |     311 |     3.89068   |     0.909241 |     1    |     3    |     4    |     5   |      5 |\n",
            "| SpecialProjectsCount   |     311 |     1.21865   |     2.34942  |     0    |     0    |     0    |     0   |      8 |\n",
            "| DaysLateLast30         |     311 |     0.414791  |     1.29452  |     0    |     0    |     0    |     0   |      6 |\n",
            "| Absences               |     311 |    10.2379    |     5.8526   |     1    |     5    |    10    |    15   |     20 |\n",
            "+------------------------+---------+---------------+--------------+----------+----------+----------+---------+--------+\n"
          ]
        }
      ],
      "source": [
        "if len(NUMcols) != 0 :\n",
        "    su_stat = pd.DataFrame(df.describe().T)\n",
        "    print(tabulate(su_stat, headers = 'keys', tablefmt = 'psql'))"
      ]
    },
    {
      "cell_type": "code",
      "execution_count": 8,
      "metadata": {
        "colab": {
          "base_uri": "https://localhost:8080/"
        },
        "id": "kav4bNEJqM3F",
        "outputId": "90cd4c43-f044-4224-a988-4e81eb338138"
      },
      "outputs": [
        {
          "output_type": "stream",
          "name": "stdout",
          "text": [
            "+----------------------------+---------+----------+-------------------------+--------+\n",
            "|                            |   count |   unique | top                     |   freq |\n",
            "|----------------------------+---------+----------+-------------------------+--------|\n",
            "| Employee_Name              |     311 |      311 | Adinolfi, Wilson  K     |      1 |\n",
            "| Position                   |     311 |       32 | Production Technician I |    137 |\n",
            "| State                      |     311 |       28 | MA                      |    276 |\n",
            "| DOB                        |     311 |      307 | 09/09/65                |      2 |\n",
            "| Sex                        |     311 |        2 | F                       |    176 |\n",
            "| MaritalDesc                |     311 |        5 | Single                  |    137 |\n",
            "| CitizenDesc                |     311 |        3 | US Citizen              |    295 |\n",
            "| HispanicLatino             |     311 |        4 | No                      |    282 |\n",
            "| RaceDesc                   |     311 |        6 | White                   |    187 |\n",
            "| DateofHire                 |     311 |      101 | 1/10/2011               |     14 |\n",
            "| DateofTermination          |     104 |       96 | 8/19/2018               |      2 |\n",
            "| TermReason                 |     311 |       18 | N/A-StillEmployed       |    207 |\n",
            "| EmploymentStatus           |     311 |        3 | Active                  |    207 |\n",
            "| Department                 |     311 |        6 | Production              |    209 |\n",
            "| ManagerName                |     311 |       21 | Michael Albert          |     22 |\n",
            "| RecruitmentSource          |     311 |        9 | Indeed                  |     87 |\n",
            "| PerformanceScore           |     311 |        4 | Fully Meets             |    243 |\n",
            "| LastPerformanceReview_Date |     311 |      137 | 1/14/2019               |     18 |\n",
            "+----------------------------+---------+----------+-------------------------+--------+\n"
          ]
        }
      ],
      "source": [
        "if len(Objcols) != 0 :\n",
        "    su_stat = pd.DataFrame(df.describe(include=object).T)\n",
        "    print(tabulate(su_stat, headers = 'keys', tablefmt = 'psql'))"
      ]
    },
    {
      "cell_type": "code",
      "execution_count": 9,
      "metadata": {
        "colab": {
          "base_uri": "https://localhost:8080/",
          "height": 0
        },
        "id": "ZU7Ns-5LqM3F",
        "outputId": "ae4fd136-abd0-4f67-efef-bfc4d60ed40e"
      },
      "outputs": [
        {
          "output_type": "execute_result",
          "data": {
            "text/plain": [
              "                                   0\n",
              "EmpID                       8086.000\n",
              "MarriedID                      0.241\n",
              "MaritalStatusID                0.890\n",
              "GenderID                       0.246\n",
              "EmpStatusID                    3.220\n",
              "DeptID                         1.174\n",
              "PerfScoreID                    0.345\n",
              "FromDiversityJobFairID         0.085\n",
              "Salary                 632856381.610\n",
              "Termd                          0.223\n",
              "PositionID                    38.731\n",
              "Zip                    285893885.192\n",
              "ManagerID                     65.259\n",
              "EngagementSurvey               0.624\n",
              "EmpSatisfaction                0.827\n",
              "SpecialProjectsCount           5.520\n",
              "DaysLateLast30                 1.676\n",
              "Absences                      34.253"
            ],
            "text/html": [
              "\n",
              "  <div id=\"df-5e8c1cf4-7ca6-449b-b7bb-3e6308974a09\">\n",
              "    <div class=\"colab-df-container\">\n",
              "      <div>\n",
              "<style scoped>\n",
              "    .dataframe tbody tr th:only-of-type {\n",
              "        vertical-align: middle;\n",
              "    }\n",
              "\n",
              "    .dataframe tbody tr th {\n",
              "        vertical-align: top;\n",
              "    }\n",
              "\n",
              "    .dataframe thead th {\n",
              "        text-align: right;\n",
              "    }\n",
              "</style>\n",
              "<table border=\"1\" class=\"dataframe\">\n",
              "  <thead>\n",
              "    <tr style=\"text-align: right;\">\n",
              "      <th></th>\n",
              "      <th>0</th>\n",
              "    </tr>\n",
              "  </thead>\n",
              "  <tbody>\n",
              "    <tr>\n",
              "      <th>EmpID</th>\n",
              "      <td>8086.000</td>\n",
              "    </tr>\n",
              "    <tr>\n",
              "      <th>MarriedID</th>\n",
              "      <td>0.241</td>\n",
              "    </tr>\n",
              "    <tr>\n",
              "      <th>MaritalStatusID</th>\n",
              "      <td>0.890</td>\n",
              "    </tr>\n",
              "    <tr>\n",
              "      <th>GenderID</th>\n",
              "      <td>0.246</td>\n",
              "    </tr>\n",
              "    <tr>\n",
              "      <th>EmpStatusID</th>\n",
              "      <td>3.220</td>\n",
              "    </tr>\n",
              "    <tr>\n",
              "      <th>DeptID</th>\n",
              "      <td>1.174</td>\n",
              "    </tr>\n",
              "    <tr>\n",
              "      <th>PerfScoreID</th>\n",
              "      <td>0.345</td>\n",
              "    </tr>\n",
              "    <tr>\n",
              "      <th>FromDiversityJobFairID</th>\n",
              "      <td>0.085</td>\n",
              "    </tr>\n",
              "    <tr>\n",
              "      <th>Salary</th>\n",
              "      <td>632856381.610</td>\n",
              "    </tr>\n",
              "    <tr>\n",
              "      <th>Termd</th>\n",
              "      <td>0.223</td>\n",
              "    </tr>\n",
              "    <tr>\n",
              "      <th>PositionID</th>\n",
              "      <td>38.731</td>\n",
              "    </tr>\n",
              "    <tr>\n",
              "      <th>Zip</th>\n",
              "      <td>285893885.192</td>\n",
              "    </tr>\n",
              "    <tr>\n",
              "      <th>ManagerID</th>\n",
              "      <td>65.259</td>\n",
              "    </tr>\n",
              "    <tr>\n",
              "      <th>EngagementSurvey</th>\n",
              "      <td>0.624</td>\n",
              "    </tr>\n",
              "    <tr>\n",
              "      <th>EmpSatisfaction</th>\n",
              "      <td>0.827</td>\n",
              "    </tr>\n",
              "    <tr>\n",
              "      <th>SpecialProjectsCount</th>\n",
              "      <td>5.520</td>\n",
              "    </tr>\n",
              "    <tr>\n",
              "      <th>DaysLateLast30</th>\n",
              "      <td>1.676</td>\n",
              "    </tr>\n",
              "    <tr>\n",
              "      <th>Absences</th>\n",
              "      <td>34.253</td>\n",
              "    </tr>\n",
              "  </tbody>\n",
              "</table>\n",
              "</div>\n",
              "      <button class=\"colab-df-convert\" onclick=\"convertToInteractive('df-5e8c1cf4-7ca6-449b-b7bb-3e6308974a09')\"\n",
              "              title=\"Convert this dataframe to an interactive table.\"\n",
              "              style=\"display:none;\">\n",
              "        \n",
              "  <svg xmlns=\"http://www.w3.org/2000/svg\" height=\"24px\"viewBox=\"0 0 24 24\"\n",
              "       width=\"24px\">\n",
              "    <path d=\"M0 0h24v24H0V0z\" fill=\"none\"/>\n",
              "    <path d=\"M18.56 5.44l.94 2.06.94-2.06 2.06-.94-2.06-.94-.94-2.06-.94 2.06-2.06.94zm-11 1L8.5 8.5l.94-2.06 2.06-.94-2.06-.94L8.5 2.5l-.94 2.06-2.06.94zm10 10l.94 2.06.94-2.06 2.06-.94-2.06-.94-.94-2.06-.94 2.06-2.06.94z\"/><path d=\"M17.41 7.96l-1.37-1.37c-.4-.4-.92-.59-1.43-.59-.52 0-1.04.2-1.43.59L10.3 9.45l-7.72 7.72c-.78.78-.78 2.05 0 2.83L4 21.41c.39.39.9.59 1.41.59.51 0 1.02-.2 1.41-.59l7.78-7.78 2.81-2.81c.8-.78.8-2.07 0-2.86zM5.41 20L4 18.59l7.72-7.72 1.47 1.35L5.41 20z\"/>\n",
              "  </svg>\n",
              "      </button>\n",
              "      \n",
              "  <style>\n",
              "    .colab-df-container {\n",
              "      display:flex;\n",
              "      flex-wrap:wrap;\n",
              "      gap: 12px;\n",
              "    }\n",
              "\n",
              "    .colab-df-convert {\n",
              "      background-color: #E8F0FE;\n",
              "      border: none;\n",
              "      border-radius: 50%;\n",
              "      cursor: pointer;\n",
              "      display: none;\n",
              "      fill: #1967D2;\n",
              "      height: 32px;\n",
              "      padding: 0 0 0 0;\n",
              "      width: 32px;\n",
              "    }\n",
              "\n",
              "    .colab-df-convert:hover {\n",
              "      background-color: #E2EBFA;\n",
              "      box-shadow: 0px 1px 2px rgba(60, 64, 67, 0.3), 0px 1px 3px 1px rgba(60, 64, 67, 0.15);\n",
              "      fill: #174EA6;\n",
              "    }\n",
              "\n",
              "    [theme=dark] .colab-df-convert {\n",
              "      background-color: #3B4455;\n",
              "      fill: #D2E3FC;\n",
              "    }\n",
              "\n",
              "    [theme=dark] .colab-df-convert:hover {\n",
              "      background-color: #434B5C;\n",
              "      box-shadow: 0px 1px 3px 1px rgba(0, 0, 0, 0.15);\n",
              "      filter: drop-shadow(0px 1px 2px rgba(0, 0, 0, 0.3));\n",
              "      fill: #FFFFFF;\n",
              "    }\n",
              "  </style>\n",
              "\n",
              "      <script>\n",
              "        const buttonEl =\n",
              "          document.querySelector('#df-5e8c1cf4-7ca6-449b-b7bb-3e6308974a09 button.colab-df-convert');\n",
              "        buttonEl.style.display =\n",
              "          google.colab.kernel.accessAllowed ? 'block' : 'none';\n",
              "\n",
              "        async function convertToInteractive(key) {\n",
              "          const element = document.querySelector('#df-5e8c1cf4-7ca6-449b-b7bb-3e6308974a09');\n",
              "          const dataTable =\n",
              "            await google.colab.kernel.invokeFunction('convertToInteractive',\n",
              "                                                     [key], {});\n",
              "          if (!dataTable) return;\n",
              "\n",
              "          const docLinkHtml = 'Like what you see? Visit the ' +\n",
              "            '<a target=\"_blank\" href=https://colab.research.google.com/notebooks/data_table.ipynb>data table notebook</a>'\n",
              "            + ' to learn more about interactive tables.';\n",
              "          element.innerHTML = '';\n",
              "          dataTable['output_type'] = 'display_data';\n",
              "          await google.colab.output.renderOutput(dataTable, element);\n",
              "          const docLink = document.createElement('div');\n",
              "          docLink.innerHTML = docLinkHtml;\n",
              "          element.appendChild(docLink);\n",
              "        }\n",
              "      </script>\n",
              "    </div>\n",
              "  </div>\n",
              "  "
            ]
          },
          "metadata": {},
          "execution_count": 9
        }
      ],
      "source": [
        "pd.DataFrame(df.var())"
      ]
    },
    {
      "cell_type": "markdown",
      "metadata": {
        "id": "KY_aS09yqM3G"
      },
      "source": [
        "# Select the Features"
      ]
    },
    {
      "cell_type": "code",
      "execution_count": 10,
      "metadata": {
        "id": "X2dVQl2xqM3G"
      },
      "outputs": [],
      "source": [
        "'''\n",
        "                1)        Target Varibale\n",
        "'''\n",
        "target = 'Salary'\n",
        "\n",
        "'''\n",
        "                2)        Drop Varibales \n",
        "'''\n",
        "drop = 'Enable' # The Variable Need to Drop\n",
        "col_drop = [ \n",
        "        \n",
        "            'Employee_Name', 'EmpID', 'PositionID', 'Zip', 'DOB', 'DateofHire', \n",
        "            'DateofTermination', 'ManagerName', 'ManagerID', 'LastPerformanceReview_Date',\n",
        "            \n",
        "            'MarriedID', 'MaritalStatusID', \n",
        "\n",
        "        ]\n",
        "\n",
        "'''\n",
        "                3)        Convert Data Type \n",
        "'''\n",
        "# to convert variable type to str\n",
        "convert_to_str = 'Enable' \n",
        "col_convert_str = [  \n",
        "                    \n",
        "                    'GenderID', 'EmpStatusID', 'DeptID', 'PerfScoreID', \n",
        "                    'FromDiversityJobFairID', 'Termd', 'EmpSatisfaction', \n",
        "                    'SpecialProjectsCount', 'DaysLateLast30', 'Absences'\n",
        "                ]\n",
        "\n",
        "'''\n",
        "                7)        Data Transformation\n",
        "'''\n",
        "DT = 'StandardScaler' \n",
        "\n",
        "\n",
        "'''\n",
        "                8)        Featuers Selection And Featuers Engineering\n",
        "'''\n",
        "# Featuers\n",
        "FE = 'LableEncodeing'\n",
        "FS = 'Forward'\n",
        "\n",
        "'''\n",
        "                10)        Data Splitting\n",
        "'''\n",
        "# Randomly\n",
        "Random = 'Enable'\n",
        "Split_size = 0.2 # Testing Size\n",
        "Randon_state_size = 42\n",
        "'''\n",
        "                11)        Machine Learning Models \n",
        "'''\n",
        "ML_ST = 'Enable'\n",
        "\n",
        "'''  \n",
        "                12)        Machine Learning Optimization \n",
        "'''\n",
        "ML_OP = 'Enable'"
      ]
    },
    {
      "cell_type": "markdown",
      "metadata": {
        "id": "iy4RehauqM3G"
      },
      "source": [
        "# Data Pre-Processing"
      ]
    },
    {
      "cell_type": "markdown",
      "metadata": {
        "id": "Iw3t9reyqM3H"
      },
      "source": [
        "## Drop Varibales "
      ]
    },
    {
      "cell_type": "code",
      "execution_count": 11,
      "metadata": {
        "colab": {
          "base_uri": "https://localhost:8080/"
        },
        "id": "hDFGJWK7qM3H",
        "outputId": "db389be4-2e30-4644-fcda-7074957c902c"
      },
      "outputs": [
        {
          "output_type": "stream",
          "name": "stdout",
          "text": [
            "['Employee_Name', 'EmpID', 'PositionID', 'Zip', 'DOB', 'DateofHire', 'DateofTermination', 'ManagerName', 'ManagerID', 'LastPerformanceReview_Date', 'MarriedID', 'MaritalStatusID'] Droped\n",
            "\n",
            "<class 'pandas.core.frame.DataFrame'>\n",
            "RangeIndex: 311 entries, 0 to 310\n",
            "Data columns (total 24 columns):\n",
            " #   Column                  Non-Null Count  Dtype  \n",
            "---  ------                  --------------  -----  \n",
            " 0   GenderID                311 non-null    int64  \n",
            " 1   EmpStatusID             311 non-null    int64  \n",
            " 2   DeptID                  311 non-null    int64  \n",
            " 3   PerfScoreID             311 non-null    int64  \n",
            " 4   FromDiversityJobFairID  311 non-null    int64  \n",
            " 5   Salary                  311 non-null    int64  \n",
            " 6   Termd                   311 non-null    int64  \n",
            " 7   Position                311 non-null    object \n",
            " 8   State                   311 non-null    object \n",
            " 9   Sex                     311 non-null    object \n",
            " 10  MaritalDesc             311 non-null    object \n",
            " 11  CitizenDesc             311 non-null    object \n",
            " 12  HispanicLatino          311 non-null    object \n",
            " 13  RaceDesc                311 non-null    object \n",
            " 14  TermReason              311 non-null    object \n",
            " 15  EmploymentStatus        311 non-null    object \n",
            " 16  Department              311 non-null    object \n",
            " 17  RecruitmentSource       311 non-null    object \n",
            " 18  PerformanceScore        311 non-null    object \n",
            " 19  EngagementSurvey        311 non-null    float64\n",
            " 20  EmpSatisfaction         311 non-null    int64  \n",
            " 21  SpecialProjectsCount    311 non-null    int64  \n",
            " 22  DaysLateLast30          311 non-null    int64  \n",
            " 23  Absences                311 non-null    int64  \n",
            "dtypes: float64(1), int64(11), object(12)\n",
            "memory usage: 58.4+ KB\n",
            "\n"
          ]
        }
      ],
      "source": [
        "if drop == 'Enable': \n",
        "    df = DropVariables(df, col_drop)\n",
        "    print(col_drop,'Droped\\n')\n",
        "\n",
        "print(tabulate(df.info(), headers = 'keys', tablefmt = 'psql'))"
      ]
    },
    {
      "cell_type": "markdown",
      "metadata": {
        "id": "Zw9U9062qM3I"
      },
      "source": [
        "## Convert Data Type"
      ]
    },
    {
      "cell_type": "code",
      "execution_count": 12,
      "metadata": {
        "colab": {
          "base_uri": "https://localhost:8080/"
        },
        "id": "fdoScQYhqM3I",
        "outputId": "2efad484-1509-4453-9367-218cd043c62c"
      },
      "outputs": [
        {
          "output_type": "stream",
          "name": "stdout",
          "text": [
            "\n",
            "Data Type for Variable: ['GenderID'] , Changed From int64 to object\n",
            "\n",
            "Data Type for Variable: ['EmpStatusID'] , Changed From int64 to object\n",
            "\n",
            "Data Type for Variable: ['DeptID'] , Changed From int64 to object\n",
            "\n",
            "Data Type for Variable: ['PerfScoreID'] , Changed From int64 to object\n",
            "\n",
            "Data Type for Variable: ['FromDiversityJobFairID'] , Changed From int64 to object\n",
            "\n",
            "Data Type for Variable: ['Termd'] , Changed From int64 to object\n",
            "\n",
            "Data Type for Variable: ['EmpSatisfaction'] , Changed From int64 to object\n",
            "\n",
            "Data Type for Variable: ['SpecialProjectsCount'] , Changed From int64 to object\n",
            "\n",
            "Data Type for Variable: ['DaysLateLast30'] , Changed From int64 to object\n",
            "\n",
            "Data Type for Variable: ['Absences'] , Changed From int64 to object\n"
          ]
        }
      ],
      "source": [
        "if convert_to_str == 'Enable': \n",
        "    df = Convert_Data_Typt_to_str(df,col_convert_str)"
      ]
    },
    {
      "cell_type": "markdown",
      "metadata": {
        "id": "GqqtkBhfqM3J"
      },
      "source": [
        "# Exploratory Data Analysis (EDA)"
      ]
    },
    {
      "cell_type": "code",
      "execution_count": 13,
      "metadata": {
        "id": "YB9farxAqM3J"
      },
      "outputs": [],
      "source": [
        "NUMcols = df.select_dtypes(np.number).columns\n",
        "NUMcols = NUMcols.drop(target)\n",
        "\n",
        "Objcols = df.select_dtypes(include = ['object']).columns"
      ]
    },
    {
      "cell_type": "markdown",
      "metadata": {
        "id": "aLESbN4gqM3J"
      },
      "source": [
        "## Dependent Variables"
      ]
    },
    {
      "cell_type": "code",
      "execution_count": 14,
      "metadata": {
        "colab": {
          "base_uri": "https://localhost:8080/",
          "height": 0
        },
        "id": "C69GGKa3qM3K",
        "outputId": "469d656d-8256-44aa-d338-71f1ca9c4042"
      },
      "outputs": [
        {
          "output_type": "display_data",
          "data": {
            "application/vnd.plotly.v1+json": {
              "data": [
                {
                  "alignmentgroup": "True",
                  "bingroup": "x",
                  "hovertemplate": "Salary=%{x}<br>count=%{y}<extra></extra>",
                  "legendgroup": "",
                  "marker": {
                    "color": "#636efa",
                    "pattern": {
                      "shape": ""
                    }
                  },
                  "name": "",
                  "offsetgroup": "",
                  "orientation": "v",
                  "showlegend": false,
                  "x": [
                    62506,
                    104437,
                    64955,
                    64991,
                    50825,
                    57568,
                    95660,
                    59365,
                    47837,
                    50178,
                    54670,
                    47211,
                    92328,
                    58709,
                    52505,
                    57834,
                    70131,
                    59026,
                    110000,
                    53250,
                    51044,
                    64919,
                    62910,
                    66441,
                    57815,
                    103613,
                    106367,
                    74312,
                    53492,
                    63000,
                    65288,
                    64375,
                    74326,
                    63763,
                    62162,
                    77692,
                    72640,
                    93396,
                    52846,
                    100031,
                    71860,
                    61656,
                    110929,
                    54237,
                    60380,
                    66808,
                    64786,
                    64816,
                    68678,
                    64066,
                    59369,
                    50373,
                    63108,
                    59144,
                    68051,
                    170500,
                    63381,
                    83552,
                    56149,
                    92329,
                    65729,
                    85028,
                    57583,
                    56294,
                    56991,
                    55722,
                    101199,
                    61568,
                    58275,
                    53189,
                    96820,
                    51259,
                    59231,
                    61584,
                    46335,
                    70621,
                    138888,
                    74241,
                    75188,
                    62514,
                    60070,
                    48888,
                    54285,
                    56847,
                    60340,
                    59124,
                    99280,
                    71776,
                    65902,
                    57748,
                    64057,
                    53366,
                    58530,
                    72609,
                    55965,
                    70187,
                    178000,
                    99351,
                    67251,
                    65707,
                    52249,
                    53171,
                    51337,
                    51505,
                    59370,
                    54933,
                    57815,
                    61555,
                    114800,
                    74679,
                    53018,
                    59892,
                    68898,
                    61242,
                    66825,
                    48285,
                    66149,
                    49256,
                    62957,
                    63813,
                    99020,
                    71707,
                    54828,
                    64246,
                    52177,
                    62065,
                    46998,
                    68099,
                    70545,
                    63478,
                    97999,
                    180000,
                    49920,
                    55425,
                    69340,
                    64995,
                    68182,
                    83082,
                    51908,
                    61242,
                    45069,
                    60724,
                    60436,
                    46837,
                    105700,
                    63322,
                    61154,
                    68999,
                    50482,
                    65310,
                    250000,
                    54005,
                    45433,
                    46654,
                    63973,
                    71339,
                    93206,
                    82758,
                    66074,
                    46120,
                    64520,
                    61962,
                    81584,
                    63676,
                    93046,
                    64738,
                    70468,
                    77915,
                    52624,
                    63450,
                    51777,
                    67237,
                    73330,
                    52057,
                    47434,
                    52788,
                    45395,
                    62385,
                    68407,
                    61349,
                    105688,
                    54132,
                    55315,
                    62810,
                    63291,
                    62659,
                    55688,
                    83667,
                    55800,
                    58207,
                    157000,
                    72460,
                    72106,
                    52599,
                    63430,
                    74417,
                    57575,
                    87921,
                    50470,
                    46664,
                    48495,
                    52984,
                    63695,
                    62061,
                    66738,
                    52674,
                    71966,
                    63051,
                    47414,
                    53060,
                    68829,
                    63515,
                    108987,
                    93093,
                    53564,
                    60270,
                    45998,
                    57954,
                    74669,
                    74226,
                    93554,
                    64724,
                    47001,
                    61844,
                    46799,
                    59472,
                    46430,
                    83363,
                    95920,
                    61729,
                    61809,
                    45115,
                    46738,
                    64971,
                    55578,
                    50428,
                    61422,
                    63353,
                    89883,
                    120000,
                    150290,
                    60627,
                    53180,
                    140920,
                    148999,
                    86214,
                    47750,
                    46428,
                    57975,
                    88527,
                    56147,
                    50923,
                    50750,
                    52087,
                    87826,
                    51920,
                    63878,
                    60656,
                    72992,
                    55000,
                    58939,
                    66593,
                    87565,
                    64021,
                    65714,
                    62425,
                    47961,
                    58273,
                    63003,
                    61355,
                    60120,
                    63682,
                    63025,
                    59238,
                    92989,
                    90100,
                    60754,
                    72202,
                    58370,
                    48413,
                    67176,
                    56339,
                    64397,
                    63025,
                    75281,
                    100416,
                    74813,
                    76029,
                    57859,
                    58523,
                    88976,
                    55875,
                    113999,
                    49773,
                    62068,
                    66541,
                    80512,
                    50274,
                    84903,
                    107226,
                    58371,
                    55140,
                    58062,
                    59728,
                    70507,
                    60446,
                    65893,
                    48513,
                    220450,
                    89292,
                    45046
                  ],
                  "xaxis": "x",
                  "yaxis": "y",
                  "type": "histogram"
                }
              ],
              "layout": {
                "template": {
                  "data": {
                    "bar": [
                      {
                        "error_x": {
                          "color": "#2a3f5f"
                        },
                        "error_y": {
                          "color": "#2a3f5f"
                        },
                        "marker": {
                          "line": {
                            "color": "#E5ECF6",
                            "width": 0.5
                          },
                          "pattern": {
                            "fillmode": "overlay",
                            "size": 10,
                            "solidity": 0.2
                          }
                        },
                        "type": "bar"
                      }
                    ],
                    "barpolar": [
                      {
                        "marker": {
                          "line": {
                            "color": "#E5ECF6",
                            "width": 0.5
                          },
                          "pattern": {
                            "fillmode": "overlay",
                            "size": 10,
                            "solidity": 0.2
                          }
                        },
                        "type": "barpolar"
                      }
                    ],
                    "carpet": [
                      {
                        "aaxis": {
                          "endlinecolor": "#2a3f5f",
                          "gridcolor": "white",
                          "linecolor": "white",
                          "minorgridcolor": "white",
                          "startlinecolor": "#2a3f5f"
                        },
                        "baxis": {
                          "endlinecolor": "#2a3f5f",
                          "gridcolor": "white",
                          "linecolor": "white",
                          "minorgridcolor": "white",
                          "startlinecolor": "#2a3f5f"
                        },
                        "type": "carpet"
                      }
                    ],
                    "choropleth": [
                      {
                        "colorbar": {
                          "outlinewidth": 0,
                          "ticks": ""
                        },
                        "type": "choropleth"
                      }
                    ],
                    "contour": [
                      {
                        "colorbar": {
                          "outlinewidth": 0,
                          "ticks": ""
                        },
                        "colorscale": [
                          [
                            0,
                            "#0d0887"
                          ],
                          [
                            0.1111111111111111,
                            "#46039f"
                          ],
                          [
                            0.2222222222222222,
                            "#7201a8"
                          ],
                          [
                            0.3333333333333333,
                            "#9c179e"
                          ],
                          [
                            0.4444444444444444,
                            "#bd3786"
                          ],
                          [
                            0.5555555555555556,
                            "#d8576b"
                          ],
                          [
                            0.6666666666666666,
                            "#ed7953"
                          ],
                          [
                            0.7777777777777778,
                            "#fb9f3a"
                          ],
                          [
                            0.8888888888888888,
                            "#fdca26"
                          ],
                          [
                            1,
                            "#f0f921"
                          ]
                        ],
                        "type": "contour"
                      }
                    ],
                    "contourcarpet": [
                      {
                        "colorbar": {
                          "outlinewidth": 0,
                          "ticks": ""
                        },
                        "type": "contourcarpet"
                      }
                    ],
                    "heatmap": [
                      {
                        "colorbar": {
                          "outlinewidth": 0,
                          "ticks": ""
                        },
                        "colorscale": [
                          [
                            0,
                            "#0d0887"
                          ],
                          [
                            0.1111111111111111,
                            "#46039f"
                          ],
                          [
                            0.2222222222222222,
                            "#7201a8"
                          ],
                          [
                            0.3333333333333333,
                            "#9c179e"
                          ],
                          [
                            0.4444444444444444,
                            "#bd3786"
                          ],
                          [
                            0.5555555555555556,
                            "#d8576b"
                          ],
                          [
                            0.6666666666666666,
                            "#ed7953"
                          ],
                          [
                            0.7777777777777778,
                            "#fb9f3a"
                          ],
                          [
                            0.8888888888888888,
                            "#fdca26"
                          ],
                          [
                            1,
                            "#f0f921"
                          ]
                        ],
                        "type": "heatmap"
                      }
                    ],
                    "heatmapgl": [
                      {
                        "colorbar": {
                          "outlinewidth": 0,
                          "ticks": ""
                        },
                        "colorscale": [
                          [
                            0,
                            "#0d0887"
                          ],
                          [
                            0.1111111111111111,
                            "#46039f"
                          ],
                          [
                            0.2222222222222222,
                            "#7201a8"
                          ],
                          [
                            0.3333333333333333,
                            "#9c179e"
                          ],
                          [
                            0.4444444444444444,
                            "#bd3786"
                          ],
                          [
                            0.5555555555555556,
                            "#d8576b"
                          ],
                          [
                            0.6666666666666666,
                            "#ed7953"
                          ],
                          [
                            0.7777777777777778,
                            "#fb9f3a"
                          ],
                          [
                            0.8888888888888888,
                            "#fdca26"
                          ],
                          [
                            1,
                            "#f0f921"
                          ]
                        ],
                        "type": "heatmapgl"
                      }
                    ],
                    "histogram": [
                      {
                        "marker": {
                          "pattern": {
                            "fillmode": "overlay",
                            "size": 10,
                            "solidity": 0.2
                          }
                        },
                        "type": "histogram"
                      }
                    ],
                    "histogram2d": [
                      {
                        "colorbar": {
                          "outlinewidth": 0,
                          "ticks": ""
                        },
                        "colorscale": [
                          [
                            0,
                            "#0d0887"
                          ],
                          [
                            0.1111111111111111,
                            "#46039f"
                          ],
                          [
                            0.2222222222222222,
                            "#7201a8"
                          ],
                          [
                            0.3333333333333333,
                            "#9c179e"
                          ],
                          [
                            0.4444444444444444,
                            "#bd3786"
                          ],
                          [
                            0.5555555555555556,
                            "#d8576b"
                          ],
                          [
                            0.6666666666666666,
                            "#ed7953"
                          ],
                          [
                            0.7777777777777778,
                            "#fb9f3a"
                          ],
                          [
                            0.8888888888888888,
                            "#fdca26"
                          ],
                          [
                            1,
                            "#f0f921"
                          ]
                        ],
                        "type": "histogram2d"
                      }
                    ],
                    "histogram2dcontour": [
                      {
                        "colorbar": {
                          "outlinewidth": 0,
                          "ticks": ""
                        },
                        "colorscale": [
                          [
                            0,
                            "#0d0887"
                          ],
                          [
                            0.1111111111111111,
                            "#46039f"
                          ],
                          [
                            0.2222222222222222,
                            "#7201a8"
                          ],
                          [
                            0.3333333333333333,
                            "#9c179e"
                          ],
                          [
                            0.4444444444444444,
                            "#bd3786"
                          ],
                          [
                            0.5555555555555556,
                            "#d8576b"
                          ],
                          [
                            0.6666666666666666,
                            "#ed7953"
                          ],
                          [
                            0.7777777777777778,
                            "#fb9f3a"
                          ],
                          [
                            0.8888888888888888,
                            "#fdca26"
                          ],
                          [
                            1,
                            "#f0f921"
                          ]
                        ],
                        "type": "histogram2dcontour"
                      }
                    ],
                    "mesh3d": [
                      {
                        "colorbar": {
                          "outlinewidth": 0,
                          "ticks": ""
                        },
                        "type": "mesh3d"
                      }
                    ],
                    "parcoords": [
                      {
                        "line": {
                          "colorbar": {
                            "outlinewidth": 0,
                            "ticks": ""
                          }
                        },
                        "type": "parcoords"
                      }
                    ],
                    "pie": [
                      {
                        "automargin": true,
                        "type": "pie"
                      }
                    ],
                    "scatter": [
                      {
                        "marker": {
                          "colorbar": {
                            "outlinewidth": 0,
                            "ticks": ""
                          }
                        },
                        "type": "scatter"
                      }
                    ],
                    "scatter3d": [
                      {
                        "line": {
                          "colorbar": {
                            "outlinewidth": 0,
                            "ticks": ""
                          }
                        },
                        "marker": {
                          "colorbar": {
                            "outlinewidth": 0,
                            "ticks": ""
                          }
                        },
                        "type": "scatter3d"
                      }
                    ],
                    "scattercarpet": [
                      {
                        "marker": {
                          "colorbar": {
                            "outlinewidth": 0,
                            "ticks": ""
                          }
                        },
                        "type": "scattercarpet"
                      }
                    ],
                    "scattergeo": [
                      {
                        "marker": {
                          "colorbar": {
                            "outlinewidth": 0,
                            "ticks": ""
                          }
                        },
                        "type": "scattergeo"
                      }
                    ],
                    "scattergl": [
                      {
                        "marker": {
                          "colorbar": {
                            "outlinewidth": 0,
                            "ticks": ""
                          }
                        },
                        "type": "scattergl"
                      }
                    ],
                    "scattermapbox": [
                      {
                        "marker": {
                          "colorbar": {
                            "outlinewidth": 0,
                            "ticks": ""
                          }
                        },
                        "type": "scattermapbox"
                      }
                    ],
                    "scatterpolar": [
                      {
                        "marker": {
                          "colorbar": {
                            "outlinewidth": 0,
                            "ticks": ""
                          }
                        },
                        "type": "scatterpolar"
                      }
                    ],
                    "scatterpolargl": [
                      {
                        "marker": {
                          "colorbar": {
                            "outlinewidth": 0,
                            "ticks": ""
                          }
                        },
                        "type": "scatterpolargl"
                      }
                    ],
                    "scatterternary": [
                      {
                        "marker": {
                          "colorbar": {
                            "outlinewidth": 0,
                            "ticks": ""
                          }
                        },
                        "type": "scatterternary"
                      }
                    ],
                    "surface": [
                      {
                        "colorbar": {
                          "outlinewidth": 0,
                          "ticks": ""
                        },
                        "colorscale": [
                          [
                            0,
                            "#0d0887"
                          ],
                          [
                            0.1111111111111111,
                            "#46039f"
                          ],
                          [
                            0.2222222222222222,
                            "#7201a8"
                          ],
                          [
                            0.3333333333333333,
                            "#9c179e"
                          ],
                          [
                            0.4444444444444444,
                            "#bd3786"
                          ],
                          [
                            0.5555555555555556,
                            "#d8576b"
                          ],
                          [
                            0.6666666666666666,
                            "#ed7953"
                          ],
                          [
                            0.7777777777777778,
                            "#fb9f3a"
                          ],
                          [
                            0.8888888888888888,
                            "#fdca26"
                          ],
                          [
                            1,
                            "#f0f921"
                          ]
                        ],
                        "type": "surface"
                      }
                    ],
                    "table": [
                      {
                        "cells": {
                          "fill": {
                            "color": "#EBF0F8"
                          },
                          "line": {
                            "color": "white"
                          }
                        },
                        "header": {
                          "fill": {
                            "color": "#C8D4E3"
                          },
                          "line": {
                            "color": "white"
                          }
                        },
                        "type": "table"
                      }
                    ]
                  },
                  "layout": {
                    "annotationdefaults": {
                      "arrowcolor": "#2a3f5f",
                      "arrowhead": 0,
                      "arrowwidth": 1
                    },
                    "autotypenumbers": "strict",
                    "coloraxis": {
                      "colorbar": {
                        "outlinewidth": 0,
                        "ticks": ""
                      }
                    },
                    "colorscale": {
                      "diverging": [
                        [
                          0,
                          "#8e0152"
                        ],
                        [
                          0.1,
                          "#c51b7d"
                        ],
                        [
                          0.2,
                          "#de77ae"
                        ],
                        [
                          0.3,
                          "#f1b6da"
                        ],
                        [
                          0.4,
                          "#fde0ef"
                        ],
                        [
                          0.5,
                          "#f7f7f7"
                        ],
                        [
                          0.6,
                          "#e6f5d0"
                        ],
                        [
                          0.7,
                          "#b8e186"
                        ],
                        [
                          0.8,
                          "#7fbc41"
                        ],
                        [
                          0.9,
                          "#4d9221"
                        ],
                        [
                          1,
                          "#276419"
                        ]
                      ],
                      "sequential": [
                        [
                          0,
                          "#0d0887"
                        ],
                        [
                          0.1111111111111111,
                          "#46039f"
                        ],
                        [
                          0.2222222222222222,
                          "#7201a8"
                        ],
                        [
                          0.3333333333333333,
                          "#9c179e"
                        ],
                        [
                          0.4444444444444444,
                          "#bd3786"
                        ],
                        [
                          0.5555555555555556,
                          "#d8576b"
                        ],
                        [
                          0.6666666666666666,
                          "#ed7953"
                        ],
                        [
                          0.7777777777777778,
                          "#fb9f3a"
                        ],
                        [
                          0.8888888888888888,
                          "#fdca26"
                        ],
                        [
                          1,
                          "#f0f921"
                        ]
                      ],
                      "sequentialminus": [
                        [
                          0,
                          "#0d0887"
                        ],
                        [
                          0.1111111111111111,
                          "#46039f"
                        ],
                        [
                          0.2222222222222222,
                          "#7201a8"
                        ],
                        [
                          0.3333333333333333,
                          "#9c179e"
                        ],
                        [
                          0.4444444444444444,
                          "#bd3786"
                        ],
                        [
                          0.5555555555555556,
                          "#d8576b"
                        ],
                        [
                          0.6666666666666666,
                          "#ed7953"
                        ],
                        [
                          0.7777777777777778,
                          "#fb9f3a"
                        ],
                        [
                          0.8888888888888888,
                          "#fdca26"
                        ],
                        [
                          1,
                          "#f0f921"
                        ]
                      ]
                    },
                    "colorway": [
                      "#636efa",
                      "#EF553B",
                      "#00cc96",
                      "#ab63fa",
                      "#FFA15A",
                      "#19d3f3",
                      "#FF6692",
                      "#B6E880",
                      "#FF97FF",
                      "#FECB52"
                    ],
                    "font": {
                      "color": "#2a3f5f"
                    },
                    "geo": {
                      "bgcolor": "white",
                      "lakecolor": "white",
                      "landcolor": "#E5ECF6",
                      "showlakes": true,
                      "showland": true,
                      "subunitcolor": "white"
                    },
                    "hoverlabel": {
                      "align": "left"
                    },
                    "hovermode": "closest",
                    "mapbox": {
                      "style": "light"
                    },
                    "paper_bgcolor": "white",
                    "plot_bgcolor": "#E5ECF6",
                    "polar": {
                      "angularaxis": {
                        "gridcolor": "white",
                        "linecolor": "white",
                        "ticks": ""
                      },
                      "bgcolor": "#E5ECF6",
                      "radialaxis": {
                        "gridcolor": "white",
                        "linecolor": "white",
                        "ticks": ""
                      }
                    },
                    "scene": {
                      "xaxis": {
                        "backgroundcolor": "#E5ECF6",
                        "gridcolor": "white",
                        "gridwidth": 2,
                        "linecolor": "white",
                        "showbackground": true,
                        "ticks": "",
                        "zerolinecolor": "white"
                      },
                      "yaxis": {
                        "backgroundcolor": "#E5ECF6",
                        "gridcolor": "white",
                        "gridwidth": 2,
                        "linecolor": "white",
                        "showbackground": true,
                        "ticks": "",
                        "zerolinecolor": "white"
                      },
                      "zaxis": {
                        "backgroundcolor": "#E5ECF6",
                        "gridcolor": "white",
                        "gridwidth": 2,
                        "linecolor": "white",
                        "showbackground": true,
                        "ticks": "",
                        "zerolinecolor": "white"
                      }
                    },
                    "shapedefaults": {
                      "line": {
                        "color": "#2a3f5f"
                      }
                    },
                    "ternary": {
                      "aaxis": {
                        "gridcolor": "white",
                        "linecolor": "white",
                        "ticks": ""
                      },
                      "baxis": {
                        "gridcolor": "white",
                        "linecolor": "white",
                        "ticks": ""
                      },
                      "bgcolor": "#E5ECF6",
                      "caxis": {
                        "gridcolor": "white",
                        "linecolor": "white",
                        "ticks": ""
                      }
                    },
                    "title": {
                      "x": 0.05
                    },
                    "xaxis": {
                      "automargin": true,
                      "gridcolor": "white",
                      "linecolor": "white",
                      "ticks": "",
                      "title": {
                        "standoff": 15
                      },
                      "zerolinecolor": "white",
                      "zerolinewidth": 2
                    },
                    "yaxis": {
                      "automargin": true,
                      "gridcolor": "white",
                      "linecolor": "white",
                      "ticks": "",
                      "title": {
                        "standoff": 15
                      },
                      "zerolinecolor": "white",
                      "zerolinewidth": 2
                    }
                  }
                },
                "xaxis": {
                  "anchor": "y",
                  "domain": [
                    0,
                    1
                  ],
                  "title": {
                    "text": "Salary"
                  }
                },
                "yaxis": {
                  "anchor": "x",
                  "domain": [
                    0,
                    1
                  ],
                  "title": {
                    "text": "count"
                  }
                },
                "legend": {
                  "tracegroupgap": 0
                },
                "margin": {
                  "t": 60
                },
                "barmode": "relative"
              },
              "config": {
                "plotlyServerURL": "https://plot.ly"
              }
            },
            "text/html": [
              "<div>                            <div id=\"473f428c-8edc-4049-8780-b5d713abe2bf\" class=\"plotly-graph-div\" style=\"height:525px; width:100%;\"></div>            <script type=\"text/javascript\">                require([\"plotly\"], function(Plotly) {                    window.PLOTLYENV=window.PLOTLYENV || {};                                    if (document.getElementById(\"473f428c-8edc-4049-8780-b5d713abe2bf\")) {                    Plotly.newPlot(                        \"473f428c-8edc-4049-8780-b5d713abe2bf\",                        [{\"alignmentgroup\":\"True\",\"bingroup\":\"x\",\"hovertemplate\":\"Salary=%{x}<br>count=%{y}<extra></extra>\",\"legendgroup\":\"\",\"marker\":{\"color\":\"#636efa\",\"pattern\":{\"shape\":\"\"}},\"name\":\"\",\"offsetgroup\":\"\",\"orientation\":\"v\",\"showlegend\":false,\"x\":[62506,104437,64955,64991,50825,57568,95660,59365,47837,50178,54670,47211,92328,58709,52505,57834,70131,59026,110000,53250,51044,64919,62910,66441,57815,103613,106367,74312,53492,63000,65288,64375,74326,63763,62162,77692,72640,93396,52846,100031,71860,61656,110929,54237,60380,66808,64786,64816,68678,64066,59369,50373,63108,59144,68051,170500,63381,83552,56149,92329,65729,85028,57583,56294,56991,55722,101199,61568,58275,53189,96820,51259,59231,61584,46335,70621,138888,74241,75188,62514,60070,48888,54285,56847,60340,59124,99280,71776,65902,57748,64057,53366,58530,72609,55965,70187,178000,99351,67251,65707,52249,53171,51337,51505,59370,54933,57815,61555,114800,74679,53018,59892,68898,61242,66825,48285,66149,49256,62957,63813,99020,71707,54828,64246,52177,62065,46998,68099,70545,63478,97999,180000,49920,55425,69340,64995,68182,83082,51908,61242,45069,60724,60436,46837,105700,63322,61154,68999,50482,65310,250000,54005,45433,46654,63973,71339,93206,82758,66074,46120,64520,61962,81584,63676,93046,64738,70468,77915,52624,63450,51777,67237,73330,52057,47434,52788,45395,62385,68407,61349,105688,54132,55315,62810,63291,62659,55688,83667,55800,58207,157000,72460,72106,52599,63430,74417,57575,87921,50470,46664,48495,52984,63695,62061,66738,52674,71966,63051,47414,53060,68829,63515,108987,93093,53564,60270,45998,57954,74669,74226,93554,64724,47001,61844,46799,59472,46430,83363,95920,61729,61809,45115,46738,64971,55578,50428,61422,63353,89883,120000,150290,60627,53180,140920,148999,86214,47750,46428,57975,88527,56147,50923,50750,52087,87826,51920,63878,60656,72992,55000,58939,66593,87565,64021,65714,62425,47961,58273,63003,61355,60120,63682,63025,59238,92989,90100,60754,72202,58370,48413,67176,56339,64397,63025,75281,100416,74813,76029,57859,58523,88976,55875,113999,49773,62068,66541,80512,50274,84903,107226,58371,55140,58062,59728,70507,60446,65893,48513,220450,89292,45046],\"xaxis\":\"x\",\"yaxis\":\"y\",\"type\":\"histogram\"}],                        {\"template\":{\"data\":{\"bar\":[{\"error_x\":{\"color\":\"#2a3f5f\"},\"error_y\":{\"color\":\"#2a3f5f\"},\"marker\":{\"line\":{\"color\":\"#E5ECF6\",\"width\":0.5},\"pattern\":{\"fillmode\":\"overlay\",\"size\":10,\"solidity\":0.2}},\"type\":\"bar\"}],\"barpolar\":[{\"marker\":{\"line\":{\"color\":\"#E5ECF6\",\"width\":0.5},\"pattern\":{\"fillmode\":\"overlay\",\"size\":10,\"solidity\":0.2}},\"type\":\"barpolar\"}],\"carpet\":[{\"aaxis\":{\"endlinecolor\":\"#2a3f5f\",\"gridcolor\":\"white\",\"linecolor\":\"white\",\"minorgridcolor\":\"white\",\"startlinecolor\":\"#2a3f5f\"},\"baxis\":{\"endlinecolor\":\"#2a3f5f\",\"gridcolor\":\"white\",\"linecolor\":\"white\",\"minorgridcolor\":\"white\",\"startlinecolor\":\"#2a3f5f\"},\"type\":\"carpet\"}],\"choropleth\":[{\"colorbar\":{\"outlinewidth\":0,\"ticks\":\"\"},\"type\":\"choropleth\"}],\"contour\":[{\"colorbar\":{\"outlinewidth\":0,\"ticks\":\"\"},\"colorscale\":[[0.0,\"#0d0887\"],[0.1111111111111111,\"#46039f\"],[0.2222222222222222,\"#7201a8\"],[0.3333333333333333,\"#9c179e\"],[0.4444444444444444,\"#bd3786\"],[0.5555555555555556,\"#d8576b\"],[0.6666666666666666,\"#ed7953\"],[0.7777777777777778,\"#fb9f3a\"],[0.8888888888888888,\"#fdca26\"],[1.0,\"#f0f921\"]],\"type\":\"contour\"}],\"contourcarpet\":[{\"colorbar\":{\"outlinewidth\":0,\"ticks\":\"\"},\"type\":\"contourcarpet\"}],\"heatmap\":[{\"colorbar\":{\"outlinewidth\":0,\"ticks\":\"\"},\"colorscale\":[[0.0,\"#0d0887\"],[0.1111111111111111,\"#46039f\"],[0.2222222222222222,\"#7201a8\"],[0.3333333333333333,\"#9c179e\"],[0.4444444444444444,\"#bd3786\"],[0.5555555555555556,\"#d8576b\"],[0.6666666666666666,\"#ed7953\"],[0.7777777777777778,\"#fb9f3a\"],[0.8888888888888888,\"#fdca26\"],[1.0,\"#f0f921\"]],\"type\":\"heatmap\"}],\"heatmapgl\":[{\"colorbar\":{\"outlinewidth\":0,\"ticks\":\"\"},\"colorscale\":[[0.0,\"#0d0887\"],[0.1111111111111111,\"#46039f\"],[0.2222222222222222,\"#7201a8\"],[0.3333333333333333,\"#9c179e\"],[0.4444444444444444,\"#bd3786\"],[0.5555555555555556,\"#d8576b\"],[0.6666666666666666,\"#ed7953\"],[0.7777777777777778,\"#fb9f3a\"],[0.8888888888888888,\"#fdca26\"],[1.0,\"#f0f921\"]],\"type\":\"heatmapgl\"}],\"histogram\":[{\"marker\":{\"pattern\":{\"fillmode\":\"overlay\",\"size\":10,\"solidity\":0.2}},\"type\":\"histogram\"}],\"histogram2d\":[{\"colorbar\":{\"outlinewidth\":0,\"ticks\":\"\"},\"colorscale\":[[0.0,\"#0d0887\"],[0.1111111111111111,\"#46039f\"],[0.2222222222222222,\"#7201a8\"],[0.3333333333333333,\"#9c179e\"],[0.4444444444444444,\"#bd3786\"],[0.5555555555555556,\"#d8576b\"],[0.6666666666666666,\"#ed7953\"],[0.7777777777777778,\"#fb9f3a\"],[0.8888888888888888,\"#fdca26\"],[1.0,\"#f0f921\"]],\"type\":\"histogram2d\"}],\"histogram2dcontour\":[{\"colorbar\":{\"outlinewidth\":0,\"ticks\":\"\"},\"colorscale\":[[0.0,\"#0d0887\"],[0.1111111111111111,\"#46039f\"],[0.2222222222222222,\"#7201a8\"],[0.3333333333333333,\"#9c179e\"],[0.4444444444444444,\"#bd3786\"],[0.5555555555555556,\"#d8576b\"],[0.6666666666666666,\"#ed7953\"],[0.7777777777777778,\"#fb9f3a\"],[0.8888888888888888,\"#fdca26\"],[1.0,\"#f0f921\"]],\"type\":\"histogram2dcontour\"}],\"mesh3d\":[{\"colorbar\":{\"outlinewidth\":0,\"ticks\":\"\"},\"type\":\"mesh3d\"}],\"parcoords\":[{\"line\":{\"colorbar\":{\"outlinewidth\":0,\"ticks\":\"\"}},\"type\":\"parcoords\"}],\"pie\":[{\"automargin\":true,\"type\":\"pie\"}],\"scatter\":[{\"marker\":{\"colorbar\":{\"outlinewidth\":0,\"ticks\":\"\"}},\"type\":\"scatter\"}],\"scatter3d\":[{\"line\":{\"colorbar\":{\"outlinewidth\":0,\"ticks\":\"\"}},\"marker\":{\"colorbar\":{\"outlinewidth\":0,\"ticks\":\"\"}},\"type\":\"scatter3d\"}],\"scattercarpet\":[{\"marker\":{\"colorbar\":{\"outlinewidth\":0,\"ticks\":\"\"}},\"type\":\"scattercarpet\"}],\"scattergeo\":[{\"marker\":{\"colorbar\":{\"outlinewidth\":0,\"ticks\":\"\"}},\"type\":\"scattergeo\"}],\"scattergl\":[{\"marker\":{\"colorbar\":{\"outlinewidth\":0,\"ticks\":\"\"}},\"type\":\"scattergl\"}],\"scattermapbox\":[{\"marker\":{\"colorbar\":{\"outlinewidth\":0,\"ticks\":\"\"}},\"type\":\"scattermapbox\"}],\"scatterpolar\":[{\"marker\":{\"colorbar\":{\"outlinewidth\":0,\"ticks\":\"\"}},\"type\":\"scatterpolar\"}],\"scatterpolargl\":[{\"marker\":{\"colorbar\":{\"outlinewidth\":0,\"ticks\":\"\"}},\"type\":\"scatterpolargl\"}],\"scatterternary\":[{\"marker\":{\"colorbar\":{\"outlinewidth\":0,\"ticks\":\"\"}},\"type\":\"scatterternary\"}],\"surface\":[{\"colorbar\":{\"outlinewidth\":0,\"ticks\":\"\"},\"colorscale\":[[0.0,\"#0d0887\"],[0.1111111111111111,\"#46039f\"],[0.2222222222222222,\"#7201a8\"],[0.3333333333333333,\"#9c179e\"],[0.4444444444444444,\"#bd3786\"],[0.5555555555555556,\"#d8576b\"],[0.6666666666666666,\"#ed7953\"],[0.7777777777777778,\"#fb9f3a\"],[0.8888888888888888,\"#fdca26\"],[1.0,\"#f0f921\"]],\"type\":\"surface\"}],\"table\":[{\"cells\":{\"fill\":{\"color\":\"#EBF0F8\"},\"line\":{\"color\":\"white\"}},\"header\":{\"fill\":{\"color\":\"#C8D4E3\"},\"line\":{\"color\":\"white\"}},\"type\":\"table\"}]},\"layout\":{\"annotationdefaults\":{\"arrowcolor\":\"#2a3f5f\",\"arrowhead\":0,\"arrowwidth\":1},\"autotypenumbers\":\"strict\",\"coloraxis\":{\"colorbar\":{\"outlinewidth\":0,\"ticks\":\"\"}},\"colorscale\":{\"diverging\":[[0,\"#8e0152\"],[0.1,\"#c51b7d\"],[0.2,\"#de77ae\"],[0.3,\"#f1b6da\"],[0.4,\"#fde0ef\"],[0.5,\"#f7f7f7\"],[0.6,\"#e6f5d0\"],[0.7,\"#b8e186\"],[0.8,\"#7fbc41\"],[0.9,\"#4d9221\"],[1,\"#276419\"]],\"sequential\":[[0.0,\"#0d0887\"],[0.1111111111111111,\"#46039f\"],[0.2222222222222222,\"#7201a8\"],[0.3333333333333333,\"#9c179e\"],[0.4444444444444444,\"#bd3786\"],[0.5555555555555556,\"#d8576b\"],[0.6666666666666666,\"#ed7953\"],[0.7777777777777778,\"#fb9f3a\"],[0.8888888888888888,\"#fdca26\"],[1.0,\"#f0f921\"]],\"sequentialminus\":[[0.0,\"#0d0887\"],[0.1111111111111111,\"#46039f\"],[0.2222222222222222,\"#7201a8\"],[0.3333333333333333,\"#9c179e\"],[0.4444444444444444,\"#bd3786\"],[0.5555555555555556,\"#d8576b\"],[0.6666666666666666,\"#ed7953\"],[0.7777777777777778,\"#fb9f3a\"],[0.8888888888888888,\"#fdca26\"],[1.0,\"#f0f921\"]]},\"colorway\":[\"#636efa\",\"#EF553B\",\"#00cc96\",\"#ab63fa\",\"#FFA15A\",\"#19d3f3\",\"#FF6692\",\"#B6E880\",\"#FF97FF\",\"#FECB52\"],\"font\":{\"color\":\"#2a3f5f\"},\"geo\":{\"bgcolor\":\"white\",\"lakecolor\":\"white\",\"landcolor\":\"#E5ECF6\",\"showlakes\":true,\"showland\":true,\"subunitcolor\":\"white\"},\"hoverlabel\":{\"align\":\"left\"},\"hovermode\":\"closest\",\"mapbox\":{\"style\":\"light\"},\"paper_bgcolor\":\"white\",\"plot_bgcolor\":\"#E5ECF6\",\"polar\":{\"angularaxis\":{\"gridcolor\":\"white\",\"linecolor\":\"white\",\"ticks\":\"\"},\"bgcolor\":\"#E5ECF6\",\"radialaxis\":{\"gridcolor\":\"white\",\"linecolor\":\"white\",\"ticks\":\"\"}},\"scene\":{\"xaxis\":{\"backgroundcolor\":\"#E5ECF6\",\"gridcolor\":\"white\",\"gridwidth\":2,\"linecolor\":\"white\",\"showbackground\":true,\"ticks\":\"\",\"zerolinecolor\":\"white\"},\"yaxis\":{\"backgroundcolor\":\"#E5ECF6\",\"gridcolor\":\"white\",\"gridwidth\":2,\"linecolor\":\"white\",\"showbackground\":true,\"ticks\":\"\",\"zerolinecolor\":\"white\"},\"zaxis\":{\"backgroundcolor\":\"#E5ECF6\",\"gridcolor\":\"white\",\"gridwidth\":2,\"linecolor\":\"white\",\"showbackground\":true,\"ticks\":\"\",\"zerolinecolor\":\"white\"}},\"shapedefaults\":{\"line\":{\"color\":\"#2a3f5f\"}},\"ternary\":{\"aaxis\":{\"gridcolor\":\"white\",\"linecolor\":\"white\",\"ticks\":\"\"},\"baxis\":{\"gridcolor\":\"white\",\"linecolor\":\"white\",\"ticks\":\"\"},\"bgcolor\":\"#E5ECF6\",\"caxis\":{\"gridcolor\":\"white\",\"linecolor\":\"white\",\"ticks\":\"\"}},\"title\":{\"x\":0.05},\"xaxis\":{\"automargin\":true,\"gridcolor\":\"white\",\"linecolor\":\"white\",\"ticks\":\"\",\"title\":{\"standoff\":15},\"zerolinecolor\":\"white\",\"zerolinewidth\":2},\"yaxis\":{\"automargin\":true,\"gridcolor\":\"white\",\"linecolor\":\"white\",\"ticks\":\"\",\"title\":{\"standoff\":15},\"zerolinecolor\":\"white\",\"zerolinewidth\":2}}},\"xaxis\":{\"anchor\":\"y\",\"domain\":[0.0,1.0],\"title\":{\"text\":\"Salary\"}},\"yaxis\":{\"anchor\":\"x\",\"domain\":[0.0,1.0],\"title\":{\"text\":\"count\"}},\"legend\":{\"tracegroupgap\":0},\"margin\":{\"t\":60},\"barmode\":\"relative\"},                        {\"responsive\": true}                    ).then(function(){\n",
              "                            \n",
              "var gd = document.getElementById('473f428c-8edc-4049-8780-b5d713abe2bf');\n",
              "var x = new MutationObserver(function (mutations, observer) {{\n",
              "        var display = window.getComputedStyle(gd).display;\n",
              "        if (!display || display === 'none') {{\n",
              "            console.log([gd, 'removed!']);\n",
              "            Plotly.purge(gd);\n",
              "            observer.disconnect();\n",
              "        }}\n",
              "}});\n",
              "\n",
              "// Listen for the removal of the full notebook cells\n",
              "var notebookContainer = gd.closest('#notebook-container');\n",
              "if (notebookContainer) {{\n",
              "    x.observe(notebookContainer, {childList: true});\n",
              "}}\n",
              "\n",
              "// Listen for the clearing of the current output cell\n",
              "var outputEl = gd.closest('.output');\n",
              "if (outputEl) {{\n",
              "    x.observe(outputEl, {childList: true});\n",
              "}}\n",
              "\n",
              "                        })                };                });            </script>        </div>"
            ]
          },
          "metadata": {}
        }
      ],
      "source": [
        "EDA_target(df, target)"
      ]
    },
    {
      "cell_type": "code",
      "execution_count": 15,
      "metadata": {
        "colab": {
          "base_uri": "https://localhost:8080/",
          "height": 0
        },
        "id": "nHIs-GvNqM3K",
        "outputId": "85f5935f-fbcc-4ed8-e0f3-351db4f0e89a"
      },
      "outputs": [
        {
          "output_type": "display_data",
          "data": {
            "text/plain": [
              "<Figure size 2160x1440 with 1 Axes>"
            ],
            "image/png": "[encoded data removed]"
          },
          "metadata": {
            "needs_background": "light"
          }
        }
      ],
      "source": [
        "EDA_target2(df, target)"
      ]
    },
    {
      "cell_type": "markdown",
      "metadata": {
        "id": "AccjrqhRqM3L"
      },
      "source": [
        "## Independent Dependent Variables"
      ]
    },
    {
      "cell_type": "markdown",
      "metadata": {
        "id": "rfq1YSxzqM3L"
      },
      "source": [
        "### Independent Dependent Variables (Object Variables) "
      ]
    },
    {
      "cell_type": "code",
      "execution_count": 16,
      "metadata": {
        "colab": {
          "base_uri": "https://localhost:8080/",
          "height": 0
        },
        "id": "8blDWl0uqM3L",
        "outputId": "8b47e077-8ad3-4f67-cabe-dee036e91bc6"
      },
      "outputs": [
        {
          "output_type": "stream",
          "name": "stdout",
          "text": [
            "+----+------------+\n",
            "|    |   GenderID |\n",
            "|----+------------|\n",
            "|  0 |        176 |\n",
            "|  1 |        135 |\n",
            "+----+------------+\n"
          ]
        },
        {
          "output_type": "display_data",
          "data": {
            "text/plain": [
              "<Figure size 2160x1440 with 1 Axes>"
            ],
            "image/png": "[encoded data removed]"
          },
          "metadata": {
            "needs_background": "light"
          }
        },
        {
          "output_type": "stream",
          "name": "stdout",
          "text": [
            "+----+---------------+\n",
            "|    |   EmpStatusID |\n",
            "|----+---------------|\n",
            "|  1 |           184 |\n",
            "|  5 |            88 |\n",
            "|  3 |            14 |\n",
            "|  4 |            14 |\n",
            "|  2 |            11 |\n",
            "+----+---------------+\n"
          ]
        },
        {
          "output_type": "display_data",
          "data": {
            "text/plain": [
              "<Figure size 2160x1440 with 1 Axes>"
            ],
            "image/png": "[encoded data removed]"
          },
          "metadata": {
            "needs_background": "light"
          }
        },
        {
          "output_type": "stream",
          "name": "stdout",
          "text": [
            "+----+----------+\n",
            "|    |   DeptID |\n",
            "|----+----------|\n",
            "|  5 |      208 |\n",
            "|  3 |       50 |\n",
            "|  6 |       32 |\n",
            "|  4 |       10 |\n",
            "|  1 |       10 |\n",
            "|  2 |        1 |\n",
            "+----+----------+\n"
          ]
        },
        {
          "output_type": "display_data",
          "data": {
            "text/plain": [
              "<Figure size 2160x1440 with 1 Axes>"
            ],
            "image/png": "[encoded data removed]"
          },
          "metadata": {
            "needs_background": "light"
          }
        },
        {
          "output_type": "stream",
          "name": "stdout",
          "text": [
            "+----+---------------+\n",
            "|    |   PerfScoreID |\n",
            "|----+---------------|\n",
            "|  3 |           243 |\n",
            "|  4 |            37 |\n",
            "|  2 |            18 |\n",
            "|  1 |            13 |\n",
            "+----+---------------+\n"
          ]
        },
        {
          "output_type": "display_data",
          "data": {
            "text/plain": [
              "<Figure size 2160x1440 with 1 Axes>"
            ],
            "image/png": "[encoded data removed]"
          },
          "metadata": {
            "needs_background": "light"
          }
        },
        {
          "output_type": "stream",
          "name": "stdout",
          "text": [
            "+----+--------------------------+\n",
            "|    |   FromDiversityJobFairID |\n",
            "|----+--------------------------|\n",
            "|  0 |                      282 |\n",
            "|  1 |                       29 |\n",
            "+----+--------------------------+\n"
          ]
        },
        {
          "output_type": "display_data",
          "data": {
            "text/plain": [
              "<Figure size 2160x1440 with 1 Axes>"
            ],
            "image/png": "[encoded data removed]"
          },
          "metadata": {
            "needs_background": "light"
          }
        },
        {
          "output_type": "stream",
          "name": "stdout",
          "text": [
            "+----+---------+\n",
            "|    |   Termd |\n",
            "|----+---------|\n",
            "|  0 |     207 |\n",
            "|  1 |     104 |\n",
            "+----+---------+\n"
          ]
        },
        {
          "output_type": "display_data",
          "data": {
            "text/plain": [
              "<Figure size 2160x1440 with 1 Axes>"
            ],
            "image/png": "[encoded data removed]"
          },
          "metadata": {
            "needs_background": "light"
          }
        },
        {
          "output_type": "stream",
          "name": "stdout",
          "text": [
            "+------------------------------+------------+\n",
            "|                              |   Position |\n",
            "|------------------------------+------------|\n",
            "| Production Technician I      |        137 |\n",
            "| Production Technician II     |         57 |\n",
            "| Area Sales Manager           |         27 |\n",
            "| Production Manager           |         14 |\n",
            "| Software Engineer            |         10 |\n",
            "| IT Support                   |          8 |\n",
            "| Data Analyst                 |          7 |\n",
            "| Sr. Network Engineer         |          5 |\n",
            "| Database Administrator       |          5 |\n",
            "| Network Engineer             |          5 |\n",
            "| BI Developer                 |          4 |\n",
            "| Senior BI Developer          |          3 |\n",
            "| Administrative Assistant     |          3 |\n",
            "| Sales Manager                |          3 |\n",
            "| Accountant I                 |          3 |\n",
            "| Sr. DBA                      |          2 |\n",
            "| IT Manager - DB              |          2 |\n",
            "| Sr. Accountant               |          2 |\n",
            "| Director of Operations       |          1 |\n",
            "| Shared Services Manager      |          1 |\n",
            "| Data Analyst                 |          1 |\n",
            "| Data Architect               |          1 |\n",
            "| Principal Data Architect     |          1 |\n",
            "| IT Manager - Infra           |          1 |\n",
            "| President & CEO              |          1 |\n",
            "| Enterprise Architect         |          1 |\n",
            "| BI Director                  |          1 |\n",
            "| Director of Sales            |          1 |\n",
            "| IT Director                  |          1 |\n",
            "| IT Manager - Support         |          1 |\n",
            "| Software Engineering Manager |          1 |\n",
            "| CIO                          |          1 |\n",
            "+------------------------------+------------+\n"
          ]
        },
        {
          "output_type": "display_data",
          "data": {
            "text/plain": [
              "<Figure size 2160x1440 with 1 Axes>"
            ],
            "image/png": "[encoded data removed]"
          },
          "metadata": {
            "needs_background": "light"
          }
        },
        {
          "output_type": "stream",
          "name": "stdout",
          "text": [
            "+----+---------+\n",
            "|    |   State |\n",
            "|----+---------|\n",
            "| MA |     276 |\n",
            "| CT |       6 |\n",
            "| TX |       3 |\n",
            "| VT |       2 |\n",
            "| UT |       1 |\n",
            "| AZ |       1 |\n",
            "| ND |       1 |\n",
            "| OR |       1 |\n",
            "| MT |       1 |\n",
            "| NV |       1 |\n",
            "| ID |       1 |\n",
            "| KY |       1 |\n",
            "| NC |       1 |\n",
            "| FL |       1 |\n",
            "| GA |       1 |\n",
            "| CO |       1 |\n",
            "| NY |       1 |\n",
            "| PA |       1 |\n",
            "| RI |       1 |\n",
            "| NH |       1 |\n",
            "| TN |       1 |\n",
            "| IN |       1 |\n",
            "| OH |       1 |\n",
            "| CA |       1 |\n",
            "| WA |       1 |\n",
            "| AL |       1 |\n",
            "| VA |       1 |\n",
            "| ME |       1 |\n",
            "+----+---------+\n"
          ]
        },
        {
          "output_type": "display_data",
          "data": {
            "text/plain": [
              "<Figure size 2160x1440 with 1 Axes>"
            ],
            "image/png": "[encoded data removed]"
          },
          "metadata": {
            "needs_background": "light"
          }
        },
        {
          "output_type": "stream",
          "name": "stdout",
          "text": [
            "+----+-------+\n",
            "|    |   Sex |\n",
            "|----+-------|\n",
            "| F  |   176 |\n",
            "| M  |   135 |\n",
            "+----+-------+\n"
          ]
        },
        {
          "output_type": "display_data",
          "data": {
            "text/plain": [
              "<Figure size 2160x1440 with 1 Axes>"
            ],
            "image/png": "[encoded data removed]"
          },
          "metadata": {
            "needs_background": "light"
          }
        },
        {
          "output_type": "stream",
          "name": "stdout",
          "text": [
            "+-----------+---------------+\n",
            "|           |   MaritalDesc |\n",
            "|-----------+---------------|\n",
            "| Single    |           137 |\n",
            "| Married   |           124 |\n",
            "| Divorced  |            30 |\n",
            "| Separated |            12 |\n",
            "| Widowed   |             8 |\n",
            "+-----------+---------------+\n"
          ]
        },
        {
          "output_type": "display_data",
          "data": {
            "text/plain": [
              "<Figure size 2160x1440 with 1 Axes>"
            ],
            "image/png": "[encoded data removed]"
          },
          "metadata": {
            "needs_background": "light"
          }
        },
        {
          "output_type": "stream",
          "name": "stdout",
          "text": [
            "+---------------------+---------------+\n",
            "|                     |   CitizenDesc |\n",
            "|---------------------+---------------|\n",
            "| US Citizen          |           295 |\n",
            "| Eligible NonCitizen |            12 |\n",
            "| Non-Citizen         |             4 |\n",
            "+---------------------+---------------+\n"
          ]
        },
        {
          "output_type": "display_data",
          "data": {
            "text/plain": [
              "<Figure size 2160x1440 with 1 Axes>"
            ],
            "image/png": "[encoded data removed]"
          },
          "metadata": {
            "needs_background": "light"
          }
        },
        {
          "output_type": "stream",
          "name": "stdout",
          "text": [
            "+-----+------------------+\n",
            "|     |   HispanicLatino |\n",
            "|-----+------------------|\n",
            "| No  |              282 |\n",
            "| Yes |               27 |\n",
            "| no  |                1 |\n",
            "| yes |                1 |\n",
            "+-----+------------------+\n"
          ]
        },
        {
          "output_type": "display_data",
          "data": {
            "text/plain": [
              "<Figure size 2160x1440 with 1 Axes>"
            ],
            "image/png": "[encoded data removed]"
          },
          "metadata": {
            "needs_background": "light"
          }
        },
        {
          "output_type": "stream",
          "name": "stdout",
          "text": [
            "+----------------------------------+------------+\n",
            "|                                  |   RaceDesc |\n",
            "|----------------------------------+------------|\n",
            "| White                            |        187 |\n",
            "| Black or African American        |         80 |\n",
            "| Asian                            |         29 |\n",
            "| Two or more races                |         11 |\n",
            "| American Indian or Alaska Native |          3 |\n",
            "| Hispanic                         |          1 |\n",
            "+----------------------------------+------------+\n"
          ]
        },
        {
          "output_type": "display_data",
          "data": {
            "text/plain": [
              "<Figure size 2160x1440 with 1 Axes>"
            ],
            "image/png": "[encoded data removed]"
          },
          "metadata": {
            "needs_background": "light"
          }
        },
        {
          "output_type": "stream",
          "name": "stdout",
          "text": [
            "+----------------------------------+--------------+\n",
            "|                                  |   TermReason |\n",
            "|----------------------------------+--------------|\n",
            "| N/A-StillEmployed                |          207 |\n",
            "| Another position                 |           20 |\n",
            "| unhappy                          |           14 |\n",
            "| more money                       |           11 |\n",
            "| career change                    |            9 |\n",
            "| hours                            |            8 |\n",
            "| attendance                       |            7 |\n",
            "| return to school                 |            5 |\n",
            "| relocation out of area           |            5 |\n",
            "| no-call, no-show                 |            4 |\n",
            "| military                         |            4 |\n",
            "| retiring                         |            4 |\n",
            "| performance                      |            4 |\n",
            "| maternity leave - did not return |            3 |\n",
            "| medical issues                   |            3 |\n",
            "| Learned that he is a gangster    |            1 |\n",
            "| Fatal attraction                 |            1 |\n",
            "| gross misconduct                 |            1 |\n",
            "+----------------------------------+--------------+\n"
          ]
        },
        {
          "output_type": "display_data",
          "data": {
            "text/plain": [
              "<Figure size 2160x1440 with 1 Axes>"
            ],
            "image/png": "[encoded data removed]"
          },
          "metadata": {
            "needs_background": "light"
          }
        },
        {
          "output_type": "stream",
          "name": "stdout",
          "text": [
            "+------------------------+--------------------+\n",
            "|                        |   EmploymentStatus |\n",
            "|------------------------+--------------------|\n",
            "| Active                 |                207 |\n",
            "| Voluntarily Terminated |                 88 |\n",
            "| Terminated for Cause   |                 16 |\n",
            "+------------------------+--------------------+\n"
          ]
        },
        {
          "output_type": "display_data",
          "data": {
            "text/plain": [
              "<Figure size 2160x1440 with 1 Axes>"
            ],
            "image/png": "[encoded data removed]"
          },
          "metadata": {
            "needs_background": "light"
          }
        },
        {
          "output_type": "stream",
          "name": "stdout",
          "text": [
            "+----------------------+--------------+\n",
            "|                      |   Department |\n",
            "|----------------------+--------------|\n",
            "| Production           |          209 |\n",
            "| IT/IS                |           50 |\n",
            "| Sales                |           31 |\n",
            "| Software Engineering |           11 |\n",
            "| Admin Offices        |            9 |\n",
            "| Executive Office     |            1 |\n",
            "+----------------------+--------------+\n"
          ]
        },
        {
          "output_type": "display_data",
          "data": {
            "text/plain": [
              "<Figure size 2160x1440 with 1 Axes>"
            ],
            "image/png": "[encoded data removed]"
          },
          "metadata": {
            "needs_background": "light"
          }
        },
        {
          "output_type": "stream",
          "name": "stdout",
          "text": [
            "+-------------------------+---------------------+\n",
            "|                         |   RecruitmentSource |\n",
            "|-------------------------+---------------------|\n",
            "| Indeed                  |                  87 |\n",
            "| LinkedIn                |                  76 |\n",
            "| Google Search           |                  49 |\n",
            "| Employee Referral       |                  31 |\n",
            "| Diversity Job Fair      |                  29 |\n",
            "| CareerBuilder           |                  23 |\n",
            "| Website                 |                  13 |\n",
            "| Other                   |                   2 |\n",
            "| On-line Web application |                   1 |\n",
            "+-------------------------+---------------------+\n"
          ]
        },
        {
          "output_type": "display_data",
          "data": {
            "text/plain": [
              "<Figure size 2160x1440 with 1 Axes>"
            ],
            "image/png": "[encoded data removed]"
          },
          "metadata": {
            "needs_background": "light"
          }
        },
        {
          "output_type": "stream",
          "name": "stdout",
          "text": [
            "+-------------------+--------------------+\n",
            "|                   |   PerformanceScore |\n",
            "|-------------------+--------------------|\n",
            "| Fully Meets       |                243 |\n",
            "| Exceeds           |                 37 |\n",
            "| Needs Improvement |                 18 |\n",
            "| PIP               |                 13 |\n",
            "+-------------------+--------------------+\n"
          ]
        },
        {
          "output_type": "display_data",
          "data": {
            "text/plain": [
              "<Figure size 2160x1440 with 1 Axes>"
            ],
            "image/png": "[encoded data removed]"
          },
          "metadata": {
            "needs_background": "light"
          }
        },
        {
          "output_type": "stream",
          "name": "stdout",
          "text": [
            "+----+-------------------+\n",
            "|    |   EmpSatisfaction |\n",
            "|----+-------------------|\n",
            "|  3 |               108 |\n",
            "|  5 |                98 |\n",
            "|  4 |                94 |\n",
            "|  2 |                 9 |\n",
            "|  1 |                 2 |\n",
            "+----+-------------------+\n"
          ]
        },
        {
          "output_type": "display_data",
          "data": {
            "text/plain": [
              "<Figure size 2160x1440 with 1 Axes>"
            ],
            "image/png": "[encoded data removed]"
          },
          "metadata": {
            "needs_background": "light"
          }
        },
        {
          "output_type": "stream",
          "name": "stdout",
          "text": [
            "+----+------------------------+\n",
            "|    |   SpecialProjectsCount |\n",
            "|----+------------------------|\n",
            "|  0 |                    241 |\n",
            "|  6 |                     21 |\n",
            "|  5 |                     21 |\n",
            "|  7 |                     12 |\n",
            "|  4 |                      9 |\n",
            "|  3 |                      3 |\n",
            "|  8 |                      2 |\n",
            "|  2 |                      1 |\n",
            "|  1 |                      1 |\n",
            "+----+------------------------+\n"
          ]
        },
        {
          "output_type": "display_data",
          "data": {
            "text/plain": [
              "<Figure size 2160x1440 with 1 Axes>"
            ],
            "image/png": "[encoded data removed]"
          },
          "metadata": {
            "needs_background": "light"
          }
        },
        {
          "output_type": "stream",
          "name": "stdout",
          "text": [
            "+----+------------------+\n",
            "|    |   DaysLateLast30 |\n",
            "|----+------------------|\n",
            "|  0 |              278 |\n",
            "|  4 |                8 |\n",
            "|  2 |                6 |\n",
            "|  5 |                6 |\n",
            "|  3 |                6 |\n",
            "|  6 |                6 |\n",
            "|  1 |                1 |\n",
            "+----+------------------+\n"
          ]
        },
        {
          "output_type": "display_data",
          "data": {
            "text/plain": [
              "<Figure size 2160x1440 with 1 Axes>"
            ],
            "image/png": "[encoded data removed]"
          },
          "metadata": {
            "needs_background": "light"
          }
        },
        {
          "output_type": "stream",
          "name": "stdout",
          "text": [
            "+----+------------+\n",
            "|    |   Absences |\n",
            "|----+------------|\n",
            "|  4 |         23 |\n",
            "| 16 |         23 |\n",
            "|  7 |         21 |\n",
            "|  2 |         21 |\n",
            "| 15 |         20 |\n",
            "| 13 |         17 |\n",
            "| 14 |         17 |\n",
            "|  3 |         16 |\n",
            "| 19 |         16 |\n",
            "|  6 |         16 |\n",
            "| 11 |         15 |\n",
            "| 17 |         15 |\n",
            "|  1 |         14 |\n",
            "| 20 |         14 |\n",
            "|  9 |         14 |\n",
            "|  5 |         12 |\n",
            "|  8 |         11 |\n",
            "| 10 |         10 |\n",
            "| 12 |          8 |\n",
            "| 18 |          8 |\n",
            "+----+------------+\n"
          ]
        },
        {
          "output_type": "display_data",
          "data": {
            "text/plain": [
              "<Figure size 2160x1440 with 1 Axes>"
            ],
            "image/png": "[encoded data removed]"
          },
          "metadata": {
            "needs_background": "light"
          }
        }
      ],
      "source": [
        "obj_EDA(df, Objcols)"
      ]
    },
    {
      "cell_type": "markdown",
      "metadata": {
        "id": "zQ3JW3agqM3L"
      },
      "source": [
        "### Independent Dependent Variables (Numerical)"
      ]
    },
    {
      "cell_type": "code",
      "execution_count": 17,
      "metadata": {
        "colab": {
          "base_uri": "https://localhost:8080/",
          "height": 0
        },
        "id": "1nXDzfi_qM3M",
        "outputId": "bc702f35-c719-4b9f-fb3a-ef8b6af6ecdf"
      },
      "outputs": [
        {
          "output_type": "display_data",
          "data": {
            "text/plain": [
              "<Figure size 2160x1440 with 1 Axes>"
            ],
            "image/png": "[encoded data removed]"
          },
          "metadata": {
            "needs_background": "light"
          }
        }
      ],
      "source": [
        "EDA_num(df, NUMcols)"
      ]
    },
    {
      "cell_type": "code",
      "execution_count": 18,
      "metadata": {
        "colab": {
          "base_uri": "https://localhost:8080/",
          "height": 0
        },
        "id": "tFvhpgODqM3M",
        "outputId": "d9b5945a-e977-44da-a2fa-3c8e6da27538"
      },
      "outputs": [
        {
          "output_type": "display_data",
          "data": {
            "text/plain": [
              "<Figure size 2160x1440 with 1 Axes>"
            ],
            "image/png": "[encoded data removed]"
          },
          "metadata": {
            "needs_background": "light"
          }
        }
      ],
      "source": [
        "EDA_num_2(df, NUMcols)"
      ]
    },
    {
      "cell_type": "markdown",
      "metadata": {
        "id": "YUsL1AiDqM3M"
      },
      "source": [
        "# Data Transformation"
      ]
    },
    {
      "cell_type": "code",
      "execution_count": 19,
      "metadata": {
        "colab": {
          "base_uri": "https://localhost:8080/"
        },
        "id": "dgc3PVQFqM3N",
        "outputId": "b59ad7ec-c06c-4e1e-e958-d291a80dccac"
      },
      "outputs": [
        {
          "output_type": "stream",
          "name": "stdout",
          "text": [
            "\n",
            "Standardization Applied On: Salary\n",
            "\n",
            "Standardization Applied On: EngagementSurvey\n"
          ]
        }
      ],
      "source": [
        "if DT == 'StandardScaler' : \n",
        "    # StandardScaler\n",
        "    df = NumStandardScaler(df)"
      ]
    },
    {
      "cell_type": "code",
      "execution_count": 20,
      "metadata": {
        "colab": {
          "base_uri": "https://localhost:8080/",
          "height": 426
        },
        "id": "s2fDLIIqqM3N",
        "outputId": "b016ad75-5e22-4f71-e9f7-6b535ce6cc7c"
      },
      "outputs": [
        {
          "output_type": "execute_result",
          "data": {
            "text/plain": [
              "  GenderID EmpStatusID DeptID PerfScoreID FromDiversityJobFairID  Salary  \\\n",
              "0        1           1      5           4                      0  -0.259   \n",
              "1        1           5      3           3                      0   1.410   \n",
              "2        0           5      5           3                      0  -0.162   \n",
              "3        0           1      5           3                      0  -0.160   \n",
              "4        0           5      5           3                      0  -0.724   \n",
              "\n",
              "  Termd                  Position State Sex MaritalDesc CitizenDesc  \\\n",
              "0     0   Production Technician I    MA  M       Single  US Citizen   \n",
              "1     1                   Sr. DBA    MA  M      Married  US Citizen   \n",
              "2     1  Production Technician II    MA   F     Married  US Citizen   \n",
              "3     0   Production Technician I    MA   F     Married  US Citizen   \n",
              "4     1   Production Technician I    MA   F    Divorced  US Citizen   \n",
              "\n",
              "  HispanicLatino RaceDesc         TermReason        EmploymentStatus  \\\n",
              "0             No    White  N/A-StillEmployed                  Active   \n",
              "1             No    White      career change  Voluntarily Terminated   \n",
              "2             No    White              hours  Voluntarily Terminated   \n",
              "3             No    White  N/A-StillEmployed                  Active   \n",
              "4             No    White   return to school  Voluntarily Terminated   \n",
              "\n",
              "          Department RecruitmentSource PerformanceScore  EngagementSurvey  \\\n",
              "0  Production                 LinkedIn          Exceeds             0.621   \n",
              "1              IT/IS            Indeed      Fully Meets             1.078   \n",
              "2  Production                 LinkedIn      Fully Meets            -1.382   \n",
              "3  Production                   Indeed      Fully Meets             0.926   \n",
              "4  Production            Google Search      Fully Meets             1.128   \n",
              "\n",
              "  EmpSatisfaction SpecialProjectsCount DaysLateLast30 Absences  \n",
              "0               5                    0              0        1  \n",
              "1               3                    6              0       17  \n",
              "2               3                    0              0        3  \n",
              "3               5                    0              0       15  \n",
              "4               4                    0              0        2  "
            ],
            "text/html": [
              "\n",
              "  <div id=\"df-1a338414-2635-4a5c-8532-9e95c8d663d9\">\n",
              "    <div class=\"colab-df-container\">\n",
              "      <div>\n",
              "<style scoped>\n",
              "    .dataframe tbody tr th:only-of-type {\n",
              "        vertical-align: middle;\n",
              "    }\n",
              "\n",
              "    .dataframe tbody tr th {\n",
              "        vertical-align: top;\n",
              "    }\n",
              "\n",
              "    .dataframe thead th {\n",
              "        text-align: right;\n",
              "    }\n",
              "</style>\n",
              "<table border=\"1\" class=\"dataframe\">\n",
              "  <thead>\n",
              "    <tr style=\"text-align: right;\">\n",
              "      <th></th>\n",
              "      <th>GenderID</th>\n",
              "      <th>EmpStatusID</th>\n",
              "      <th>DeptID</th>\n",
              "      <th>PerfScoreID</th>\n",
              "      <th>FromDiversityJobFairID</th>\n",
              "      <th>Salary</th>\n",
              "      <th>Termd</th>\n",
              "      <th>Position</th>\n",
              "      <th>State</th>\n",
              "      <th>Sex</th>\n",
              "      <th>MaritalDesc</th>\n",
              "      <th>CitizenDesc</th>\n",
              "      <th>HispanicLatino</th>\n",
              "      <th>RaceDesc</th>\n",
              "      <th>TermReason</th>\n",
              "      <th>EmploymentStatus</th>\n",
              "      <th>Department</th>\n",
              "      <th>RecruitmentSource</th>\n",
              "      <th>PerformanceScore</th>\n",
              "      <th>EngagementSurvey</th>\n",
              "      <th>EmpSatisfaction</th>\n",
              "      <th>SpecialProjectsCount</th>\n",
              "      <th>DaysLateLast30</th>\n",
              "      <th>Absences</th>\n",
              "    </tr>\n",
              "  </thead>\n",
              "  <tbody>\n",
              "    <tr>\n",
              "      <th>0</th>\n",
              "      <td>1</td>\n",
              "      <td>1</td>\n",
              "      <td>5</td>\n",
              "      <td>4</td>\n",
              "      <td>0</td>\n",
              "      <td>-0.259</td>\n",
              "      <td>0</td>\n",
              "      <td>Production Technician I</td>\n",
              "      <td>MA</td>\n",
              "      <td>M</td>\n",
              "      <td>Single</td>\n",
              "      <td>US Citizen</td>\n",
              "      <td>No</td>\n",
              "      <td>White</td>\n",
              "      <td>N/A-StillEmployed</td>\n",
              "      <td>Active</td>\n",
              "      <td>Production</td>\n",
              "      <td>LinkedIn</td>\n",
              "      <td>Exceeds</td>\n",
              "      <td>0.621</td>\n",
              "      <td>5</td>\n",
              "      <td>0</td>\n",
              "      <td>0</td>\n",
              "      <td>1</td>\n",
              "    </tr>\n",
              "    <tr>\n",
              "      <th>1</th>\n",
              "      <td>1</td>\n",
              "      <td>5</td>\n",
              "      <td>3</td>\n",
              "      <td>3</td>\n",
              "      <td>0</td>\n",
              "      <td>1.410</td>\n",
              "      <td>1</td>\n",
              "      <td>Sr. DBA</td>\n",
              "      <td>MA</td>\n",
              "      <td>M</td>\n",
              "      <td>Married</td>\n",
              "      <td>US Citizen</td>\n",
              "      <td>No</td>\n",
              "      <td>White</td>\n",
              "      <td>career change</td>\n",
              "      <td>Voluntarily Terminated</td>\n",
              "      <td>IT/IS</td>\n",
              "      <td>Indeed</td>\n",
              "      <td>Fully Meets</td>\n",
              "      <td>1.078</td>\n",
              "      <td>3</td>\n",
              "      <td>6</td>\n",
              "      <td>0</td>\n",
              "      <td>17</td>\n",
              "    </tr>\n",
              "    <tr>\n",
              "      <th>2</th>\n",
              "      <td>0</td>\n",
              "      <td>5</td>\n",
              "      <td>5</td>\n",
              "      <td>3</td>\n",
              "      <td>0</td>\n",
              "      <td>-0.162</td>\n",
              "      <td>1</td>\n",
              "      <td>Production Technician II</td>\n",
              "      <td>MA</td>\n",
              "      <td>F</td>\n",
              "      <td>Married</td>\n",
              "      <td>US Citizen</td>\n",
              "      <td>No</td>\n",
              "      <td>White</td>\n",
              "      <td>hours</td>\n",
              "      <td>Voluntarily Terminated</td>\n",
              "      <td>Production</td>\n",
              "      <td>LinkedIn</td>\n",
              "      <td>Fully Meets</td>\n",
              "      <td>-1.382</td>\n",
              "      <td>3</td>\n",
              "      <td>0</td>\n",
              "      <td>0</td>\n",
              "      <td>3</td>\n",
              "    </tr>\n",
              "    <tr>\n",
              "      <th>3</th>\n",
              "      <td>0</td>\n",
              "      <td>1</td>\n",
              "      <td>5</td>\n",
              "      <td>3</td>\n",
              "      <td>0</td>\n",
              "      <td>-0.160</td>\n",
              "      <td>0</td>\n",
              "      <td>Production Technician I</td>\n",
              "      <td>MA</td>\n",
              "      <td>F</td>\n",
              "      <td>Married</td>\n",
              "      <td>US Citizen</td>\n",
              "      <td>No</td>\n",
              "      <td>White</td>\n",
              "      <td>N/A-StillEmployed</td>\n",
              "      <td>Active</td>\n",
              "      <td>Production</td>\n",
              "      <td>Indeed</td>\n",
              "      <td>Fully Meets</td>\n",
              "      <td>0.926</td>\n",
              "      <td>5</td>\n",
              "      <td>0</td>\n",
              "      <td>0</td>\n",
              "      <td>15</td>\n",
              "    </tr>\n",
              "    <tr>\n",
              "      <th>4</th>\n",
              "      <td>0</td>\n",
              "      <td>5</td>\n",
              "      <td>5</td>\n",
              "      <td>3</td>\n",
              "      <td>0</td>\n",
              "      <td>-0.724</td>\n",
              "      <td>1</td>\n",
              "      <td>Production Technician I</td>\n",
              "      <td>MA</td>\n",
              "      <td>F</td>\n",
              "      <td>Divorced</td>\n",
              "      <td>US Citizen</td>\n",
              "      <td>No</td>\n",
              "      <td>White</td>\n",
              "      <td>return to school</td>\n",
              "      <td>Voluntarily Terminated</td>\n",
              "      <td>Production</td>\n",
              "      <td>Google Search</td>\n",
              "      <td>Fully Meets</td>\n",
              "      <td>1.128</td>\n",
              "      <td>4</td>\n",
              "      <td>0</td>\n",
              "      <td>0</td>\n",
              "      <td>2</td>\n",
              "    </tr>\n",
              "  </tbody>\n",
              "</table>\n",
              "</div>\n",
              "      <button class=\"colab-df-convert\" onclick=\"convertToInteractive('df-1a338414-2635-4a5c-8532-9e95c8d663d9')\"\n",
              "              title=\"Convert this dataframe to an interactive table.\"\n",
              "              style=\"display:none;\">\n",
              "        \n",
              "  <svg xmlns=\"http://www.w3.org/2000/svg\" height=\"24px\"viewBox=\"0 0 24 24\"\n",
              "       width=\"24px\">\n",
              "    <path d=\"M0 0h24v24H0V0z\" fill=\"none\"/>\n",
              "    <path d=\"M18.56 5.44l.94 2.06.94-2.06 2.06-.94-2.06-.94-.94-2.06-.94 2.06-2.06.94zm-11 1L8.5 8.5l.94-2.06 2.06-.94-2.06-.94L8.5 2.5l-.94 2.06-2.06.94zm10 10l.94 2.06.94-2.06 2.06-.94-2.06-.94-.94-2.06-.94 2.06-2.06.94z\"/><path d=\"M17.41 7.96l-1.37-1.37c-.4-.4-.92-.59-1.43-.59-.52 0-1.04.2-1.43.59L10.3 9.45l-7.72 7.72c-.78.78-.78 2.05 0 2.83L4 21.41c.39.39.9.59 1.41.59.51 0 1.02-.2 1.41-.59l7.78-7.78 2.81-2.81c.8-.78.8-2.07 0-2.86zM5.41 20L4 18.59l7.72-7.72 1.47 1.35L5.41 20z\"/>\n",
              "  </svg>\n",
              "      </button>\n",
              "      \n",
              "  <style>\n",
              "    .colab-df-container {\n",
              "      display:flex;\n",
              "      flex-wrap:wrap;\n",
              "      gap: 12px;\n",
              "    }\n",
              "\n",
              "    .colab-df-convert {\n",
              "      background-color: #E8F0FE;\n",
              "      border: none;\n",
              "      border-radius: 50%;\n",
              "      cursor: pointer;\n",
              "      display: none;\n",
              "      fill: #1967D2;\n",
              "      height: 32px;\n",
              "      padding: 0 0 0 0;\n",
              "      width: 32px;\n",
              "    }\n",
              "\n",
              "    .colab-df-convert:hover {\n",
              "      background-color: #E2EBFA;\n",
              "      box-shadow: 0px 1px 2px rgba(60, 64, 67, 0.3), 0px 1px 3px 1px rgba(60, 64, 67, 0.15);\n",
              "      fill: #174EA6;\n",
              "    }\n",
              "\n",
              "    [theme=dark] .colab-df-convert {\n",
              "      background-color: #3B4455;\n",
              "      fill: #D2E3FC;\n",
              "    }\n",
              "\n",
              "    [theme=dark] .colab-df-convert:hover {\n",
              "      background-color: #434B5C;\n",
              "      box-shadow: 0px 1px 3px 1px rgba(0, 0, 0, 0.15);\n",
              "      filter: drop-shadow(0px 1px 2px rgba(0, 0, 0, 0.3));\n",
              "      fill: #FFFFFF;\n",
              "    }\n",
              "  </style>\n",
              "\n",
              "      <script>\n",
              "        const buttonEl =\n",
              "          document.querySelector('#df-1a338414-2635-4a5c-8532-9e95c8d663d9 button.colab-df-convert');\n",
              "        buttonEl.style.display =\n",
              "          google.colab.kernel.accessAllowed ? 'block' : 'none';\n",
              "\n",
              "        async function convertToInteractive(key) {\n",
              "          const element = document.querySelector('#df-1a338414-2635-4a5c-8532-9e95c8d663d9');\n",
              "          const dataTable =\n",
              "            await google.colab.kernel.invokeFunction('convertToInteractive',\n",
              "                                                     [key], {});\n",
              "          if (!dataTable) return;\n",
              "\n",
              "          const docLinkHtml = 'Like what you see? Visit the ' +\n",
              "            '<a target=\"_blank\" href=https://colab.research.google.com/notebooks/data_table.ipynb>data table notebook</a>'\n",
              "            + ' to learn more about interactive tables.';\n",
              "          element.innerHTML = '';\n",
              "          dataTable['output_type'] = 'display_data';\n",
              "          await google.colab.output.renderOutput(dataTable, element);\n",
              "          const docLink = document.createElement('div');\n",
              "          docLink.innerHTML = docLinkHtml;\n",
              "          element.appendChild(docLink);\n",
              "        }\n",
              "      </script>\n",
              "    </div>\n",
              "  </div>\n",
              "  "
            ]
          },
          "metadata": {},
          "execution_count": 20
        }
      ],
      "source": [
        "pd.DataFrame(df.head())"
      ]
    },
    {
      "cell_type": "markdown",
      "metadata": {
        "id": "epJgh74kqM3N"
      },
      "source": [
        "# Feature Engineering "
      ]
    },
    {
      "cell_type": "code",
      "execution_count": 21,
      "metadata": {
        "colab": {
          "base_uri": "https://localhost:8080/"
        },
        "id": "TumOtNx5qM3N",
        "outputId": "f9757784-1431-462b-f7ed-50708c6bf8ee"
      },
      "outputs": [
        {
          "output_type": "stream",
          "name": "stdout",
          "text": [
            "\n",
            "Lable Encoding Applied On: GenderID\n",
            "New Value for GenderID  Variable: [0 1]\n",
            "Old Value for GenderID Variable: ['0' '1']\n",
            "\n",
            "Lable Encoding Applied On: EmpStatusID\n",
            "New Value for EmpStatusID  Variable: [0 1 2 3 4]\n",
            "Old Value for EmpStatusID Variable: ['1' '2' '3' '4' '5']\n",
            "\n",
            "Lable Encoding Applied On: DeptID\n",
            "New Value for DeptID  Variable: [0 1 2 3 4 5]\n",
            "Old Value for DeptID Variable: ['1' '2' '3' '4' '5' '6']\n",
            "\n",
            "Lable Encoding Applied On: PerfScoreID\n",
            "New Value for PerfScoreID  Variable: [0 1 2 3]\n",
            "Old Value for PerfScoreID Variable: ['1' '2' '3' '4']\n",
            "\n",
            "Lable Encoding Applied On: FromDiversityJobFairID\n",
            "New Value for FromDiversityJobFairID  Variable: [0 1]\n",
            "Old Value for FromDiversityJobFairID Variable: ['0' '1']\n",
            "\n",
            "Lable Encoding Applied On: Termd\n",
            "New Value for Termd  Variable: [0 1]\n",
            "Old Value for Termd Variable: ['0' '1']\n",
            "\n",
            "Lable Encoding Applied On: Position\n",
            "New Value for Position  Variable: [ 0  1  2  3  4  5  6  7  8  9 10 11 12 13 14 15 16 17 18 19 20 21 22 23\n",
            " 24 25 26 27 28 29 30 31]\n",
            "Old Value for Position Variable: ['Accountant I' 'Administrative Assistant' 'Area Sales Manager'\n",
            " 'BI Developer' 'BI Director' 'CIO' 'Data Analyst' 'Data Analyst '\n",
            " 'Data Architect' 'Database Administrator' 'Director of Operations'\n",
            " 'Director of Sales' 'Enterprise Architect' 'IT Director'\n",
            " 'IT Manager - DB' 'IT Manager - Infra' 'IT Manager - Support'\n",
            " 'IT Support' 'Network Engineer' 'President & CEO'\n",
            " 'Principal Data Architect' 'Production Manager' 'Production Technician I'\n",
            " 'Production Technician II' 'Sales Manager' 'Senior BI Developer'\n",
            " 'Shared Services Manager' 'Software Engineer'\n",
            " 'Software Engineering Manager' 'Sr. Accountant' 'Sr. DBA'\n",
            " 'Sr. Network Engineer']\n",
            "\n",
            "Lable Encoding Applied On: State\n",
            "New Value for State  Variable: [ 0  1  2  3  4  5  6  7  8  9 10 11 12 13 14 15 16 17 18 19 20 21 22 23\n",
            " 24 25 26 27]\n",
            "Old Value for State Variable: ['AL' 'AZ' 'CA' 'CO' 'CT' 'FL' 'GA' 'ID' 'IN' 'KY' 'MA' 'ME' 'MT' 'NC'\n",
            " 'ND' 'NH' 'NV' 'NY' 'OH' 'OR' 'PA' 'RI' 'TN' 'TX' 'UT' 'VA' 'VT' 'WA']\n",
            "\n",
            "Lable Encoding Applied On: Sex\n",
            "New Value for Sex  Variable: [0 1]\n",
            "Old Value for Sex Variable: ['F' 'M ']\n",
            "\n",
            "Lable Encoding Applied On: MaritalDesc\n",
            "New Value for MaritalDesc  Variable: [0 1 2 3 4]\n",
            "Old Value for MaritalDesc Variable: ['Divorced' 'Married' 'Separated' 'Single' 'Widowed']\n",
            "\n",
            "Lable Encoding Applied On: CitizenDesc\n",
            "New Value for CitizenDesc  Variable: [0 1 2]\n",
            "Old Value for CitizenDesc Variable: ['Eligible NonCitizen' 'Non-Citizen' 'US Citizen']\n",
            "\n",
            "Lable Encoding Applied On: HispanicLatino\n",
            "New Value for HispanicLatino  Variable: [0 1 2 3]\n",
            "Old Value for HispanicLatino Variable: ['No' 'Yes' 'no' 'yes']\n",
            "\n",
            "Lable Encoding Applied On: RaceDesc\n",
            "New Value for RaceDesc  Variable: [0 1 2 3 4 5]\n",
            "Old Value for RaceDesc Variable: ['American Indian or Alaska Native' 'Asian' 'Black or African American'\n",
            " 'Hispanic' 'Two or more races' 'White']\n",
            "\n",
            "Lable Encoding Applied On: TermReason\n",
            "New Value for TermReason  Variable: [ 0  1  2  3  4  5  6  7  8  9 10 11 12 13 14 15 16 17]\n",
            "Old Value for TermReason Variable: ['Another position' 'Fatal attraction' 'Learned that he is a gangster'\n",
            " 'N/A-StillEmployed' 'attendance' 'career change' 'gross misconduct'\n",
            " 'hours' 'maternity leave - did not return' 'medical issues' 'military'\n",
            " 'more money' 'no-call, no-show' 'performance' 'relocation out of area'\n",
            " 'retiring' 'return to school' 'unhappy']\n",
            "\n",
            "Lable Encoding Applied On: EmploymentStatus\n",
            "New Value for EmploymentStatus  Variable: [0 1 2]\n",
            "Old Value for EmploymentStatus Variable: ['Active' 'Terminated for Cause' 'Voluntarily Terminated']\n",
            "\n",
            "Lable Encoding Applied On: Department\n",
            "New Value for Department  Variable: [0 1 2 3 4 5]\n",
            "Old Value for Department Variable: ['Admin Offices' 'Executive Office' 'IT/IS' 'Production       ' 'Sales'\n",
            " 'Software Engineering']\n",
            "\n",
            "Lable Encoding Applied On: RecruitmentSource\n",
            "New Value for RecruitmentSource  Variable: [0 1 2 3 4 5 6 7 8]\n",
            "Old Value for RecruitmentSource Variable: ['CareerBuilder' 'Diversity Job Fair' 'Employee Referral' 'Google Search'\n",
            " 'Indeed' 'LinkedIn' 'On-line Web application' 'Other' 'Website']\n",
            "\n",
            "Lable Encoding Applied On: PerformanceScore\n",
            "New Value for PerformanceScore  Variable: [0 1 2 3]\n",
            "Old Value for PerformanceScore Variable: ['Exceeds' 'Fully Meets' 'Needs Improvement' 'PIP']\n",
            "\n",
            "Lable Encoding Applied On: EmpSatisfaction\n",
            "New Value for EmpSatisfaction  Variable: [0 1 2 3 4]\n",
            "Old Value for EmpSatisfaction Variable: ['1' '2' '3' '4' '5']\n",
            "\n",
            "Lable Encoding Applied On: SpecialProjectsCount\n",
            "New Value for SpecialProjectsCount  Variable: [0 1 2 3 4 5 6 7 8]\n",
            "Old Value for SpecialProjectsCount Variable: ['0' '1' '2' '3' '4' '5' '6' '7' '8']\n",
            "\n",
            "Lable Encoding Applied On: DaysLateLast30\n",
            "New Value for DaysLateLast30  Variable: [0 1 2 3 4 5 6]\n",
            "Old Value for DaysLateLast30 Variable: ['0' '1' '2' '3' '4' '5' '6']\n",
            "\n",
            "Lable Encoding Applied On: Absences\n",
            "New Value for Absences  Variable: [ 0  1  2  3  4  5  6  7  8  9 10 11 12 13 14 15 16 17 18 19]\n",
            "Old Value for Absences Variable: ['1' '10' '11' '12' '13' '14' '15' '16' '17' '18' '19' '2' '20' '3' '4'\n",
            " '5' '6' '7' '8' '9']\n"
          ]
        }
      ],
      "source": [
        "if FE == 'LableEncodeing':\n",
        "    df = df.apply(lambda x: AllObjLabelEncoder(x))"
      ]
    },
    {
      "cell_type": "code",
      "execution_count": 22,
      "metadata": {
        "colab": {
          "base_uri": "https://localhost:8080/",
          "height": 270
        },
        "id": "ZwH3_UK2qM3O",
        "outputId": "294875ee-6230-414d-cfd0-b797738a084a"
      },
      "outputs": [
        {
          "output_type": "execute_result",
          "data": {
            "text/plain": [
              "   GenderID  EmpStatusID  DeptID  PerfScoreID  FromDiversityJobFairID  Salary  \\\n",
              "0         1            0       4            3                       0  -0.259   \n",
              "1         1            4       2            2                       0   1.410   \n",
              "2         0            4       4            2                       0  -0.162   \n",
              "3         0            0       4            2                       0  -0.160   \n",
              "4         0            4       4            2                       0  -0.724   \n",
              "\n",
              "   Termd  Position  State  Sex  MaritalDesc  CitizenDesc  HispanicLatino  \\\n",
              "0      0        22     10    1            3            2               0   \n",
              "1      1        30     10    1            1            2               0   \n",
              "2      1        23     10    0            1            2               0   \n",
              "3      0        22     10    0            1            2               0   \n",
              "4      1        22     10    0            0            2               0   \n",
              "\n",
              "   RaceDesc  TermReason  EmploymentStatus  Department  RecruitmentSource  \\\n",
              "0         5           3                 0           3                  5   \n",
              "1         5           5                 2           2                  4   \n",
              "2         5           7                 2           3                  5   \n",
              "3         5           3                 0           3                  4   \n",
              "4         5          16                 2           3                  3   \n",
              "\n",
              "   PerformanceScore  EngagementSurvey  EmpSatisfaction  SpecialProjectsCount  \\\n",
              "0                 0             0.621                4                     0   \n",
              "1                 1             1.078                2                     6   \n",
              "2                 1            -1.382                2                     0   \n",
              "3                 1             0.926                4                     0   \n",
              "4                 1             1.128                3                     0   \n",
              "\n",
              "   DaysLateLast30  Absences  \n",
              "0               0         0  \n",
              "1               0         8  \n",
              "2               0        13  \n",
              "3               0         6  \n",
              "4               0        11  "
            ],
            "text/html": [
              "\n",
              "  <div id=\"df-5da56ee1-52a4-43a0-a5a8-6fbd535b3f01\">\n",
              "    <div class=\"colab-df-container\">\n",
              "      <div>\n",
              "<style scoped>\n",
              "    .dataframe tbody tr th:only-of-type {\n",
              "        vertical-align: middle;\n",
              "    }\n",
              "\n",
              "    .dataframe tbody tr th {\n",
              "        vertical-align: top;\n",
              "    }\n",
              "\n",
              "    .dataframe thead th {\n",
              "        text-align: right;\n",
              "    }\n",
              "</style>\n",
              "<table border=\"1\" class=\"dataframe\">\n",
              "  <thead>\n",
              "    <tr style=\"text-align: right;\">\n",
              "      <th></th>\n",
              "      <th>GenderID</th>\n",
              "      <th>EmpStatusID</th>\n",
              "      <th>DeptID</th>\n",
              "      <th>PerfScoreID</th>\n",
              "      <th>FromDiversityJobFairID</th>\n",
              "      <th>Salary</th>\n",
              "      <th>Termd</th>\n",
              "      <th>Position</th>\n",
              "      <th>State</th>\n",
              "      <th>Sex</th>\n",
              "      <th>MaritalDesc</th>\n",
              "      <th>CitizenDesc</th>\n",
              "      <th>HispanicLatino</th>\n",
              "      <th>RaceDesc</th>\n",
              "      <th>TermReason</th>\n",
              "      <th>EmploymentStatus</th>\n",
              "      <th>Department</th>\n",
              "      <th>RecruitmentSource</th>\n",
              "      <th>PerformanceScore</th>\n",
              "      <th>EngagementSurvey</th>\n",
              "      <th>EmpSatisfaction</th>\n",
              "      <th>SpecialProjectsCount</th>\n",
              "      <th>DaysLateLast30</th>\n",
              "      <th>Absences</th>\n",
              "    </tr>\n",
              "  </thead>\n",
              "  <tbody>\n",
              "    <tr>\n",
              "      <th>0</th>\n",
              "      <td>1</td>\n",
              "      <td>0</td>\n",
              "      <td>4</td>\n",
              "      <td>3</td>\n",
              "      <td>0</td>\n",
              "      <td>-0.259</td>\n",
              "      <td>0</td>\n",
              "      <td>22</td>\n",
              "      <td>10</td>\n",
              "      <td>1</td>\n",
              "      <td>3</td>\n",
              "      <td>2</td>\n",
              "      <td>0</td>\n",
              "      <td>5</td>\n",
              "      <td>3</td>\n",
              "      <td>0</td>\n",
              "      <td>3</td>\n",
              "      <td>5</td>\n",
              "      <td>0</td>\n",
              "      <td>0.621</td>\n",
              "      <td>4</td>\n",
              "      <td>0</td>\n",
              "      <td>0</td>\n",
              "      <td>0</td>\n",
              "    </tr>\n",
              "    <tr>\n",
              "      <th>1</th>\n",
              "      <td>1</td>\n",
              "      <td>4</td>\n",
              "      <td>2</td>\n",
              "      <td>2</td>\n",
              "      <td>0</td>\n",
              "      <td>1.410</td>\n",
              "      <td>1</td>\n",
              "      <td>30</td>\n",
              "      <td>10</td>\n",
              "      <td>1</td>\n",
              "      <td>1</td>\n",
              "      <td>2</td>\n",
              "      <td>0</td>\n",
              "      <td>5</td>\n",
              "      <td>5</td>\n",
              "      <td>2</td>\n",
              "      <td>2</td>\n",
              "      <td>4</td>\n",
              "      <td>1</td>\n",
              "      <td>1.078</td>\n",
              "      <td>2</td>\n",
              "      <td>6</td>\n",
              "      <td>0</td>\n",
              "      <td>8</td>\n",
              "    </tr>\n",
              "    <tr>\n",
              "      <th>2</th>\n",
              "      <td>0</td>\n",
              "      <td>4</td>\n",
              "      <td>4</td>\n",
              "      <td>2</td>\n",
              "      <td>0</td>\n",
              "      <td>-0.162</td>\n",
              "      <td>1</td>\n",
              "      <td>23</td>\n",
              "      <td>10</td>\n",
              "      <td>0</td>\n",
              "      <td>1</td>\n",
              "      <td>2</td>\n",
              "      <td>0</td>\n",
              "      <td>5</td>\n",
              "      <td>7</td>\n",
              "      <td>2</td>\n",
              "      <td>3</td>\n",
              "      <td>5</td>\n",
              "      <td>1</td>\n",
              "      <td>-1.382</td>\n",
              "      <td>2</td>\n",
              "      <td>0</td>\n",
              "      <td>0</td>\n",
              "      <td>13</td>\n",
              "    </tr>\n",
              "    <tr>\n",
              "      <th>3</th>\n",
              "      <td>0</td>\n",
              "      <td>0</td>\n",
              "      <td>4</td>\n",
              "      <td>2</td>\n",
              "      <td>0</td>\n",
              "      <td>-0.160</td>\n",
              "      <td>0</td>\n",
              "      <td>22</td>\n",
              "      <td>10</td>\n",
              "      <td>0</td>\n",
              "      <td>1</td>\n",
              "      <td>2</td>\n",
              "      <td>0</td>\n",
              "      <td>5</td>\n",
              "      <td>3</td>\n",
              "      <td>0</td>\n",
              "      <td>3</td>\n",
              "      <td>4</td>\n",
              "      <td>1</td>\n",
              "      <td>0.926</td>\n",
              "      <td>4</td>\n",
              "      <td>0</td>\n",
              "      <td>0</td>\n",
              "      <td>6</td>\n",
              "    </tr>\n",
              "    <tr>\n",
              "      <th>4</th>\n",
              "      <td>0</td>\n",
              "      <td>4</td>\n",
              "      <td>4</td>\n",
              "      <td>2</td>\n",
              "      <td>0</td>\n",
              "      <td>-0.724</td>\n",
              "      <td>1</td>\n",
              "      <td>22</td>\n",
              "      <td>10</td>\n",
              "      <td>0</td>\n",
              "      <td>0</td>\n",
              "      <td>2</td>\n",
              "      <td>0</td>\n",
              "      <td>5</td>\n",
              "      <td>16</td>\n",
              "      <td>2</td>\n",
              "      <td>3</td>\n",
              "      <td>3</td>\n",
              "      <td>1</td>\n",
              "      <td>1.128</td>\n",
              "      <td>3</td>\n",
              "      <td>0</td>\n",
              "      <td>0</td>\n",
              "      <td>11</td>\n",
              "    </tr>\n",
              "  </tbody>\n",
              "</table>\n",
              "</div>\n",
              "      <button class=\"colab-df-convert\" onclick=\"convertToInteractive('df-5da56ee1-52a4-43a0-a5a8-6fbd535b3f01')\"\n",
              "              title=\"Convert this dataframe to an interactive table.\"\n",
              "              style=\"display:none;\">\n",
              "        \n",
              "  <svg xmlns=\"http://www.w3.org/2000/svg\" height=\"24px\"viewBox=\"0 0 24 24\"\n",
              "       width=\"24px\">\n",
              "    <path d=\"M0 0h24v24H0V0z\" fill=\"none\"/>\n",
              "    <path d=\"M18.56 5.44l.94 2.06.94-2.06 2.06-.94-2.06-.94-.94-2.06-.94 2.06-2.06.94zm-11 1L8.5 8.5l.94-2.06 2.06-.94-2.06-.94L8.5 2.5l-.94 2.06-2.06.94zm10 10l.94 2.06.94-2.06 2.06-.94-2.06-.94-.94-2.06-.94 2.06-2.06.94z\"/><path d=\"M17.41 7.96l-1.37-1.37c-.4-.4-.92-.59-1.43-.59-.52 0-1.04.2-1.43.59L10.3 9.45l-7.72 7.72c-.78.78-.78 2.05 0 2.83L4 21.41c.39.39.9.59 1.41.59.51 0 1.02-.2 1.41-.59l7.78-7.78 2.81-2.81c.8-.78.8-2.07 0-2.86zM5.41 20L4 18.59l7.72-7.72 1.47 1.35L5.41 20z\"/>\n",
              "  </svg>\n",
              "      </button>\n",
              "      \n",
              "  <style>\n",
              "    .colab-df-container {\n",
              "      display:flex;\n",
              "      flex-wrap:wrap;\n",
              "      gap: 12px;\n",
              "    }\n",
              "\n",
              "    .colab-df-convert {\n",
              "      background-color: #E8F0FE;\n",
              "      border: none;\n",
              "      border-radius: 50%;\n",
              "      cursor: pointer;\n",
              "      display: none;\n",
              "      fill: #1967D2;\n",
              "      height: 32px;\n",
              "      padding: 0 0 0 0;\n",
              "      width: 32px;\n",
              "    }\n",
              "\n",
              "    .colab-df-convert:hover {\n",
              "      background-color: #E2EBFA;\n",
              "      box-shadow: 0px 1px 2px rgba(60, 64, 67, 0.3), 0px 1px 3px 1px rgba(60, 64, 67, 0.15);\n",
              "      fill: #174EA6;\n",
              "    }\n",
              "\n",
              "    [theme=dark] .colab-df-convert {\n",
              "      background-color: #3B4455;\n",
              "      fill: #D2E3FC;\n",
              "    }\n",
              "\n",
              "    [theme=dark] .colab-df-convert:hover {\n",
              "      background-color: #434B5C;\n",
              "      box-shadow: 0px 1px 3px 1px rgba(0, 0, 0, 0.15);\n",
              "      filter: drop-shadow(0px 1px 2px rgba(0, 0, 0, 0.3));\n",
              "      fill: #FFFFFF;\n",
              "    }\n",
              "  </style>\n",
              "\n",
              "      <script>\n",
              "        const buttonEl =\n",
              "          document.querySelector('#df-5da56ee1-52a4-43a0-a5a8-6fbd535b3f01 button.colab-df-convert');\n",
              "        buttonEl.style.display =\n",
              "          google.colab.kernel.accessAllowed ? 'block' : 'none';\n",
              "\n",
              "        async function convertToInteractive(key) {\n",
              "          const element = document.querySelector('#df-5da56ee1-52a4-43a0-a5a8-6fbd535b3f01');\n",
              "          const dataTable =\n",
              "            await google.colab.kernel.invokeFunction('convertToInteractive',\n",
              "                                                     [key], {});\n",
              "          if (!dataTable) return;\n",
              "\n",
              "          const docLinkHtml = 'Like what you see? Visit the ' +\n",
              "            '<a target=\"_blank\" href=https://colab.research.google.com/notebooks/data_table.ipynb>data table notebook</a>'\n",
              "            + ' to learn more about interactive tables.';\n",
              "          element.innerHTML = '';\n",
              "          dataTable['output_type'] = 'display_data';\n",
              "          await google.colab.output.renderOutput(dataTable, element);\n",
              "          const docLink = document.createElement('div');\n",
              "          docLink.innerHTML = docLinkHtml;\n",
              "          element.appendChild(docLink);\n",
              "        }\n",
              "      </script>\n",
              "    </div>\n",
              "  </div>\n",
              "  "
            ]
          },
          "metadata": {},
          "execution_count": 22
        }
      ],
      "source": [
        "pd.DataFrame(df.head())"
      ]
    },
    {
      "cell_type": "markdown",
      "metadata": {
        "id": "E0gzoU8KqM3O"
      },
      "source": [
        "# Feature Selection"
      ]
    },
    {
      "cell_type": "code",
      "execution_count": 23,
      "metadata": {
        "colab": {
          "base_uri": "https://localhost:8080/"
        },
        "id": "PJfdfGLYqM3O",
        "outputId": "66c5dfec-91f8-4da3-cd88-404a5410dd97"
      },
      "outputs": [
        {
          "output_type": "stream",
          "name": "stdout",
          "text": [
            "All the Num Variables: ['GenderID', 'EmpStatusID', 'DeptID', 'PerfScoreID', 'FromDiversityJobFairID', 'Salary', 'Termd', 'Position', 'State', 'Sex', 'MaritalDesc', 'CitizenDesc', 'HispanicLatino', 'RaceDesc', 'TermReason', 'EmploymentStatus', 'Department', 'RecruitmentSource', 'PerformanceScore', 'EngagementSurvey', 'EmpSatisfaction', 'SpecialProjectsCount', 'DaysLateLast30', 'Absences']\n",
            "\n",
            "All the obj Variables: []\n"
          ]
        },
        {
          "output_type": "stream",
          "name": "stderr",
          "text": [
            "[Parallel(n_jobs=1)]: Using backend SequentialBackend with 1 concurrent workers.\n",
            "[Parallel(n_jobs=1)]: Done   1 out of   1 | elapsed:    2.1s remaining:    0.0s\n",
            "[Parallel(n_jobs=1)]: Done  23 out of  23 | elapsed:   29.9s finished\n",
            "\n",
            "[2022-07-20 05:27:47] Features: 1/23 -- score: -0.35494236536607787[Parallel(n_jobs=1)]: Using backend SequentialBackend with 1 concurrent workers.\n",
            "[Parallel(n_jobs=1)]: Done   1 out of   1 | elapsed:    1.3s remaining:    0.0s\n",
            "[Parallel(n_jobs=1)]: Done  22 out of  22 | elapsed:   29.3s finished\n",
            "\n",
            "[2022-07-20 05:28:16] Features: 2/23 -- score: -0.3285207412644687[Parallel(n_jobs=1)]: Using backend SequentialBackend with 1 concurrent workers.\n",
            "[Parallel(n_jobs=1)]: Done   1 out of   1 | elapsed:    1.3s remaining:    0.0s\n",
            "[Parallel(n_jobs=1)]: Done  21 out of  21 | elapsed:   27.4s finished\n",
            "\n",
            "[2022-07-20 05:28:44] Features: 3/23 -- score: -0.32429112892790246[Parallel(n_jobs=1)]: Using backend SequentialBackend with 1 concurrent workers.\n",
            "[Parallel(n_jobs=1)]: Done   1 out of   1 | elapsed:    1.3s remaining:    0.0s\n",
            "[Parallel(n_jobs=1)]: Done  20 out of  20 | elapsed:   26.2s finished\n",
            "\n",
            "[2022-07-20 05:29:10] Features: 4/23 -- score: -0.32158720352391323[Parallel(n_jobs=1)]: Using backend SequentialBackend with 1 concurrent workers.\n",
            "[Parallel(n_jobs=1)]: Done   1 out of   1 | elapsed:    1.3s remaining:    0.0s\n",
            "[Parallel(n_jobs=1)]: Done  19 out of  19 | elapsed:   25.0s finished\n",
            "\n",
            "[2022-07-20 05:29:35] Features: 5/23 -- score: -0.32618886318880425[Parallel(n_jobs=1)]: Using backend SequentialBackend with 1 concurrent workers.\n",
            "[Parallel(n_jobs=1)]: Done   1 out of   1 | elapsed:    1.3s remaining:    0.0s\n",
            "[Parallel(n_jobs=1)]: Done  18 out of  18 | elapsed:   24.5s finished\n",
            "\n",
            "[2022-07-20 05:29:59] Features: 6/23 -- score: -0.33670972962468204[Parallel(n_jobs=1)]: Using backend SequentialBackend with 1 concurrent workers.\n",
            "[Parallel(n_jobs=1)]: Done   1 out of   1 | elapsed:    1.9s remaining:    0.0s\n",
            "[Parallel(n_jobs=1)]: Done  17 out of  17 | elapsed:   23.4s finished\n",
            "\n",
            "[2022-07-20 05:30:23] Features: 7/23 -- score: -0.3471532555002825[Parallel(n_jobs=1)]: Using backend SequentialBackend with 1 concurrent workers.\n",
            "[Parallel(n_jobs=1)]: Done   1 out of   1 | elapsed:    1.3s remaining:    0.0s\n",
            "[Parallel(n_jobs=1)]: Done  16 out of  16 | elapsed:   21.4s finished\n",
            "\n",
            "[2022-07-20 05:30:44] Features: 8/23 -- score: -0.3568469734825408[Parallel(n_jobs=1)]: Using backend SequentialBackend with 1 concurrent workers.\n",
            "[Parallel(n_jobs=1)]: Done   1 out of   1 | elapsed:    1.3s remaining:    0.0s\n",
            "[Parallel(n_jobs=1)]: Done  15 out of  15 | elapsed:   20.5s finished\n",
            "\n",
            "[2022-07-20 05:31:05] Features: 9/23 -- score: -0.35287011104377486[Parallel(n_jobs=1)]: Using backend SequentialBackend with 1 concurrent workers.\n",
            "[Parallel(n_jobs=1)]: Done   1 out of   1 | elapsed:    1.3s remaining:    0.0s\n",
            "[Parallel(n_jobs=1)]: Done  14 out of  14 | elapsed:   18.8s finished\n",
            "\n",
            "[2022-07-20 05:31:23] Features: 10/23 -- score: -0.36504280858579674[Parallel(n_jobs=1)]: Using backend SequentialBackend with 1 concurrent workers.\n",
            "[Parallel(n_jobs=1)]: Done   1 out of   1 | elapsed:    1.3s remaining:    0.0s\n",
            "[Parallel(n_jobs=1)]: Done  13 out of  13 | elapsed:   17.6s finished\n",
            "\n",
            "[2022-07-20 05:31:41] Features: 11/23 -- score: -0.3644923010634047[Parallel(n_jobs=1)]: Using backend SequentialBackend with 1 concurrent workers.\n",
            "[Parallel(n_jobs=1)]: Done   1 out of   1 | elapsed:    1.3s remaining:    0.0s\n",
            "[Parallel(n_jobs=1)]: Done  12 out of  12 | elapsed:   16.3s finished\n",
            "\n",
            "[2022-07-20 05:31:57] Features: 12/23 -- score: -0.3757240594752127[Parallel(n_jobs=1)]: Using backend SequentialBackend with 1 concurrent workers.\n",
            "[Parallel(n_jobs=1)]: Done   1 out of   1 | elapsed:    1.4s remaining:    0.0s\n",
            "[Parallel(n_jobs=1)]: Done  11 out of  11 | elapsed:   15.5s finished\n",
            "\n",
            "[2022-07-20 05:32:13] Features: 13/23 -- score: -0.3784247347444744[Parallel(n_jobs=1)]: Using backend SequentialBackend with 1 concurrent workers.\n",
            "[Parallel(n_jobs=1)]: Done   1 out of   1 | elapsed:    1.4s remaining:    0.0s\n",
            "[Parallel(n_jobs=1)]: Done  10 out of  10 | elapsed:   13.8s finished\n",
            "\n",
            "[2022-07-20 05:32:27] Features: 14/23 -- score: -0.38405467953267025[Parallel(n_jobs=1)]: Using backend SequentialBackend with 1 concurrent workers.\n",
            "[Parallel(n_jobs=1)]: Done   1 out of   1 | elapsed:    1.4s remaining:    0.0s\n",
            "[Parallel(n_jobs=1)]: Done   9 out of   9 | elapsed:   12.4s finished\n",
            "\n",
            "[2022-07-20 05:32:39] Features: 15/23 -- score: -0.4016224637099805[Parallel(n_jobs=1)]: Using backend SequentialBackend with 1 concurrent workers.\n",
            "[Parallel(n_jobs=1)]: Done   1 out of   1 | elapsed:    1.4s remaining:    0.0s\n",
            "[Parallel(n_jobs=1)]: Done   8 out of   8 | elapsed:   11.2s finished\n",
            "\n",
            "[2022-07-20 05:32:50] Features: 16/23 -- score: -0.418534608183058[Parallel(n_jobs=1)]: Using backend SequentialBackend with 1 concurrent workers.\n",
            "[Parallel(n_jobs=1)]: Done   1 out of   1 | elapsed:    1.4s remaining:    0.0s\n",
            "[Parallel(n_jobs=1)]: Done   7 out of   7 | elapsed:    9.8s finished\n",
            "\n",
            "[2022-07-20 05:33:00] Features: 17/23 -- score: -0.4485774764649707[Parallel(n_jobs=1)]: Using backend SequentialBackend with 1 concurrent workers.\n",
            "[Parallel(n_jobs=1)]: Done   1 out of   1 | elapsed:    1.4s remaining:    0.0s\n",
            "[Parallel(n_jobs=1)]: Done   6 out of   6 | elapsed:    8.4s finished\n",
            "\n",
            "[2022-07-20 05:33:08] Features: 18/23 -- score: -0.47706749650801317[Parallel(n_jobs=1)]: Using backend SequentialBackend with 1 concurrent workers.\n",
            "[Parallel(n_jobs=1)]: Done   1 out of   1 | elapsed:    1.4s remaining:    0.0s\n",
            "[Parallel(n_jobs=1)]: Done   5 out of   5 | elapsed:    7.2s finished\n",
            "\n",
            "[2022-07-20 05:33:16] Features: 19/23 -- score: -0.502917615720657[Parallel(n_jobs=1)]: Using backend SequentialBackend with 1 concurrent workers.\n",
            "[Parallel(n_jobs=1)]: Done   1 out of   1 | elapsed:    1.5s remaining:    0.0s\n",
            "[Parallel(n_jobs=1)]: Done   4 out of   4 | elapsed:    5.8s finished\n",
            "\n",
            "[2022-07-20 05:33:21] Features: 20/23 -- score: -0.5382306600714978[Parallel(n_jobs=1)]: Using backend SequentialBackend with 1 concurrent workers.\n",
            "[Parallel(n_jobs=1)]: Done   1 out of   1 | elapsed:    1.5s remaining:    0.0s\n",
            "[Parallel(n_jobs=1)]: Done   3 out of   3 | elapsed:    4.3s finished\n",
            "\n",
            "[2022-07-20 05:33:26] Features: 21/23 -- score: -0.5702968280543269[Parallel(n_jobs=1)]: Using backend SequentialBackend with 1 concurrent workers.\n",
            "[Parallel(n_jobs=1)]: Done   1 out of   1 | elapsed:    1.5s remaining:    0.0s\n",
            "[Parallel(n_jobs=1)]: Done   2 out of   2 | elapsed:    2.9s finished\n",
            "\n",
            "[2022-07-20 05:33:29] Features: 22/23 -- score: -0.5865534081258348[Parallel(n_jobs=1)]: Using backend SequentialBackend with 1 concurrent workers.\n"
          ]
        },
        {
          "output_type": "stream",
          "name": "stdout",
          "text": [
            "\n",
            "Most Variables Can Effect The Target Variables:  ['GenderID', 'Position', 'EmpSatisfaction', 'SpecialProjectsCount']\n",
            "\n",
            "With Highest Score:  -0.32158720352391323\n",
            "\n",
            "All the Variables Selected:  ['GenderID', 'Position', 'EmpSatisfaction', 'SpecialProjectsCount', 'Salary']\n"
          ]
        },
        {
          "output_type": "stream",
          "name": "stderr",
          "text": [
            "[Parallel(n_jobs=1)]: Done   1 out of   1 | elapsed:    1.5s remaining:    0.0s\n",
            "[Parallel(n_jobs=1)]: Done   1 out of   1 | elapsed:    1.5s finished\n",
            "\n",
            "[2022-07-20 05:33:30] Features: 23/23 -- score: -0.6435850367969191"
          ]
        }
      ],
      "source": [
        "fs = None\n",
        "\n",
        "if FS == 'Forward':\n",
        "    df, fs = Feature_selection_forward(df, target)"
      ]
    },
    {
      "cell_type": "code",
      "execution_count": 24,
      "metadata": {
        "colab": {
          "base_uri": "https://localhost:8080/",
          "height": 1000
        },
        "id": "pkW7pUtjqM3O",
        "outputId": "97b16a62-6eec-492f-e359-9f2f6fe554f8"
      },
      "outputs": [
        {
          "output_type": "execute_result",
          "data": {
            "text/plain": [
              "                                                                           feature_idx  \\\n",
              "1                                                                                 (6,)   \n",
              "2                                                                              (6, 20)   \n",
              "3                                                                          (6, 19, 20)   \n",
              "4                                                                       (0, 6, 19, 20)   \n",
              "5                                                                    (0, 6, 8, 19, 20)   \n",
              "6                                                                 (0, 6, 7, 8, 19, 20)   \n",
              "7                                                              (0, 4, 6, 7, 8, 19, 20)   \n",
              "8                                                          (0, 4, 6, 7, 8, 10, 19, 20)   \n",
              "9                                                       (0, 1, 4, 6, 7, 8, 10, 19, 20)   \n",
              "10                                                   (0, 1, 4, 5, 6, 7, 8, 10, 19, 20)   \n",
              "11                                               (0, 1, 4, 5, 6, 7, 8, 10, 14, 19, 20)   \n",
              "12                                           (0, 1, 4, 5, 6, 7, 8, 10, 13, 14, 19, 20)   \n",
              "13                                       (0, 1, 4, 5, 6, 7, 8, 10, 13, 14, 19, 20, 21)   \n",
              "14                                   (0, 1, 4, 5, 6, 7, 8, 10, 12, 13, 14, 19, 20, 21)   \n",
              "15                                (0, 1, 4, 5, 6, 7, 8, 9, 10, 12, 13, 14, 19, 20, 21)   \n",
              "16                            (0, 1, 4, 5, 6, 7, 8, 9, 10, 11, 12, 13, 14, 19, 20, 21)   \n",
              "17                        (0, 1, 4, 5, 6, 7, 8, 9, 10, 11, 12, 13, 14, 16, 19, 20, 21)   \n",
              "18                    (0, 1, 4, 5, 6, 7, 8, 9, 10, 11, 12, 13, 14, 16, 19, 20, 21, 22)   \n",
              "19                (0, 1, 4, 5, 6, 7, 8, 9, 10, 11, 12, 13, 14, 15, 16, 19, 20, 21, 22)   \n",
              "20            (0, 1, 4, 5, 6, 7, 8, 9, 10, 11, 12, 13, 14, 15, 16, 18, 19, 20, 21, 22)   \n",
              "21        (0, 1, 4, 5, 6, 7, 8, 9, 10, 11, 12, 13, 14, 15, 16, 17, 18, 19, 20, 21, 22)   \n",
              "22     (0, 1, 3, 4, 5, 6, 7, 8, 9, 10, 11, 12, 13, 14, 15, 16, 17, 18, 19, 20, 21, 22)   \n",
              "23  (0, 1, 2, 3, 4, 5, 6, 7, 8, 9, 10, 11, 12, 13, 14, 15, 16, 17, 18, 19, 20, 21, 22)   \n",
              "\n",
              "                                                                                                        cv_scores  \\\n",
              "1     [-0.278972115195286, -0.08297471382569623, -1.2457024859659247, -0.07804804168150087, -0.08901447016198175]   \n",
              "2      [-0.25283039743035135, -0.1030746475425236, -1.141573430707151, -0.08193304599359279, -0.0631921846487246]   \n",
              "3    [-0.21915456848356296, -0.11417691631453247, -1.098599948284532, -0.10854643967274728, -0.08097777188413753]   \n",
              "4   [-0.21710282129962752, -0.11275452250109075, -1.0994090191371744, -0.09882984645445968, -0.07983980822721366]   \n",
              "5     [-0.21756736818512676, -0.1148005093933853, -1.098785923408138, -0.11168281869715245, -0.08810769626021879]   \n",
              "6     [-0.2604118150744897, -0.11921009216470355, -1.115434653536898, -0.10101055981246196, -0.08748152753485676]   \n",
              "7   [-0.27674716111477965, -0.12602959166584696, -1.1442155056615795, -0.10748278156901646, -0.08129123749018972]   \n",
              "8      [-0.3163407888192998, -0.1393734479089405, -1.157796879926292, -0.08731626289646713, -0.08340748786170432]   \n",
              "9     [-0.28770587656433977, -0.1474769353666114, -1.1398808403523295, -0.09177560429168184, -0.0975112986439117]   \n",
              "10    [-0.29800340112674417, -0.156519072407604, -1.1796911495561424, -0.10166131002352306, -0.08933910981496991]   \n",
              "11   [-0.28902409808170537, -0.17106343924432824, -1.1541732231534843, -0.10912695624983043, -0.0990737885876751]   \n",
              "12   [-0.28404468170053865, -0.1706205315747133, -1.2150886914618864, -0.11009138069750542, -0.09877501194141962]   \n",
              "13   [-0.34135632768444607, -0.15033331346883483, -1.176019703093325, -0.12229237051036912, -0.10212195896539691]   \n",
              "14  [-0.32802914884229895, -0.14763130117018153, -1.2543672482290757, -0.09230613525385595, -0.09793956416793911]   \n",
              "15    [-0.3188060823668614, -0.16980538695408906, -1.306879374358467, -0.09641300738567479, -0.11620846748481015]   \n",
              "16  [-0.44806746709783046, -0.15854671408359267, -1.2869233416246824, -0.09943936007716292, -0.09969615803202167]   \n",
              "17   [-0.48299629278089584, -0.17071544475882708, -1.3262288755430156, -0.1344010286348389, -0.12854574060727625]   \n",
              "18     [-0.49152961918164384, -0.1957157711145988, -1.3426394454494306, -0.201376719972054, -0.15407592682233875]   \n",
              "19     [-0.5017858273939195, -0.1994758172946421, -1.4658731256010007, -0.14447469655829862, -0.2029786117554233]   \n",
              "20     [-0.5304435813653261, -0.23467228760472117, -1.5180746139892778, -0.1446396009587453, -0.2633232164394185]   \n",
              "21    [-0.5552467345265515, -0.20569405790534304, -1.6822616518731808, -0.14256550033186935, -0.2657161956346898]   \n",
              "22    [-0.5686680469790691, -0.22339654068595474, -1.7338048692522512, -0.14278059319858494, -0.2641169905133139]   \n",
              "23      [-0.5903671981744095, -0.2511579275159487, -1.5378122185337182, -0.5442998494178137, -0.2942879903427056]   \n",
              "\n",
              "   avg_score  \\\n",
              "1     -0.355   \n",
              "2     -0.329   \n",
              "3     -0.324   \n",
              "4     -0.322   \n",
              "5     -0.326   \n",
              "6     -0.337   \n",
              "7     -0.347   \n",
              "8     -0.357   \n",
              "9     -0.353   \n",
              "10    -0.365   \n",
              "11    -0.364   \n",
              "12    -0.376   \n",
              "13    -0.378   \n",
              "14    -0.384   \n",
              "15    -0.402   \n",
              "16    -0.419   \n",
              "17    -0.449   \n",
              "18    -0.477   \n",
              "19    -0.503   \n",
              "20    -0.538   \n",
              "21    -0.570   \n",
              "22    -0.587   \n",
              "23    -0.644   \n",
              "\n",
              "                                                                                                                                                                                              feature_names  \\\n",
              "1                                                                                                                                                                                               (Position,)   \n",
              "2                                                                                                                                                                          (Position, SpecialProjectsCount)   \n",
              "3                                                                                                                                                         (Position, EmpSatisfaction, SpecialProjectsCount)   \n",
              "4                                                                                                                                               (GenderID, Position, EmpSatisfaction, SpecialProjectsCount)   \n",
              "5                                                                                                                                          (GenderID, Position, Sex, EmpSatisfaction, SpecialProjectsCount)   \n",
              "6                                                                                                                                   (GenderID, Position, State, Sex, EmpSatisfaction, SpecialProjectsCount)   \n",
              "7                                                                                                           (GenderID, FromDiversityJobFairID, Position, State, Sex, EmpSatisfaction, SpecialProjectsCount)   \n",
              "8                                                                                              (GenderID, FromDiversityJobFairID, Position, State, Sex, CitizenDesc, EmpSatisfaction, SpecialProjectsCount)   \n",
              "9                                                                                 (GenderID, EmpStatusID, FromDiversityJobFairID, Position, State, Sex, CitizenDesc, EmpSatisfaction, SpecialProjectsCount)   \n",
              "10                                                                         (GenderID, EmpStatusID, FromDiversityJobFairID, Termd, Position, State, Sex, CitizenDesc, EmpSatisfaction, SpecialProjectsCount)   \n",
              "11                                                       (GenderID, EmpStatusID, FromDiversityJobFairID, Termd, Position, State, Sex, CitizenDesc, EmploymentStatus, EmpSatisfaction, SpecialProjectsCount)   \n",
              "12                                           (GenderID, EmpStatusID, FromDiversityJobFairID, Termd, Position, State, Sex, CitizenDesc, TermReason, EmploymentStatus, EmpSatisfaction, SpecialProjectsCount)   \n",
              "13                           (GenderID, EmpStatusID, FromDiversityJobFairID, Termd, Position, State, Sex, CitizenDesc, TermReason, EmploymentStatus, EmpSatisfaction, SpecialProjectsCount, DaysLateLast30)   \n",
              "14                 (GenderID, EmpStatusID, FromDiversityJobFairID, Termd, Position, State, Sex, CitizenDesc, RaceDesc, TermReason, EmploymentStatus, EmpSatisfaction, SpecialProjectsCount, DaysLateLast30)   \n",
              "15    (GenderID, EmpStatusID, FromDiversityJobFairID, Termd, Position, State, Sex, MaritalDesc, CitizenDesc, RaceDesc, TermReason, EmploymentStatus, EmpSatisfaction, SpecialProjectsCount, DaysLateLast30)   \n",
              "16  (GenderID, EmpStatusID, FromDiversityJobFairID, Termd, Position, State, Sex, MaritalDesc, CitizenDesc, HispanicLatino, RaceDesc, TermReason, EmploymentStatus, EmpSatisfaction, SpecialProjectsCount...   \n",
              "17  (GenderID, EmpStatusID, FromDiversityJobFairID, Termd, Position, State, Sex, MaritalDesc, CitizenDesc, HispanicLatino, RaceDesc, TermReason, EmploymentStatus, RecruitmentSource, EmpSatisfaction, S...   \n",
              "18  (GenderID, EmpStatusID, FromDiversityJobFairID, Termd, Position, State, Sex, MaritalDesc, CitizenDesc, HispanicLatino, RaceDesc, TermReason, EmploymentStatus, RecruitmentSource, EmpSatisfaction, S...   \n",
              "19  (GenderID, EmpStatusID, FromDiversityJobFairID, Termd, Position, State, Sex, MaritalDesc, CitizenDesc, HispanicLatino, RaceDesc, TermReason, EmploymentStatus, Department, RecruitmentSource, EmpSat...   \n",
              "20  (GenderID, EmpStatusID, FromDiversityJobFairID, Termd, Position, State, Sex, MaritalDesc, CitizenDesc, HispanicLatino, RaceDesc, TermReason, EmploymentStatus, Department, RecruitmentSource, Engage...   \n",
              "21  (GenderID, EmpStatusID, FromDiversityJobFairID, Termd, Position, State, Sex, MaritalDesc, CitizenDesc, HispanicLatino, RaceDesc, TermReason, EmploymentStatus, Department, RecruitmentSource, Perfor...   \n",
              "22  (GenderID, EmpStatusID, PerfScoreID, FromDiversityJobFairID, Termd, Position, State, Sex, MaritalDesc, CitizenDesc, HispanicLatino, RaceDesc, TermReason, EmploymentStatus, Department, RecruitmentS...   \n",
              "23  (GenderID, EmpStatusID, DeptID, PerfScoreID, FromDiversityJobFairID, Termd, Position, State, Sex, MaritalDesc, CitizenDesc, HispanicLatino, RaceDesc, TermReason, EmploymentStatus, Department, Recr...   \n",
              "\n",
              "   ci_bound std_dev std_err  \n",
              "1     0.581   0.452   0.226  \n",
              "2     0.530   0.412   0.206  \n",
              "3     0.501   0.390   0.195  \n",
              "4     0.504   0.392   0.196  \n",
              "5     0.500   0.389   0.194  \n",
              "6     0.507   0.394   0.197  \n",
              "7     0.520   0.404   0.202  \n",
              "8     0.526   0.409   0.205  \n",
              "9     0.514   0.400   0.200  \n",
              "10    0.532   0.414   0.207  \n",
              "11    0.515   0.401   0.200  \n",
              "12    0.546   0.425   0.212  \n",
              "13    0.524   0.408   0.204  \n",
              "14    0.570   0.443   0.222  \n",
              "15    0.590   0.459   0.230  \n",
              "16    0.582   0.453   0.226  \n",
              "17    0.589   0.458   0.229  \n",
              "18    0.577   0.449   0.225  \n",
              "19    0.640   0.498   0.249  \n",
              "20    0.651   0.507   0.253  \n",
              "21    0.737   0.574   0.287  \n",
              "22    0.760   0.591   0.296  \n",
              "23    0.600   0.467   0.233  "
            ],
            "text/html": [
              "\n",
              "  <div id=\"df-d481a431-5da8-451b-855b-ab3f061c1687\">\n",
              "    <div class=\"colab-df-container\">\n",
              "      <div>\n",
              "<style scoped>\n",
              "    .dataframe tbody tr th:only-of-type {\n",
              "        vertical-align: middle;\n",
              "    }\n",
              "\n",
              "    .dataframe tbody tr th {\n",
              "        vertical-align: top;\n",
              "    }\n",
              "\n",
              "    .dataframe thead th {\n",
              "        text-align: right;\n",
              "    }\n",
              "</style>\n",
              "<table border=\"1\" class=\"dataframe\">\n",
              "  <thead>\n",
              "    <tr style=\"text-align: right;\">\n",
              "      <th></th>\n",
              "      <th>feature_idx</th>\n",
              "      <th>cv_scores</th>\n",
              "      <th>avg_score</th>\n",
              "      <th>feature_names</th>\n",
              "      <th>ci_bound</th>\n",
              "      <th>std_dev</th>\n",
              "      <th>std_err</th>\n",
              "    </tr>\n",
              "  </thead>\n",
              "  <tbody>\n",
              "    <tr>\n",
              "      <th>1</th>\n",
              "      <td>(6,)</td>\n",
              "      <td>[-0.278972115195286, -0.08297471382569623, -1.2457024859659247, -0.07804804168150087, -0.08901447016198175]</td>\n",
              "      <td>-0.355</td>\n",
              "      <td>(Position,)</td>\n",
              "      <td>0.581</td>\n",
              "      <td>0.452</td>\n",
              "      <td>0.226</td>\n",
              "    </tr>\n",
              "    <tr>\n",
              "      <th>2</th>\n",
              "      <td>(6, 20)</td>\n",
              "      <td>[-0.25283039743035135, -0.1030746475425236, -1.141573430707151, -0.08193304599359279, -0.0631921846487246]</td>\n",
              "      <td>-0.329</td>\n",
              "      <td>(Position, SpecialProjectsCount)</td>\n",
              "      <td>0.530</td>\n",
              "      <td>0.412</td>\n",
              "      <td>0.206</td>\n",
              "    </tr>\n",
              "    <tr>\n",
              "      <th>3</th>\n",
              "      <td>(6, 19, 20)</td>\n",
              "      <td>[-0.21915456848356296, -0.11417691631453247, -1.098599948284532, -0.10854643967274728, -0.08097777188413753]</td>\n",
              "      <td>-0.324</td>\n",
              "      <td>(Position, EmpSatisfaction, SpecialProjectsCount)</td>\n",
              "      <td>0.501</td>\n",
              "      <td>0.390</td>\n",
              "      <td>0.195</td>\n",
              "    </tr>\n",
              "    <tr>\n",
              "      <th>4</th>\n",
              "      <td>(0, 6, 19, 20)</td>\n",
              "      <td>[-0.21710282129962752, -0.11275452250109075, -1.0994090191371744, -0.09882984645445968, -0.07983980822721366]</td>\n",
              "      <td>-0.322</td>\n",
              "      <td>(GenderID, Position, EmpSatisfaction, SpecialProjectsCount)</td>\n",
              "      <td>0.504</td>\n",
              "      <td>0.392</td>\n",
              "      <td>0.196</td>\n",
              "    </tr>\n",
              "    <tr>\n",
              "      <th>5</th>\n",
              "      <td>(0, 6, 8, 19, 20)</td>\n",
              "      <td>[-0.21756736818512676, -0.1148005093933853, -1.098785923408138, -0.11168281869715245, -0.08810769626021879]</td>\n",
              "      <td>-0.326</td>\n",
              "      <td>(GenderID, Position, Sex, EmpSatisfaction, SpecialProjectsCount)</td>\n",
              "      <td>0.500</td>\n",
              "      <td>0.389</td>\n",
              "      <td>0.194</td>\n",
              "    </tr>\n",
              "    <tr>\n",
              "      <th>6</th>\n",
              "      <td>(0, 6, 7, 8, 19, 20)</td>\n",
              "      <td>[-0.2604118150744897, -0.11921009216470355, -1.115434653536898, -0.10101055981246196, -0.08748152753485676]</td>\n",
              "      <td>-0.337</td>\n",
              "      <td>(GenderID, Position, State, Sex, EmpSatisfaction, SpecialProjectsCount)</td>\n",
              "      <td>0.507</td>\n",
              "      <td>0.394</td>\n",
              "      <td>0.197</td>\n",
              "    </tr>\n",
              "    <tr>\n",
              "      <th>7</th>\n",
              "      <td>(0, 4, 6, 7, 8, 19, 20)</td>\n",
              "      <td>[-0.27674716111477965, -0.12602959166584696, -1.1442155056615795, -0.10748278156901646, -0.08129123749018972]</td>\n",
              "      <td>-0.347</td>\n",
              "      <td>(GenderID, FromDiversityJobFairID, Position, State, Sex, EmpSatisfaction, SpecialProjectsCount)</td>\n",
              "      <td>0.520</td>\n",
              "      <td>0.404</td>\n",
              "      <td>0.202</td>\n",
              "    </tr>\n",
              "    <tr>\n",
              "      <th>8</th>\n",
              "      <td>(0, 4, 6, 7, 8, 10, 19, 20)</td>\n",
              "      <td>[-0.3163407888192998, -0.1393734479089405, -1.157796879926292, -0.08731626289646713, -0.08340748786170432]</td>\n",
              "      <td>-0.357</td>\n",
              "      <td>(GenderID, FromDiversityJobFairID, Position, State, Sex, CitizenDesc, EmpSatisfaction, SpecialProjectsCount)</td>\n",
              "      <td>0.526</td>\n",
              "      <td>0.409</td>\n",
              "      <td>0.205</td>\n",
              "    </tr>\n",
              "    <tr>\n",
              "      <th>9</th>\n",
              "      <td>(0, 1, 4, 6, 7, 8, 10, 19, 20)</td>\n",
              "      <td>[-0.28770587656433977, -0.1474769353666114, -1.1398808403523295, -0.09177560429168184, -0.0975112986439117]</td>\n",
              "      <td>-0.353</td>\n",
              "      <td>(GenderID, EmpStatusID, FromDiversityJobFairID, Position, State, Sex, CitizenDesc, EmpSatisfaction, SpecialProjectsCount)</td>\n",
              "      <td>0.514</td>\n",
              "      <td>0.400</td>\n",
              "      <td>0.200</td>\n",
              "    </tr>\n",
              "    <tr>\n",
              "      <th>10</th>\n",
              "      <td>(0, 1, 4, 5, 6, 7, 8, 10, 19, 20)</td>\n",
              "      <td>[-0.29800340112674417, -0.156519072407604, -1.1796911495561424, -0.10166131002352306, -0.08933910981496991]</td>\n",
              "      <td>-0.365</td>\n",
              "      <td>(GenderID, EmpStatusID, FromDiversityJobFairID, Termd, Position, State, Sex, CitizenDesc, EmpSatisfaction, SpecialProjectsCount)</td>\n",
              "      <td>0.532</td>\n",
              "      <td>0.414</td>\n",
              "      <td>0.207</td>\n",
              "    </tr>\n",
              "    <tr>\n",
              "      <th>11</th>\n",
              "      <td>(0, 1, 4, 5, 6, 7, 8, 10, 14, 19, 20)</td>\n",
              "      <td>[-0.28902409808170537, -0.17106343924432824, -1.1541732231534843, -0.10912695624983043, -0.0990737885876751]</td>\n",
              "      <td>-0.364</td>\n",
              "      <td>(GenderID, EmpStatusID, FromDiversityJobFairID, Termd, Position, State, Sex, CitizenDesc, EmploymentStatus, EmpSatisfaction, SpecialProjectsCount)</td>\n",
              "      <td>0.515</td>\n",
              "      <td>0.401</td>\n",
              "      <td>0.200</td>\n",
              "    </tr>\n",
              "    <tr>\n",
              "      <th>12</th>\n",
              "      <td>(0, 1, 4, 5, 6, 7, 8, 10, 13, 14, 19, 20)</td>\n",
              "      <td>[-0.28404468170053865, -0.1706205315747133, -1.2150886914618864, -0.11009138069750542, -0.09877501194141962]</td>\n",
              "      <td>-0.376</td>\n",
              "      <td>(GenderID, EmpStatusID, FromDiversityJobFairID, Termd, Position, State, Sex, CitizenDesc, TermReason, EmploymentStatus, EmpSatisfaction, SpecialProjectsCount)</td>\n",
              "      <td>0.546</td>\n",
              "      <td>0.425</td>\n",
              "      <td>0.212</td>\n",
              "    </tr>\n",
              "    <tr>\n",
              "      <th>13</th>\n",
              "      <td>(0, 1, 4, 5, 6, 7, 8, 10, 13, 14, 19, 20, 21)</td>\n",
              "      <td>[-0.34135632768444607, -0.15033331346883483, -1.176019703093325, -0.12229237051036912, -0.10212195896539691]</td>\n",
              "      <td>-0.378</td>\n",
              "      <td>(GenderID, EmpStatusID, FromDiversityJobFairID, Termd, Position, State, Sex, CitizenDesc, TermReason, EmploymentStatus, EmpSatisfaction, SpecialProjectsCount, DaysLateLast30)</td>\n",
              "      <td>0.524</td>\n",
              "      <td>0.408</td>\n",
              "      <td>0.204</td>\n",
              "    </tr>\n",
              "    <tr>\n",
              "      <th>14</th>\n",
              "      <td>(0, 1, 4, 5, 6, 7, 8, 10, 12, 13, 14, 19, 20, 21)</td>\n",
              "      <td>[-0.32802914884229895, -0.14763130117018153, -1.2543672482290757, -0.09230613525385595, -0.09793956416793911]</td>\n",
              "      <td>-0.384</td>\n",
              "      <td>(GenderID, EmpStatusID, FromDiversityJobFairID, Termd, Position, State, Sex, CitizenDesc, RaceDesc, TermReason, EmploymentStatus, EmpSatisfaction, SpecialProjectsCount, DaysLateLast30)</td>\n",
              "      <td>0.570</td>\n",
              "      <td>0.443</td>\n",
              "      <td>0.222</td>\n",
              "    </tr>\n",
              "    <tr>\n",
              "      <th>15</th>\n",
              "      <td>(0, 1, 4, 5, 6, 7, 8, 9, 10, 12, 13, 14, 19, 20, 21)</td>\n",
              "      <td>[-0.3188060823668614, -0.16980538695408906, -1.306879374358467, -0.09641300738567479, -0.11620846748481015]</td>\n",
              "      <td>-0.402</td>\n",
              "      <td>(GenderID, EmpStatusID, FromDiversityJobFairID, Termd, Position, State, Sex, MaritalDesc, CitizenDesc, RaceDesc, TermReason, EmploymentStatus, EmpSatisfaction, SpecialProjectsCount, DaysLateLast30)</td>\n",
              "      <td>0.590</td>\n",
              "      <td>0.459</td>\n",
              "      <td>0.230</td>\n",
              "    </tr>\n",
              "    <tr>\n",
              "      <th>16</th>\n",
              "      <td>(0, 1, 4, 5, 6, 7, 8, 9, 10, 11, 12, 13, 14, 19, 20, 21)</td>\n",
              "      <td>[-0.44806746709783046, -0.15854671408359267, -1.2869233416246824, -0.09943936007716292, -0.09969615803202167]</td>\n",
              "      <td>-0.419</td>\n",
              "      <td>(GenderID, EmpStatusID, FromDiversityJobFairID, Termd, Position, State, Sex, MaritalDesc, CitizenDesc, HispanicLatino, RaceDesc, TermReason, EmploymentStatus, EmpSatisfaction, SpecialProjectsCount...</td>\n",
              "      <td>0.582</td>\n",
              "      <td>0.453</td>\n",
              "      <td>0.226</td>\n",
              "    </tr>\n",
              "    <tr>\n",
              "      <th>17</th>\n",
              "      <td>(0, 1, 4, 5, 6, 7, 8, 9, 10, 11, 12, 13, 14, 16, 19, 20, 21)</td>\n",
              "      <td>[-0.48299629278089584, -0.17071544475882708, -1.3262288755430156, -0.1344010286348389, -0.12854574060727625]</td>\n",
              "      <td>-0.449</td>\n",
              "      <td>(GenderID, EmpStatusID, FromDiversityJobFairID, Termd, Position, State, Sex, MaritalDesc, CitizenDesc, HispanicLatino, RaceDesc, TermReason, EmploymentStatus, RecruitmentSource, EmpSatisfaction, S...</td>\n",
              "      <td>0.589</td>\n",
              "      <td>0.458</td>\n",
              "      <td>0.229</td>\n",
              "    </tr>\n",
              "    <tr>\n",
              "      <th>18</th>\n",
              "      <td>(0, 1, 4, 5, 6, 7, 8, 9, 10, 11, 12, 13, 14, 16, 19, 20, 21, 22)</td>\n",
              "      <td>[-0.49152961918164384, -0.1957157711145988, -1.3426394454494306, -0.201376719972054, -0.15407592682233875]</td>\n",
              "      <td>-0.477</td>\n",
              "      <td>(GenderID, EmpStatusID, FromDiversityJobFairID, Termd, Position, State, Sex, MaritalDesc, CitizenDesc, HispanicLatino, RaceDesc, TermReason, EmploymentStatus, RecruitmentSource, EmpSatisfaction, S...</td>\n",
              "      <td>0.577</td>\n",
              "      <td>0.449</td>\n",
              "      <td>0.225</td>\n",
              "    </tr>\n",
              "    <tr>\n",
              "      <th>19</th>\n",
              "      <td>(0, 1, 4, 5, 6, 7, 8, 9, 10, 11, 12, 13, 14, 15, 16, 19, 20, 21, 22)</td>\n",
              "      <td>[-0.5017858273939195, -0.1994758172946421, -1.4658731256010007, -0.14447469655829862, -0.2029786117554233]</td>\n",
              "      <td>-0.503</td>\n",
              "      <td>(GenderID, EmpStatusID, FromDiversityJobFairID, Termd, Position, State, Sex, MaritalDesc, CitizenDesc, HispanicLatino, RaceDesc, TermReason, EmploymentStatus, Department, RecruitmentSource, EmpSat...</td>\n",
              "      <td>0.640</td>\n",
              "      <td>0.498</td>\n",
              "      <td>0.249</td>\n",
              "    </tr>\n",
              "    <tr>\n",
              "      <th>20</th>\n",
              "      <td>(0, 1, 4, 5, 6, 7, 8, 9, 10, 11, 12, 13, 14, 15, 16, 18, 19, 20, 21, 22)</td>\n",
              "      <td>[-0.5304435813653261, -0.23467228760472117, -1.5180746139892778, -0.1446396009587453, -0.2633232164394185]</td>\n",
              "      <td>-0.538</td>\n",
              "      <td>(GenderID, EmpStatusID, FromDiversityJobFairID, Termd, Position, State, Sex, MaritalDesc, CitizenDesc, HispanicLatino, RaceDesc, TermReason, EmploymentStatus, Department, RecruitmentSource, Engage...</td>\n",
              "      <td>0.651</td>\n",
              "      <td>0.507</td>\n",
              "      <td>0.253</td>\n",
              "    </tr>\n",
              "    <tr>\n",
              "      <th>21</th>\n",
              "      <td>(0, 1, 4, 5, 6, 7, 8, 9, 10, 11, 12, 13, 14, 15, 16, 17, 18, 19, 20, 21, 22)</td>\n",
              "      <td>[-0.5552467345265515, -0.20569405790534304, -1.6822616518731808, -0.14256550033186935, -0.2657161956346898]</td>\n",
              "      <td>-0.570</td>\n",
              "      <td>(GenderID, EmpStatusID, FromDiversityJobFairID, Termd, Position, State, Sex, MaritalDesc, CitizenDesc, HispanicLatino, RaceDesc, TermReason, EmploymentStatus, Department, RecruitmentSource, Perfor...</td>\n",
              "      <td>0.737</td>\n",
              "      <td>0.574</td>\n",
              "      <td>0.287</td>\n",
              "    </tr>\n",
              "    <tr>\n",
              "      <th>22</th>\n",
              "      <td>(0, 1, 3, 4, 5, 6, 7, 8, 9, 10, 11, 12, 13, 14, 15, 16, 17, 18, 19, 20, 21, 22)</td>\n",
              "      <td>[-0.5686680469790691, -0.22339654068595474, -1.7338048692522512, -0.14278059319858494, -0.2641169905133139]</td>\n",
              "      <td>-0.587</td>\n",
              "      <td>(GenderID, EmpStatusID, PerfScoreID, FromDiversityJobFairID, Termd, Position, State, Sex, MaritalDesc, CitizenDesc, HispanicLatino, RaceDesc, TermReason, EmploymentStatus, Department, RecruitmentS...</td>\n",
              "      <td>0.760</td>\n",
              "      <td>0.591</td>\n",
              "      <td>0.296</td>\n",
              "    </tr>\n",
              "    <tr>\n",
              "      <th>23</th>\n",
              "      <td>(0, 1, 2, 3, 4, 5, 6, 7, 8, 9, 10, 11, 12, 13, 14, 15, 16, 17, 18, 19, 20, 21, 22)</td>\n",
              "      <td>[-0.5903671981744095, -0.2511579275159487, -1.5378122185337182, -0.5442998494178137, -0.2942879903427056]</td>\n",
              "      <td>-0.644</td>\n",
              "      <td>(GenderID, EmpStatusID, DeptID, PerfScoreID, FromDiversityJobFairID, Termd, Position, State, Sex, MaritalDesc, CitizenDesc, HispanicLatino, RaceDesc, TermReason, EmploymentStatus, Department, Recr...</td>\n",
              "      <td>0.600</td>\n",
              "      <td>0.467</td>\n",
              "      <td>0.233</td>\n",
              "    </tr>\n",
              "  </tbody>\n",
              "</table>\n",
              "</div>\n",
              "      <button class=\"colab-df-convert\" onclick=\"convertToInteractive('df-d481a431-5da8-451b-855b-ab3f061c1687')\"\n",
              "              title=\"Convert this dataframe to an interactive table.\"\n",
              "              style=\"display:none;\">\n",
              "        \n",
              "  <svg xmlns=\"http://www.w3.org/2000/svg\" height=\"24px\"viewBox=\"0 0 24 24\"\n",
              "       width=\"24px\">\n",
              "    <path d=\"M0 0h24v24H0V0z\" fill=\"none\"/>\n",
              "    <path d=\"M18.56 5.44l.94 2.06.94-2.06 2.06-.94-2.06-.94-.94-2.06-.94 2.06-2.06.94zm-11 1L8.5 8.5l.94-2.06 2.06-.94-2.06-.94L8.5 2.5l-.94 2.06-2.06.94zm10 10l.94 2.06.94-2.06 2.06-.94-2.06-.94-.94-2.06-.94 2.06-2.06.94z\"/><path d=\"M17.41 7.96l-1.37-1.37c-.4-.4-.92-.59-1.43-.59-.52 0-1.04.2-1.43.59L10.3 9.45l-7.72 7.72c-.78.78-.78 2.05 0 2.83L4 21.41c.39.39.9.59 1.41.59.51 0 1.02-.2 1.41-.59l7.78-7.78 2.81-2.81c.8-.78.8-2.07 0-2.86zM5.41 20L4 18.59l7.72-7.72 1.47 1.35L5.41 20z\"/>\n",
              "  </svg>\n",
              "      </button>\n",
              "      \n",
              "  <style>\n",
              "    .colab-df-container {\n",
              "      display:flex;\n",
              "      flex-wrap:wrap;\n",
              "      gap: 12px;\n",
              "    }\n",
              "\n",
              "    .colab-df-convert {\n",
              "      background-color: #E8F0FE;\n",
              "      border: none;\n",
              "      border-radius: 50%;\n",
              "      cursor: pointer;\n",
              "      display: none;\n",
              "      fill: #1967D2;\n",
              "      height: 32px;\n",
              "      padding: 0 0 0 0;\n",
              "      width: 32px;\n",
              "    }\n",
              "\n",
              "    .colab-df-convert:hover {\n",
              "      background-color: #E2EBFA;\n",
              "      box-shadow: 0px 1px 2px rgba(60, 64, 67, 0.3), 0px 1px 3px 1px rgba(60, 64, 67, 0.15);\n",
              "      fill: #174EA6;\n",
              "    }\n",
              "\n",
              "    [theme=dark] .colab-df-convert {\n",
              "      background-color: #3B4455;\n",
              "      fill: #D2E3FC;\n",
              "    }\n",
              "\n",
              "    [theme=dark] .colab-df-convert:hover {\n",
              "      background-color: #434B5C;\n",
              "      box-shadow: 0px 1px 3px 1px rgba(0, 0, 0, 0.15);\n",
              "      filter: drop-shadow(0px 1px 2px rgba(0, 0, 0, 0.3));\n",
              "      fill: #FFFFFF;\n",
              "    }\n",
              "  </style>\n",
              "\n",
              "      <script>\n",
              "        const buttonEl =\n",
              "          document.querySelector('#df-d481a431-5da8-451b-855b-ab3f061c1687 button.colab-df-convert');\n",
              "        buttonEl.style.display =\n",
              "          google.colab.kernel.accessAllowed ? 'block' : 'none';\n",
              "\n",
              "        async function convertToInteractive(key) {\n",
              "          const element = document.querySelector('#df-d481a431-5da8-451b-855b-ab3f061c1687');\n",
              "          const dataTable =\n",
              "            await google.colab.kernel.invokeFunction('convertToInteractive',\n",
              "                                                     [key], {});\n",
              "          if (!dataTable) return;\n",
              "\n",
              "          const docLinkHtml = 'Like what you see? Visit the ' +\n",
              "            '<a target=\"_blank\" href=https://colab.research.google.com/notebooks/data_table.ipynb>data table notebook</a>'\n",
              "            + ' to learn more about interactive tables.';\n",
              "          element.innerHTML = '';\n",
              "          dataTable['output_type'] = 'display_data';\n",
              "          await google.colab.output.renderOutput(dataTable, element);\n",
              "          const docLink = document.createElement('div');\n",
              "          docLink.innerHTML = docLinkHtml;\n",
              "          element.appendChild(docLink);\n",
              "        }\n",
              "      </script>\n",
              "    </div>\n",
              "  </div>\n",
              "  "
            ]
          },
          "metadata": {},
          "execution_count": 24
        }
      ],
      "source": [
        "pd.DataFrame(fs)"
      ]
    },
    {
      "cell_type": "code",
      "execution_count": 25,
      "metadata": {
        "colab": {
          "base_uri": "https://localhost:8080/",
          "height": 206
        },
        "id": "jISg3NWEqM3P",
        "outputId": "2e501397-cd3a-484a-fbe6-830a78152ff6"
      },
      "outputs": [
        {
          "output_type": "execute_result",
          "data": {
            "text/plain": [
              "   GenderID  Position  EmpSatisfaction  SpecialProjectsCount  Salary\n",
              "0         1        22                4                     0  -0.259\n",
              "1         1        30                2                     6   1.410\n",
              "2         0        23                2                     0  -0.162\n",
              "3         0        22                4                     0  -0.160\n",
              "4         0        22                3                     0  -0.724"
            ],
            "text/html": [
              "\n",
              "  <div id=\"df-84e69731-7ac4-4698-8a11-970d1fbfc80e\">\n",
              "    <div class=\"colab-df-container\">\n",
              "      <div>\n",
              "<style scoped>\n",
              "    .dataframe tbody tr th:only-of-type {\n",
              "        vertical-align: middle;\n",
              "    }\n",
              "\n",
              "    .dataframe tbody tr th {\n",
              "        vertical-align: top;\n",
              "    }\n",
              "\n",
              "    .dataframe thead th {\n",
              "        text-align: right;\n",
              "    }\n",
              "</style>\n",
              "<table border=\"1\" class=\"dataframe\">\n",
              "  <thead>\n",
              "    <tr style=\"text-align: right;\">\n",
              "      <th></th>\n",
              "      <th>GenderID</th>\n",
              "      <th>Position</th>\n",
              "      <th>EmpSatisfaction</th>\n",
              "      <th>SpecialProjectsCount</th>\n",
              "      <th>Salary</th>\n",
              "    </tr>\n",
              "  </thead>\n",
              "  <tbody>\n",
              "    <tr>\n",
              "      <th>0</th>\n",
              "      <td>1</td>\n",
              "      <td>22</td>\n",
              "      <td>4</td>\n",
              "      <td>0</td>\n",
              "      <td>-0.259</td>\n",
              "    </tr>\n",
              "    <tr>\n",
              "      <th>1</th>\n",
              "      <td>1</td>\n",
              "      <td>30</td>\n",
              "      <td>2</td>\n",
              "      <td>6</td>\n",
              "      <td>1.410</td>\n",
              "    </tr>\n",
              "    <tr>\n",
              "      <th>2</th>\n",
              "      <td>0</td>\n",
              "      <td>23</td>\n",
              "      <td>2</td>\n",
              "      <td>0</td>\n",
              "      <td>-0.162</td>\n",
              "    </tr>\n",
              "    <tr>\n",
              "      <th>3</th>\n",
              "      <td>0</td>\n",
              "      <td>22</td>\n",
              "      <td>4</td>\n",
              "      <td>0</td>\n",
              "      <td>-0.160</td>\n",
              "    </tr>\n",
              "    <tr>\n",
              "      <th>4</th>\n",
              "      <td>0</td>\n",
              "      <td>22</td>\n",
              "      <td>3</td>\n",
              "      <td>0</td>\n",
              "      <td>-0.724</td>\n",
              "    </tr>\n",
              "  </tbody>\n",
              "</table>\n",
              "</div>\n",
              "      <button class=\"colab-df-convert\" onclick=\"convertToInteractive('df-84e69731-7ac4-4698-8a11-970d1fbfc80e')\"\n",
              "              title=\"Convert this dataframe to an interactive table.\"\n",
              "              style=\"display:none;\">\n",
              "        \n",
              "  <svg xmlns=\"http://www.w3.org/2000/svg\" height=\"24px\"viewBox=\"0 0 24 24\"\n",
              "       width=\"24px\">\n",
              "    <path d=\"M0 0h24v24H0V0z\" fill=\"none\"/>\n",
              "    <path d=\"M18.56 5.44l.94 2.06.94-2.06 2.06-.94-2.06-.94-.94-2.06-.94 2.06-2.06.94zm-11 1L8.5 8.5l.94-2.06 2.06-.94-2.06-.94L8.5 2.5l-.94 2.06-2.06.94zm10 10l.94 2.06.94-2.06 2.06-.94-2.06-.94-.94-2.06-.94 2.06-2.06.94z\"/><path d=\"M17.41 7.96l-1.37-1.37c-.4-.4-.92-.59-1.43-.59-.52 0-1.04.2-1.43.59L10.3 9.45l-7.72 7.72c-.78.78-.78 2.05 0 2.83L4 21.41c.39.39.9.59 1.41.59.51 0 1.02-.2 1.41-.59l7.78-7.78 2.81-2.81c.8-.78.8-2.07 0-2.86zM5.41 20L4 18.59l7.72-7.72 1.47 1.35L5.41 20z\"/>\n",
              "  </svg>\n",
              "      </button>\n",
              "      \n",
              "  <style>\n",
              "    .colab-df-container {\n",
              "      display:flex;\n",
              "      flex-wrap:wrap;\n",
              "      gap: 12px;\n",
              "    }\n",
              "\n",
              "    .colab-df-convert {\n",
              "      background-color: #E8F0FE;\n",
              "      border: none;\n",
              "      border-radius: 50%;\n",
              "      cursor: pointer;\n",
              "      display: none;\n",
              "      fill: #1967D2;\n",
              "      height: 32px;\n",
              "      padding: 0 0 0 0;\n",
              "      width: 32px;\n",
              "    }\n",
              "\n",
              "    .colab-df-convert:hover {\n",
              "      background-color: #E2EBFA;\n",
              "      box-shadow: 0px 1px 2px rgba(60, 64, 67, 0.3), 0px 1px 3px 1px rgba(60, 64, 67, 0.15);\n",
              "      fill: #174EA6;\n",
              "    }\n",
              "\n",
              "    [theme=dark] .colab-df-convert {\n",
              "      background-color: #3B4455;\n",
              "      fill: #D2E3FC;\n",
              "    }\n",
              "\n",
              "    [theme=dark] .colab-df-convert:hover {\n",
              "      background-color: #434B5C;\n",
              "      box-shadow: 0px 1px 3px 1px rgba(0, 0, 0, 0.15);\n",
              "      filter: drop-shadow(0px 1px 2px rgba(0, 0, 0, 0.3));\n",
              "      fill: #FFFFFF;\n",
              "    }\n",
              "  </style>\n",
              "\n",
              "      <script>\n",
              "        const buttonEl =\n",
              "          document.querySelector('#df-84e69731-7ac4-4698-8a11-970d1fbfc80e button.colab-df-convert');\n",
              "        buttonEl.style.display =\n",
              "          google.colab.kernel.accessAllowed ? 'block' : 'none';\n",
              "\n",
              "        async function convertToInteractive(key) {\n",
              "          const element = document.querySelector('#df-84e69731-7ac4-4698-8a11-970d1fbfc80e');\n",
              "          const dataTable =\n",
              "            await google.colab.kernel.invokeFunction('convertToInteractive',\n",
              "                                                     [key], {});\n",
              "          if (!dataTable) return;\n",
              "\n",
              "          const docLinkHtml = 'Like what you see? Visit the ' +\n",
              "            '<a target=\"_blank\" href=https://colab.research.google.com/notebooks/data_table.ipynb>data table notebook</a>'\n",
              "            + ' to learn more about interactive tables.';\n",
              "          element.innerHTML = '';\n",
              "          dataTable['output_type'] = 'display_data';\n",
              "          await google.colab.output.renderOutput(dataTable, element);\n",
              "          const docLink = document.createElement('div');\n",
              "          docLink.innerHTML = docLinkHtml;\n",
              "          element.appendChild(docLink);\n",
              "        }\n",
              "      </script>\n",
              "    </div>\n",
              "  </div>\n",
              "  "
            ]
          },
          "metadata": {},
          "execution_count": 25
        }
      ],
      "source": [
        "pd.DataFrame(df.head())"
      ]
    },
    {
      "cell_type": "markdown",
      "metadata": {
        "id": "j-gq-MexqM3P"
      },
      "source": [
        "# Statistics Analytics"
      ]
    },
    {
      "cell_type": "markdown",
      "metadata": {
        "id": "hNJelXJsqM3P"
      },
      "source": [
        "## Correlation between Independent Dependent Variables and Dependent Variables"
      ]
    },
    {
      "cell_type": "code",
      "execution_count": 26,
      "metadata": {
        "colab": {
          "base_uri": "https://localhost:8080/",
          "height": 0
        },
        "id": "1Os3QCK2qM3Q",
        "outputId": "3b80a9d7-c19f-4d63-b8e3-65b3572d3415"
      },
      "outputs": [
        {
          "output_type": "execute_result",
          "data": {
            "text/plain": [
              "                  index  Salary\n",
              "0                Salary   1.000\n",
              "1  SpecialProjectsCount   0.508\n",
              "2       EmpSatisfaction   0.063\n",
              "3              GenderID   0.056\n",
              "4              Position  -0.184"
            ],
            "text/html": [
              "\n",
              "  <div id=\"df-00b6857d-96c9-445a-b2c9-ba4680cb2899\">\n",
              "    <div class=\"colab-df-container\">\n",
              "      <div>\n",
              "<style scoped>\n",
              "    .dataframe tbody tr th:only-of-type {\n",
              "        vertical-align: middle;\n",
              "    }\n",
              "\n",
              "    .dataframe tbody tr th {\n",
              "        vertical-align: top;\n",
              "    }\n",
              "\n",
              "    .dataframe thead th {\n",
              "        text-align: right;\n",
              "    }\n",
              "</style>\n",
              "<table border=\"1\" class=\"dataframe\">\n",
              "  <thead>\n",
              "    <tr style=\"text-align: right;\">\n",
              "      <th></th>\n",
              "      <th>index</th>\n",
              "      <th>Salary</th>\n",
              "    </tr>\n",
              "  </thead>\n",
              "  <tbody>\n",
              "    <tr>\n",
              "      <th>0</th>\n",
              "      <td>Salary</td>\n",
              "      <td>1.000</td>\n",
              "    </tr>\n",
              "    <tr>\n",
              "      <th>1</th>\n",
              "      <td>SpecialProjectsCount</td>\n",
              "      <td>0.508</td>\n",
              "    </tr>\n",
              "    <tr>\n",
              "      <th>2</th>\n",
              "      <td>EmpSatisfaction</td>\n",
              "      <td>0.063</td>\n",
              "    </tr>\n",
              "    <tr>\n",
              "      <th>3</th>\n",
              "      <td>GenderID</td>\n",
              "      <td>0.056</td>\n",
              "    </tr>\n",
              "    <tr>\n",
              "      <th>4</th>\n",
              "      <td>Position</td>\n",
              "      <td>-0.184</td>\n",
              "    </tr>\n",
              "  </tbody>\n",
              "</table>\n",
              "</div>\n",
              "      <button class=\"colab-df-convert\" onclick=\"convertToInteractive('df-00b6857d-96c9-445a-b2c9-ba4680cb2899')\"\n",
              "              title=\"Convert this dataframe to an interactive table.\"\n",
              "              style=\"display:none;\">\n",
              "        \n",
              "  <svg xmlns=\"http://www.w3.org/2000/svg\" height=\"24px\"viewBox=\"0 0 24 24\"\n",
              "       width=\"24px\">\n",
              "    <path d=\"M0 0h24v24H0V0z\" fill=\"none\"/>\n",
              "    <path d=\"M18.56 5.44l.94 2.06.94-2.06 2.06-.94-2.06-.94-.94-2.06-.94 2.06-2.06.94zm-11 1L8.5 8.5l.94-2.06 2.06-.94-2.06-.94L8.5 2.5l-.94 2.06-2.06.94zm10 10l.94 2.06.94-2.06 2.06-.94-2.06-.94-.94-2.06-.94 2.06-2.06.94z\"/><path d=\"M17.41 7.96l-1.37-1.37c-.4-.4-.92-.59-1.43-.59-.52 0-1.04.2-1.43.59L10.3 9.45l-7.72 7.72c-.78.78-.78 2.05 0 2.83L4 21.41c.39.39.9.59 1.41.59.51 0 1.02-.2 1.41-.59l7.78-7.78 2.81-2.81c.8-.78.8-2.07 0-2.86zM5.41 20L4 18.59l7.72-7.72 1.47 1.35L5.41 20z\"/>\n",
              "  </svg>\n",
              "      </button>\n",
              "      \n",
              "  <style>\n",
              "    .colab-df-container {\n",
              "      display:flex;\n",
              "      flex-wrap:wrap;\n",
              "      gap: 12px;\n",
              "    }\n",
              "\n",
              "    .colab-df-convert {\n",
              "      background-color: #E8F0FE;\n",
              "      border: none;\n",
              "      border-radius: 50%;\n",
              "      cursor: pointer;\n",
              "      display: none;\n",
              "      fill: #1967D2;\n",
              "      height: 32px;\n",
              "      padding: 0 0 0 0;\n",
              "      width: 32px;\n",
              "    }\n",
              "\n",
              "    .colab-df-convert:hover {\n",
              "      background-color: #E2EBFA;\n",
              "      box-shadow: 0px 1px 2px rgba(60, 64, 67, 0.3), 0px 1px 3px 1px rgba(60, 64, 67, 0.15);\n",
              "      fill: #174EA6;\n",
              "    }\n",
              "\n",
              "    [theme=dark] .colab-df-convert {\n",
              "      background-color: #3B4455;\n",
              "      fill: #D2E3FC;\n",
              "    }\n",
              "\n",
              "    [theme=dark] .colab-df-convert:hover {\n",
              "      background-color: #434B5C;\n",
              "      box-shadow: 0px 1px 3px 1px rgba(0, 0, 0, 0.15);\n",
              "      filter: drop-shadow(0px 1px 2px rgba(0, 0, 0, 0.3));\n",
              "      fill: #FFFFFF;\n",
              "    }\n",
              "  </style>\n",
              "\n",
              "      <script>\n",
              "        const buttonEl =\n",
              "          document.querySelector('#df-00b6857d-96c9-445a-b2c9-ba4680cb2899 button.colab-df-convert');\n",
              "        buttonEl.style.display =\n",
              "          google.colab.kernel.accessAllowed ? 'block' : 'none';\n",
              "\n",
              "        async function convertToInteractive(key) {\n",
              "          const element = document.querySelector('#df-00b6857d-96c9-445a-b2c9-ba4680cb2899');\n",
              "          const dataTable =\n",
              "            await google.colab.kernel.invokeFunction('convertToInteractive',\n",
              "                                                     [key], {});\n",
              "          if (!dataTable) return;\n",
              "\n",
              "          const docLinkHtml = 'Like what you see? Visit the ' +\n",
              "            '<a target=\"_blank\" href=https://colab.research.google.com/notebooks/data_table.ipynb>data table notebook</a>'\n",
              "            + ' to learn more about interactive tables.';\n",
              "          element.innerHTML = '';\n",
              "          dataTable['output_type'] = 'display_data';\n",
              "          await google.colab.output.renderOutput(dataTable, element);\n",
              "          const docLink = document.createElement('div');\n",
              "          docLink.innerHTML = docLinkHtml;\n",
              "          element.appendChild(docLink);\n",
              "        }\n",
              "      </script>\n",
              "    </div>\n",
              "  </div>\n",
              "  "
            ]
          },
          "metadata": {},
          "execution_count": 26
        }
      ],
      "source": [
        "pd.DataFrame(df.corr()[target].sort_values(ascending = False).reset_index())"
      ]
    },
    {
      "cell_type": "markdown",
      "metadata": {
        "id": "kPg5NiKzqM3Q"
      },
      "source": [
        "## Correlation between all the Variables"
      ]
    },
    {
      "cell_type": "code",
      "execution_count": 27,
      "metadata": {
        "colab": {
          "base_uri": "https://localhost:8080/",
          "height": 0
        },
        "id": "1bdRTO8nqM3Q",
        "outputId": "83266203-2cc9-4bfe-803e-30165bb6a450"
      },
      "outputs": [
        {
          "output_type": "execute_result",
          "data": {
            "text/plain": [
              "                      GenderID  Position  EmpSatisfaction  \\\n",
              "GenderID                 1.000    -0.094           -0.045   \n",
              "Position                -0.094     1.000           -0.022   \n",
              "EmpSatisfaction         -0.045    -0.022            1.000   \n",
              "SpecialProjectsCount     0.087    -0.226            0.034   \n",
              "Salary                   0.056    -0.184            0.063   \n",
              "\n",
              "                      SpecialProjectsCount  Salary  \n",
              "GenderID                             0.087   0.056  \n",
              "Position                            -0.226  -0.184  \n",
              "EmpSatisfaction                      0.034   0.063  \n",
              "SpecialProjectsCount                 1.000   0.508  \n",
              "Salary                               0.508   1.000  "
            ],
            "text/html": [
              "\n",
              "  <div id=\"df-873a6230-00e5-4768-be1d-312ecc86d546\">\n",
              "    <div class=\"colab-df-container\">\n",
              "      <div>\n",
              "<style scoped>\n",
              "    .dataframe tbody tr th:only-of-type {\n",
              "        vertical-align: middle;\n",
              "    }\n",
              "\n",
              "    .dataframe tbody tr th {\n",
              "        vertical-align: top;\n",
              "    }\n",
              "\n",
              "    .dataframe thead th {\n",
              "        text-align: right;\n",
              "    }\n",
              "</style>\n",
              "<table border=\"1\" class=\"dataframe\">\n",
              "  <thead>\n",
              "    <tr style=\"text-align: right;\">\n",
              "      <th></th>\n",
              "      <th>GenderID</th>\n",
              "      <th>Position</th>\n",
              "      <th>EmpSatisfaction</th>\n",
              "      <th>SpecialProjectsCount</th>\n",
              "      <th>Salary</th>\n",
              "    </tr>\n",
              "  </thead>\n",
              "  <tbody>\n",
              "    <tr>\n",
              "      <th>GenderID</th>\n",
              "      <td>1.000</td>\n",
              "      <td>-0.094</td>\n",
              "      <td>-0.045</td>\n",
              "      <td>0.087</td>\n",
              "      <td>0.056</td>\n",
              "    </tr>\n",
              "    <tr>\n",
              "      <th>Position</th>\n",
              "      <td>-0.094</td>\n",
              "      <td>1.000</td>\n",
              "      <td>-0.022</td>\n",
              "      <td>-0.226</td>\n",
              "      <td>-0.184</td>\n",
              "    </tr>\n",
              "    <tr>\n",
              "      <th>EmpSatisfaction</th>\n",
              "      <td>-0.045</td>\n",
              "      <td>-0.022</td>\n",
              "      <td>1.000</td>\n",
              "      <td>0.034</td>\n",
              "      <td>0.063</td>\n",
              "    </tr>\n",
              "    <tr>\n",
              "      <th>SpecialProjectsCount</th>\n",
              "      <td>0.087</td>\n",
              "      <td>-0.226</td>\n",
              "      <td>0.034</td>\n",
              "      <td>1.000</td>\n",
              "      <td>0.508</td>\n",
              "    </tr>\n",
              "    <tr>\n",
              "      <th>Salary</th>\n",
              "      <td>0.056</td>\n",
              "      <td>-0.184</td>\n",
              "      <td>0.063</td>\n",
              "      <td>0.508</td>\n",
              "      <td>1.000</td>\n",
              "    </tr>\n",
              "  </tbody>\n",
              "</table>\n",
              "</div>\n",
              "      <button class=\"colab-df-convert\" onclick=\"convertToInteractive('df-873a6230-00e5-4768-be1d-312ecc86d546')\"\n",
              "              title=\"Convert this dataframe to an interactive table.\"\n",
              "              style=\"display:none;\">\n",
              "        \n",
              "  <svg xmlns=\"http://www.w3.org/2000/svg\" height=\"24px\"viewBox=\"0 0 24 24\"\n",
              "       width=\"24px\">\n",
              "    <path d=\"M0 0h24v24H0V0z\" fill=\"none\"/>\n",
              "    <path d=\"M18.56 5.44l.94 2.06.94-2.06 2.06-.94-2.06-.94-.94-2.06-.94 2.06-2.06.94zm-11 1L8.5 8.5l.94-2.06 2.06-.94-2.06-.94L8.5 2.5l-.94 2.06-2.06.94zm10 10l.94 2.06.94-2.06 2.06-.94-2.06-.94-.94-2.06-.94 2.06-2.06.94z\"/><path d=\"M17.41 7.96l-1.37-1.37c-.4-.4-.92-.59-1.43-.59-.52 0-1.04.2-1.43.59L10.3 9.45l-7.72 7.72c-.78.78-.78 2.05 0 2.83L4 21.41c.39.39.9.59 1.41.59.51 0 1.02-.2 1.41-.59l7.78-7.78 2.81-2.81c.8-.78.8-2.07 0-2.86zM5.41 20L4 18.59l7.72-7.72 1.47 1.35L5.41 20z\"/>\n",
              "  </svg>\n",
              "      </button>\n",
              "      \n",
              "  <style>\n",
              "    .colab-df-container {\n",
              "      display:flex;\n",
              "      flex-wrap:wrap;\n",
              "      gap: 12px;\n",
              "    }\n",
              "\n",
              "    .colab-df-convert {\n",
              "      background-color: #E8F0FE;\n",
              "      border: none;\n",
              "      border-radius: 50%;\n",
              "      cursor: pointer;\n",
              "      display: none;\n",
              "      fill: #1967D2;\n",
              "      height: 32px;\n",
              "      padding: 0 0 0 0;\n",
              "      width: 32px;\n",
              "    }\n",
              "\n",
              "    .colab-df-convert:hover {\n",
              "      background-color: #E2EBFA;\n",
              "      box-shadow: 0px 1px 2px rgba(60, 64, 67, 0.3), 0px 1px 3px 1px rgba(60, 64, 67, 0.15);\n",
              "      fill: #174EA6;\n",
              "    }\n",
              "\n",
              "    [theme=dark] .colab-df-convert {\n",
              "      background-color: #3B4455;\n",
              "      fill: #D2E3FC;\n",
              "    }\n",
              "\n",
              "    [theme=dark] .colab-df-convert:hover {\n",
              "      background-color: #434B5C;\n",
              "      box-shadow: 0px 1px 3px 1px rgba(0, 0, 0, 0.15);\n",
              "      filter: drop-shadow(0px 1px 2px rgba(0, 0, 0, 0.3));\n",
              "      fill: #FFFFFF;\n",
              "    }\n",
              "  </style>\n",
              "\n",
              "      <script>\n",
              "        const buttonEl =\n",
              "          document.querySelector('#df-873a6230-00e5-4768-be1d-312ecc86d546 button.colab-df-convert');\n",
              "        buttonEl.style.display =\n",
              "          google.colab.kernel.accessAllowed ? 'block' : 'none';\n",
              "\n",
              "        async function convertToInteractive(key) {\n",
              "          const element = document.querySelector('#df-873a6230-00e5-4768-be1d-312ecc86d546');\n",
              "          const dataTable =\n",
              "            await google.colab.kernel.invokeFunction('convertToInteractive',\n",
              "                                                     [key], {});\n",
              "          if (!dataTable) return;\n",
              "\n",
              "          const docLinkHtml = 'Like what you see? Visit the ' +\n",
              "            '<a target=\"_blank\" href=https://colab.research.google.com/notebooks/data_table.ipynb>data table notebook</a>'\n",
              "            + ' to learn more about interactive tables.';\n",
              "          element.innerHTML = '';\n",
              "          dataTable['output_type'] = 'display_data';\n",
              "          await google.colab.output.renderOutput(dataTable, element);\n",
              "          const docLink = document.createElement('div');\n",
              "          docLink.innerHTML = docLinkHtml;\n",
              "          element.appendChild(docLink);\n",
              "        }\n",
              "      </script>\n",
              "    </div>\n",
              "  </div>\n",
              "  "
            ]
          },
          "metadata": {},
          "execution_count": 27
        }
      ],
      "source": [
        "pd.DataFrame(df.corr())"
      ]
    },
    {
      "cell_type": "code",
      "execution_count": 28,
      "metadata": {
        "colab": {
          "base_uri": "https://localhost:8080/",
          "height": 0
        },
        "id": "rKk4VtKNqM3R",
        "outputId": "35de0e62-2df1-45e3-e151-5c1e5d57143a"
      },
      "outputs": [
        {
          "output_type": "execute_result",
          "data": {
            "text/plain": [
              "<pandas.io.formats.style.Styler at 0x7f5f7c46c510>"
            ],
            "text/html": [
              "<style type=\"text/css\">\n",
              "#T_ce690_row0_col0, #T_ce690_row1_col1, #T_ce690_row2_col2, #T_ce690_row3_col3, #T_ce690_row4_col4 {\n",
              "  background-color: #08306b;\n",
              "  color: #f1f1f1;\n",
              "}\n",
              "#T_ce690_row0_col1 {\n",
              "  background-color: #e2edf8;\n",
              "  color: #000000;\n",
              "}\n",
              "#T_ce690_row0_col2, #T_ce690_row1_col0, #T_ce690_row1_col3, #T_ce690_row1_col4, #T_ce690_row3_col1 {\n",
              "  background-color: #f7fbff;\n",
              "  color: #000000;\n",
              "}\n",
              "#T_ce690_row0_col3 {\n",
              "  background-color: #c4daee;\n",
              "  color: #000000;\n",
              "}\n",
              "#T_ce690_row0_col4 {\n",
              "  background-color: #d0e1f2;\n",
              "  color: #000000;\n",
              "}\n",
              "#T_ce690_row1_col2 {\n",
              "  background-color: #f3f8fe;\n",
              "  color: #000000;\n",
              "}\n",
              "#T_ce690_row2_col0 {\n",
              "  background-color: #eef5fc;\n",
              "  color: #000000;\n",
              "}\n",
              "#T_ce690_row2_col1, #T_ce690_row3_col0 {\n",
              "  background-color: #d6e6f4;\n",
              "  color: #000000;\n",
              "}\n",
              "#T_ce690_row2_col3 {\n",
              "  background-color: #cde0f1;\n",
              "  color: #000000;\n",
              "}\n",
              "#T_ce690_row2_col4 {\n",
              "  background-color: #cee0f2;\n",
              "  color: #000000;\n",
              "}\n",
              "#T_ce690_row3_col2 {\n",
              "  background-color: #e8f1fa;\n",
              "  color: #000000;\n",
              "}\n",
              "#T_ce690_row3_col4 {\n",
              "  background-color: #4f9bcb;\n",
              "  color: #f1f1f1;\n",
              "}\n",
              "#T_ce690_row4_col0 {\n",
              "  background-color: #dce9f6;\n",
              "  color: #000000;\n",
              "}\n",
              "#T_ce690_row4_col1 {\n",
              "  background-color: #f1f7fd;\n",
              "  color: #000000;\n",
              "}\n",
              "#T_ce690_row4_col2 {\n",
              "  background-color: #e3eef8;\n",
              "  color: #000000;\n",
              "}\n",
              "#T_ce690_row4_col3 {\n",
              "  background-color: #4a98c9;\n",
              "  color: #f1f1f1;\n",
              "}\n",
              "</style>\n",
              "<table id=\"T_ce690_\" class=\"dataframe\">\n",
              "  <thead>\n",
              "    <tr>\n",
              "      <th class=\"blank level0\" >&nbsp;</th>\n",
              "      <th class=\"col_heading level0 col0\" >GenderID</th>\n",
              "      <th class=\"col_heading level0 col1\" >Position</th>\n",
              "      <th class=\"col_heading level0 col2\" >EmpSatisfaction</th>\n",
              "      <th class=\"col_heading level0 col3\" >SpecialProjectsCount</th>\n",
              "      <th class=\"col_heading level0 col4\" >Salary</th>\n",
              "    </tr>\n",
              "  </thead>\n",
              "  <tbody>\n",
              "    <tr>\n",
              "      <th id=\"T_ce690_level0_row0\" class=\"row_heading level0 row0\" >GenderID</th>\n",
              "      <td id=\"T_ce690_row0_col0\" class=\"data row0 col0\" >1.000000</td>\n",
              "      <td id=\"T_ce690_row0_col1\" class=\"data row0 col1\" >-0.093812</td>\n",
              "      <td id=\"T_ce690_row0_col2\" class=\"data row0 col2\" >-0.044603</td>\n",
              "      <td id=\"T_ce690_row0_col3\" class=\"data row0 col3\" >0.087073</td>\n",
              "      <td id=\"T_ce690_row0_col4\" class=\"data row0 col4\" >0.056097</td>\n",
              "    </tr>\n",
              "    <tr>\n",
              "      <th id=\"T_ce690_level0_row1\" class=\"row_heading level0 row1\" >Position</th>\n",
              "      <td id=\"T_ce690_row1_col0\" class=\"data row1 col0\" >-0.093812</td>\n",
              "      <td id=\"T_ce690_row1_col1\" class=\"data row1 col1\" >1.000000</td>\n",
              "      <td id=\"T_ce690_row1_col2\" class=\"data row1 col2\" >-0.022200</td>\n",
              "      <td id=\"T_ce690_row1_col3\" class=\"data row1 col3\" >-0.226137</td>\n",
              "      <td id=\"T_ce690_row1_col4\" class=\"data row1 col4\" >-0.184032</td>\n",
              "    </tr>\n",
              "    <tr>\n",
              "      <th id=\"T_ce690_level0_row2\" class=\"row_heading level0 row2\" >EmpSatisfaction</th>\n",
              "      <td id=\"T_ce690_row2_col0\" class=\"data row2 col0\" >-0.044603</td>\n",
              "      <td id=\"T_ce690_row2_col1\" class=\"data row2 col1\" >-0.022200</td>\n",
              "      <td id=\"T_ce690_row2_col2\" class=\"data row2 col2\" >1.000000</td>\n",
              "      <td id=\"T_ce690_row2_col3\" class=\"data row2 col3\" >0.033877</td>\n",
              "      <td id=\"T_ce690_row2_col4\" class=\"data row2 col4\" >0.062718</td>\n",
              "    </tr>\n",
              "    <tr>\n",
              "      <th id=\"T_ce690_level0_row3\" class=\"row_heading level0 row3\" >SpecialProjectsCount</th>\n",
              "      <td id=\"T_ce690_row3_col0\" class=\"data row3 col0\" >0.087073</td>\n",
              "      <td id=\"T_ce690_row3_col1\" class=\"data row3 col1\" >-0.226137</td>\n",
              "      <td id=\"T_ce690_row3_col2\" class=\"data row3 col2\" >0.033877</td>\n",
              "      <td id=\"T_ce690_row3_col3\" class=\"data row3 col3\" >1.000000</td>\n",
              "      <td id=\"T_ce690_row3_col4\" class=\"data row3 col4\" >0.508333</td>\n",
              "    </tr>\n",
              "    <tr>\n",
              "      <th id=\"T_ce690_level0_row4\" class=\"row_heading level0 row4\" >Salary</th>\n",
              "      <td id=\"T_ce690_row4_col0\" class=\"data row4 col0\" >0.056097</td>\n",
              "      <td id=\"T_ce690_row4_col1\" class=\"data row4 col1\" >-0.184032</td>\n",
              "      <td id=\"T_ce690_row4_col2\" class=\"data row4 col2\" >0.062718</td>\n",
              "      <td id=\"T_ce690_row4_col3\" class=\"data row4 col3\" >0.508333</td>\n",
              "      <td id=\"T_ce690_row4_col4\" class=\"data row4 col4\" >1.000000</td>\n",
              "    </tr>\n",
              "  </tbody>\n",
              "</table>\n"
            ]
          },
          "metadata": {},
          "execution_count": 28
        }
      ],
      "source": [
        "df.corr().style.background_gradient(cmap=\"Blues\") # YlOrBr Greys GnBu"
      ]
    },
    {
      "cell_type": "markdown",
      "metadata": {
        "id": "oDMItjl1qM3R"
      },
      "source": [
        "# Data Splitting "
      ]
    },
    {
      "cell_type": "code",
      "execution_count": 29,
      "metadata": {
        "colab": {
          "base_uri": "https://localhost:8080/"
        },
        "id": "Vq1bHJuzqM3R",
        "outputId": "3535178e-3e0d-44b4-fc07-25967c04a9e8"
      },
      "outputs": [
        {
          "output_type": "stream",
          "name": "stdout",
          "text": [
            "X_train Rows size:  248\n",
            "X_train Columns size:  4\n",
            "\n",
            "y_train Rows size:  248\n",
            "\n",
            "X_test Rows size:  63\n",
            "X_test Columns size:  4\n",
            "\n",
            "y_test Rows size:  63\n"
          ]
        }
      ],
      "source": [
        "X = df.drop(target, axis=1)\n",
        "y = df[target]\n",
        "\n",
        "if Random == 'Enable': \n",
        "    X_train, X_test, y_train, y_test = train_test_split(X, y, test_size=Split_size, random_state=Randon_state_size)\n",
        "\n",
        "print('X_train Rows size: ', X_train.shape[0])\n",
        "print('X_train Columns size: ', X_train.shape[1])\n",
        "print('\\ny_train Rows size: ', y_train.shape[0])\n",
        "print('\\nX_test Rows size: ', X_test.shape[0])\n",
        "print('X_test Columns size: ', X_test.shape[1])\n",
        "print('\\ny_test Rows size: ', y_test.shape[0])"
      ]
    },
    {
      "cell_type": "markdown",
      "metadata": {
        "id": "klkzPXeTqM3S"
      },
      "source": [
        "# Machine Learning Models "
      ]
    },
    {
      "cell_type": "markdown",
      "metadata": {
        "id": "9HviSeSzqM3S"
      },
      "source": [
        "## Build the Machine Learning Models on "
      ]
    },
    {
      "cell_type": "code",
      "execution_count": 30,
      "metadata": {
        "colab": {
          "base_uri": "https://localhost:8080/"
        },
        "id": "D9dxHKFHqM3S",
        "outputId": "9b9fe940-dfe7-47ef-c6f4-b6c1dfd780b1"
      },
      "outputs": [
        {
          "output_type": "stream",
          "name": "stdout",
          "text": [
            "\n",
            "Random Forest Regressor model trained\n",
            "\n",
            "Gradient Boosting Regressor model trained\n",
            "\n",
            "Histogram-based Gradient Boosting Regression model trained\n",
            "\n",
            "AdaBoost Regressor model trained\n",
            "\n",
            "Extra Trees Regressor model trained\n",
            "\n",
            "K Neighbors Regressor model trained\n",
            "\n",
            "Decision Tree Regressor model trained\n",
            "[05:33:31] WARNING: /workspace/src/objective/regression_obj.cu:152: reg:linear is now deprecated in favor of reg:squarederror.\n",
            "\n",
            "XGBoost Regressors model trained\n",
            "\n",
            "Support Vector Machines Regressors model trained\n",
            "\n",
            "Linear Support Vector Regression model trained\n",
            "\n",
            "Multilayer Perceptron Regressor model trained\n"
          ]
        }
      ],
      "source": [
        "if ML_ST == 'Enable':\n",
        "\n",
        "    # Random Forest Regressor\n",
        "    rf_ST = RandomForestRegressor(random_state = Randon_state_size).fit(X_train, y_train)\n",
        "    print ('\\nRandom Forest Regressor model trained')\n",
        "\n",
        "    # Gradient Boosting Regressor\n",
        "    gb_ST = GradientBoostingRegressor(random_state = Randon_state_size).fit(X_train, y_train)\n",
        "    print ('\\nGradient Boosting Regressor model trained')\n",
        "\n",
        "    # Histogram-based Gradient Boosting Regression\n",
        "    hgb_ST = HistGradientBoostingRegressor(random_state = Randon_state_size).fit(X_train, y_train)\n",
        "    print ('\\nHistogram-based Gradient Boosting Regression model trained')\n",
        "\n",
        "    # AdaBoost Regressor\n",
        "    ad_ST = AdaBoostRegressor(random_state = Randon_state_size).fit(X_train, y_train)\n",
        "    print ('\\nAdaBoost Regressor model trained')\n",
        "\n",
        "    # Extra Trees Regressor\n",
        "    et_ST = ExtraTreesRegressor(random_state = Randon_state_size).fit(X_train, y_train)\n",
        "    print ('\\nExtra Trees Regressor model trained')\n",
        "\n",
        "    # K Neighbors Regressor\n",
        "    knn_ST = KNeighborsRegressor().fit(X_train, y_train)\n",
        "    print ('\\nK Neighbors Regressor model trained')\n",
        "\n",
        "    # Decision Tree Regressor\n",
        "    dt_ST = DecisionTreeRegressor(random_state = Randon_state_size).fit(X_train, y_train)\n",
        "    print ('\\nDecision Tree Regressor model trained')\n",
        "\n",
        "    # XGBoost Regressors\n",
        "    xgb_ST = XGBRegressor(random_state = Randon_state_size).fit(X_train, y_train)\n",
        "    print ('\\nXGBoost Regressors model trained')\n",
        "\n",
        "    # Support Vector Machines Regressors\n",
        "    svm_ST = SVR().fit(X_train, y_train)\n",
        "    print ('\\nSupport Vector Machines Regressors model trained')\n",
        "\n",
        "    # Linear Support Vector Regression\n",
        "    lsvm_ST = LinearSVR(random_state = Randon_state_size).fit(X_train, y_train)\n",
        "    print ('\\nLinear Support Vector Regression model trained')\n",
        "\n",
        "    # Multilayer Perceptron Regressor\n",
        "    mlp_ST = MLPRegressor(random_state = Randon_state_size).fit(X_train, y_train)\n",
        "    print ('\\nMultilayer Perceptron Regressor model trained')"
      ]
    },
    {
      "cell_type": "markdown",
      "metadata": {
        "id": "vC4SZvaNqM3S"
      },
      "source": [
        "## Predict y_test Using Machine Learning  Models"
      ]
    },
    {
      "cell_type": "code",
      "execution_count": 31,
      "metadata": {
        "colab": {
          "base_uri": "https://localhost:8080/"
        },
        "id": "pcLuDR0lqM3T",
        "outputId": "c5e3b05a-e467-49f4-87b1-29bffc5613e5"
      },
      "outputs": [
        {
          "output_type": "stream",
          "name": "stdout",
          "text": [
            "\n",
            "Predict y_test using Random Forest Regressor model\n",
            "\n",
            "Predict y_test using Gradient Boosting Regressor model done\n",
            "\n",
            "Predict y_test using Histogram-based Gradient Boosting Regression model done\n",
            "\n",
            "Predict y_test using AdaBoost Regressor model done\n",
            "\n",
            "Predict y_test using Extra Trees Regressor model done\n",
            "\n",
            "Predict y_test using K Neighbors Regressor model done\n",
            "\n",
            "Predict y_test using Decision Tree Regressor model done\n",
            "\n",
            "Predict y_test using XGBoost Regressors model done\n",
            "\n",
            "Predict y_test using Support Vector Machines Regressors model done\n",
            "\n",
            "Predict y_test using Linear Support Vector Regression model done\n",
            "\n",
            "Predict y_test using Multilayer Perceptron Regressor model done\n"
          ]
        }
      ],
      "source": [
        "if ML_ST == 'Enable':\n",
        "\n",
        "    # Random Forest Regressor\n",
        "    rf_ST_pred = rf_ST.predict(X_test)\n",
        "    print ('\\nPredict y_test using Random Forest Regressor model')\n",
        "\n",
        "    # Gradient Boosting Regressor\n",
        "    gb_ST_pred = gb_ST.predict(X_test)\n",
        "    print ('\\nPredict y_test using Gradient Boosting Regressor model done')\n",
        "\n",
        "    # Histogram-based Gradient Boosting Regression Tree\n",
        "    hgb_ST_pred = hgb_ST.predict(X_test)\n",
        "    print ('\\nPredict y_test using Histogram-based Gradient Boosting Regression model done')\n",
        "\n",
        "    # AdaBoost Regressor\n",
        "    ad_ST_pred = ad_ST.predict(X_test)\n",
        "    print ('\\nPredict y_test using AdaBoost Regressor model done')\n",
        "\n",
        "    # Extra Trees Regressor\n",
        "    et_ST_pred = et_ST.predict(X_test)\n",
        "    print ('\\nPredict y_test using Extra Trees Regressor model done')\n",
        "\n",
        "    # K Neighbors Regressor\n",
        "    knn_ST_pred = knn_ST.predict(X_test)\n",
        "    print ('\\nPredict y_test using K Neighbors Regressor model done')\n",
        "\n",
        "    # Decision Tree Regressor\n",
        "    dt_ST_pred = dt_ST.predict(X_test)\n",
        "    print ('\\nPredict y_test using Decision Tree Regressor model done')\n",
        "\n",
        "    # XGBoost Regressors\n",
        "    xgb_ST_pred = xgb_ST.predict(X_test)\n",
        "    print ('\\nPredict y_test using XGBoost Regressors model done')\n",
        "\n",
        "    # Support Vector Machines Regressors\n",
        "    svm_ST_pred = svm_ST.predict(X_test)\n",
        "    print ('\\nPredict y_test using Support Vector Machines Regressors model done')\n",
        "\n",
        "    # Linear Support Vector Regression\n",
        "    lsvm_ST_pred = lsvm_ST.predict(X_test)\n",
        "    print ('\\nPredict y_test using Linear Support Vector Regression model done')\n",
        "\n",
        "    # Multilayer Perceptron Regressor\n",
        "    mlp_ST_pred = mlp_ST.predict(X_test)\n",
        "    print ('\\nPredict y_test using Multilayer Perceptron Regressor model done')"
      ]
    },
    {
      "cell_type": "markdown",
      "metadata": {
        "id": "jg117eOQqM3T"
      },
      "source": [
        "## Evaluate the Models "
      ]
    },
    {
      "cell_type": "markdown",
      "metadata": {
        "id": "Qi6X3NZvqM3T"
      },
      "source": [
        "### Random Forest Regressor"
      ]
    },
    {
      "cell_type": "code",
      "execution_count": 32,
      "metadata": {
        "colab": {
          "base_uri": "https://localhost:8080/"
        },
        "id": "BDideKd4qM3T",
        "outputId": "0847173a-d4a6-4ed0-c446-dcec34e6c77f"
      },
      "outputs": [
        {
          "output_type": "stream",
          "name": "stdout",
          "text": [
            "+----+--------------------------------------------+------------+\n",
            "|    | Random Forest Regressor Standered Models   |   Accuracy |\n",
            "|----+--------------------------------------------+------------|\n",
            "|  0 | Mean Absolute Error (MAE)                  |   0.358649 |\n",
            "|  1 | Mean Squared Error (MSE)                   |   0.576828 |\n",
            "|  2 | Root Mean Squared Error (RMSE)             |   0.759492 |\n",
            "|  3 | Explained Variance Score                   |   0.564326 |\n",
            "|  4 | Max Error                                  |   5.09523  |\n",
            "|  5 | Median Absolute Error                      |   0.22122  |\n",
            "|  6 | R^2                                        |   0.550452 |\n",
            "+----+--------------------------------------------+------------+\n"
          ]
        }
      ],
      "source": [
        "if ML_ST == 'Enable':\n",
        "    # Mean Absolute Error (MAE)\n",
        "    mean_absolute_error_rf_ST = mean_absolute_error(y_test, rf_ST_pred)\n",
        "\n",
        "    # Mean Squared Error (MSE)\n",
        "    mean_squared_error_rf_ST = mean_squared_error(y_test, rf_ST_pred)\n",
        "\n",
        "    # Root Mean Squared Error (RMSE)\n",
        "    Root_mean_squared_error_rf_ST = mean_squared_error(y_test, rf_ST_pred, squared=False)\n",
        "\n",
        "    # Explained Variance Score\n",
        "    explained_variance_score_rf_ST = explained_variance_score(y_test, rf_ST_pred)\n",
        "\n",
        "    # Max Error\n",
        "    max_error_rf_ST = max_error(y_test, rf_ST_pred)\n",
        "\n",
        "    # Median Absolute Error\n",
        "    median_absolute_error_rf_ST = median_absolute_error(y_test, rf_ST_pred)\n",
        "\n",
        "    # R^2\n",
        "    r2_score_rf_ST = r2_score(y_test, rf_ST_pred)\n",
        "\n",
        "    _rf_ST_valid_compare = pd.DataFrame({\"Random Forest Regressor Standered Models\": [\n",
        "                                                \"Mean Absolute Error (MAE)\", \n",
        "                                                \"Mean Squared Error (MSE)\",\n",
        "                                                \"Root Mean Squared Error (RMSE)\",\n",
        "                                                \"Explained Variance Score\",\n",
        "                                                \"Max Error\",\n",
        "                                                \"Median Absolute Error\",\n",
        "                                                \"R^2\",\n",
        "                                                ],\n",
        "\n",
        "                                \"Accuracy\": [\n",
        "                                                mean_absolute_error_rf_ST, \n",
        "                                                mean_squared_error_rf_ST,\n",
        "                                                Root_mean_squared_error_rf_ST,\n",
        "                                                explained_variance_score_rf_ST,\n",
        "                                                max_error_rf_ST,\n",
        "                                                median_absolute_error_rf_ST,\n",
        "                                                r2_score_rf_ST,\n",
        "                                                ],\n",
        "                                        })  \n",
        "    print(tabulate(_rf_ST_valid_compare, headers = 'keys', tablefmt = 'psql'))"
      ]
    },
    {
      "cell_type": "markdown",
      "metadata": {
        "id": "2HiAv3FEqM3U"
      },
      "source": [
        "### Gradient Boosting Regressor"
      ]
    },
    {
      "cell_type": "code",
      "execution_count": 33,
      "metadata": {
        "colab": {
          "base_uri": "https://localhost:8080/"
        },
        "id": "tXA-uku7qM3U",
        "outputId": "8c6a22ef-80f6-41b7-a184-4d917364d9f8"
      },
      "outputs": [
        {
          "output_type": "stream",
          "name": "stdout",
          "text": [
            "+----+------------------------------------------------+------------+\n",
            "|    | Gradient Boosting Regressor Standered Models   |   Accuracy |\n",
            "|----+------------------------------------------------+------------|\n",
            "|  0 | Mean Absolute Error (MAE)                      |   0.372649 |\n",
            "|  1 | Mean Squared Error (MSE)                       |   0.597936 |\n",
            "|  2 | Root Mean Squared Error (RMSE)                 |   0.773263 |\n",
            "|  3 | Explained Variance Score                       |   0.539179 |\n",
            "|  4 | Max Error                                      |   5.17118  |\n",
            "|  5 | Median Absolute Error                          |   0.219218 |\n",
            "|  6 | R^2                                            |   0.534002 |\n",
            "+----+------------------------------------------------+------------+\n"
          ]
        }
      ],
      "source": [
        "if ML_ST == 'Enable':\n",
        "    \n",
        "    # Mean Absolute Error (MAE)\n",
        "    mean_absolute_error_gb_ST = mean_absolute_error(y_test, gb_ST_pred)\n",
        "\n",
        "    # Mean Squared Error (MSE)\n",
        "    mean_squared_error_gb_ST = mean_squared_error(y_test, gb_ST_pred)\n",
        "\n",
        "    # Root Mean Squared Error (RMSE)\n",
        "    Root_mean_squared_error_gb_ST = mean_squared_error(y_test, gb_ST_pred, squared=False)\n",
        "\n",
        "    # Explained Variance Score\n",
        "    explained_variance_score_gb_ST = explained_variance_score(y_test, gb_ST_pred)\n",
        "\n",
        "    # Max Error\n",
        "    max_error_gb_ST = max_error(y_test, gb_ST_pred)\n",
        "\n",
        "    # Median Absolute Error\n",
        "    median_absolute_error_gb_ST = median_absolute_error(y_test, gb_ST_pred)\n",
        "\n",
        "    # R^2\n",
        "    r2_score_gb_ST = r2_score(y_test, gb_ST_pred)\n",
        "\n",
        "    _gb_ST_valid_compare = pd.DataFrame({\"Gradient Boosting Regressor Standered Models\": [\n",
        "                                                \"Mean Absolute Error (MAE)\", \n",
        "                                                \"Mean Squared Error (MSE)\",\n",
        "                                                \"Root Mean Squared Error (RMSE)\",\n",
        "                                                \"Explained Variance Score\",\n",
        "                                                \"Max Error\",\n",
        "                                                \"Median Absolute Error\",\n",
        "                                                \"R^2\",\n",
        "                                                ],\n",
        "\n",
        "                                \"Accuracy\": [\n",
        "                                                mean_absolute_error_gb_ST, \n",
        "                                                mean_squared_error_gb_ST,\n",
        "                                                Root_mean_squared_error_gb_ST,\n",
        "                                                explained_variance_score_gb_ST,\n",
        "                                                max_error_gb_ST,\n",
        "                                                median_absolute_error_gb_ST,\n",
        "                                                r2_score_gb_ST,\n",
        "                                                ],\n",
        "                                        })  \n",
        "    print(tabulate(_gb_ST_valid_compare, headers = 'keys', tablefmt = 'psql'))"
      ]
    },
    {
      "cell_type": "markdown",
      "metadata": {
        "id": "HvLr7rzpqM3U"
      },
      "source": [
        "### Histogram-based Gradient Boosting Regressor"
      ]
    },
    {
      "cell_type": "code",
      "execution_count": 34,
      "metadata": {
        "colab": {
          "base_uri": "https://localhost:8080/"
        },
        "id": "j4gqHIp9qM3U",
        "outputId": "415d5ceb-bb7e-453b-fb28-de49d048f140"
      },
      "outputs": [
        {
          "output_type": "stream",
          "name": "stdout",
          "text": [
            "+----+----------------------------------------------------------------+------------+\n",
            "|    | Histogram-based Gradient Boosting Regressor Standered Models   |   Accuracy |\n",
            "|----+----------------------------------------------------------------+------------|\n",
            "|  0 | Mean Absolute Error (MAE)                                      |   0.369254 |\n",
            "|  1 | Mean Squared Error (MSE)                                       |   0.572405 |\n",
            "|  2 | Root Mean Squared Error (RMSE)                                 |   0.756574 |\n",
            "|  3 | Explained Variance Score                                       |   0.559513 |\n",
            "|  4 | Max Error                                                      |   5.03331  |\n",
            "|  5 | Median Absolute Error                                          |   0.239566 |\n",
            "|  6 | R^2                                                            |   0.553899 |\n",
            "+----+----------------------------------------------------------------+------------+\n"
          ]
        }
      ],
      "source": [
        "if ML_ST == 'Enable':\n",
        "    \n",
        "    # Mean Absolute Error (MAE)\n",
        "    mean_absolute_error_hgb_ST = mean_absolute_error(y_test, hgb_ST_pred)\n",
        "\n",
        "    # Mean Squared Error (MSE)\n",
        "    mean_squared_error_hgb_ST = mean_squared_error(y_test, hgb_ST_pred)\n",
        "\n",
        "    # Root Mean Squared Error (RMSE)\n",
        "    Root_mean_squared_error_hgb_ST = mean_squared_error(y_test, hgb_ST_pred, squared=False)\n",
        "\n",
        "    # Explained Variance Score\n",
        "    explained_variance_score_hgb_ST = explained_variance_score(y_test, hgb_ST_pred)\n",
        "\n",
        "    # Max Error\n",
        "    max_error_hgb_ST = max_error(y_test, hgb_ST_pred)\n",
        "\n",
        "    # Median Absolute Error\n",
        "    median_absolute_error_hgb_ST = median_absolute_error(y_test, hgb_ST_pred)\n",
        "\n",
        "    # R^2\n",
        "    r2_score_hgb_ST = r2_score(y_test, hgb_ST_pred)\n",
        "\n",
        "    _hgb_ST_valid_compare = pd.DataFrame({\"Histogram-based Gradient Boosting Regressor Standered Models\": [\n",
        "                                                \"Mean Absolute Error (MAE)\", \n",
        "                                                \"Mean Squared Error (MSE)\",\n",
        "                                                \"Root Mean Squared Error (RMSE)\",\n",
        "                                                \"Explained Variance Score\",\n",
        "                                                \"Max Error\",\n",
        "                                                \"Median Absolute Error\",\n",
        "                                                \"R^2\",\n",
        "                                                ],\n",
        "\n",
        "                                \"Accuracy\": [\n",
        "                                                mean_absolute_error_hgb_ST, \n",
        "                                                mean_squared_error_hgb_ST,\n",
        "                                                Root_mean_squared_error_hgb_ST,\n",
        "                                                explained_variance_score_hgb_ST,\n",
        "                                                max_error_hgb_ST,\n",
        "                                                median_absolute_error_hgb_ST,\n",
        "                                                r2_score_hgb_ST,\n",
        "                                                ],\n",
        "                                        })  \n",
        "    print(tabulate(_hgb_ST_valid_compare, headers = 'keys', tablefmt = 'psql'))"
      ]
    },
    {
      "cell_type": "markdown",
      "metadata": {
        "id": "PvT-XS2XqM3V"
      },
      "source": [
        "### AdaBoost Regressor"
      ]
    },
    {
      "cell_type": "code",
      "execution_count": 35,
      "metadata": {
        "colab": {
          "base_uri": "https://localhost:8080/"
        },
        "id": "e810n3r-qM3V",
        "outputId": "c7d7275a-659a-4512-b468-8c5bd83669a8"
      },
      "outputs": [
        {
          "output_type": "stream",
          "name": "stdout",
          "text": [
            "+----+---------------------------------------+------------+\n",
            "|    | AdaBoost Regressor Standered Models   |   Accuracy |\n",
            "|----+---------------------------------------+------------|\n",
            "|  0 | Mean Absolute Error (MAE)             |   0.389067 |\n",
            "|  1 | Mean Squared Error (MSE)              |   0.590159 |\n",
            "|  2 | Root Mean Squared Error (RMSE)        |   0.768218 |\n",
            "|  3 | Explained Variance Score              |   0.555248 |\n",
            "|  4 | Max Error                             |   5.03804  |\n",
            "|  5 | Median Absolute Error                 |   0.233831 |\n",
            "|  6 | R^2                                   |   0.540063 |\n",
            "+----+---------------------------------------+------------+\n"
          ]
        }
      ],
      "source": [
        "if ML_ST == 'Enable':\n",
        "    \n",
        "    # Mean Absolute Error (MAE)\n",
        "    mean_absolute_error_ad_ST = mean_absolute_error(y_test, ad_ST_pred)\n",
        "\n",
        "    # Mean Squared Error (MSE)\n",
        "    mean_squared_error_ad_ST = mean_squared_error(y_test, ad_ST_pred)\n",
        "\n",
        "    # Root Mean Squared Error (RMSE)\n",
        "    Root_mean_squared_error_ad_ST = mean_squared_error(y_test, ad_ST_pred, squared=False)\n",
        "\n",
        "    # Explained Variance Score\n",
        "    explained_variance_score_ad_ST = explained_variance_score(y_test, ad_ST_pred)\n",
        "\n",
        "    # Max Error\n",
        "    max_error_ad_ST = max_error(y_test, ad_ST_pred)\n",
        "\n",
        "    # Median Absolute Error\n",
        "    median_absolute_error_ad_ST = median_absolute_error(y_test, ad_ST_pred)\n",
        "\n",
        "    # R^2\n",
        "    r2_score_ad_ST = r2_score(y_test, ad_ST_pred)\n",
        "\n",
        "    _ad_ST_valid_compare = pd.DataFrame({\"AdaBoost Regressor Standered Models\": [\n",
        "                                                \"Mean Absolute Error (MAE)\", \n",
        "                                                \"Mean Squared Error (MSE)\",\n",
        "                                                \"Root Mean Squared Error (RMSE)\",\n",
        "                                                \"Explained Variance Score\",\n",
        "                                                \"Max Error\",\n",
        "                                                \"Median Absolute Error\",\n",
        "                                                \"R^2\",\n",
        "                                                ],\n",
        "\n",
        "                                \"Accuracy\": [\n",
        "                                                mean_absolute_error_ad_ST, \n",
        "                                                mean_squared_error_ad_ST,\n",
        "                                                Root_mean_squared_error_ad_ST,\n",
        "                                                explained_variance_score_ad_ST,\n",
        "                                                max_error_ad_ST,\n",
        "                                                median_absolute_error_ad_ST,\n",
        "                                                r2_score_ad_ST,\n",
        "                                                ],\n",
        "                                        })  \n",
        "    print(tabulate(_ad_ST_valid_compare, headers = 'keys', tablefmt = 'psql'))"
      ]
    },
    {
      "cell_type": "markdown",
      "metadata": {
        "id": "oetE4W12qM3V"
      },
      "source": [
        "### Extra Trees Regressor"
      ]
    },
    {
      "cell_type": "code",
      "execution_count": 36,
      "metadata": {
        "colab": {
          "base_uri": "https://localhost:8080/"
        },
        "id": "5GT1AQvlqM3V",
        "outputId": "6b54f105-37c9-49d5-ad6c-5de7f3be9e62"
      },
      "outputs": [
        {
          "output_type": "stream",
          "name": "stdout",
          "text": [
            "+----+------------------------------------------+------------+\n",
            "|    | Extra Trees Regressor Standered Models   |   Accuracy |\n",
            "|----+------------------------------------------+------------|\n",
            "|  0 | Mean Absolute Error (MAE)                |   0.409654 |\n",
            "|  1 | Mean Squared Error (MSE)                 |   0.675898 |\n",
            "|  2 | Root Mean Squared Error (RMSE)           |   0.82213  |\n",
            "|  3 | Explained Variance Score                 |   0.497949 |\n",
            "|  4 | Max Error                                |   5.16322  |\n",
            "|  5 | Median Absolute Error                    |   0.242931 |\n",
            "|  6 | R^2                                      |   0.473243 |\n",
            "+----+------------------------------------------+------------+\n"
          ]
        }
      ],
      "source": [
        "if ML_ST == 'Enable':\n",
        "    \n",
        "    # Mean Absolute Error (MAE)\n",
        "    mean_absolute_error_et_ST = mean_absolute_error(y_test, et_ST_pred)\n",
        "\n",
        "    # Mean Squared Error (MSE)\n",
        "    mean_squared_error_et_ST = mean_squared_error(y_test, et_ST_pred)\n",
        "\n",
        "    # Root Mean Squared Error (RMSE)\n",
        "    Root_mean_squared_error_et_ST = mean_squared_error(y_test, et_ST_pred, squared=False)\n",
        "\n",
        "    # Explained Variance Score\n",
        "    explained_variance_score_et_ST = explained_variance_score(y_test, et_ST_pred)\n",
        "\n",
        "    # Max Error\n",
        "    max_error_et_ST = max_error(y_test, et_ST_pred)\n",
        "\n",
        "    # Median Absolute Error\n",
        "    median_absolute_error_et_ST = median_absolute_error(y_test, et_ST_pred)\n",
        "\n",
        "    # R^2\n",
        "    r2_score_et_ST = r2_score(y_test, et_ST_pred)\n",
        "\n",
        "    _et_ST_valid_compare = pd.DataFrame({\"Extra Trees Regressor Standered Models\": [\n",
        "                                                \"Mean Absolute Error (MAE)\", \n",
        "                                                \"Mean Squared Error (MSE)\",\n",
        "                                                \"Root Mean Squared Error (RMSE)\",\n",
        "                                                \"Explained Variance Score\",\n",
        "                                                \"Max Error\",\n",
        "                                                \"Median Absolute Error\",\n",
        "                                                \"R^2\",\n",
        "                                                ],\n",
        "\n",
        "                                \"Accuracy\": [\n",
        "                                                mean_absolute_error_et_ST, \n",
        "                                                mean_squared_error_et_ST,\n",
        "                                                Root_mean_squared_error_et_ST,\n",
        "                                                explained_variance_score_et_ST,\n",
        "                                                max_error_et_ST,\n",
        "                                                median_absolute_error_et_ST,\n",
        "                                                r2_score_et_ST,\n",
        "                                                ],\n",
        "                                        })  \n",
        "    print(tabulate(_et_ST_valid_compare, headers = 'keys', tablefmt = 'psql'))"
      ]
    },
    {
      "cell_type": "markdown",
      "metadata": {
        "id": "byb0NXykqM3W"
      },
      "source": [
        "### K Neighbors Regressor"
      ]
    },
    {
      "cell_type": "code",
      "execution_count": 37,
      "metadata": {
        "colab": {
          "base_uri": "https://localhost:8080/"
        },
        "id": "jntX062HqM3W",
        "outputId": "229a56cc-9271-4f7c-8018-198a07956c55"
      },
      "outputs": [
        {
          "output_type": "stream",
          "name": "stdout",
          "text": [
            "+----+------------------------------------------+------------+\n",
            "|    | K Neighbors Regressor Standered Models   |   Accuracy |\n",
            "|----+------------------------------------------+------------|\n",
            "|  0 | Mean Absolute Error (MAE)                |   0.431833 |\n",
            "|  1 | Mean Squared Error (MSE)                 |   0.721291 |\n",
            "|  2 | Root Mean Squared Error (RMSE)           |   0.849289 |\n",
            "|  3 | Explained Variance Score                 |   0.468868 |\n",
            "|  4 | Max Error                                |   5.07619  |\n",
            "|  5 | Median Absolute Error                    |   0.251002 |\n",
            "|  6 | R^2                                      |   0.437866 |\n",
            "+----+------------------------------------------+------------+\n"
          ]
        }
      ],
      "source": [
        "if ML_ST == 'Enable':\n",
        "    \n",
        "    # Mean Absolute Error (MAE)\n",
        "    mean_absolute_error_knn_ST = mean_absolute_error(y_test, knn_ST_pred)\n",
        "\n",
        "    # Mean Squared Error (MSE)\n",
        "    mean_squared_error_knn_ST = mean_squared_error(y_test, knn_ST_pred)\n",
        "\n",
        "    # Root Mean Squared Error (RMSE)\n",
        "    Root_mean_squared_error_knn_ST = mean_squared_error(y_test, knn_ST_pred, squared=False)\n",
        "\n",
        "    # Explained Variance Score\n",
        "    explained_variance_score_knn_ST = explained_variance_score(y_test, knn_ST_pred)\n",
        "\n",
        "    # Max Error\n",
        "    max_error_knn_ST = max_error(y_test, knn_ST_pred)\n",
        "\n",
        "    # Median Absolute Error\n",
        "    median_absolute_error_knn_ST = median_absolute_error(y_test, knn_ST_pred)\n",
        "\n",
        "    # R^2\n",
        "    r2_score_knn_ST = r2_score(y_test, knn_ST_pred)\n",
        "\n",
        "    _knn_ST_valid_compare = pd.DataFrame({\"K Neighbors Regressor Standered Models\": [\n",
        "                                                \"Mean Absolute Error (MAE)\", \n",
        "                                                \"Mean Squared Error (MSE)\",\n",
        "                                                \"Root Mean Squared Error (RMSE)\",\n",
        "                                                \"Explained Variance Score\",\n",
        "                                                \"Max Error\",\n",
        "                                                \"Median Absolute Error\",\n",
        "                                                \"R^2\",\n",
        "                                                ],\n",
        "\n",
        "                                \"Accuracy\": [\n",
        "                                                mean_absolute_error_knn_ST, \n",
        "                                                mean_squared_error_knn_ST,\n",
        "                                                Root_mean_squared_error_knn_ST,\n",
        "                                                explained_variance_score_knn_ST,\n",
        "                                                max_error_knn_ST,\n",
        "                                                median_absolute_error_knn_ST,\n",
        "                                                r2_score_knn_ST,\n",
        "                                                ],\n",
        "                                        })  \n",
        "    print(tabulate(_knn_ST_valid_compare, headers = 'keys', tablefmt = 'psql'))"
      ]
    },
    {
      "cell_type": "markdown",
      "metadata": {
        "id": "4nK0kvuLqM3W"
      },
      "source": [
        "### Decision Tree Regressor"
      ]
    },
    {
      "cell_type": "code",
      "execution_count": 38,
      "metadata": {
        "colab": {
          "base_uri": "https://localhost:8080/"
        },
        "id": "fYM4ivnnqM3W",
        "outputId": "59194e3a-6256-458e-bca8-2bcf605daeff"
      },
      "outputs": [
        {
          "output_type": "stream",
          "name": "stdout",
          "text": [
            "+----+--------------------------------------------+------------+\n",
            "|    | Decision Tree Regressor Standered Models   |   Accuracy |\n",
            "|----+--------------------------------------------+------------|\n",
            "|  0 | Mean Absolute Error (MAE)                  |   0.395636 |\n",
            "|  1 | Mean Squared Error (MSE)                   |   0.713976 |\n",
            "|  2 | Root Mean Squared Error (RMSE)             |   0.844971 |\n",
            "|  3 | Explained Variance Score                   |   0.452163 |\n",
            "|  4 | Max Error                                  |   5.19853  |\n",
            "|  5 | Median Absolute Error                      |   0.214486 |\n",
            "|  6 | R^2                                        |   0.443567 |\n",
            "+----+--------------------------------------------+------------+\n"
          ]
        }
      ],
      "source": [
        "if ML_ST == 'Enable':\n",
        "    \n",
        "    # Mean Absolute Error (MAE)\n",
        "    mean_absolute_error_dt_ST = mean_absolute_error(y_test, dt_ST_pred)\n",
        "\n",
        "    # Mean Squared Error (MSE)\n",
        "    mean_squared_error_dt_ST = mean_squared_error(y_test, dt_ST_pred)\n",
        "\n",
        "    # Root Mean Squared Error (RMSE)\n",
        "    Root_mean_squared_error_dt_ST = mean_squared_error(y_test, dt_ST_pred, squared=False)\n",
        "\n",
        "    # Explained Variance Score\n",
        "    explained_variance_score_dt_ST = explained_variance_score(y_test, dt_ST_pred)\n",
        "\n",
        "    # Max Error\n",
        "    max_error_dt_ST = max_error(y_test, dt_ST_pred)\n",
        "\n",
        "    # Median Absolute Error\n",
        "    median_absolute_error_dt_ST = median_absolute_error(y_test, dt_ST_pred)\n",
        "\n",
        "    # R^2\n",
        "    r2_score_dt_ST = r2_score(y_test, dt_ST_pred)\n",
        "\n",
        "    _dt_ST_valid_compare = pd.DataFrame({\"Decision Tree Regressor Standered Models\": [\n",
        "                                                \"Mean Absolute Error (MAE)\", \n",
        "                                                \"Mean Squared Error (MSE)\",\n",
        "                                                \"Root Mean Squared Error (RMSE)\",\n",
        "                                                \"Explained Variance Score\",\n",
        "                                                \"Max Error\",\n",
        "                                                \"Median Absolute Error\",\n",
        "                                                \"R^2\",\n",
        "                                                ],\n",
        "\n",
        "                                \"Accuracy\": [\n",
        "                                                mean_absolute_error_dt_ST, \n",
        "                                                mean_squared_error_dt_ST,\n",
        "                                                Root_mean_squared_error_dt_ST,\n",
        "                                                explained_variance_score_dt_ST,\n",
        "                                                max_error_dt_ST,\n",
        "                                                median_absolute_error_dt_ST,\n",
        "                                                r2_score_dt_ST,\n",
        "                                                ],\n",
        "                                        })  \n",
        "    print(tabulate(_dt_ST_valid_compare, headers = 'keys', tablefmt = 'psql'))"
      ]
    },
    {
      "cell_type": "markdown",
      "metadata": {
        "id": "y-cbIZOtqM3X"
      },
      "source": [
        "### XGBoost Regressor"
      ]
    },
    {
      "cell_type": "code",
      "execution_count": 39,
      "metadata": {
        "colab": {
          "base_uri": "https://localhost:8080/"
        },
        "id": "QO_JrGa6qM3X",
        "outputId": "046ce8c5-3ef4-410e-e609-a70c72a0f73d"
      },
      "outputs": [
        {
          "output_type": "stream",
          "name": "stdout",
          "text": [
            "+----+--------------------------------------+------------+\n",
            "|    | XGBoost Regressor Standered Models   |   Accuracy |\n",
            "|----+--------------------------------------+------------|\n",
            "|  0 | Mean Absolute Error (MAE)            |   0.404242 |\n",
            "|  1 | Mean Squared Error (MSE)             |   0.747316 |\n",
            "|  2 | Root Mean Squared Error (RMSE)       |   0.864474 |\n",
            "|  3 | Explained Variance Score             |   0.440227 |\n",
            "|  4 | Max Error                            |   5.13766  |\n",
            "|  5 | Median Absolute Error                |   0.193005 |\n",
            "|  6 | R^2                                  |   0.417583 |\n",
            "+----+--------------------------------------+------------+\n"
          ]
        }
      ],
      "source": [
        "if ML_ST == 'Enable':\n",
        "    \n",
        "    # Mean Absolute Error (MAE)\n",
        "    mean_absolute_error_xgb_ST = mean_absolute_error(y_test, xgb_ST_pred)\n",
        "\n",
        "    # Mean Squared Error (MSE)\n",
        "    mean_squared_error_xgb_ST = mean_squared_error(y_test, xgb_ST_pred)\n",
        "\n",
        "    # Root Mean Squared Error (RMSE)\n",
        "    Root_mean_squared_error_xgb_ST = mean_squared_error(y_test, xgb_ST_pred, squared=False)\n",
        "\n",
        "    # Explained Variance Score\n",
        "    explained_variance_score_xgb_ST = explained_variance_score(y_test, xgb_ST_pred)\n",
        "\n",
        "    # Max Error\n",
        "    max_error_xgb_ST = max_error(y_test, xgb_ST_pred)\n",
        "\n",
        "    # Median Absolute Error\n",
        "    median_absolute_error_xgb_ST = median_absolute_error(y_test, xgb_ST_pred)\n",
        "\n",
        "    # R^2\n",
        "    r2_score_xgb_ST = r2_score(y_test, xgb_ST_pred)\n",
        "\n",
        "    _xgb_ST_valid_compare = pd.DataFrame({\"XGBoost Regressor Standered Models\": [\n",
        "                                                \"Mean Absolute Error (MAE)\", \n",
        "                                                \"Mean Squared Error (MSE)\",\n",
        "                                                \"Root Mean Squared Error (RMSE)\",\n",
        "                                                \"Explained Variance Score\",\n",
        "                                                \"Max Error\",\n",
        "                                                \"Median Absolute Error\",\n",
        "                                                \"R^2\",\n",
        "                                                ],\n",
        "\n",
        "                                \"Accuracy\": [\n",
        "                                                mean_absolute_error_xgb_ST, \n",
        "                                                mean_squared_error_xgb_ST,\n",
        "                                                Root_mean_squared_error_xgb_ST,\n",
        "                                                explained_variance_score_xgb_ST,\n",
        "                                                max_error_xgb_ST,\n",
        "                                                median_absolute_error_xgb_ST,\n",
        "                                                r2_score_xgb_ST,\n",
        "                                                ],\n",
        "                                        })  \n",
        "    print(tabulate(_xgb_ST_valid_compare, headers = 'keys', tablefmt = 'psql'))"
      ]
    },
    {
      "cell_type": "markdown",
      "metadata": {
        "id": "r-o86LbnqM3Y"
      },
      "source": [
        "### Support Vector Regressor"
      ]
    },
    {
      "cell_type": "code",
      "execution_count": 40,
      "metadata": {
        "colab": {
          "base_uri": "https://localhost:8080/"
        },
        "id": "TdFGZjUIqM3Y",
        "outputId": "6bcbf204-42bd-45a1-d1bc-0d54579c60ff"
      },
      "outputs": [
        {
          "output_type": "stream",
          "name": "stdout",
          "text": [
            "+----+---------------------------------------------+------------+\n",
            "|    | Support Vector Regressor Standered Models   |   Accuracy |\n",
            "|----+---------------------------------------------+------------|\n",
            "|  0 | Mean Absolute Error (MAE)                   |   0.481356 |\n",
            "|  1 | Mean Squared Error (MSE)                    |   0.848635 |\n",
            "|  2 | Root Mean Squared Error (RMSE)              |   0.921214 |\n",
            "|  3 | Explained Variance Score                    |   0.380387 |\n",
            "|  4 | Max Error                                   |   5.14661  |\n",
            "|  5 | Median Absolute Error                       |   0.252801 |\n",
            "|  6 | R^2                                         |   0.338621 |\n",
            "+----+---------------------------------------------+------------+\n"
          ]
        }
      ],
      "source": [
        "if ML_ST == 'Enable':\n",
        "    \n",
        "    # Mean Absolute Error (MAE)\n",
        "    mean_absolute_error_svm_ST = mean_absolute_error(y_test, svm_ST_pred)\n",
        "\n",
        "    # Mean Squared Error (MSE)\n",
        "    mean_squared_error_svm_ST = mean_squared_error(y_test, svm_ST_pred)\n",
        "\n",
        "    # Root Mean Squared Error (RMSE)\n",
        "    Root_mean_squared_error_svm_ST = mean_squared_error(y_test, svm_ST_pred, squared=False)\n",
        "\n",
        "    # Explained Variance Score\n",
        "    explained_variance_score_svm_ST = explained_variance_score(y_test, svm_ST_pred)\n",
        "\n",
        "    # Max Error\n",
        "    max_error_svm_ST = max_error(y_test, svm_ST_pred)\n",
        "\n",
        "    # Median Absolute Error\n",
        "    median_absolute_error_svm_ST = median_absolute_error(y_test, svm_ST_pred)\n",
        "\n",
        "    # R^2\n",
        "    r2_score_svm_ST = r2_score(y_test, svm_ST_pred)\n",
        "\n",
        "    _svm_ST_valid_compare = pd.DataFrame({\"Support Vector Regressor Standered Models\": [\n",
        "                                                \"Mean Absolute Error (MAE)\", \n",
        "                                                \"Mean Squared Error (MSE)\",\n",
        "                                                \"Root Mean Squared Error (RMSE)\",\n",
        "                                                \"Explained Variance Score\",\n",
        "                                                \"Max Error\",\n",
        "                                                \"Median Absolute Error\",\n",
        "                                                \"R^2\",\n",
        "                                                ],\n",
        "\n",
        "                                \"Accuracy\": [\n",
        "                                                mean_absolute_error_svm_ST, \n",
        "                                                mean_squared_error_svm_ST,\n",
        "                                                Root_mean_squared_error_svm_ST,\n",
        "                                                explained_variance_score_svm_ST,\n",
        "                                                max_error_svm_ST,\n",
        "                                                median_absolute_error_svm_ST,\n",
        "                                                r2_score_svm_ST,\n",
        "                                                ],\n",
        "                                        })  \n",
        "    print(tabulate(_svm_ST_valid_compare, headers = 'keys', tablefmt = 'psql'))"
      ]
    },
    {
      "cell_type": "markdown",
      "metadata": {
        "id": "OAhoX79OqM3Y"
      },
      "source": [
        "### Linear Support Vector Regressor"
      ]
    },
    {
      "cell_type": "code",
      "execution_count": 41,
      "metadata": {
        "colab": {
          "base_uri": "https://localhost:8080/"
        },
        "id": "R-3H5oPUqM3Z",
        "outputId": "6722bbd1-edf2-4976-cfe5-65d033399117"
      },
      "outputs": [
        {
          "output_type": "stream",
          "name": "stdout",
          "text": [
            "+----+----------------------------------------------------+------------+\n",
            "|    | Linear Support Vector Regressor Standered Models   |   Accuracy |\n",
            "|----+----------------------------------------------------+------------|\n",
            "|  0 | Mean Absolute Error (MAE)                          |   0.496125 |\n",
            "|  1 | Mean Squared Error (MSE)                           |   0.809691 |\n",
            "|  2 | Root Mean Squared Error (RMSE)                     |   0.899828 |\n",
            "|  3 | Explained Variance Score                           |   0.406882 |\n",
            "|  4 | Max Error                                          |   5.04455  |\n",
            "|  5 | Median Absolute Error                              |   0.264178 |\n",
            "|  6 | R^2                                                |   0.368972 |\n",
            "+----+----------------------------------------------------+------------+\n"
          ]
        }
      ],
      "source": [
        "if ML_ST == 'Enable':\n",
        "    \n",
        "    # Mean Absolute Error (MAE)\n",
        "    mean_absolute_error_lsvm_ST = mean_absolute_error(y_test, lsvm_ST_pred)\n",
        "\n",
        "    # Mean Squared Error (MSE)\n",
        "    mean_squared_error_lsvm_ST = mean_squared_error(y_test, lsvm_ST_pred)\n",
        "\n",
        "    # Root Mean Squared Error (RMSE)\n",
        "    Root_mean_squared_error_lsvm_ST = mean_squared_error(y_test, lsvm_ST_pred, squared=False)\n",
        "\n",
        "    # Explained Variance Score\n",
        "    explained_variance_score_lsvm_ST = explained_variance_score(y_test, lsvm_ST_pred)\n",
        "\n",
        "    # Max Error\n",
        "    max_error_lsvm_ST = max_error(y_test, lsvm_ST_pred)\n",
        "\n",
        "    # Median Absolute Error\n",
        "    median_absolute_error_lsvm_ST = median_absolute_error(y_test, lsvm_ST_pred)\n",
        "\n",
        "    # R^2\n",
        "    r2_score_lsvm_ST = r2_score(y_test, lsvm_ST_pred)\n",
        "\n",
        "    _lsvm_ST_valid_compare = pd.DataFrame({\"Linear Support Vector Regressor Standered Models\": [\n",
        "                                                \"Mean Absolute Error (MAE)\", \n",
        "                                                \"Mean Squared Error (MSE)\",\n",
        "                                                \"Root Mean Squared Error (RMSE)\",\n",
        "                                                \"Explained Variance Score\",\n",
        "                                                \"Max Error\",\n",
        "                                                \"Median Absolute Error\",\n",
        "                                                \"R^2\",\n",
        "                                                ],\n",
        "\n",
        "                                \"Accuracy\": [\n",
        "                                                mean_absolute_error_lsvm_ST, \n",
        "                                                mean_squared_error_lsvm_ST,\n",
        "                                                Root_mean_squared_error_lsvm_ST,\n",
        "                                                explained_variance_score_lsvm_ST,\n",
        "                                                max_error_lsvm_ST,\n",
        "                                                median_absolute_error_lsvm_ST,\n",
        "                                                r2_score_lsvm_ST,\n",
        "                                                ],\n",
        "                                        })  \n",
        "    print(tabulate(_lsvm_ST_valid_compare, headers = 'keys', tablefmt = 'psql'))"
      ]
    },
    {
      "cell_type": "markdown",
      "metadata": {
        "id": "-64UFH_gqM3Z"
      },
      "source": [
        "### Multilayer Perceptron Regressor"
      ]
    },
    {
      "cell_type": "code",
      "execution_count": 42,
      "metadata": {
        "colab": {
          "base_uri": "https://localhost:8080/"
        },
        "id": "XEiPRnCbqM3Z",
        "outputId": "d5bdfda2-7ff5-4b79-f36d-cbb4f5c73892"
      },
      "outputs": [
        {
          "output_type": "stream",
          "name": "stdout",
          "text": [
            "+----+----------------------------------------------------+------------+\n",
            "|    | Multilayer Perceptron Regressor Standered Models   |   Accuracy |\n",
            "|----+----------------------------------------------------+------------|\n",
            "|  0 | Mean Absolute Error (MAE)                          |   0.516289 |\n",
            "|  1 | Mean Squared Error (MSE)                           |   0.822606 |\n",
            "|  2 | Root Mean Squared Error (RMSE)                     |   0.906976 |\n",
            "|  3 | Explained Variance Score                           |   0.37008  |\n",
            "|  4 | Max Error                                          |   5.17387  |\n",
            "|  5 | Median Absolute Error                              |   0.297651 |\n",
            "|  6 | R^2                                                |   0.358907 |\n",
            "+----+----------------------------------------------------+------------+\n"
          ]
        }
      ],
      "source": [
        "if ML_ST == 'Enable':\n",
        "    \n",
        "    # Mean Absolute Error (MAE)\n",
        "    mean_absolute_error_mlp_ST = mean_absolute_error(y_test, mlp_ST_pred)\n",
        "\n",
        "    # Mean Squared Error (MSE)\n",
        "    mean_squared_error_mlp_ST = mean_squared_error(y_test, mlp_ST_pred)\n",
        "\n",
        "    # Root Mean Squared Error (RMSE)\n",
        "    Root_mean_squared_error_mlp_ST = mean_squared_error(y_test, mlp_ST_pred, squared=False)\n",
        "\n",
        "    # Explained Variance Score\n",
        "    explained_variance_score_mlp_ST = explained_variance_score(y_test, mlp_ST_pred)\n",
        "\n",
        "    # Max Error\n",
        "    max_error_mlp_ST = max_error(y_test, mlp_ST_pred)\n",
        "\n",
        "    # Median Absolute Error\n",
        "    median_absolute_error_mlp_ST = median_absolute_error(y_test, mlp_ST_pred)\n",
        "\n",
        "    # R^2\n",
        "    r2_score_mlp_ST = r2_score(y_test, mlp_ST_pred)\n",
        "\n",
        "    _mlp_ST_valid_compare = pd.DataFrame({\"Multilayer Perceptron Regressor Standered Models\": [\n",
        "                                                \"Mean Absolute Error (MAE)\", \n",
        "                                                \"Mean Squared Error (MSE)\",\n",
        "                                                \"Root Mean Squared Error (RMSE)\",\n",
        "                                                \"Explained Variance Score\",\n",
        "                                                \"Max Error\",\n",
        "                                                \"Median Absolute Error\",\n",
        "                                                \"R^2\",\n",
        "                                                ],\n",
        "\n",
        "                                \"Accuracy\": [\n",
        "                                                mean_absolute_error_mlp_ST, \n",
        "                                                mean_squared_error_mlp_ST,\n",
        "                                                Root_mean_squared_error_mlp_ST,\n",
        "                                                explained_variance_score_mlp_ST,\n",
        "                                                max_error_mlp_ST,\n",
        "                                                median_absolute_error_mlp_ST,\n",
        "                                                r2_score_mlp_ST,\n",
        "                                                ],\n",
        "                                        })  \n",
        "    print(tabulate(_mlp_ST_valid_compare, headers = 'keys', tablefmt = 'psql'))"
      ]
    },
    {
      "cell_type": "markdown",
      "metadata": {
        "id": "G8zJAfWmqM3a"
      },
      "source": [
        "# Machine Learning Models Optimization"
      ]
    },
    {
      "cell_type": "markdown",
      "metadata": {
        "id": "2EXJJ_mOqM3a"
      },
      "source": [
        "##  random grid for  Models"
      ]
    },
    {
      "cell_type": "markdown",
      "metadata": {
        "id": "9mvb81h8qM3a"
      },
      "source": [
        "### Random Forest Regressor"
      ]
    },
    {
      "cell_type": "code",
      "execution_count": 43,
      "metadata": {
        "colab": {
          "base_uri": "https://localhost:8080/"
        },
        "id": "Ej6nIK0rqM3a",
        "outputId": "85e9b786-123e-46b7-f260-6968d7eb2df5"
      },
      "outputs": [
        {
          "output_type": "stream",
          "name": "stdout",
          "text": [
            "n_estimators  :  [50, 65, 81, 96, 112, 127, 143, 158, 174, 189, 205, 220, 236, 251, 267, 282, 298, 313, 329, 344, 360, 375, 391, 406, 422, 437, 453, 468, 484, 500]\n",
            "criterion  :  ['squared_error', 'absolute_error', 'poisson']\n",
            "max_depth  :  [1, 6, 11, 16, 21, 27, 32, 37, 42, 47, 53, 58, 63, 68, 73, 79, 84, 89, 94, 100, None]\n",
            "min_samples_split  :  [1, 2, 3, 4, 5, 6, 7, 8, 9, 10, 11, 12, 13, 14, 15, 16, 17, 18, 19, 20]\n",
            "min_samples_leaf  :  [1, 6, 11, 16, 21, 27, 32, 37, 42, 47, 53, 58, 63, 68, 73, 79, 84, 89, 94, 100]\n",
            "min_weight_fraction_leaf  :  [0.0]\n",
            "max_features  :  ['sqrt', 'log2', 'auto']\n",
            "max_leaf_nodes  :  [1, 3, 5, 7, 9, 11, 13, 15, 17, 20, None]\n",
            "min_impurity_decrease  :  [0.0, 0.2, 0.5, 0.75]\n",
            "bootstrap  :  [True, False]\n",
            "oob_score  :  [False, True]\n",
            "n_jobs  :  [-1]\n",
            "random_state  :  [42]\n",
            "verbose  :  [0]\n",
            "warm_start  :  [False]\n",
            "ccp_alpha  :  [0.0]\n",
            "max_samples  :  [None]\n"
          ]
        }
      ],
      "source": [
        "if ML_OP == 'Enable':\n",
        "\n",
        "    n_estimators = [int(x) for x in np.linspace(50, 500, num = 30)] # int, default=100 (The number of trees in the forest)\n",
        "    criterion = ['squared_error', 'absolute_error', 'poisson'] # {“squared_error”, “absolute_error”, “poisson”}, default=”squared_error”\n",
        "    max_depth = [int(x) for x in np.linspace(1, 100, num = 20)] # int, default=None\n",
        "    max_depth.append(None)\n",
        "    min_samples_split = [int(x) for x in np.linspace(1, 20, num = 20)] # int or float, default=2\n",
        "    min_samples_leaf = [int(x) for x in np.linspace(1, 100, num = 20)] # int or float, default=1\n",
        "    min_weight_fraction_leaf = [0.0] # float, default=0.0\n",
        "    max_features = ['sqrt', 'log2', 'auto'] # {“sqrt”, “log2”, 'auto' ,None}, int or float, default=1.0\n",
        "    max_leaf_nodes = [int(x) for x in np.linspace(1, 20, num = 10)] # int, default=None\n",
        "    max_leaf_nodes.append(None)\n",
        "    min_impurity_decrease = [0.0, 0.2, 0.5, 0.75] # float, default=0.0\n",
        "    bootstrap = [True, False] # bool, default=True\n",
        "    oob_score = [False, True] # bool, default=False\n",
        "    n_jobs = [-1] # int, default=None\n",
        "    random_state = [42] # int, RandomState instance or None, default=None\n",
        "    verbose = [0] # int, default=0\n",
        "    warm_start = [False] # bool, default=False\n",
        "    ccp_alpha = [0.0] # non-negative float, default=0.0\n",
        "    max_samples = [None] # int or float, default=None\n",
        "\n",
        "    # Create the random grid\n",
        "    random_grid_rf = {'n_estimators': n_estimators,\n",
        "                'criterion': criterion,\n",
        "                'max_depth': max_depth,\n",
        "                'min_samples_split': min_samples_split,\n",
        "                'min_samples_leaf': min_samples_leaf,\n",
        "                'min_weight_fraction_leaf' : min_weight_fraction_leaf,\n",
        "                'max_features': max_features,\n",
        "                'max_leaf_nodes' : max_leaf_nodes, \n",
        "                'min_impurity_decrease' : min_impurity_decrease,\n",
        "                'bootstrap' : bootstrap,\n",
        "                'oob_score' : oob_score,\n",
        "                'n_jobs' : n_jobs, \n",
        "                'random_state' : random_state,\n",
        "                'verbose' : verbose,\n",
        "                'warm_start' : warm_start, \n",
        "                'ccp_alpha' : ccp_alpha,\n",
        "                'max_samples' : max_samples\n",
        "                }\n",
        "                \n",
        "    for key, value in random_grid_rf.items():\n",
        "        print(key, ' : ', value)"
      ]
    },
    {
      "cell_type": "markdown",
      "metadata": {
        "id": "WWS4fgq_qM3d"
      },
      "source": [
        "### Gradient Boosting Regressor"
      ]
    },
    {
      "cell_type": "code",
      "execution_count": 44,
      "metadata": {
        "colab": {
          "base_uri": "https://localhost:8080/"
        },
        "id": "jOgK-ueFqM3e",
        "outputId": "20cfd97d-506b-43cf-88d2-f3969c4fa5d3"
      },
      "outputs": [
        {
          "output_type": "stream",
          "name": "stdout",
          "text": [
            "loss  :  ['squared_error', 'absolute_error', 'huber', 'quantile', 'quantile']\n",
            "learning_rate  :  [0.0, 0.1, 0.2, 0.5, 0.75]\n",
            "n_estimators  :  [50, 73, 97, 121, 144, 168, 192, 215, 239, 263, 286, 310, 334, 357, 381, 405, 428, 452, 476, 500]\n",
            "subsample  :  [0.5, 1.0]\n",
            "criterion  :  ['friedman_mse', 'friedman_mse', 'squared_error', 'mse']\n",
            "min_samples_split  :  [1, 3, 5, 7, 9, 11, 13, 15, 17, 20]\n",
            "min_samples_leaf  :  [1, 3, 5, 7, 9, 11, 13, 15, 17, 20]\n",
            "min_weight_fraction_leaf  :  [0.0, 0.1, 0.2, 0.5]\n",
            "max_depth  :  [1, 6, 11, 16, 21, 27, 32, 37, 42, 47, 53, 58, 63, 68, 73, 79, 84, 89, 94, 100]\n",
            "min_impurity_decrease  :  [0.0, 0.1, 0.2, 0.5, 0.75]\n",
            "init  :  [None]\n",
            "random_state  :  [42]\n",
            "max_features  :  ['sqrt', 'log2', 'auto']\n",
            "alpha  :  [0.9]\n",
            "verbose  :  [0]\n",
            "max_leaf_nodes  :  [None]\n",
            "warm_start  :  [False]\n",
            "validation_fraction  :  [0.1]\n",
            "n_iter_no_change  :  [None]\n",
            "tol  :  [0.0001]\n",
            "ccp_alpha  :  [0.0]\n"
          ]
        }
      ],
      "source": [
        "if ML_OP == 'Enable':\n",
        "    \n",
        "    loss = ['squared_error', 'absolute_error', 'huber', 'quantile', 'quantile'] # {‘squared_error’, ‘absolute_error’, ‘huber’, ‘quantile’}, default=’squared_error’\n",
        "    learning_rate = [0.0, 0.1, 0.2, 0.5, 0.75] # float, default=0.1 (Values must be in the range (0.0, inf))\n",
        "    n_estimators = [int(x) for x in np.linspace(50, 500, num = 20)] # int, default=100 (Values must be in the range [1, inf))\n",
        "    subsample = [0.5, 1.0] # float, default=1.0 (Values must be in the range (0.0, 1.0])\n",
        "    criterion = ['friedman_mse', 'friedman_mse', 'squared_error', 'mse'] # {‘friedman_mse’, ‘squared_error’, ‘mse’}, default=’friedman_mse’\n",
        "    min_samples_split = [int(x) for x in np.linspace(1, 20, num = 10)] # int or float, default=2 (If float, values must be in the range (0.0, 1.0] and If int, values must be in the range [2, inf))\n",
        "    min_samples_leaf = [int(x) for x in np.linspace(1, 20, num = 10)] # int or float, default=1 (If float, values must be in the range (0.0, 1.0] and If int, values must be in the range [1, inf))\n",
        "    min_weight_fraction_leaf = [0.0, 0.1, 0.2, 0.5] # float, default=0.0 (Values must be in the range [0.0, 0.5])\n",
        "    max_depth = [int(x) for x in np.linspace(1, 100, num = 20)] # int, default=3\n",
        "    min_impurity_decrease = [0.0, 0.1, 0.2, 0.5, 0.75] # float, default=0.0\n",
        "    init = [None] # estimator or ‘zero’, default=None\n",
        "    random_state = [42] # int, RandomState instance or None, default=None\n",
        "    max_features = ['sqrt', 'log2', 'auto'] # {‘auto’, ‘sqrt’, ‘log2’}, int or float, default=None\n",
        "    alpha = [0.9] # float, default=0.9 (Values must be in the range (0.0, 1.0))\n",
        "    verbose = [0] # int, default=0\n",
        "    max_leaf_nodes = [None] # int, default=None\n",
        "    warm_start = [False] # bool, default=False\n",
        "    validation_fraction = [0.1] # float, default=0.1 (Values must be in the range (0.0, 1.0))\n",
        "    n_iter_no_change = [None] # int, default=None\n",
        "    tol = [0.0001] # float, default=1e-4\n",
        "    ccp_alpha = [0.0] # non-negative float, default=0.0\n",
        "\n",
        "    # Create the random grid\n",
        "    random_grid_gb = {'loss': loss,\n",
        "                'learning_rate': learning_rate,\n",
        "                'n_estimators': n_estimators,\n",
        "                'subsample': subsample,\n",
        "                'criterion': criterion,\n",
        "                'min_samples_split': min_samples_split,\n",
        "                'min_samples_leaf' : min_samples_leaf, \n",
        "                'min_weight_fraction_leaf' : min_weight_fraction_leaf,\n",
        "                'max_depth' : max_depth,\n",
        "                'min_impurity_decrease' : min_impurity_decrease,\n",
        "                'init' : init, \n",
        "                'random_state' : random_state,\n",
        "                'max_features' : max_features,\n",
        "                'alpha' : alpha,\n",
        "                'verbose' : verbose, \n",
        "                'max_leaf_nodes' : max_leaf_nodes,\n",
        "                'warm_start' : warm_start,\n",
        "                'validation_fraction' : validation_fraction,\n",
        "                'n_iter_no_change' : n_iter_no_change, \n",
        "                'tol' : tol,\n",
        "                'ccp_alpha' : ccp_alpha\n",
        "                }\n",
        "                \n",
        "    for key, value in random_grid_gb.items():\n",
        "        print(key, ' : ', value)"
      ]
    },
    {
      "cell_type": "markdown",
      "metadata": {
        "id": "9HDi540nqM3e"
      },
      "source": [
        "### Histogram-based Gradient Boosting Regressor"
      ]
    },
    {
      "cell_type": "code",
      "execution_count": 45,
      "metadata": {
        "colab": {
          "base_uri": "https://localhost:8080/"
        },
        "id": "g0Km6E_RqM3e",
        "outputId": "2fdada5a-7d5e-4783-913d-ef57a54b2bc4"
      },
      "outputs": [
        {
          "output_type": "stream",
          "name": "stdout",
          "text": [
            "loss  :  ['squared_error', 'absolute_error', 'poisson', 'quantile']\n",
            "learning_rate  :  [0.05, 0.1, 0.2, 0.3, 0.9]\n",
            "max_iter  :  [50, 61, 72, 83, 94, 105, 116, 127, 138, 150]\n",
            "max_leaf_nodes  :  [20, 22, 24, 26, 28, 30, 32, 34, 36, 38, 41, 43, 45, 47, 49, 51, 53, 55, 57, 60]\n",
            "max_depth  :  [1, 6, 11, 16, 21, 27, 32, 37, 42, 47, 53, 58, 63, 68, 73, 79, 84, 89, 94, 100]\n",
            "min_samples_leaf  :  [10, 13, 16, 20, 23, 26, 30, 33, 36, 40]\n",
            "l2_regularization  :  [0.0, 0.1, 0.6]\n",
            "max_bins  :  [100, 108, 116, 124, 132, 140, 148, 157, 165, 173, 181, 189, 197, 206, 214, 222, 230, 238, 246, 255]\n",
            "categorical_features  :  [None]\n",
            "monotonic_cst  :  [None]\n",
            "warm_start  :  [False]\n",
            "early_stopping  :  ['auto']\n",
            "scoring  :  ['loss']\n",
            "validation_fraction  :  [0.1]\n",
            "n_iter_no_change  :  [10, 13, 16, 20, 23, 26, 30, 33, 36, 40]\n",
            "tol  :  [1e-07]\n",
            "verbose  :  [0]\n",
            "random_state  :  [42]\n"
          ]
        }
      ],
      "source": [
        "if ML_OP == 'Enable':\n",
        "    \n",
        "    loss= ['squared_error', 'absolute_error', 'poisson', 'quantile'] # {‘squared_error’, ‘absolute_error’, ‘poisson’, ‘quantile’}, default=’squared_error’\n",
        "    quantile = [None] # float, default=None (If loss is “quantile”, this parameter specifies which quantile to be estimated and must be between 0 and 1)\n",
        "    learning_rate=[0.05, 0.1, 0.2, 0.3, 0.9] # float, default=0.1\n",
        "    max_iter= [int(x) for x in np.linspace(50, 150, num = 10)] # int, default=100 (the maximum number of trees.)\n",
        "    max_leaf_nodes=[int(x) for x in np.linspace(20, 60, num = 20)] # int or None, default=31 (Must be strictly greater than 1. If None, there is no maximum limit.)\n",
        "    max_depth = [int(x) for x in np.linspace(1, 100, num = 20)] # int or None, default=None \n",
        "    min_samples_leaf=[int(x) for x in np.linspace(10, 40, num = 10)] # int, default=20\n",
        "    l2_regularization=[0.0, 0.1, 0.6] # float, default=0\n",
        "    max_bins=[int(x) for x in np.linspace(100, 255, num = 20)] # int, default=255 (Must be no larger than 255) \n",
        "\n",
        "    categorical_features=[None] # array-like of {bool, int} of shape (n_features) or shape (n_categorical_features,), default=None (None : no feature will be considered categorical , boolean array-like : boolean mask indicating categorical features and integer array-like : integer indices indicating categorical features)\n",
        "    monotonic_cst=[None] # array-like of int of shape (n_features), default=None\n",
        "    warm_start=[False] # bool, default=False\n",
        "    early_stopping=['auto'] # ‘auto’ or bool, default=’auto’\n",
        "    scoring=['loss'] # str or callable or None, default=’loss’\n",
        "    validation_fraction=[0.1] # int or float or None, default=0.1\n",
        "    n_iter_no_change=[int(x) for x in np.linspace(10, 40, num = 10)] # int, default=10\n",
        "    tol=[1e-07] # float, default=1e-7\n",
        "    verbose=[0] # int, default=0\n",
        "    random_state=[42] # int, RandomState instance or None, default=None\n",
        "\n",
        "    random_grid_hgb = {'loss' : loss,\n",
        "                    'learning_rate' : learning_rate,\n",
        "                    'max_iter' : max_iter,\n",
        "                    'max_leaf_nodes' : max_leaf_nodes,\n",
        "                    'max_depth' : max_depth,\n",
        "                    'min_samples_leaf' : min_samples_leaf,\n",
        "                    'l2_regularization' : l2_regularization,\n",
        "                    'max_bins' : max_bins,\n",
        "                    'categorical_features' : categorical_features,\n",
        "                    'monotonic_cst' : monotonic_cst,\n",
        "                    'warm_start' : warm_start,\n",
        "                    'early_stopping' : early_stopping,\n",
        "                    'scoring' : scoring,\n",
        "                    'validation_fraction' : validation_fraction,\n",
        "                    'n_iter_no_change' : n_iter_no_change,\n",
        "                    'tol' : tol,\n",
        "                    'verbose' : verbose,\n",
        "                    'random_state' : random_state\n",
        "                        }\n",
        "                        \n",
        "    for key, value in random_grid_hgb.items():\n",
        "        print(key, ' : ', value)"
      ]
    },
    {
      "cell_type": "markdown",
      "metadata": {
        "id": "aivdQQ3eqM3g"
      },
      "source": [
        "### AdaBoost Regressor"
      ]
    },
    {
      "cell_type": "code",
      "execution_count": 46,
      "metadata": {
        "colab": {
          "base_uri": "https://localhost:8080/"
        },
        "id": "6YUpBKmEqM3g",
        "outputId": "88801950-df99-4f2b-b361-39be24a34824"
      },
      "outputs": [
        {
          "output_type": "stream",
          "name": "stdout",
          "text": [
            "base_estimator  :  [DecisionTreeRegressor(max_depth=3)]\n",
            "n_estimators  :  [50, 73, 97, 121, 144, 168, 192, 215, 239, 263, 286, 310, 334, 357, 381, 405, 428, 452, 476, 500]\n",
            "learning_rate  :  [1.0]\n",
            "loss  :  ['linear', 'square', 'exponential']\n",
            "random_state  :  [42]\n"
          ]
        }
      ],
      "source": [
        "if ML_OP == 'Enable':\n",
        "    \n",
        "    base_estimator=[DecisionTreeRegressor(max_depth=3)] # object, default=None, None is a DecisionTreeRegressor initialized with max_depth=3.\n",
        "    # , RandomForestRegressor(), HistGradientBoostingRegressor(), GradientBoostingRegressor(), SVR(), ExtraTreesRegressor()\n",
        "    n_estimators= [int(x) for x in np.linspace(50, 500, num = 20)] # int, default=50 (Values must be in the range [1, inf))\n",
        "    learning_rate=[1.0] # float, default=1.0 (Values must be in the range (0.0, inf))\n",
        "    loss =['linear','square', 'exponential'] # {‘linear’, ‘square’, ‘exponential’}, default=’linear’\n",
        "    random_state=[42] # int, RandomState instance or None, default=None\n",
        "\n",
        "    random_grid_ad = {'base_estimator' : base_estimator,\n",
        "                    'n_estimators' : n_estimators,\n",
        "                    'learning_rate' : learning_rate,\n",
        "                    'loss' : loss,\n",
        "                    'random_state' : random_state\n",
        "    }\n",
        "\n",
        "    for key, value in random_grid_ad.items():\n",
        "        print(key, ' : ', value)"
      ]
    },
    {
      "cell_type": "markdown",
      "metadata": {
        "id": "BMoRTDOTqM3h"
      },
      "source": [
        "### Extra Trees Regressor"
      ]
    },
    {
      "cell_type": "code",
      "execution_count": 47,
      "metadata": {
        "colab": {
          "base_uri": "https://localhost:8080/"
        },
        "id": "4e5I4B5SqM3h",
        "outputId": "fa01f77f-7e50-4134-b908-f97608caaf9e"
      },
      "outputs": [
        {
          "output_type": "stream",
          "name": "stdout",
          "text": [
            "n_estimators  :  [100, 121, 142, 163, 184, 205, 226, 247, 268, 289, 310, 331, 352, 373, 394, 415, 436, 457, 478, 500]\n",
            "criterion  :  ['squared_error', 'absolute_error']\n",
            "max_depth  :  [1, 6, 11, 16, 21, 27, 32, 37, 42, 47, 53, 58, 63, 68, 73, 79, 84, 89, 94, 100, None]\n",
            "min_samples_split  :  [1, 3, 5, 7, 9, 11, 13, 15, 17, 20]\n",
            "min_samples_leaf  :  [1, 3, 5, 7, 9, 11, 13, 15, 17, 20]\n",
            "min_weight_fraction_leaf  :  [0.0, 0.05, 0.1, 0.3]\n",
            "max_features  :  ['sqrt', 'log2', None, 1.0]\n",
            "max_leaf_nodes  :  [1, 3, 5, 7, 9, 11, 13, 15, 17, 20]\n",
            "min_impurity_decrease  :  [0.0]\n",
            "bootstrap  :  [False]\n",
            "oob_score  :  [True, False]\n",
            "n_jobs  :  [None]\n",
            "random_state  :  [42]\n",
            "verbose  :  [0]\n",
            "warm_start  :  [False]\n",
            "ccp_alpha  :  [0.0]\n",
            "max_samples  :  [1, 3, 5, 7, 9, 11, 13, 15, 17, 20, None]\n"
          ]
        }
      ],
      "source": [
        "if ML_OP == 'Enable':\n",
        "    \n",
        "    n_estimators = [int(x) for x in np.linspace(100, 500, num = 20)] # int, default=100\n",
        "    criterion = ['squared_error', 'absolute_error'] # {“squared_error”, “absolute_error”}, default=”squared_error”\n",
        "    max_depth = [int(x) for x in np.linspace(1, 100, num = 20)] # int, default=None\n",
        "    max_depth.append(None)\n",
        "    min_samples_split = [int(x) for x in np.linspace(1, 20, num = 10)] # int or float, default=2\n",
        "    min_samples_leaf = [int(x) for x in np.linspace(1, 20, num = 10)] # int or float, default=1\n",
        "    min_weight_fraction_leaf = [0.0, 0.05, 0.1, 0.3] # float, default=0.0\n",
        "    max_features = ['sqrt', 'log2', None, 1.0] # {“sqrt”, “log2”, None}, int or float, default=1.0\n",
        "    max_leaf_nodes = [int(x) for x in np.linspace(1, 20, num = 10)] # int, default=None\n",
        "    #max_leaf_nodes.append(None)\n",
        "    min_impurity_decrease=[0.0] # float, default=0.0\n",
        "\n",
        "    bootstrap=[False] # bool, default=False\n",
        "    oob_score=[True,False] # bool, default=False\n",
        "    n_jobs=[None] # int, default=None\n",
        "    random_state=[42] # int, RandomState instance or None, default=None\n",
        "    verbose=[0] # int, default=0\n",
        "    warm_start=[False] #bool, default=False\n",
        "    ccp_alpha=[0.0] # non-negative float, default=0.0\n",
        "    max_samples = [int(x) for x in np.linspace(1, 20, num = 10)] # int or float, default=None\n",
        "    max_samples.append(None)\n",
        "\n",
        "    random_grid_et = {'n_estimators' : n_estimators,\n",
        "                    'criterion' : criterion,\n",
        "                    'max_depth' : max_depth,\n",
        "                    'min_samples_split' : min_samples_split,\n",
        "                    'min_samples_leaf' : min_samples_leaf,\n",
        "                    'min_weight_fraction_leaf' : min_weight_fraction_leaf,\n",
        "                    'max_features' : max_features,\n",
        "                    'max_leaf_nodes' : max_leaf_nodes,\n",
        "                    'min_impurity_decrease' : min_impurity_decrease,\n",
        "                    'bootstrap' : bootstrap,\n",
        "                    'oob_score' : oob_score,\n",
        "                    'n_jobs' : n_jobs,\n",
        "                    'random_state' : random_state,\n",
        "                    'verbose' : verbose,\n",
        "                    'warm_start': warm_start,\n",
        "                    'ccp_alpha' : ccp_alpha,\n",
        "                    'max_samples' : max_samples\n",
        "    }\n",
        "\n",
        "    for key, value in random_grid_et.items():\n",
        "        print(key, ' : ', value)"
      ]
    },
    {
      "cell_type": "markdown",
      "metadata": {
        "id": "t5qAaV6KqM3i"
      },
      "source": [
        "### K Neighbors Regressor"
      ]
    },
    {
      "cell_type": "code",
      "execution_count": 48,
      "metadata": {
        "colab": {
          "base_uri": "https://localhost:8080/"
        },
        "id": "Epo5d52bqM3i",
        "outputId": "32c46acd-e7d1-4ca1-cbfb-3dabaf80513d"
      },
      "outputs": [
        {
          "output_type": "stream",
          "name": "stdout",
          "text": [
            "n_neighbors  :  [1, 2, 3, 4, 5, 6, 7, 8, 9, 10]\n",
            "weights  :  ['uniform', 'distance']\n",
            "algorithm  :  ['auto', 'ball_tree', 'kd_tree', 'brute']\n",
            "leaf_size  :  [10, 14, 18, 23, 27, 32, 36, 41, 45, 50]\n",
            "p  :  [1, 2, 3, 4, 5, 6, 7, 8, 9, 10]\n",
            "metric  :  ['minkowski']\n",
            "metric_params  :  [None]\n",
            "n_jobs  :  [None]\n"
          ]
        }
      ],
      "source": [
        "if ML_OP == 'Enable':\n",
        "    \n",
        "    n_neighbors = [int(x) for x in np.linspace(1, 10, num = 10)] # int, default=5\n",
        "    weights = ['uniform', 'distance'] # {‘uniform’, ‘distance’} or callable, default=’uniform’\n",
        "    algorithm = ['auto', 'ball_tree', 'kd_tree', 'brute'] # {‘auto’, ‘ball_tree’, ‘kd_tree’, ‘brute’}, default=’auto’\n",
        "    leaf_size = [int(x) for x in np.linspace(10, 50, num = 10)] # int, default=30\n",
        "    p = [int(x) for x in np.linspace(1, 10, num = 10)] # int, default=2\n",
        "    metric = ['minkowski'] # str or callable, default=’minkowski’\n",
        "    metric_params=[None] \n",
        "    n_jobs=[None]\n",
        "\n",
        "    random_grid_knn = {'n_neighbors' : n_neighbors,\n",
        "                    'weights' : weights,\n",
        "                    'algorithm' : algorithm,\n",
        "                    'leaf_size' : leaf_size,\n",
        "                    'p' : p,\n",
        "                    'metric' : metric,\n",
        "                    'metric_params' : metric_params,\n",
        "                    'n_jobs' : n_jobs\n",
        "    }\n",
        "\n",
        "    for key, value in random_grid_knn.items():\n",
        "        print(key, ' : ', value)"
      ]
    },
    {
      "cell_type": "markdown",
      "metadata": {
        "id": "rago7uXMqM3i"
      },
      "source": [
        "### Decision Tree Regressor"
      ]
    },
    {
      "cell_type": "code",
      "execution_count": 49,
      "metadata": {
        "colab": {
          "base_uri": "https://localhost:8080/"
        },
        "id": "H1WxDPbsqM3j",
        "outputId": "2a83645c-24d3-4f69-b192-ecce7a163b4f"
      },
      "outputs": [
        {
          "output_type": "stream",
          "name": "stdout",
          "text": [
            "criterion  :  ['squared_error', 'friedman_mse', 'absolute_error', 'poisson']\n",
            "splitter  :  ['best', 'random']\n",
            "max_depth  :  [1, 6, 11, 16, 21, 27, 32, 37, 42, 47, 53, 58, 63, 68, 73, 79, 84, 89, 94, 100, None]\n",
            "min_samples_split  :  [1, 3, 5, 7, 9, 11, 13, 15, 17, 20]\n",
            "min_samples_leaf  :  [1, 3, 5, 7, 9, 11, 13, 15, 17, 20]\n",
            "min_weight_fraction_leaf  :  [0.0]\n",
            "max_features  :  ['sqrt', 'auto', 'log2']\n",
            "random_state  :  [42]\n",
            "max_leaf_nodes  :  [1, 3, 5, 7, 9, 11, 13, 15, 17, 20, None]\n",
            "min_impurity_decrease  :  [0.0]\n",
            "ccp_alpha  :  [0.0]\n"
          ]
        }
      ],
      "source": [
        "if ML_OP == 'Enable':\n",
        "    \n",
        "    criterion = ['squared_error','friedman_mse', 'absolute_error', 'poisson'] # {“squared_error”, “friedman_mse”, “absolute_error”, “poisson”}, default=”squared_error”\n",
        "    splitter = ['best', 'random'] # {“best”, “random”}, default=”best”\n",
        "    max_depth = [int(x) for x in np.linspace(1, 100, num = 20)] # int, default=None (max number of levels in each decision tree)\n",
        "    max_depth.append(None)\n",
        "    min_samples_split = [int(x) for x in np.linspace(1, 20, num = 10)] # int or float, default=2\n",
        "    min_samples_leaf = [int(x) for x in np.linspace(1, 20, num = 10)] # int or float, default=1\n",
        "    min_weight_fraction_leaf = [0.0] # float, default=0.0\n",
        "    max_features = ['sqrt', 'auto', 'log2'] # int, float or {“auto”, “sqrt”, “log2”}, default=None\n",
        "    random_state = [42] # int, RandomState instance or None, default=None\n",
        "    max_leaf_nodes = [int(x) for x in np.linspace(1, 20, num = 10)] # int, default=None\n",
        "    max_leaf_nodes.append(None)\n",
        "    min_impurity_decrease=[0.0] # float, default=0.0\n",
        "    ccp_alpha=[0.0] # non-negative float, default=0.0\n",
        "\n",
        "    random_grid_dt = {'criterion' : criterion,\n",
        "                    'splitter' : splitter,\n",
        "                    'max_depth' : max_depth,\n",
        "                    'min_samples_split' : min_samples_split,\n",
        "                    'min_samples_leaf' : min_samples_leaf,\n",
        "                    'min_weight_fraction_leaf' : min_weight_fraction_leaf,\n",
        "                    'max_features' : max_features,\n",
        "                    'random_state' : random_state,\n",
        "                    'max_leaf_nodes' : max_leaf_nodes, \n",
        "                    'min_impurity_decrease' : min_impurity_decrease,\n",
        "                    'ccp_alpha' : ccp_alpha                \n",
        "    }\n",
        "\n",
        "    for key, value in random_grid_dt.items():\n",
        "        print(key, ' : ', value)"
      ]
    },
    {
      "cell_type": "markdown",
      "metadata": {
        "id": "PhCqL8fPqM3j"
      },
      "source": [
        "### Support Vector Regressor"
      ]
    },
    {
      "cell_type": "code",
      "execution_count": 50,
      "metadata": {
        "colab": {
          "base_uri": "https://localhost:8080/"
        },
        "id": "Lx3VyQblqM3j",
        "outputId": "de4dfd99-0a93-44fb-e872-e1cd28d2396a"
      },
      "outputs": [
        {
          "output_type": "stream",
          "name": "stdout",
          "text": [
            "C  :  [1.0]\n",
            "kernel  :  ['rbf', 'linear', 'poly', 'sigmoid']\n",
            "degree  :  [1, 2, 4, 5, 7, 8, 10, 11, 13, 15]\n",
            "gamma  :  ['scale', 'auto']\n",
            "coef0  :  [0.0]\n",
            "tol  :  [0.001]\n",
            "epsilon  :  [0.1]\n",
            "shrinking  :  [True, False]\n",
            "cache_size  :  [750, 742, 734, 726, 718, 710, 702, 694, 686, 678, 671, 663, 655, 647, 639, 631, 623, 615, 607, 600]\n",
            "verbose  :  [False]\n",
            "max_iter  :  [-5, -3, -2, 0, 0, 2, 3, 5]\n"
          ]
        }
      ],
      "source": [
        "if ML_OP == 'Enable':\n",
        "    \n",
        "    kernel=['rbf', 'linear', 'poly', 'sigmoid'] # {‘linear’, ‘poly’, ‘rbf’, ‘sigmoid’, ‘precomputed’} or callable, default=’rbf’\n",
        "    degree = [int(x) for x in np.linspace(1, 15, num = 10)] # int, default=3\n",
        "    gamma = ['scale', 'auto'] # {‘scale’, ‘auto’} or float, default=’scale’\n",
        "    coef0=[0.0] # float, default=0.0\n",
        "    tol=[0.001]# float, default=1e-3\n",
        "    C=[1.0] # float, default=1.0\n",
        "    epsilon = [0.1] # float, default=0.1\n",
        "    shrinking=[True, False] # bool, default=True\n",
        "    cache_size=[int(x) for x in np.linspace(750, 600, num = 20)] # float, default=200\n",
        "    verbose=[False] # bool, default=False\n",
        "    max_iter=  [int(x) for x in np.linspace(-5, 5, num = 8)] # int, default=-1\n",
        "\n",
        "\n",
        "    random_grid_svm = {'C' : C,\n",
        "                    'kernel' : kernel,\n",
        "                    'degree' : degree,\n",
        "                    'gamma' : gamma,\n",
        "                    'coef0' : coef0,\n",
        "                    'tol' : tol,\n",
        "                    'epsilon' : epsilon,\n",
        "                    'shrinking' : shrinking,\n",
        "                    'cache_size' : cache_size,\n",
        "                    'verbose' : verbose,\n",
        "                    'max_iter' : max_iter\n",
        "    }\n",
        "\n",
        "    for key, value in random_grid_svm.items():\n",
        "        print(key, ' : ', value)"
      ]
    },
    {
      "cell_type": "markdown",
      "metadata": {
        "id": "IMi1nB88qM3k"
      },
      "source": [
        "### Linear Support Vector Regression"
      ]
    },
    {
      "cell_type": "code",
      "execution_count": 51,
      "metadata": {
        "colab": {
          "base_uri": "https://localhost:8080/"
        },
        "id": "iFNDhbb1qM3k",
        "outputId": "3b676956-466c-4a6c-d06b-3fab37b43cb3"
      },
      "outputs": [
        {
          "output_type": "stream",
          "name": "stdout",
          "text": [
            "epsilon  :  [0.0]\n",
            "loss  :  ['epsilon_insensitive', 'squared_epsilon_insensitive']\n",
            "dual  :  [True, False]\n",
            "tol  :  [0.0001]\n",
            "C  :  [1.0]\n",
            "fit_intercept  :  [True, False]\n",
            "intercept_scaling  :  [1, 2, 3, 4, 5, 6, 7, 8, 9, 10]\n",
            "verbose  :  [0]\n",
            "random_state  :  [42]\n",
            "max_iter  :  [600, 855, 1110, 1365, 1620, 1875, 2131, 2386, 2641, 2896, 3151, 3406, 3662, 3917, 4172, 4427, 4682, 4937, 5193, 5448, 5703, 5958, 6213, 6468, 6724, 6979, 7234, 7489, 7744, 8000]\n"
          ]
        }
      ],
      "source": [
        "if ML_OP == 'Enable':\n",
        "    \n",
        "    epsilon = [0.0] # float, default=0.0\n",
        "    tol=[0.0001] # float, default=1e-4\n",
        "    C=[1.0] # float, default=1.0\n",
        "    loss = ['epsilon_insensitive', 'squared_epsilon_insensitive'] # {‘epsilon_insensitive’, ‘squared_epsilon_insensitive’}, default=’epsilon_insensitive’\n",
        "    fit_intercept=[True, False] # bool, default=True\n",
        "    intercept_scaling = [int(x) for x in np.linspace(1, 10, num = 10)] # float, default=1\n",
        "    dual=[True, False] # bool, default=True    \n",
        "    verbose=[0 ]# int, default=0\n",
        "    random_state=[42] # int, RandomState instance or None, default=None\n",
        "    max_iter=[int(x) for x in np.linspace(600, 8000, num = 30)] # int, default=1000\n",
        "\n",
        "    random_grid_lsvm = {'epsilon' : epsilon,\n",
        "                    'loss' : loss, \n",
        "                    'dual' : dual,\n",
        "                    'tol' : tol,\n",
        "                    'C' : C,\n",
        "                    'fit_intercept' : fit_intercept,\n",
        "                    'intercept_scaling' : intercept_scaling,\n",
        "                    'verbose' : verbose,\n",
        "                    'random_state' : random_state,\n",
        "                    'max_iter' : max_iter\n",
        "    }\n",
        "\n",
        "    for key, value in random_grid_lsvm.items():\n",
        "        print(key, ' : ', value)"
      ]
    },
    {
      "cell_type": "markdown",
      "metadata": {
        "id": "3xfov05WqM3k"
      },
      "source": [
        "## Hyperparameters Testing & Build the Optmization Models Using  "
      ]
    },
    {
      "cell_type": "code",
      "execution_count": 52,
      "metadata": {
        "colab": {
          "base_uri": "https://localhost:8080/"
        },
        "id": "bPMuqDfeqM3k",
        "outputId": "b7981312-40b8-43d8-9e03-bc5a85a0e5f0"
      },
      "outputs": [
        {
          "output_type": "stream",
          "name": "stdout",
          "text": [
            "Parameters currently in use:\n",
            "\n",
            "{'bootstrap': True, 'ccp_alpha': 0.0, 'criterion': 'absolute_error', 'max_depth': 11, 'max_features': 'auto', 'max_leaf_nodes': 7, 'max_samples': None, 'min_impurity_decrease': 0.0, 'min_samples_leaf': 6, 'min_samples_split': 2, 'min_weight_fraction_leaf': 0.0, 'n_estimators': 158, 'n_jobs': -1, 'oob_score': False, 'random_state': 42, 'verbose': 0, 'warm_start': False}\n"
          ]
        }
      ],
      "source": [
        "'''\n",
        "        Random Forest Regressor\n",
        "'''\n",
        "if ML_OP == 'Enable':\n",
        "\n",
        "        rf = RandomForestRegressor()\n",
        "        rf_random = RandomizedSearchCV(rf, random_grid_rf, n_iter=150, cv = 3, n_jobs = -1).fit(X_train, y_train)\n",
        "        rf_op = rf_random.best_estimator_\n",
        "\n",
        "        print('Parameters currently in use:\\n')\n",
        "        print(rf_op.get_params())\n"
      ]
    },
    {
      "cell_type": "code",
      "execution_count": 53,
      "metadata": {
        "colab": {
          "base_uri": "https://localhost:8080/"
        },
        "id": "Balzxj6uqM3l",
        "outputId": "e9a83d8e-3750-4015-e4f4-fe9c8566c407"
      },
      "outputs": [
        {
          "output_type": "stream",
          "name": "stdout",
          "text": [
            "Parameters currently in use:\n",
            "\n",
            "{'alpha': 0.9, 'ccp_alpha': 0.0, 'criterion': 'friedman_mse', 'init': None, 'learning_rate': 0.75, 'loss': 'squared_error', 'max_depth': 1, 'max_features': 'auto', 'max_leaf_nodes': None, 'min_impurity_decrease': 0.2, 'min_samples_leaf': 9, 'min_samples_split': 17, 'min_weight_fraction_leaf': 0.1, 'n_estimators': 310, 'n_iter_no_change': None, 'random_state': 42, 'subsample': 0.5, 'tol': 0.0001, 'validation_fraction': 0.1, 'verbose': 0, 'warm_start': False}\n"
          ]
        }
      ],
      "source": [
        "'''\n",
        "        Gradient Boosting Regressor\n",
        "'''\n",
        "if ML_OP == 'Enable':\n",
        "        \n",
        "        gb = GradientBoostingRegressor()\n",
        "        gb_random = RandomizedSearchCV(gb, random_grid_gb, n_iter=150, cv = 3, n_jobs = -1).fit(X_train, y_train)\n",
        "        gb_op = gb_random.best_estimator_\n",
        "\n",
        "        print('Parameters currently in use:\\n')\n",
        "        print(gb_op.get_params())"
      ]
    },
    {
      "cell_type": "code",
      "execution_count": 54,
      "metadata": {
        "colab": {
          "base_uri": "https://localhost:8080/"
        },
        "id": "XFIhFsN2qM3l",
        "outputId": "5cb5b345-9eda-4847-d788-85b39f6421cc"
      },
      "outputs": [
        {
          "output_type": "stream",
          "name": "stdout",
          "text": [
            "Parameters currently in use:\n",
            "\n",
            "{'categorical_features': None, 'early_stopping': 'auto', 'l2_regularization': 0.0, 'learning_rate': 0.9, 'loss': 'squared_error', 'max_bins': 222, 'max_depth': 79, 'max_iter': 83, 'max_leaf_nodes': 49, 'min_samples_leaf': 13, 'monotonic_cst': None, 'n_iter_no_change': 30, 'random_state': 42, 'scoring': 'loss', 'tol': 1e-07, 'validation_fraction': 0.1, 'verbose': 0, 'warm_start': False}\n"
          ]
        }
      ],
      "source": [
        "'''\n",
        "        Histogram-based Gradient Boosting Regression Tree\n",
        "'''\n",
        "if ML_OP == 'Enable':\n",
        "        \n",
        "        hgb = HistGradientBoostingRegressor()\n",
        "        hgb_random = RandomizedSearchCV(hgb, random_grid_hgb, n_iter=150, cv = 3, n_jobs = -1).fit(X_train, y_train)\n",
        "        hgb_op = hgb_random.best_estimator_\n",
        "\n",
        "        print('Parameters currently in use:\\n')\n",
        "        print(hgb_op.get_params())"
      ]
    },
    {
      "cell_type": "code",
      "execution_count": 55,
      "metadata": {
        "colab": {
          "base_uri": "https://localhost:8080/"
        },
        "id": "xKYQQ_GYqM3l",
        "outputId": "c087f244-448a-4cb5-b975-6fc5f80e2356"
      },
      "outputs": [
        {
          "output_type": "stream",
          "name": "stdout",
          "text": [
            "Parameters currently in use:\n",
            "\n",
            "{'base_estimator__ccp_alpha': 0.0, 'base_estimator__criterion': 'squared_error', 'base_estimator__max_depth': 3, 'base_estimator__max_features': None, 'base_estimator__max_leaf_nodes': None, 'base_estimator__min_impurity_decrease': 0.0, 'base_estimator__min_samples_leaf': 1, 'base_estimator__min_samples_split': 2, 'base_estimator__min_weight_fraction_leaf': 0.0, 'base_estimator__random_state': None, 'base_estimator__splitter': 'best', 'base_estimator': DecisionTreeRegressor(max_depth=3), 'learning_rate': 1.0, 'loss': 'exponential', 'n_estimators': 144, 'random_state': 42}\n"
          ]
        }
      ],
      "source": [
        "'''\n",
        "        AdaBoost Regressor\n",
        "'''\n",
        "if ML_OP == 'Enable':\n",
        "        \n",
        "        ad = AdaBoostRegressor()\n",
        "        ad_random = RandomizedSearchCV(ad, random_grid_ad, n_iter=150, cv = 3, n_jobs = -1).fit(X_train, y_train)\n",
        "        ad_op = ad_random.best_estimator_\n",
        "\n",
        "        print('Parameters currently in use:\\n')\n",
        "        print(ad_op.get_params())"
      ]
    },
    {
      "cell_type": "code",
      "execution_count": 56,
      "metadata": {
        "colab": {
          "base_uri": "https://localhost:8080/"
        },
        "id": "K9l9y44RqM3l",
        "outputId": "d85998cd-dd28-4ae3-bab2-67ec6cfb90a1"
      },
      "outputs": [
        {
          "output_type": "stream",
          "name": "stdout",
          "text": [
            "Parameters currently in use:\n",
            "\n",
            "{'bootstrap': False, 'ccp_alpha': 0.0, 'criterion': 'absolute_error', 'max_depth': 16, 'max_features': 'log2', 'max_leaf_nodes': 20, 'max_samples': None, 'min_impurity_decrease': 0.0, 'min_samples_leaf': 1, 'min_samples_split': 11, 'min_weight_fraction_leaf': 0.0, 'n_estimators': 184, 'n_jobs': None, 'oob_score': False, 'random_state': 42, 'verbose': 0, 'warm_start': False}\n"
          ]
        }
      ],
      "source": [
        "'''   \n",
        "        Extra Trees Regressor\n",
        "'''\n",
        "if ML_OP == 'Enable':\n",
        "        \n",
        "        et = ExtraTreesRegressor()\n",
        "        et_random = RandomizedSearchCV(et, random_grid_et, n_iter=150, cv = 3, n_jobs = -1).fit(X_train, y_train)\n",
        "        et_op = et_random.best_estimator_\n",
        "\n",
        "        print('Parameters currently in use:\\n')\n",
        "        print(et_op.get_params())"
      ]
    },
    {
      "cell_type": "code",
      "execution_count": 57,
      "metadata": {
        "colab": {
          "base_uri": "https://localhost:8080/"
        },
        "id": "C36OU-ggqM3m",
        "outputId": "8d1f8b72-bedd-4592-9fa3-17c40d9c41d9"
      },
      "outputs": [
        {
          "output_type": "stream",
          "name": "stdout",
          "text": [
            "Parameters currently in use:\n",
            "\n",
            "{'algorithm': 'auto', 'leaf_size': 14, 'metric': 'minkowski', 'metric_params': None, 'n_jobs': None, 'n_neighbors': 3, 'p': 9, 'weights': 'distance'}\n"
          ]
        }
      ],
      "source": [
        "'''   \n",
        "        K Neighbors Regressor\n",
        "'''\n",
        "if ML_OP == 'Enable':\n",
        "        \n",
        "        knn = KNeighborsRegressor()\n",
        "        knn_random = RandomizedSearchCV(knn, random_grid_knn, n_iter=150, cv = 3, n_jobs = -1).fit(X_train, y_train)\n",
        "        knn_op = knn_random.best_estimator_\n",
        "\n",
        "        print('Parameters currently in use:\\n')\n",
        "        print(knn_op.get_params())"
      ]
    },
    {
      "cell_type": "code",
      "execution_count": 58,
      "metadata": {
        "colab": {
          "base_uri": "https://localhost:8080/"
        },
        "id": "hUVWm3GBqM3m",
        "outputId": "776d255d-972a-4e79-c782-fcea39a544c9"
      },
      "outputs": [
        {
          "output_type": "stream",
          "name": "stdout",
          "text": [
            "Parameters currently in use:\n",
            "\n",
            "{'ccp_alpha': 0.0, 'criterion': 'friedman_mse', 'max_depth': 53, 'max_features': 'auto', 'max_leaf_nodes': 20, 'min_impurity_decrease': 0.0, 'min_samples_leaf': 1, 'min_samples_split': 20, 'min_weight_fraction_leaf': 0.0, 'random_state': 42, 'splitter': 'random'}\n"
          ]
        }
      ],
      "source": [
        "'''\n",
        "            Decision Tree Regressor\n",
        "'''\n",
        "if ML_OP == 'Enable':\n",
        "    \n",
        "    dt = DecisionTreeRegressor()\n",
        "    dt_random = RandomizedSearchCV(dt, random_grid_dt, n_iter=150, cv = 3, n_jobs = -1).fit(X_train, y_train)\n",
        "    dt_op = dt_random.best_estimator_\n",
        "\n",
        "    print('Parameters currently in use:\\n')\n",
        "    print(dt_op.get_params())"
      ]
    },
    {
      "cell_type": "code",
      "execution_count": 59,
      "metadata": {
        "colab": {
          "base_uri": "https://localhost:8080/"
        },
        "id": "NM4ph6aiqM3m",
        "outputId": "341ec4bc-e876-46fb-cee7-1006e23495b6"
      },
      "outputs": [
        {
          "output_type": "stream",
          "name": "stdout",
          "text": [
            "Parameters currently in use:\n",
            "\n",
            "{'C': 1.0, 'cache_size': 647, 'coef0': 0.0, 'degree': 10, 'epsilon': 0.1, 'gamma': 'auto', 'kernel': 'rbf', 'max_iter': 5, 'shrinking': True, 'tol': 0.001, 'verbose': False}\n"
          ]
        }
      ],
      "source": [
        "'''\n",
        "            Support Vector Machines Regressor\n",
        "'''\n",
        "if ML_OP == 'Enable':\n",
        "    \n",
        "    svm = SVR()\n",
        "    svm_random = RandomizedSearchCV(svm, random_grid_svm, n_iter=150, cv = 3, n_jobs = -1).fit(X_train, y_train)\n",
        "    svm_op = svm_random.best_estimator_\n",
        "\n",
        "    print('Parameters currently in use:\\n')\n",
        "    print(svm_op.get_params())"
      ]
    },
    {
      "cell_type": "code",
      "execution_count": 60,
      "metadata": {
        "colab": {
          "base_uri": "https://localhost:8080/"
        },
        "id": "YjwOKMuaqM3m",
        "outputId": "d2b606ad-d350-4717-d6c5-d9cb46b94b8b"
      },
      "outputs": [
        {
          "output_type": "stream",
          "name": "stdout",
          "text": [
            "Parameters currently in use:\n",
            "\n",
            "{'C': 1.0, 'dual': True, 'epsilon': 0.0, 'fit_intercept': True, 'intercept_scaling': 4, 'loss': 'epsilon_insensitive', 'max_iter': 2131, 'random_state': 42, 'tol': 0.0001, 'verbose': 0}\n"
          ]
        }
      ],
      "source": [
        "'''\n",
        "            Linear Support Vector Regressor\n",
        "'''\n",
        "if ML_OP == 'Enable':\n",
        "\n",
        "    lsvm = LinearSVR()\n",
        "    lsvm_random = RandomizedSearchCV(lsvm, random_grid_lsvm, n_iter=150, cv = 3, n_jobs = -1).fit(X_train, y_train)\n",
        "    lsvm_op = lsvm_random.best_estimator_\n",
        "\n",
        "    print('Parameters currently in use:\\n')\n",
        "    print(lsvm_op.get_params())"
      ]
    },
    {
      "cell_type": "markdown",
      "metadata": {
        "id": "PiRCWt7iqM3n"
      },
      "source": [
        "## Predict y_test Using "
      ]
    },
    {
      "cell_type": "code",
      "execution_count": 61,
      "metadata": {
        "colab": {
          "base_uri": "https://localhost:8080/"
        },
        "id": "x48MUXs_qM3n",
        "outputId": "de8abb2a-93da-4869-cae0-f76d818e0920"
      },
      "outputs": [
        {
          "output_type": "stream",
          "name": "stdout",
          "text": [
            "\n",
            "Predict y_test using Random Forest Regressor model done\n"
          ]
        }
      ],
      "source": [
        "if ML_OP == 'Enable':\n",
        "    # Random Forest Regressor\n",
        "    rf_op_pred = rf_op.predict(X_test)\n",
        "    print ('\\nPredict y_test using Random Forest Regressor model done')"
      ]
    },
    {
      "cell_type": "code",
      "execution_count": 62,
      "metadata": {
        "colab": {
          "base_uri": "https://localhost:8080/"
        },
        "id": "sJg5ONfeqM3n",
        "outputId": "006b49fa-3aff-4550-e1cb-0f6390d23369"
      },
      "outputs": [
        {
          "output_type": "stream",
          "name": "stdout",
          "text": [
            "\n",
            "Predict y_test using Gradient Boosting Regressor model done\n"
          ]
        }
      ],
      "source": [
        "if ML_OP == 'Enable':\n",
        "    # Gradient Boosting Regressor\n",
        "    gb_op_pred = gb_op.predict(X_test)\n",
        "    print ('\\nPredict y_test using Gradient Boosting Regressor model done')"
      ]
    },
    {
      "cell_type": "code",
      "execution_count": 63,
      "metadata": {
        "colab": {
          "base_uri": "https://localhost:8080/"
        },
        "id": "8q_FzrIMqM3o",
        "outputId": "d3f066dd-c8f0-462c-b1c4-e39f20dd2fc4"
      },
      "outputs": [
        {
          "output_type": "stream",
          "name": "stdout",
          "text": [
            "\n",
            "Predict y_test using Histogram-based Gradient Boosting Regression model done\n"
          ]
        }
      ],
      "source": [
        "if ML_OP == 'Enable':\n",
        "    # Histogram-based Gradient Boosting Regression Tree\n",
        "    hgb_op_pred = hgb_op.predict(X_test)\n",
        "    print ('\\nPredict y_test using Histogram-based Gradient Boosting Regression model done')"
      ]
    },
    {
      "cell_type": "code",
      "execution_count": 64,
      "metadata": {
        "colab": {
          "base_uri": "https://localhost:8080/"
        },
        "id": "E7oNrQNtqM3o",
        "outputId": "ca4f04a7-a6ee-4450-ea2c-f9c798f85bf0"
      },
      "outputs": [
        {
          "output_type": "stream",
          "name": "stdout",
          "text": [
            "\n",
            "Predict y_test using AdaBoost Regressor model done\n"
          ]
        }
      ],
      "source": [
        "if ML_OP == 'Enable':\n",
        "    # AdaBoost Regressor\n",
        "    ad_op_pred = ad_op.predict(X_test)\n",
        "    print ('\\nPredict y_test using AdaBoost Regressor model done')"
      ]
    },
    {
      "cell_type": "code",
      "execution_count": 65,
      "metadata": {
        "colab": {
          "base_uri": "https://localhost:8080/"
        },
        "id": "UlKbz_JVqM3p",
        "outputId": "6d60548b-64a3-45e4-d7cb-7e856c0967d6"
      },
      "outputs": [
        {
          "output_type": "stream",
          "name": "stdout",
          "text": [
            "\n",
            "Predict y_test using Extra Trees Regressor model done\n"
          ]
        }
      ],
      "source": [
        "if ML_OP == 'Enable':\n",
        "    # Extra Trees Regressor\n",
        "    et_op_pred = et_op.predict(X_test)\n",
        "    print ('\\nPredict y_test using Extra Trees Regressor model done')"
      ]
    },
    {
      "cell_type": "code",
      "execution_count": 66,
      "metadata": {
        "colab": {
          "base_uri": "https://localhost:8080/"
        },
        "id": "WkIrZxPCqM3p",
        "outputId": "f86869f9-7d31-4b96-cb8f-741d6eb81565"
      },
      "outputs": [
        {
          "output_type": "stream",
          "name": "stdout",
          "text": [
            "\n",
            "Predict y_test using K Neighbors Regressor model done\n"
          ]
        }
      ],
      "source": [
        "if ML_OP == 'Enable':\n",
        "    # K Neighbors Regressor\n",
        "    knn_op_pred = knn_op.predict(X_test)\n",
        "    print ('\\nPredict y_test using K Neighbors Regressor model done')"
      ]
    },
    {
      "cell_type": "code",
      "execution_count": 67,
      "metadata": {
        "colab": {
          "base_uri": "https://localhost:8080/"
        },
        "id": "_Qz5ngOUqM3p",
        "outputId": "b3a070f3-8821-4535-c63e-efa0e0dcd032"
      },
      "outputs": [
        {
          "output_type": "stream",
          "name": "stdout",
          "text": [
            "\n",
            "Predict y_test using Decision Tree Regressor model done\n"
          ]
        }
      ],
      "source": [
        "if ML_OP == 'Enable':\n",
        "    # Decision Tree Regressor\n",
        "    dt_op_pred = dt_op.predict(X_test)\n",
        "    print ('\\nPredict y_test using Decision Tree Regressor model done')"
      ]
    },
    {
      "cell_type": "code",
      "execution_count": 68,
      "metadata": {
        "colab": {
          "base_uri": "https://localhost:8080/"
        },
        "id": "yh6tCv9aqM3p",
        "outputId": "779ef13d-8b99-4e15-876d-c339112b4d0e"
      },
      "outputs": [
        {
          "output_type": "stream",
          "name": "stdout",
          "text": [
            "\n",
            "Predict y_test using Support Vector Regressor model done\n"
          ]
        }
      ],
      "source": [
        "if ML_OP == 'Enable':\n",
        "    # Support Vector Machines Regressor\n",
        "    svm_op_pred = svm_op.predict(X_test)\n",
        "    print ('\\nPredict y_test using Support Vector Regressor model done')"
      ]
    },
    {
      "cell_type": "code",
      "execution_count": 69,
      "metadata": {
        "colab": {
          "base_uri": "https://localhost:8080/"
        },
        "id": "ha_2ucsjqM3q",
        "outputId": "553edb64-5156-4b03-f18c-4fae8ed70c6c"
      },
      "outputs": [
        {
          "output_type": "stream",
          "name": "stdout",
          "text": [
            "\n",
            "Predict y_test using Linear Support Vector Regressor model done\n"
          ]
        }
      ],
      "source": [
        "if ML_OP == 'Enable':\n",
        "    # Linear Support Vector Regression\n",
        "    lsvm_op_pred = lsvm_op.predict(X_test)\n",
        "    print ('\\nPredict y_test using Linear Support Vector Regressor model done')"
      ]
    },
    {
      "cell_type": "markdown",
      "metadata": {
        "id": "RCvIY-ICqM3q"
      },
      "source": [
        "## Evaluate the Models "
      ]
    },
    {
      "cell_type": "markdown",
      "metadata": {
        "id": "vC8ODH1rqM3q"
      },
      "source": [
        "### Random Forest Regressor"
      ]
    },
    {
      "cell_type": "code",
      "execution_count": 70,
      "metadata": {
        "colab": {
          "base_uri": "https://localhost:8080/"
        },
        "id": "NosvTWDoqM3q",
        "outputId": "91713b06-9342-47ac-9902-36a30b833c6b"
      },
      "outputs": [
        {
          "output_type": "stream",
          "name": "stdout",
          "text": [
            "+----+-----------------------------------------------+------------+\n",
            "|    | Random Forest Regressor Optimization Models   |   Accuracy |\n",
            "|----+-----------------------------------------------+------------|\n",
            "|  0 | Mean Absolute Error (MAE)                     |   0.414566 |\n",
            "|  1 | Mean Squared Error (MSE)                      |   0.656377 |\n",
            "|  2 | Root Mean Squared Error (RMSE)                |   0.810171 |\n",
            "|  3 | Explained Variance Score                      |   0.522729 |\n",
            "|  4 | Max Error                                     |   4.97426  |\n",
            "|  5 | Median Absolute Error                         |   0.231093 |\n",
            "|  6 | R^2                                           |   0.488456 |\n",
            "+----+-----------------------------------------------+------------+\n"
          ]
        }
      ],
      "source": [
        "if ML_OP == 'Enable':\n",
        "    # Mean Absolute Error (MAE)\n",
        "    mean_absolute_error_rf_op = mean_absolute_error(y_test, rf_op_pred)\n",
        "\n",
        "    # Mean Squared Error (MSE)\n",
        "    mean_squared_error_rf_op = mean_squared_error(y_test, rf_op_pred)\n",
        "\n",
        "    # Root Mean Squared Error (RMSE)\n",
        "    Root_mean_squared_error_rf_op = mean_squared_error(y_test, rf_op_pred, squared=False)\n",
        "\n",
        "    # Explained Variance Score\n",
        "    explained_variance_score_rf_op = explained_variance_score(y_test, rf_op_pred)\n",
        "\n",
        "    # Max Error\n",
        "    max_error_rf_op = max_error(y_test, rf_op_pred)\n",
        "\n",
        "    # Median Absolute Error\n",
        "    median_absolute_error_rf_op = median_absolute_error(y_test, rf_op_pred)\n",
        "\n",
        "    # R^2\n",
        "    r2_score_rf_op = r2_score(y_test, rf_op_pred)\n",
        "\n",
        "    rf_op_valid_compare = pd.DataFrame({\"Random Forest Regressor Optimization Models\": [\n",
        "                                                \"Mean Absolute Error (MAE)\", \n",
        "                                                \"Mean Squared Error (MSE)\",\n",
        "                                                \"Root Mean Squared Error (RMSE)\",\n",
        "                                                \"Explained Variance Score\",\n",
        "                                                \"Max Error\",\n",
        "                                                \"Median Absolute Error\",\n",
        "                                                \"R^2\",\n",
        "                                                ],\n",
        "\n",
        "                                \"Accuracy\": [\n",
        "                                                mean_absolute_error_rf_op, \n",
        "                                                mean_squared_error_rf_op,\n",
        "                                                Root_mean_squared_error_rf_op,\n",
        "                                                explained_variance_score_rf_op,\n",
        "                                                max_error_rf_op,\n",
        "                                                median_absolute_error_rf_op,\n",
        "                                                r2_score_rf_op,\n",
        "                                                ],\n",
        "                                        })  \n",
        "    print(tabulate(rf_op_valid_compare, headers = 'keys', tablefmt = 'psql'))"
      ]
    },
    {
      "cell_type": "markdown",
      "metadata": {
        "id": "WqHbPj6xqM3r"
      },
      "source": [
        "### Gradient Boosting Regressor"
      ]
    },
    {
      "cell_type": "code",
      "execution_count": 71,
      "metadata": {
        "colab": {
          "base_uri": "https://localhost:8080/"
        },
        "id": "8lPphq-dqM3r",
        "outputId": "773417b4-2eb8-4b53-820c-4e47b519c109"
      },
      "outputs": [
        {
          "output_type": "stream",
          "name": "stdout",
          "text": [
            "+----+---------------------------------------------------+------------+\n",
            "|    | Gradient Boosting Regressor Optimization Models   |   Accuracy |\n",
            "|----+---------------------------------------------------+------------|\n",
            "|  0 | Mean Absolute Error (MAE)                         |   0.432931 |\n",
            "|  1 | Mean Squared Error (MSE)                          |   0.889317 |\n",
            "|  2 | Root Mean Squared Error (RMSE)                    |   0.943036 |\n",
            "|  3 | Explained Variance Score                          |   0.307642 |\n",
            "|  4 | Max Error                                         |   4.91165  |\n",
            "|  5 | Median Absolute Error                             |   0.242644 |\n",
            "|  6 | R^2                                               |   0.306916 |\n",
            "+----+---------------------------------------------------+------------+\n"
          ]
        }
      ],
      "source": [
        "if ML_OP == 'Enable':\n",
        "    # Mean Absolute Error (MAE)\n",
        "    mean_absolute_error_gb_op = mean_absolute_error(y_test, gb_op_pred)\n",
        "\n",
        "    # Mean Squared Error (MSE)\n",
        "    mean_squared_error_gb_op = mean_squared_error(y_test, gb_op_pred)\n",
        "\n",
        "    # Root Mean Squared Error (RMSE)\n",
        "    Root_mean_squared_error_gb_op = mean_squared_error(y_test, gb_op_pred, squared=False)\n",
        "\n",
        "    # Explained Variance Score\n",
        "    explained_variance_score_gb_op = explained_variance_score(y_test, gb_op_pred)\n",
        "\n",
        "    # Max Error\n",
        "    max_error_gb_op = max_error(y_test, gb_op_pred)\n",
        "\n",
        "    # Median Absolute Error\n",
        "    median_absolute_error_gb_op = median_absolute_error(y_test, gb_op_pred)\n",
        "\n",
        "    # R^2\n",
        "    r2_score_gb_op = r2_score(y_test, gb_op_pred)\n",
        "\n",
        "    gb_op_valid_compare = pd.DataFrame({\"Gradient Boosting Regressor Optimization Models\": [\n",
        "                                                \"Mean Absolute Error (MAE)\", \n",
        "                                                \"Mean Squared Error (MSE)\",\n",
        "                                                \"Root Mean Squared Error (RMSE)\",\n",
        "                                                \"Explained Variance Score\",\n",
        "                                                \"Max Error\",\n",
        "                                                \"Median Absolute Error\",\n",
        "                                                \"R^2\",\n",
        "                                                ],\n",
        "\n",
        "                                \"Accuracy\": [\n",
        "                                                mean_absolute_error_gb_op, \n",
        "                                                mean_squared_error_gb_op,\n",
        "                                                Root_mean_squared_error_gb_op,\n",
        "                                                explained_variance_score_gb_op,\n",
        "                                                max_error_gb_op,\n",
        "                                                median_absolute_error_gb_op,\n",
        "                                                r2_score_gb_op,\n",
        "                                                ],\n",
        "                                        })  \n",
        "    print(tabulate(gb_op_valid_compare, headers = 'keys', tablefmt = 'psql'))"
      ]
    },
    {
      "cell_type": "markdown",
      "metadata": {
        "id": "leArKA0IqM3r"
      },
      "source": [
        "### Histogram-based Gradient Boosting Regressor"
      ]
    },
    {
      "cell_type": "code",
      "execution_count": 72,
      "metadata": {
        "colab": {
          "base_uri": "https://localhost:8080/"
        },
        "id": "PWnDPizOqM3r",
        "outputId": "afe14ad5-5287-4b90-fff1-2c1557c609ca"
      },
      "outputs": [
        {
          "output_type": "stream",
          "name": "stdout",
          "text": [
            "+----+-------------------------------------------------------------------+------------+\n",
            "|    | Histogram-based Gradient Boosting Regressor Optimization Models   |   Accuracy |\n",
            "|----+-------------------------------------------------------------------+------------|\n",
            "|  0 | Mean Absolute Error (MAE)                                         |   0.359765 |\n",
            "|  1 | Mean Squared Error (MSE)                                          |   0.5685   |\n",
            "|  2 | Root Mean Squared Error (RMSE)                                    |   0.753989 |\n",
            "|  3 | Explained Variance Score                                          |   0.565982 |\n",
            "|  4 | Max Error                                                         |   5.19099  |\n",
            "|  5 | Median Absolute Error                                             |   0.223935 |\n",
            "|  6 | R^2                                                               |   0.556943 |\n",
            "+----+-------------------------------------------------------------------+------------+\n"
          ]
        }
      ],
      "source": [
        "if ML_OP == 'Enable':\n",
        "    # Mean Absolute Error (MAE)\n",
        "    mean_absolute_error_hgb_op = mean_absolute_error(y_test, hgb_op_pred)\n",
        "\n",
        "    # Mean Squared Error (MSE)\n",
        "    mean_squared_error_hgb_op = mean_squared_error(y_test, hgb_op_pred)\n",
        "\n",
        "    # Root Mean Squared Error (RMSE)\n",
        "    Root_mean_squared_error_hgb_op = mean_squared_error(y_test, hgb_op_pred, squared=False)\n",
        "\n",
        "    # Explained Variance Score\n",
        "    explained_variance_score_hgb_op = explained_variance_score(y_test, hgb_op_pred)\n",
        "\n",
        "    # Max Error\n",
        "    max_error_hgb_op = max_error(y_test, hgb_op_pred)\n",
        "\n",
        "    # Median Absolute Error\n",
        "    median_absolute_error_hgb_op = median_absolute_error(y_test, hgb_op_pred)\n",
        "\n",
        "    # R^2\n",
        "    r2_score_hgb_op = r2_score(y_test, hgb_op_pred)\n",
        "\n",
        "    hgb_op_valid_compare = pd.DataFrame({\"Histogram-based Gradient Boosting Regressor Optimization Models\": [\n",
        "                                                \"Mean Absolute Error (MAE)\", \n",
        "                                                \"Mean Squared Error (MSE)\",\n",
        "                                                \"Root Mean Squared Error (RMSE)\",\n",
        "                                                \"Explained Variance Score\",\n",
        "                                                \"Max Error\",\n",
        "                                                \"Median Absolute Error\",\n",
        "                                                \"R^2\",\n",
        "                                                ],\n",
        "\n",
        "                                \"Accuracy\": [\n",
        "                                                mean_absolute_error_hgb_op, \n",
        "                                                mean_squared_error_hgb_op,\n",
        "                                                Root_mean_squared_error_hgb_op,\n",
        "                                                explained_variance_score_hgb_op,\n",
        "                                                max_error_hgb_op,\n",
        "                                                median_absolute_error_hgb_op,\n",
        "                                                r2_score_hgb_op,\n",
        "                                                ],\n",
        "                                        })  \n",
        "    print(tabulate(hgb_op_valid_compare, headers = 'keys', tablefmt = 'psql'))"
      ]
    },
    {
      "cell_type": "markdown",
      "metadata": {
        "id": "cDMWzFKJqM3s"
      },
      "source": [
        "### AdaBoost Regressor"
      ]
    },
    {
      "cell_type": "code",
      "execution_count": 73,
      "metadata": {
        "colab": {
          "base_uri": "https://localhost:8080/"
        },
        "id": "Z4UdjcUxqM3s",
        "outputId": "9fae0662-ec86-405a-c9ab-e5f49f41d220"
      },
      "outputs": [
        {
          "output_type": "stream",
          "name": "stdout",
          "text": [
            "+----+------------------------------------------+------------+\n",
            "|    | AdaBoost Regressor Optimization Models   |   Accuracy |\n",
            "|----+------------------------------------------+------------|\n",
            "|  0 | Mean Absolute Error (MAE)                |   0.400477 |\n",
            "|  1 | Mean Squared Error (MSE)                 |   0.631272 |\n",
            "|  2 | Root Mean Squared Error (RMSE)           |   0.794526 |\n",
            "|  3 | Explained Variance Score                 |   0.513085 |\n",
            "|  4 | Max Error                                |   4.92556  |\n",
            "|  5 | Median Absolute Error                    |   0.240572 |\n",
            "|  6 | R^2                                      |   0.508022 |\n",
            "+----+------------------------------------------+------------+\n"
          ]
        }
      ],
      "source": [
        "if ML_OP == 'Enable':\n",
        "    # Mean Absolute Error (MAE)\n",
        "    mean_absolute_error_ad_op = mean_absolute_error(y_test, ad_op_pred)\n",
        "\n",
        "    # Mean Squared Error (MSE)\n",
        "    mean_squared_error_ad_op = mean_squared_error(y_test, ad_op_pred)\n",
        "\n",
        "    # Root Mean Squared Error (RMSE)\n",
        "    Root_mean_squared_error_ad_op = mean_squared_error(y_test, ad_op_pred, squared=False)\n",
        "\n",
        "    # Explained Variance Score\n",
        "    explained_variance_score_ad_op = explained_variance_score(y_test, ad_op_pred)\n",
        "\n",
        "    # Max Error\n",
        "    max_error_ad_op = max_error(y_test, ad_op_pred)\n",
        "\n",
        "    # Median Absolute Error\n",
        "    median_absolute_error_ad_op = median_absolute_error(y_test, ad_op_pred)\n",
        "\n",
        "    # R^2\n",
        "    r2_score_ad_op = r2_score(y_test, ad_op_pred)\n",
        "\n",
        "    ad_op_valid_compare = pd.DataFrame({\"AdaBoost Regressor Optimization Models\": [\n",
        "                                                \"Mean Absolute Error (MAE)\", \n",
        "                                                \"Mean Squared Error (MSE)\",\n",
        "                                                \"Root Mean Squared Error (RMSE)\",\n",
        "                                                \"Explained Variance Score\",\n",
        "                                                \"Max Error\",\n",
        "                                                \"Median Absolute Error\",\n",
        "                                                \"R^2\",\n",
        "                                                ],\n",
        "\n",
        "                                \"Accuracy\": [\n",
        "                                                mean_absolute_error_ad_op, \n",
        "                                                mean_squared_error_ad_op,\n",
        "                                                Root_mean_squared_error_ad_op,\n",
        "                                                explained_variance_score_ad_op,\n",
        "                                                max_error_ad_op,\n",
        "                                                median_absolute_error_ad_op,\n",
        "                                                r2_score_ad_op,\n",
        "                                                ],\n",
        "                                        })  \n",
        "    print(tabulate(ad_op_valid_compare, headers = 'keys', tablefmt = 'psql'))"
      ]
    },
    {
      "cell_type": "markdown",
      "metadata": {
        "id": "WevGu6gtqM3s"
      },
      "source": [
        "### Extra Trees Regressor"
      ]
    },
    {
      "cell_type": "code",
      "execution_count": 74,
      "metadata": {
        "colab": {
          "base_uri": "https://localhost:8080/"
        },
        "id": "KSv1E_8hqM3s",
        "outputId": "d75d4146-56b5-435f-f90c-3f591a90cd1b"
      },
      "outputs": [
        {
          "output_type": "stream",
          "name": "stdout",
          "text": [
            "+----+---------------------------------------------+------------+\n",
            "|    | Extra Trees Regressor Optimization Models   |   Accuracy |\n",
            "|----+---------------------------------------------+------------|\n",
            "|  0 | Mean Absolute Error (MAE)                   |   0.445632 |\n",
            "|  1 | Mean Squared Error (MSE)                    |   0.744031 |\n",
            "|  2 | Root Mean Squared Error (RMSE)              |   0.862573 |\n",
            "|  3 | Explained Variance Score                    |   0.451363 |\n",
            "|  4 | Max Error                                   |   5.12772  |\n",
            "|  5 | Median Absolute Error                       |   0.20942  |\n",
            "|  6 | R^2                                         |   0.420143 |\n",
            "+----+---------------------------------------------+------------+\n"
          ]
        }
      ],
      "source": [
        "if ML_OP == 'Enable':\n",
        "    # Mean Absolute Error (MAE)\n",
        "    mean_absolute_error_et_op = mean_absolute_error(y_test, et_op_pred)\n",
        "\n",
        "    # Mean Squared Error (MSE)\n",
        "    mean_squared_error_et_op = mean_squared_error(y_test, et_op_pred)\n",
        "\n",
        "    # Root Mean Squared Error (RMSE)\n",
        "    Root_mean_squared_error_et_op = mean_squared_error(y_test, et_op_pred, squared=False)\n",
        "\n",
        "    # Explained Variance Score\n",
        "    explained_variance_score_et_op = explained_variance_score(y_test, et_op_pred)\n",
        "\n",
        "    # Max Error\n",
        "    max_error_et_op = max_error(y_test, et_op_pred)\n",
        "\n",
        "    # Median Absolute Error\n",
        "    median_absolute_error_et_op = median_absolute_error(y_test, et_op_pred)\n",
        "\n",
        "    # R^2\n",
        "    r2_score_et_op = r2_score(y_test, et_op_pred)\n",
        "\n",
        "    et_op_valid_compare = pd.DataFrame({\"Extra Trees Regressor Optimization Models\": [\n",
        "                                                \"Mean Absolute Error (MAE)\", \n",
        "                                                \"Mean Squared Error (MSE)\",\n",
        "                                                \"Root Mean Squared Error (RMSE)\",\n",
        "                                                \"Explained Variance Score\",\n",
        "                                                \"Max Error\",\n",
        "                                                \"Median Absolute Error\",\n",
        "                                                \"R^2\",\n",
        "                                                ],\n",
        "\n",
        "                                \"Accuracy\": [\n",
        "                                                mean_absolute_error_et_op, \n",
        "                                                mean_squared_error_et_op,\n",
        "                                                Root_mean_squared_error_et_op,\n",
        "                                                explained_variance_score_et_op,\n",
        "                                                max_error_et_op,\n",
        "                                                median_absolute_error_et_op,\n",
        "                                                r2_score_et_op,\n",
        "                                                ],\n",
        "                                        })  \n",
        "    print(tabulate(et_op_valid_compare, headers = 'keys', tablefmt = 'psql'))"
      ]
    },
    {
      "cell_type": "markdown",
      "metadata": {
        "id": "HB9JyRO_qM3t"
      },
      "source": [
        "### K Neighbors Regressor"
      ]
    },
    {
      "cell_type": "code",
      "execution_count": 75,
      "metadata": {
        "colab": {
          "base_uri": "https://localhost:8080/"
        },
        "id": "8SYYzcKAqM3t",
        "outputId": "5fcc9eb1-ed9a-446c-f22e-3a5d1d00b9b9"
      },
      "outputs": [
        {
          "output_type": "stream",
          "name": "stdout",
          "text": [
            "+----+---------------------------------------------+------------+\n",
            "|    | K Neighbors Regressor Optimization Models   |   Accuracy |\n",
            "|----+---------------------------------------------+------------|\n",
            "|  0 | Mean Absolute Error (MAE)                   |   0.442184 |\n",
            "|  1 | Mean Squared Error (MSE)                    |   0.80213  |\n",
            "|  2 | Root Mean Squared Error (RMSE)              |   0.895617 |\n",
            "|  3 | Explained Variance Score                    |   0.414079 |\n",
            "|  4 | Max Error                                   |   5.11992  |\n",
            "|  5 | Median Absolute Error                       |   0.257594 |\n",
            "|  6 | R^2                                         |   0.374865 |\n",
            "+----+---------------------------------------------+------------+\n"
          ]
        }
      ],
      "source": [
        "if ML_OP == 'Enable':\n",
        "    # Mean Absolute Error (MAE)\n",
        "    mean_absolute_error_knn_op = mean_absolute_error(y_test, knn_op_pred)\n",
        "\n",
        "    # Mean Squared Error (MSE)\n",
        "    mean_squared_error_knn_op = mean_squared_error(y_test, knn_op_pred)\n",
        "\n",
        "    # Root Mean Squared Error (RMSE)\n",
        "    Root_mean_squared_error_knn_op = mean_squared_error(y_test, knn_op_pred, squared=False)\n",
        "\n",
        "    # Explained Variance Score\n",
        "    explained_variance_score_knn_op = explained_variance_score(y_test, knn_op_pred)\n",
        "\n",
        "    # Max Error\n",
        "    max_error_knn_op = max_error(y_test, knn_op_pred)\n",
        "\n",
        "    # Median Absolute Error\n",
        "    median_absolute_error_knn_op = median_absolute_error(y_test, knn_op_pred)\n",
        "\n",
        "    # R^2\n",
        "    r2_score_knn_op = r2_score(y_test, knn_op_pred)\n",
        "\n",
        "    knn_op_valid_compare = pd.DataFrame({\"K Neighbors Regressor Optimization Models\": [\n",
        "                                                \"Mean Absolute Error (MAE)\", \n",
        "                                                \"Mean Squared Error (MSE)\",\n",
        "                                                \"Root Mean Squared Error (RMSE)\",\n",
        "                                                \"Explained Variance Score\",\n",
        "                                                \"Max Error\",\n",
        "                                                \"Median Absolute Error\",\n",
        "                                                \"R^2\",\n",
        "                                                ],\n",
        "\n",
        "                                \"Accuracy\": [\n",
        "                                                mean_absolute_error_knn_op, \n",
        "                                                mean_squared_error_knn_op,\n",
        "                                                Root_mean_squared_error_knn_op,\n",
        "                                                explained_variance_score_knn_op,\n",
        "                                                max_error_knn_op,\n",
        "                                                median_absolute_error_knn_op,\n",
        "                                                r2_score_knn_op,\n",
        "                                                ],\n",
        "                                        })  \n",
        "    print(tabulate(knn_op_valid_compare, headers = 'keys', tablefmt = 'psql'))"
      ]
    },
    {
      "cell_type": "markdown",
      "metadata": {
        "id": "WF4oKO1ZqM3t"
      },
      "source": [
        "### Decision Tree Regressor"
      ]
    },
    {
      "cell_type": "code",
      "execution_count": 76,
      "metadata": {
        "colab": {
          "base_uri": "https://localhost:8080/"
        },
        "id": "TPE58FPgqM3t",
        "outputId": "46d1170e-b8ad-4392-963c-d39a3ef0ad5b"
      },
      "outputs": [
        {
          "output_type": "stream",
          "name": "stdout",
          "text": [
            "+----+-----------------------------------------------+------------+\n",
            "|    | Decision Tree Regressor Optimization Models   |   Accuracy |\n",
            "|----+-----------------------------------------------+------------|\n",
            "|  0 | Mean Absolute Error (MAE)                     |   0.469308 |\n",
            "|  1 | Mean Squared Error (MSE)                      |   0.869948 |\n",
            "|  2 | Root Mean Squared Error (RMSE)                |   0.93271  |\n",
            "|  3 | Explained Variance Score                      |   0.345326 |\n",
            "|  4 | Max Error                                     |   5.63908  |\n",
            "|  5 | Median Absolute Error                         |   0.253787 |\n",
            "|  6 | R^2                                           |   0.322011 |\n",
            "+----+-----------------------------------------------+------------+\n"
          ]
        }
      ],
      "source": [
        "if ML_OP == 'Enable':\n",
        "    # Mean Absolute Error (MAE)\n",
        "    mean_absolute_error_dt_op = mean_absolute_error(y_test, dt_op_pred)\n",
        "\n",
        "    # Mean Squared Error (MSE)\n",
        "    mean_squared_error_dt_op = mean_squared_error(y_test, dt_op_pred)\n",
        "\n",
        "    # Root Mean Squared Error (RMSE)\n",
        "    Root_mean_squared_error_dt_op = mean_squared_error(y_test, dt_op_pred, squared=False)\n",
        "\n",
        "    # Explained Variance Score\n",
        "    explained_variance_score_dt_op = explained_variance_score(y_test, dt_op_pred)\n",
        "\n",
        "    # Max Error\n",
        "    max_error_dt_op = max_error(y_test, dt_op_pred)\n",
        "\n",
        "    # Median Absolute Error\n",
        "    median_absolute_error_dt_op = median_absolute_error(y_test, dt_op_pred)\n",
        "\n",
        "    # R^2\n",
        "    r2_score_dt_op = r2_score(y_test, dt_op_pred)\n",
        "\n",
        "    dt_op_valid_compare = pd.DataFrame({\"Decision Tree Regressor Optimization Models\": [\n",
        "                                                \"Mean Absolute Error (MAE)\", \n",
        "                                                \"Mean Squared Error (MSE)\",\n",
        "                                                \"Root Mean Squared Error (RMSE)\",\n",
        "                                                \"Explained Variance Score\",\n",
        "                                                \"Max Error\",\n",
        "                                                \"Median Absolute Error\",\n",
        "                                                \"R^2\",\n",
        "                                                ],\n",
        "\n",
        "                                \"Accuracy\": [\n",
        "                                                mean_absolute_error_dt_op, \n",
        "                                                mean_squared_error_dt_op,\n",
        "                                                Root_mean_squared_error_dt_op,\n",
        "                                                explained_variance_score_dt_op,\n",
        "                                                max_error_dt_op,\n",
        "                                                median_absolute_error_dt_op,\n",
        "                                                r2_score_dt_op,\n",
        "                                                ],\n",
        "                                        })  \n",
        "    print(tabulate(dt_op_valid_compare, headers = 'keys', tablefmt = 'psql'))"
      ]
    },
    {
      "cell_type": "markdown",
      "metadata": {
        "id": "KOj7jbBDqM3u"
      },
      "source": [
        "### Support Vector Regressor"
      ]
    },
    {
      "cell_type": "code",
      "execution_count": 77,
      "metadata": {
        "colab": {
          "base_uri": "https://localhost:8080/"
        },
        "id": "wtkT3wnhqM3u",
        "outputId": "da22ca5f-7a58-4c69-f466-eb923a63b986"
      },
      "outputs": [
        {
          "output_type": "stream",
          "name": "stdout",
          "text": [
            "+----+------------------------------------------------+------------+\n",
            "|    | Support Vector Regressor Optimization Models   |   Accuracy |\n",
            "|----+------------------------------------------------+------------|\n",
            "|  0 | Mean Absolute Error (MAE)                      |  0.946934  |\n",
            "|  1 | Mean Squared Error (MSE)                       |  1.2991    |\n",
            "|  2 | Root Mean Squared Error (RMSE)                 |  1.13978   |\n",
            "|  3 | Explained Variance Score                       |  0.327458  |\n",
            "|  4 | Max Error                                      |  4.62386   |\n",
            "|  5 | Median Absolute Error                          |  0.84421   |\n",
            "|  6 | R^2                                            | -0.0124463 |\n",
            "+----+------------------------------------------------+------------+\n"
          ]
        }
      ],
      "source": [
        "if ML_OP == 'Enable':\n",
        "    # Mean Absolute Error (MAE)\n",
        "    mean_absolute_error_svm_op = mean_absolute_error(y_test, svm_op_pred)\n",
        "\n",
        "    # Mean Squared Error (MSE)\n",
        "    mean_squared_error_svm_op = mean_squared_error(y_test, svm_op_pred)\n",
        "\n",
        "    # Root Mean Squared Error (RMSE)\n",
        "    Root_mean_squared_error_svm_op = mean_squared_error(y_test, svm_op_pred, squared=False)\n",
        "\n",
        "    # Explained Variance Score\n",
        "    explained_variance_score_svm_op = explained_variance_score(y_test, svm_op_pred)\n",
        "\n",
        "    # Max Error\n",
        "    max_error_svm_op = max_error(y_test, svm_op_pred)\n",
        "\n",
        "    # Median Absolute Error\n",
        "    median_absolute_error_svm_op = median_absolute_error(y_test, svm_op_pred)\n",
        "\n",
        "    # R^2\n",
        "    r2_score_svm_op = r2_score(y_test, svm_op_pred)\n",
        "\n",
        "    svm_op_valid_compare = pd.DataFrame({\"Support Vector Regressor Optimization Models\": [\n",
        "                                                \"Mean Absolute Error (MAE)\", \n",
        "                                                \"Mean Squared Error (MSE)\",\n",
        "                                                \"Root Mean Squared Error (RMSE)\",\n",
        "                                                \"Explained Variance Score\",\n",
        "                                                \"Max Error\",\n",
        "                                                \"Median Absolute Error\",\n",
        "                                                \"R^2\",\n",
        "                                                ],\n",
        "\n",
        "                                \"Accuracy\": [\n",
        "                                                mean_absolute_error_svm_op, \n",
        "                                                mean_squared_error_svm_op,\n",
        "                                                Root_mean_squared_error_svm_op,\n",
        "                                                explained_variance_score_svm_op,\n",
        "                                                max_error_svm_op,\n",
        "                                                median_absolute_error_svm_op,\n",
        "                                                r2_score_svm_op,\n",
        "                                                ],\n",
        "                                        })  \n",
        "    print(tabulate(svm_op_valid_compare, headers = 'keys', tablefmt = 'psql'))"
      ]
    },
    {
      "cell_type": "markdown",
      "metadata": {
        "id": "chBMFAnGqM3u"
      },
      "source": [
        "### Linear Support Vector Regressor"
      ]
    },
    {
      "cell_type": "code",
      "execution_count": 78,
      "metadata": {
        "colab": {
          "base_uri": "https://localhost:8080/"
        },
        "id": "2-Xbnu5OqM3v",
        "outputId": "134bb645-a57f-41a4-96cf-fb0d9ec3fa5b"
      },
      "outputs": [
        {
          "output_type": "stream",
          "name": "stdout",
          "text": [
            "+----+-------------------------------------------------------+------------+\n",
            "|    | Linear Support Vector Regressor Optimization Models   |   Accuracy |\n",
            "|----+-------------------------------------------------------+------------|\n",
            "|  0 | Mean Absolute Error (MAE)                             |   0.499517 |\n",
            "|  1 | Mean Squared Error (MSE)                              |   0.825668 |\n",
            "|  2 | Root Mean Squared Error (RMSE)                        |   0.908663 |\n",
            "|  3 | Explained Variance Score                              |   0.392597 |\n",
            "|  4 | Max Error                                             |   5.10873  |\n",
            "|  5 | Median Absolute Error                                 |   0.27291  |\n",
            "|  6 | R^2                                                   |   0.356521 |\n",
            "+----+-------------------------------------------------------+------------+\n"
          ]
        }
      ],
      "source": [
        "if ML_OP == 'Enable':\n",
        "    # Mean Absolute Error (MAE)\n",
        "    mean_absolute_error_lsvm_op = mean_absolute_error(y_test, lsvm_op_pred)\n",
        "\n",
        "    # Mean Squared Error (MSE)\n",
        "    mean_squared_error_lsvm_op = mean_squared_error(y_test, lsvm_op_pred)\n",
        "\n",
        "    # Root Mean Squared Error (RMSE)\n",
        "    Root_mean_squared_error_lsvm_op = mean_squared_error(y_test, lsvm_op_pred, squared=False)\n",
        "\n",
        "    # Explained Variance Score\n",
        "    explained_variance_score_lsvm_op = explained_variance_score(y_test, lsvm_op_pred)\n",
        "\n",
        "    # Max Error\n",
        "    max_error_lsvm_op = max_error(y_test, lsvm_op_pred)\n",
        "\n",
        "    # Median Absolute Error\n",
        "    median_absolute_error_lsvm_op = median_absolute_error(y_test, lsvm_op_pred)\n",
        "\n",
        "    # R^2\n",
        "    r2_score_lsvm_op = r2_score(y_test, lsvm_op_pred)\n",
        "\n",
        "    lsvm_op_valid_compare = pd.DataFrame({\"Linear Support Vector Regressor Optimization Models\": [\n",
        "                                                \"Mean Absolute Error (MAE)\", \n",
        "                                                \"Mean Squared Error (MSE)\",\n",
        "                                                \"Root Mean Squared Error (RMSE)\",\n",
        "                                                \"Explained Variance Score\",\n",
        "                                                \"Max Error\",\n",
        "                                                \"Median Absolute Error\",\n",
        "                                                \"R^2\",\n",
        "                                                ],\n",
        "\n",
        "                                \"Accuracy\": [\n",
        "                                                mean_absolute_error_lsvm_op, \n",
        "                                                mean_squared_error_lsvm_op,\n",
        "                                                Root_mean_squared_error_lsvm_op,\n",
        "                                                explained_variance_score_lsvm_op,\n",
        "                                                max_error_lsvm_op,\n",
        "                                                median_absolute_error_lsvm_op,\n",
        "                                                r2_score_lsvm_op,\n",
        "                                                ],\n",
        "                                        })  \n",
        "    print(tabulate(lsvm_op_valid_compare, headers = 'keys', tablefmt = 'psql'))"
      ]
    },
    {
      "cell_type": "markdown",
      "metadata": {
        "id": "4dKrtYiEqM3v"
      },
      "source": [
        "# Data Predication"
      ]
    },
    {
      "cell_type": "markdown",
      "metadata": {
        "id": "yx_vbS-CqM3w"
      },
      "source": [
        "## Build the DataFrame"
      ]
    },
    {
      "cell_type": "code",
      "execution_count": 79,
      "metadata": {
        "id": "YRnFHEdyqM3x"
      },
      "outputs": [],
      "source": [
        "# Original Prediction\n",
        "Predication_result = pd.DataFrame()\n",
        "Predication_result['Original Score'] = y_test"
      ]
    },
    {
      "cell_type": "markdown",
      "metadata": {
        "id": "T4tHwYWnqM3x"
      },
      "source": [
        "## Original Prediction Score  Predication Using IDV  Historical Data"
      ]
    },
    {
      "cell_type": "code",
      "execution_count": 80,
      "metadata": {
        "id": "nXtSvF4DqM3x"
      },
      "outputs": [],
      "source": [
        "if ML_ST == 'Enable':\n",
        "\n",
        "    Predication_result['ST_RF'] = rf_ST_pred\n",
        "    Predication_result['ST_GB'] = gb_ST_pred\n",
        "    Predication_result['ST_HGB'] = hgb_ST_pred\n",
        "    Predication_result['ST_AD'] = ad_ST_pred\n",
        "    Predication_result['ST_ET'] = et_ST_pred\n",
        "    Predication_result['ST_KNN'] = knn_ST_pred\n",
        "    Predication_result['ST_DT'] = dt_ST_pred\n",
        "    Predication_result['ST_XGB'] = xgb_ST_pred\n",
        "    Predication_result['ST_SVM'] = svm_ST_pred\n",
        "    Predication_result['ST_LSVM'] = lsvm_ST_pred\n",
        "    Predication_result['ST_MLP'] = mlp_ST_pred\n",
        "\n",
        "if ML_OP == 'Enable':\n",
        "\n",
        "    Predication_result['OP_RF'] = rf_op_pred\n",
        "    Predication_result['OP_GB'] = gb_op_pred\n",
        "    Predication_result['OP_HGB'] = hgb_op_pred\n",
        "    Predication_result['OP_AD'] = ad_op_pred\n",
        "    Predication_result['OP_ET'] = et_op_pred\n",
        "    Predication_result['OP_KNN'] = knn_op_pred\n",
        "    Predication_result['OP_DT'] = dt_op_pred\n",
        "    Predication_result['OP_SVM'] = svm_op_pred\n",
        "    Predication_result['OP_LSVM'] = lsvm_op_pred"
      ]
    },
    {
      "cell_type": "code",
      "execution_count": 81,
      "metadata": {
        "id": "BQibdiA3qM3y"
      },
      "outputs": [],
      "source": [
        "Predication_result.to_csv(fr'C:\\Users\\MY LAPTOP\\Desktop\\Accuyield\\Predication_Sport_Mponks\\Predication_result.csv', index=False)"
      ]
    },
    {
      "cell_type": "markdown",
      "metadata": {
        "id": "iawtyWi8qM3y"
      },
      "source": [
        "## Show the Predication Data"
      ]
    },
    {
      "cell_type": "code",
      "execution_count": 82,
      "metadata": {
        "colab": {
          "base_uri": "https://localhost:8080/",
          "height": 0
        },
        "id": "IAlsE57BqM3y",
        "outputId": "b81af526-b05d-4658-de91-221ffe352546"
      },
      "outputs": [
        {
          "output_type": "execute_result",
          "data": {
            "text/plain": [
              "     Original Score  ST_RF  ST_GB  ST_HGB  ST_AD  ST_ET  ST_KNN  ST_DT  \\\n",
              "290           0.795  0.166  0.172   0.319  0.111  0.174   0.210  0.174   \n",
              "9            -0.750  0.120  0.142   0.480 -0.253  0.544  -0.066 -0.014   \n",
              "57            0.579  0.839  0.831   0.986  0.903  0.875   0.844  0.749   \n",
              "60           -0.131  0.021  0.086   0.083 -0.409  0.089  -0.081  0.158   \n",
              "25            1.377  3.285  3.242   2.667  3.320  3.045   2.730  4.339   \n",
              "\n",
              "     ST_XGB  ST_SVM  ST_LSVM  ST_MLP  OP_RF  OP_GB  OP_HGB  OP_AD  OP_ET  \\\n",
              "290   0.181  -0.483   -0.422  -0.368  0.168  0.198   0.147  0.039 -0.044   \n",
              "9    -0.052   0.327    0.874   1.610  0.476  0.049   0.219 -0.164  0.749   \n",
              "57    0.824   0.843    0.912   1.060  0.980  0.979   0.700  1.078  0.799   \n",
              "60    0.059  -0.179   -0.395  -0.361 -0.121  0.249   0.206 -0.256 -0.037   \n",
              "25    3.365   0.866    1.114   2.305  1.415  4.371   2.589  3.456  1.129   \n",
              "\n",
              "     OP_KNN  OP_DT  OP_SVM  OP_LSVM  \n",
              "290   0.038  0.132   0.471   -0.407  \n",
              "9    -0.049  1.102   0.862    0.829  \n",
              "57    0.875  0.682   1.407    0.825  \n",
              "60   -0.058  0.079   1.059   -0.370  \n",
              "25    2.989  1.102   1.724    1.049  "
            ],
            "text/html": [
              "\n",
              "  <div id=\"df-fae45cc9-a32f-41b5-8a16-23a2a8ebe30d\">\n",
              "    <div class=\"colab-df-container\">\n",
              "      <div>\n",
              "<style scoped>\n",
              "    .dataframe tbody tr th:only-of-type {\n",
              "        vertical-align: middle;\n",
              "    }\n",
              "\n",
              "    .dataframe tbody tr th {\n",
              "        vertical-align: top;\n",
              "    }\n",
              "\n",
              "    .dataframe thead th {\n",
              "        text-align: right;\n",
              "    }\n",
              "</style>\n",
              "<table border=\"1\" class=\"dataframe\">\n",
              "  <thead>\n",
              "    <tr style=\"text-align: right;\">\n",
              "      <th></th>\n",
              "      <th>Original Score</th>\n",
              "      <th>ST_RF</th>\n",
              "      <th>ST_GB</th>\n",
              "      <th>ST_HGB</th>\n",
              "      <th>ST_AD</th>\n",
              "      <th>ST_ET</th>\n",
              "      <th>ST_KNN</th>\n",
              "      <th>ST_DT</th>\n",
              "      <th>ST_XGB</th>\n",
              "      <th>ST_SVM</th>\n",
              "      <th>ST_LSVM</th>\n",
              "      <th>ST_MLP</th>\n",
              "      <th>OP_RF</th>\n",
              "      <th>OP_GB</th>\n",
              "      <th>OP_HGB</th>\n",
              "      <th>OP_AD</th>\n",
              "      <th>OP_ET</th>\n",
              "      <th>OP_KNN</th>\n",
              "      <th>OP_DT</th>\n",
              "      <th>OP_SVM</th>\n",
              "      <th>OP_LSVM</th>\n",
              "    </tr>\n",
              "  </thead>\n",
              "  <tbody>\n",
              "    <tr>\n",
              "      <th>290</th>\n",
              "      <td>0.795</td>\n",
              "      <td>0.166</td>\n",
              "      <td>0.172</td>\n",
              "      <td>0.319</td>\n",
              "      <td>0.111</td>\n",
              "      <td>0.174</td>\n",
              "      <td>0.210</td>\n",
              "      <td>0.174</td>\n",
              "      <td>0.181</td>\n",
              "      <td>-0.483</td>\n",
              "      <td>-0.422</td>\n",
              "      <td>-0.368</td>\n",
              "      <td>0.168</td>\n",
              "      <td>0.198</td>\n",
              "      <td>0.147</td>\n",
              "      <td>0.039</td>\n",
              "      <td>-0.044</td>\n",
              "      <td>0.038</td>\n",
              "      <td>0.132</td>\n",
              "      <td>0.471</td>\n",
              "      <td>-0.407</td>\n",
              "    </tr>\n",
              "    <tr>\n",
              "      <th>9</th>\n",
              "      <td>-0.750</td>\n",
              "      <td>0.120</td>\n",
              "      <td>0.142</td>\n",
              "      <td>0.480</td>\n",
              "      <td>-0.253</td>\n",
              "      <td>0.544</td>\n",
              "      <td>-0.066</td>\n",
              "      <td>-0.014</td>\n",
              "      <td>-0.052</td>\n",
              "      <td>0.327</td>\n",
              "      <td>0.874</td>\n",
              "      <td>1.610</td>\n",
              "      <td>0.476</td>\n",
              "      <td>0.049</td>\n",
              "      <td>0.219</td>\n",
              "      <td>-0.164</td>\n",
              "      <td>0.749</td>\n",
              "      <td>-0.049</td>\n",
              "      <td>1.102</td>\n",
              "      <td>0.862</td>\n",
              "      <td>0.829</td>\n",
              "    </tr>\n",
              "    <tr>\n",
              "      <th>57</th>\n",
              "      <td>0.579</td>\n",
              "      <td>0.839</td>\n",
              "      <td>0.831</td>\n",
              "      <td>0.986</td>\n",
              "      <td>0.903</td>\n",
              "      <td>0.875</td>\n",
              "      <td>0.844</td>\n",
              "      <td>0.749</td>\n",
              "      <td>0.824</td>\n",
              "      <td>0.843</td>\n",
              "      <td>0.912</td>\n",
              "      <td>1.060</td>\n",
              "      <td>0.980</td>\n",
              "      <td>0.979</td>\n",
              "      <td>0.700</td>\n",
              "      <td>1.078</td>\n",
              "      <td>0.799</td>\n",
              "      <td>0.875</td>\n",
              "      <td>0.682</td>\n",
              "      <td>1.407</td>\n",
              "      <td>0.825</td>\n",
              "    </tr>\n",
              "    <tr>\n",
              "      <th>60</th>\n",
              "      <td>-0.131</td>\n",
              "      <td>0.021</td>\n",
              "      <td>0.086</td>\n",
              "      <td>0.083</td>\n",
              "      <td>-0.409</td>\n",
              "      <td>0.089</td>\n",
              "      <td>-0.081</td>\n",
              "      <td>0.158</td>\n",
              "      <td>0.059</td>\n",
              "      <td>-0.179</td>\n",
              "      <td>-0.395</td>\n",
              "      <td>-0.361</td>\n",
              "      <td>-0.121</td>\n",
              "      <td>0.249</td>\n",
              "      <td>0.206</td>\n",
              "      <td>-0.256</td>\n",
              "      <td>-0.037</td>\n",
              "      <td>-0.058</td>\n",
              "      <td>0.079</td>\n",
              "      <td>1.059</td>\n",
              "      <td>-0.370</td>\n",
              "    </tr>\n",
              "    <tr>\n",
              "      <th>25</th>\n",
              "      <td>1.377</td>\n",
              "      <td>3.285</td>\n",
              "      <td>3.242</td>\n",
              "      <td>2.667</td>\n",
              "      <td>3.320</td>\n",
              "      <td>3.045</td>\n",
              "      <td>2.730</td>\n",
              "      <td>4.339</td>\n",
              "      <td>3.365</td>\n",
              "      <td>0.866</td>\n",
              "      <td>1.114</td>\n",
              "      <td>2.305</td>\n",
              "      <td>1.415</td>\n",
              "      <td>4.371</td>\n",
              "      <td>2.589</td>\n",
              "      <td>3.456</td>\n",
              "      <td>1.129</td>\n",
              "      <td>2.989</td>\n",
              "      <td>1.102</td>\n",
              "      <td>1.724</td>\n",
              "      <td>1.049</td>\n",
              "    </tr>\n",
              "  </tbody>\n",
              "</table>\n",
              "</div>\n",
              "      <button class=\"colab-df-convert\" onclick=\"convertToInteractive('df-fae45cc9-a32f-41b5-8a16-23a2a8ebe30d')\"\n",
              "              title=\"Convert this dataframe to an interactive table.\"\n",
              "              style=\"display:none;\">\n",
              "        \n",
              "  <svg xmlns=\"http://www.w3.org/2000/svg\" height=\"24px\"viewBox=\"0 0 24 24\"\n",
              "       width=\"24px\">\n",
              "    <path d=\"M0 0h24v24H0V0z\" fill=\"none\"/>\n",
              "    <path d=\"M18.56 5.44l.94 2.06.94-2.06 2.06-.94-2.06-.94-.94-2.06-.94 2.06-2.06.94zm-11 1L8.5 8.5l.94-2.06 2.06-.94-2.06-.94L8.5 2.5l-.94 2.06-2.06.94zm10 10l.94 2.06.94-2.06 2.06-.94-2.06-.94-.94-2.06-.94 2.06-2.06.94z\"/><path d=\"M17.41 7.96l-1.37-1.37c-.4-.4-.92-.59-1.43-.59-.52 0-1.04.2-1.43.59L10.3 9.45l-7.72 7.72c-.78.78-.78 2.05 0 2.83L4 21.41c.39.39.9.59 1.41.59.51 0 1.02-.2 1.41-.59l7.78-7.78 2.81-2.81c.8-.78.8-2.07 0-2.86zM5.41 20L4 18.59l7.72-7.72 1.47 1.35L5.41 20z\"/>\n",
              "  </svg>\n",
              "      </button>\n",
              "      \n",
              "  <style>\n",
              "    .colab-df-container {\n",
              "      display:flex;\n",
              "      flex-wrap:wrap;\n",
              "      gap: 12px;\n",
              "    }\n",
              "\n",
              "    .colab-df-convert {\n",
              "      background-color: #E8F0FE;\n",
              "      border: none;\n",
              "      border-radius: 50%;\n",
              "      cursor: pointer;\n",
              "      display: none;\n",
              "      fill: #1967D2;\n",
              "      height: 32px;\n",
              "      padding: 0 0 0 0;\n",
              "      width: 32px;\n",
              "    }\n",
              "\n",
              "    .colab-df-convert:hover {\n",
              "      background-color: #E2EBFA;\n",
              "      box-shadow: 0px 1px 2px rgba(60, 64, 67, 0.3), 0px 1px 3px 1px rgba(60, 64, 67, 0.15);\n",
              "      fill: #174EA6;\n",
              "    }\n",
              "\n",
              "    [theme=dark] .colab-df-convert {\n",
              "      background-color: #3B4455;\n",
              "      fill: #D2E3FC;\n",
              "    }\n",
              "\n",
              "    [theme=dark] .colab-df-convert:hover {\n",
              "      background-color: #434B5C;\n",
              "      box-shadow: 0px 1px 3px 1px rgba(0, 0, 0, 0.15);\n",
              "      filter: drop-shadow(0px 1px 2px rgba(0, 0, 0, 0.3));\n",
              "      fill: #FFFFFF;\n",
              "    }\n",
              "  </style>\n",
              "\n",
              "      <script>\n",
              "        const buttonEl =\n",
              "          document.querySelector('#df-fae45cc9-a32f-41b5-8a16-23a2a8ebe30d button.colab-df-convert');\n",
              "        buttonEl.style.display =\n",
              "          google.colab.kernel.accessAllowed ? 'block' : 'none';\n",
              "\n",
              "        async function convertToInteractive(key) {\n",
              "          const element = document.querySelector('#df-fae45cc9-a32f-41b5-8a16-23a2a8ebe30d');\n",
              "          const dataTable =\n",
              "            await google.colab.kernel.invokeFunction('convertToInteractive',\n",
              "                                                     [key], {});\n",
              "          if (!dataTable) return;\n",
              "\n",
              "          const docLinkHtml = 'Like what you see? Visit the ' +\n",
              "            '<a target=\"_blank\" href=https://colab.research.google.com/notebooks/data_table.ipynb>data table notebook</a>'\n",
              "            + ' to learn more about interactive tables.';\n",
              "          element.innerHTML = '';\n",
              "          dataTable['output_type'] = 'display_data';\n",
              "          await google.colab.output.renderOutput(dataTable, element);\n",
              "          const docLink = document.createElement('div');\n",
              "          docLink.innerHTML = docLinkHtml;\n",
              "          element.appendChild(docLink);\n",
              "        }\n",
              "      </script>\n",
              "    </div>\n",
              "  </div>\n",
              "  "
            ]
          },
          "metadata": {},
          "execution_count": 82
        }
      ],
      "source": [
        "pd.DataFrame(Predication_result.head())"
      ]
    },
    {
      "cell_type": "markdown",
      "metadata": {
        "id": "ZLPDhxsuqM3y"
      },
      "source": [
        "# Save and Load the Machine Learning Models"
      ]
    },
    {
      "cell_type": "markdown",
      "metadata": {
        "id": "oBnqM68mqM3z"
      },
      "source": [
        "## Standered Machien Learning Models "
      ]
    },
    {
      "cell_type": "markdown",
      "metadata": {
        "id": "3kqPEu0uqM3z"
      },
      "source": [
        "### Save the Machine Learning Models "
      ]
    },
    {
      "cell_type": "code",
      "execution_count": 83,
      "metadata": {
        "colab": {
          "base_uri": "https://localhost:8080/"
        },
        "id": "FhYeqxZ-qM3z",
        "outputId": "3cd327c6-e547-4f7b-ec8b-353a4a231943"
      },
      "outputs": [
        {
          "output_type": "stream",
          "name": "stdout",
          "text": [
            "Create file name rf_ST\n",
            "Model: RandomForestRegressor(random_state=42) Saved\n",
            "\n",
            "Create file name gb_ST\n",
            "Model: GradientBoostingRegressor(random_state=42) Saved\n",
            "\n",
            "Create file name hgb_ST\n",
            "Model: HistGradientBoostingRegressor(random_state=42) Saved\n",
            "\n",
            "Create file name ad_ST\n",
            "Model: AdaBoostRegressor(random_state=42) Saved\n",
            "\n",
            "Create file name et_ST\n",
            "Model: ExtraTreesRegressor(random_state=42) Saved\n",
            "\n",
            "Create file name knn_ST\n",
            "Model: KNeighborsRegressor() Saved\n",
            "\n",
            "Create file name dt_ST\n",
            "Model: DecisionTreeRegressor(random_state=42) Saved\n",
            "\n",
            "Create file name xgb_ST\n",
            "Model: XGBRegressor(random_state=42) Saved\n",
            "\n",
            "Create file name svm_ST\n",
            "Model: SVR() Saved\n",
            "\n",
            "Create file name lsvm_ST\n",
            "Model: LinearSVR(random_state=42) Saved\n",
            "\n",
            "Create file name mlp_ST\n",
            "Model: MLPRegressor(random_state=42) Saved\n",
            "\n"
          ]
        }
      ],
      "source": [
        "if ML_ST == 'Enable':\n",
        "       \n",
        "    ML_ = [\n",
        "        \n",
        "        rf_ST, gb_ST, hgb_ST, ad_ST, et_ST, knn_ST,\n",
        "        dt_ST, xgb_ST, svm_ST, lsvm_ST, mlp_ST\n",
        "        \n",
        "        ]\n",
        "\n",
        "    ML_Name_ = [\n",
        "        \n",
        "        'rf_ST', 'gb_ST', 'hgb_ST', 'ad_ST', 'et_ST', 'knn_ST',\n",
        "        'dt_ST', 'xgb_ST', 'svm_ST', 'lsvm_ST', 'mlp_ST'\n",
        "        \n",
        "        ]\n",
        "\n",
        "    Save_ML(ML_Name_, ML_)"
      ]
    },
    {
      "cell_type": "markdown",
      "metadata": {
        "id": "a4gX5wdHqM30"
      },
      "source": [
        "### load the Machine Learning Models "
      ]
    },
    {
      "cell_type": "code",
      "execution_count": 84,
      "metadata": {
        "colab": {
          "base_uri": "https://localhost:8080/"
        },
        "id": "Rs72LiKZqM30",
        "outputId": "820db00a-44f6-48f2-f5ef-90a87c70681e"
      },
      "outputs": [
        {
          "output_type": "stream",
          "name": "stdout",
          "text": [
            "Model: RandomForestRegressor(random_state=42) Loaded\n",
            "\n",
            "Model: GradientBoostingRegressor(random_state=42) Loaded\n",
            "\n",
            "Model: HistGradientBoostingRegressor(random_state=42) Loaded\n",
            "\n",
            "Model: AdaBoostRegressor(random_state=42) Loaded\n",
            "\n",
            "Model: ExtraTreesRegressor(random_state=42) Loaded\n",
            "\n",
            "Model: KNeighborsRegressor() Loaded\n",
            "\n",
            "Model: DecisionTreeRegressor(random_state=42) Loaded\n",
            "\n",
            "[05:35:49] WARNING: /workspace/src/objective/regression_obj.cu:152: reg:linear is now deprecated in favor of reg:squarederror.\n",
            "Model: XGBRegressor(missing=nan, random_state=42) Loaded\n",
            "\n",
            "Model: SVR() Loaded\n",
            "\n",
            "Model: LinearSVR(random_state=42) Loaded\n",
            "\n",
            "Model: MLPRegressor(random_state=42) Loaded\n",
            "\n"
          ]
        }
      ],
      "source": [
        "if ML_ST == 'Enable':\n",
        "\n",
        "    with open(\"rf_ST\", \"rb\") as file:\n",
        "        rf_ST = pickle.load(file)\n",
        "        print(f'Model: {rf_ST} Loaded\\n')\n",
        "\n",
        "    with open(\"gb_ST\", \"rb\") as file:\n",
        "        gb_ST = pickle.load(file)\n",
        "        print(f'Model: {gb_ST} Loaded\\n')\n",
        "\n",
        "    with open(\"hgb_ST\", \"rb\") as file:\n",
        "        hgb_ST = pickle.load(file)\n",
        "        print(f'Model: {hgb_ST} Loaded\\n')\n",
        "\n",
        "    with open(\"ad_ST\", \"rb\") as file:\n",
        "        ad_ST = pickle.load(file)\n",
        "        print(f'Model: {ad_ST} Loaded\\n')\n",
        "\n",
        "    with open(\"et_ST\", \"rb\") as file:\n",
        "        et_ST = pickle.load(file)\n",
        "        print(f'Model: {et_ST} Loaded\\n')\n",
        "\n",
        "    with open(\"knn_ST\", \"rb\") as file:\n",
        "        knn_ST = pickle.load(file)\n",
        "        print(f'Model: {knn_ST} Loaded\\n')\n",
        "\n",
        "    with open(\"dt_ST\", \"rb\") as file:\n",
        "        dt_ST = pickle.load(file)\n",
        "        print(f'Model: {dt_ST} Loaded\\n')\n",
        "\n",
        "    with open(\"xgb_ST\", \"rb\") as file:\n",
        "        xgb_ST = pickle.load(file)\n",
        "        print(f'Model: {xgb_ST} Loaded\\n')\n",
        "\n",
        "    with open(\"svm_ST\", \"rb\") as file:\n",
        "        svm_ST = pickle.load(file)\n",
        "        print(f'Model: {svm_ST} Loaded\\n')\n",
        "\n",
        "    with open(\"lsvm_ST\", \"rb\") as file:\n",
        "        lsvm_ST = pickle.load(file)\n",
        "        print(f'Model: {lsvm_ST} Loaded\\n')\n",
        "\n",
        "    with open(\"mlp_ST\", \"rb\") as file:\n",
        "        mlp_ST = pickle.load(file)\n",
        "        print(f'Model: {mlp_ST} Loaded\\n')"
      ]
    },
    {
      "cell_type": "markdown",
      "metadata": {
        "id": "CRe-252XqM31"
      },
      "source": [
        "## Machine Learning Optmization Models"
      ]
    },
    {
      "cell_type": "markdown",
      "metadata": {
        "id": "hR1NSCHYqM31"
      },
      "source": [
        "### Save the Machine Learning Models "
      ]
    },
    {
      "cell_type": "code",
      "execution_count": 85,
      "metadata": {
        "colab": {
          "base_uri": "https://localhost:8080/"
        },
        "id": "ZYbSx0HVqM31",
        "outputId": "7f11597d-9990-4f1e-f327-a7061c5b7258"
      },
      "outputs": [
        {
          "output_type": "stream",
          "name": "stdout",
          "text": [
            "Create file name rf_op\n",
            "Model: RandomForestRegressor(criterion='absolute_error', max_depth=11,\n",
            "                      max_leaf_nodes=7, min_samples_leaf=6, n_estimators=158,\n",
            "                      n_jobs=-1, random_state=42) Saved\n",
            "\n",
            "Create file name gb_op\n",
            "Model: GradientBoostingRegressor(learning_rate=0.75, max_depth=1, max_features='auto',\n",
            "                          min_impurity_decrease=0.2, min_samples_leaf=9,\n",
            "                          min_samples_split=17, min_weight_fraction_leaf=0.1,\n",
            "                          n_estimators=310, random_state=42, subsample=0.5) Saved\n",
            "\n",
            "Create file name hgb_op\n",
            "Model: HistGradientBoostingRegressor(learning_rate=0.9, max_bins=222, max_depth=79,\n",
            "                              max_iter=83, max_leaf_nodes=49,\n",
            "                              min_samples_leaf=13, n_iter_no_change=30,\n",
            "                              random_state=42) Saved\n",
            "\n",
            "Create file name ad_op\n",
            "Model: AdaBoostRegressor(base_estimator=DecisionTreeRegressor(max_depth=3),\n",
            "                  loss='exponential', n_estimators=144, random_state=42) Saved\n",
            "\n",
            "Create file name et_op\n",
            "Model: ExtraTreesRegressor(criterion='absolute_error', max_depth=16,\n",
            "                    max_features='log2', max_leaf_nodes=20,\n",
            "                    min_samples_split=11, n_estimators=184, random_state=42) Saved\n",
            "\n",
            "Create file name knn_op\n",
            "Model: KNeighborsRegressor(leaf_size=14, n_neighbors=3, p=9, weights='distance') Saved\n",
            "\n",
            "Create file name dt_op\n",
            "Model: DecisionTreeRegressor(criterion='friedman_mse', max_depth=53,\n",
            "                      max_features='auto', max_leaf_nodes=20,\n",
            "                      min_samples_split=20, random_state=42, splitter='random') Saved\n",
            "\n",
            "Create file name svm_op\n",
            "Model: SVR(cache_size=647, degree=10, gamma='auto', max_iter=5) Saved\n",
            "\n",
            "Create file name lsvm_op\n",
            "Model: LinearSVR(intercept_scaling=4, max_iter=2131, random_state=42) Saved\n",
            "\n"
          ]
        }
      ],
      "source": [
        "if ML_OP == 'Enable':\n",
        "\n",
        "    ML_ = [\n",
        "        \n",
        "        rf_op, gb_op, hgb_op, ad_op, et_op, knn_op,\n",
        "        dt_op, svm_op, lsvm_op\n",
        "        \n",
        "        ]\n",
        "\n",
        "    ML_Name_ = [\n",
        "        \n",
        "        'rf_op', 'gb_op', 'hgb_op', 'ad_op', 'et_op', 'knn_op',\n",
        "        'dt_op', 'svm_op', 'lsvm_op'\n",
        "        \n",
        "        ]\n",
        "\n",
        "    Save_ML(ML_Name_, ML_)"
      ]
    },
    {
      "cell_type": "markdown",
      "metadata": {
        "id": "I07iUCteqM31"
      },
      "source": [
        "### load the Machine Learning Models "
      ]
    },
    {
      "cell_type": "code",
      "execution_count": 86,
      "metadata": {
        "colab": {
          "base_uri": "https://localhost:8080/"
        },
        "id": "_HvOAovSqM32",
        "outputId": "22cfd233-3a68-4e0e-bc1f-e8f80bac2fda"
      },
      "outputs": [
        {
          "output_type": "stream",
          "name": "stdout",
          "text": [
            "Model: RandomForestRegressor(criterion='absolute_error', max_depth=11,\n",
            "                      max_leaf_nodes=7, min_samples_leaf=6, n_estimators=158,\n",
            "                      n_jobs=-1, random_state=42) Loaded\n",
            "\n",
            "Model: GradientBoostingRegressor(learning_rate=0.75, max_depth=1, max_features='auto',\n",
            "                          min_impurity_decrease=0.2, min_samples_leaf=9,\n",
            "                          min_samples_split=17, min_weight_fraction_leaf=0.1,\n",
            "                          n_estimators=310, random_state=42, subsample=0.5) Loaded\n",
            "\n",
            "Model: HistGradientBoostingRegressor(learning_rate=0.9, max_bins=222, max_depth=79,\n",
            "                              max_iter=83, max_leaf_nodes=49,\n",
            "                              min_samples_leaf=13, n_iter_no_change=30,\n",
            "                              random_state=42) Loaded\n",
            "\n",
            "Model: AdaBoostRegressor(base_estimator=DecisionTreeRegressor(max_depth=3),\n",
            "                  loss='exponential', n_estimators=144, random_state=42) Loaded\n",
            "\n",
            "Model: ExtraTreesRegressor(criterion='absolute_error', max_depth=16,\n",
            "                    max_features='log2', max_leaf_nodes=20,\n",
            "                    min_samples_split=11, n_estimators=184, random_state=42) Loaded\n",
            "\n",
            "Model: KNeighborsRegressor(leaf_size=14, n_neighbors=3, p=9, weights='distance') Loaded\n",
            "\n",
            "Model: DecisionTreeRegressor(criterion='friedman_mse', max_depth=53,\n",
            "                      max_features='auto', max_leaf_nodes=20,\n",
            "                      min_samples_split=20, random_state=42, splitter='random') Loaded\n",
            "\n",
            "Model: SVR(cache_size=647, degree=10, gamma='auto', max_iter=5) Loaded\n",
            "\n",
            "Model: LinearSVR(intercept_scaling=4, max_iter=2131, random_state=42) Loaded\n",
            "\n"
          ]
        }
      ],
      "source": [
        "if ML_OP == 'Enable':\n",
        "\n",
        "    with open(\"rf_op\", \"rb\") as file:\n",
        "        rf_op = pickle.load(file)\n",
        "        print(f'Model: {rf_op} Loaded\\n')\n",
        "\n",
        "    with open(\"gb_op\", \"rb\") as file:\n",
        "        gb_op = pickle.load(file)\n",
        "        print(f'Model: {gb_op} Loaded\\n')\n",
        "\n",
        "    with open(\"hgb_op\", \"rb\") as file:\n",
        "        hgb_op = pickle.load(file)\n",
        "        print(f'Model: {hgb_op} Loaded\\n')\n",
        "\n",
        "    with open(\"ad_op\", \"rb\") as file:\n",
        "        ad_op = pickle.load(file)\n",
        "        print(f'Model: {ad_op} Loaded\\n')\n",
        "\n",
        "    with open(\"et_op\", \"rb\") as file:\n",
        "        et_op = pickle.load(file)\n",
        "        print(f'Model: {et_op} Loaded\\n')\n",
        "\n",
        "    with open(\"knn_op\", \"rb\") as file:\n",
        "        knn_op = pickle.load(file)\n",
        "        print(f'Model: {knn_op} Loaded\\n')\n",
        "\n",
        "    with open(\"dt_op\", \"rb\") as file:\n",
        "        dt_op = pickle.load(file)\n",
        "        print(f'Model: {dt_op} Loaded\\n')\n",
        "\n",
        "    with open(\"svm_op\", \"rb\") as file:\n",
        "        svm_op = pickle.load(file)\n",
        "        print(f'Model: {svm_op} Loaded\\n')\n",
        "\n",
        "    with open(\"lsvm_op\", \"rb\") as file:\n",
        "        lsvm_op = pickle.load(file)\n",
        "        print(f'Model: {lsvm_op} Loaded\\n')"
      ]
    }
  ],
  "metadata": {
    "kernelspec": {
      "display_name": "Python 3.9.13 64-bit",
      "language": "python",
      "name": "python3"
    },
    "language_info": {
      "codemirror_mode": {
        "name": "ipython",
        "version": 3
      },
      "file_extension": ".py",
      "mimetype": "text/x-python",
      "name": "python",
      "nbconvert_exporter": "python",
      "pygments_lexer": "ipython3",
      "version": "3.9.13"
    },
    "orig_nbformat": 4,
    "vscode": {
      "interpreter": {
        "hash": "69b8379b5b4758758ef48c19254652c8bd7752f8cc5bec56237a734feeca976f"
      }
    },
    "colab": {
      "name": "HR_Regression_Problem.ipynb",
      "provenance": []
    }
  },
  "nbformat": 4,
  "nbformat_minor": 0
}